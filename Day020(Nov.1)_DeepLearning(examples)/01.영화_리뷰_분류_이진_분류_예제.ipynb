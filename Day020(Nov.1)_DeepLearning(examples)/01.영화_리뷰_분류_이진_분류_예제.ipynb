{
  "nbformat": 4,
  "nbformat_minor": 0,
  "metadata": {
    "colab": {
      "provenance": []
    },
    "kernelspec": {
      "name": "python3",
      "display_name": "Python 3"
    },
    "language_info": {
      "name": "python"
    }
  },
  "cells": [
    {
      "cell_type": "code",
      "execution_count": 2,
      "metadata": {
        "colab": {
          "base_uri": "https://localhost:8080/"
        },
        "id": "X4B7LVdmfq4F",
        "outputId": "9edece6b-bd14-45c8-9abf-5c653c3a5fcb"
      },
      "outputs": [
        {
          "output_type": "stream",
          "name": "stdout",
          "text": [
            "2.9.0\n"
          ]
        }
      ],
      "source": [
        "import keras\n",
        "\n",
        "print(keras.__version__)  # 버전확인, 동작확인"
      ]
    },
    {
      "cell_type": "code",
      "source": [
        "from keras.datasets import imdb\n",
        "(train_data, train_labels),(test_data, test_labels) = imdb.load_data(num_words=10000) # 빈도수 상위 만개만"
      ],
      "metadata": {
        "id": "4tmcL7Jah9da"
      },
      "execution_count": 3,
      "outputs": []
    },
    {
      "cell_type": "code",
      "source": [
        "train_data.shape"
      ],
      "metadata": {
        "colab": {
          "base_uri": "https://localhost:8080/"
        },
        "id": "9luu7Frzivb3",
        "outputId": "cff2c94e-fe09-4084-e638-cd742b854993"
      },
      "execution_count": 4,
      "outputs": [
        {
          "output_type": "execute_result",
          "data": {
            "text/plain": [
              "(25000,)"
            ]
          },
          "metadata": {},
          "execution_count": 4
        }
      ]
    },
    {
      "cell_type": "code",
      "source": [
        "train_data[0]"
      ],
      "metadata": {
        "colab": {
          "base_uri": "https://localhost:8080/"
        },
        "id": "578_c_iRi-GB",
        "outputId": "1a986ea3-41d4-4885-d060-a9530ce3061a"
      },
      "execution_count": 5,
      "outputs": [
        {
          "output_type": "execute_result",
          "data": {
            "text/plain": [
              "[1,\n",
              " 14,\n",
              " 22,\n",
              " 16,\n",
              " 43,\n",
              " 530,\n",
              " 973,\n",
              " 1622,\n",
              " 1385,\n",
              " 65,\n",
              " 458,\n",
              " 4468,\n",
              " 66,\n",
              " 3941,\n",
              " 4,\n",
              " 173,\n",
              " 36,\n",
              " 256,\n",
              " 5,\n",
              " 25,\n",
              " 100,\n",
              " 43,\n",
              " 838,\n",
              " 112,\n",
              " 50,\n",
              " 670,\n",
              " 2,\n",
              " 9,\n",
              " 35,\n",
              " 480,\n",
              " 284,\n",
              " 5,\n",
              " 150,\n",
              " 4,\n",
              " 172,\n",
              " 112,\n",
              " 167,\n",
              " 2,\n",
              " 336,\n",
              " 385,\n",
              " 39,\n",
              " 4,\n",
              " 172,\n",
              " 4536,\n",
              " 1111,\n",
              " 17,\n",
              " 546,\n",
              " 38,\n",
              " 13,\n",
              " 447,\n",
              " 4,\n",
              " 192,\n",
              " 50,\n",
              " 16,\n",
              " 6,\n",
              " 147,\n",
              " 2025,\n",
              " 19,\n",
              " 14,\n",
              " 22,\n",
              " 4,\n",
              " 1920,\n",
              " 4613,\n",
              " 469,\n",
              " 4,\n",
              " 22,\n",
              " 71,\n",
              " 87,\n",
              " 12,\n",
              " 16,\n",
              " 43,\n",
              " 530,\n",
              " 38,\n",
              " 76,\n",
              " 15,\n",
              " 13,\n",
              " 1247,\n",
              " 4,\n",
              " 22,\n",
              " 17,\n",
              " 515,\n",
              " 17,\n",
              " 12,\n",
              " 16,\n",
              " 626,\n",
              " 18,\n",
              " 2,\n",
              " 5,\n",
              " 62,\n",
              " 386,\n",
              " 12,\n",
              " 8,\n",
              " 316,\n",
              " 8,\n",
              " 106,\n",
              " 5,\n",
              " 4,\n",
              " 2223,\n",
              " 5244,\n",
              " 16,\n",
              " 480,\n",
              " 66,\n",
              " 3785,\n",
              " 33,\n",
              " 4,\n",
              " 130,\n",
              " 12,\n",
              " 16,\n",
              " 38,\n",
              " 619,\n",
              " 5,\n",
              " 25,\n",
              " 124,\n",
              " 51,\n",
              " 36,\n",
              " 135,\n",
              " 48,\n",
              " 25,\n",
              " 1415,\n",
              " 33,\n",
              " 6,\n",
              " 22,\n",
              " 12,\n",
              " 215,\n",
              " 28,\n",
              " 77,\n",
              " 52,\n",
              " 5,\n",
              " 14,\n",
              " 407,\n",
              " 16,\n",
              " 82,\n",
              " 2,\n",
              " 8,\n",
              " 4,\n",
              " 107,\n",
              " 117,\n",
              " 5952,\n",
              " 15,\n",
              " 256,\n",
              " 4,\n",
              " 2,\n",
              " 7,\n",
              " 3766,\n",
              " 5,\n",
              " 723,\n",
              " 36,\n",
              " 71,\n",
              " 43,\n",
              " 530,\n",
              " 476,\n",
              " 26,\n",
              " 400,\n",
              " 317,\n",
              " 46,\n",
              " 7,\n",
              " 4,\n",
              " 2,\n",
              " 1029,\n",
              " 13,\n",
              " 104,\n",
              " 88,\n",
              " 4,\n",
              " 381,\n",
              " 15,\n",
              " 297,\n",
              " 98,\n",
              " 32,\n",
              " 2071,\n",
              " 56,\n",
              " 26,\n",
              " 141,\n",
              " 6,\n",
              " 194,\n",
              " 7486,\n",
              " 18,\n",
              " 4,\n",
              " 226,\n",
              " 22,\n",
              " 21,\n",
              " 134,\n",
              " 476,\n",
              " 26,\n",
              " 480,\n",
              " 5,\n",
              " 144,\n",
              " 30,\n",
              " 5535,\n",
              " 18,\n",
              " 51,\n",
              " 36,\n",
              " 28,\n",
              " 224,\n",
              " 92,\n",
              " 25,\n",
              " 104,\n",
              " 4,\n",
              " 226,\n",
              " 65,\n",
              " 16,\n",
              " 38,\n",
              " 1334,\n",
              " 88,\n",
              " 12,\n",
              " 16,\n",
              " 283,\n",
              " 5,\n",
              " 16,\n",
              " 4472,\n",
              " 113,\n",
              " 103,\n",
              " 32,\n",
              " 15,\n",
              " 16,\n",
              " 5345,\n",
              " 19,\n",
              " 178,\n",
              " 32]"
            ]
          },
          "metadata": {},
          "execution_count": 5
        }
      ]
    },
    {
      "cell_type": "code",
      "source": [
        "train_labels[0]"
      ],
      "metadata": {
        "colab": {
          "base_uri": "https://localhost:8080/"
        },
        "id": "b3WXr7GOjB8F",
        "outputId": "461724fc-d123-4500-a232-32e73c0f459e"
      },
      "execution_count": 6,
      "outputs": [
        {
          "output_type": "execute_result",
          "data": {
            "text/plain": [
              "1"
            ]
          },
          "metadata": {},
          "execution_count": 6
        }
      ]
    },
    {
      "cell_type": "code",
      "source": [
        "# 숫자를 문자로 복원하는 작업\n",
        "word_index = imdb.get_word_index()\n",
        "word_index.items()       # ('Key',value) 한개가 item\n",
        "reverse_word_index = dict([value, key] for (key, value) in word_index.items())"
      ],
      "metadata": {
        "id": "uMF0aLV4j9Ra"
      },
      "execution_count": 7,
      "outputs": []
    },
    {
      "cell_type": "code",
      "source": [
        "# Decoding\n",
        "# 0 번에 있는 데이터만 뒤집어서 확인\n",
        "decoded_review = ' '.join([reverse_word_index.get(i-3,'?') for i in train_data[0]])\n",
        "# reverse_word_index.get(i-3,'?') 찾는 방법 i-3:처음 3개는 특수문자와 같은 필요한 데이터가 아님\n",
        "decoded_review"
      ],
      "metadata": {
        "colab": {
          "base_uri": "https://localhost:8080/",
          "height": 227
        },
        "id": "WLNhQXlqlF65",
        "outputId": "65a43aaf-5a23-4a35-e066-a90b8cb211a8"
      },
      "execution_count": 8,
      "outputs": [
        {
          "output_type": "execute_result",
          "data": {
            "text/plain": [
              "\"? this film was just brilliant casting location scenery story direction everyone's really suited the part they played and you could just imagine being there robert ? is an amazing actor and now the same being director ? father came from the same scottish island as myself so i loved the fact there was a real connection with this film the witty remarks throughout the film were great it was just brilliant so much that i bought the film as soon as it was released for ? and would recommend it to everyone to watch and the fly fishing was amazing really cried at the end it was so sad and you know what they say if you cry at a film it must have been good and this definitely was also ? to the two little boy's that played the ? of norman and paul they were just brilliant children are often left out of the ? list i think because the stars that play them all grown up are such a big profile for the whole film but these children are amazing and should be praised for what they have done don't you think the whole story was so lovely because it was true and was someone's life after all that was shared with us all\""
            ],
            "application/vnd.google.colaboratory.intrinsic+json": {
              "type": "string"
            }
          },
          "metadata": {},
          "execution_count": 8
        }
      ]
    },
    {
      "cell_type": "markdown",
      "source": [
        "Q. i-3 , ? 의미"
      ],
      "metadata": {
        "id": "wf79as0Vm-cv"
      }
    },
    {
      "cell_type": "code",
      "source": [
        "# 답변\n",
        "reverse_word_index"
      ],
      "metadata": {
        "colab": {
          "base_uri": "https://localhost:8080/"
        },
        "id": "sjOA0ekfnAHR",
        "outputId": "89070c82-b571-4d8b-d2f3-8d5776bb4074"
      },
      "execution_count": 9,
      "outputs": [
        {
          "output_type": "execute_result",
          "data": {
            "text/plain": [
              "{34701: 'fawn',\n",
              " 52006: 'tsukino',\n",
              " 52007: 'nunnery',\n",
              " 16816: 'sonja',\n",
              " 63951: 'vani',\n",
              " 1408: 'woods',\n",
              " 16115: 'spiders',\n",
              " 2345: 'hanging',\n",
              " 2289: 'woody',\n",
              " 52008: 'trawling',\n",
              " 52009: \"hold's\",\n",
              " 11307: 'comically',\n",
              " 40830: 'localized',\n",
              " 30568: 'disobeying',\n",
              " 52010: \"'royale\",\n",
              " 40831: \"harpo's\",\n",
              " 52011: 'canet',\n",
              " 19313: 'aileen',\n",
              " 52012: 'acurately',\n",
              " 52013: \"diplomat's\",\n",
              " 25242: 'rickman',\n",
              " 6746: 'arranged',\n",
              " 52014: 'rumbustious',\n",
              " 52015: 'familiarness',\n",
              " 52016: \"spider'\",\n",
              " 68804: 'hahahah',\n",
              " 52017: \"wood'\",\n",
              " 40833: 'transvestism',\n",
              " 34702: \"hangin'\",\n",
              " 2338: 'bringing',\n",
              " 40834: 'seamier',\n",
              " 34703: 'wooded',\n",
              " 52018: 'bravora',\n",
              " 16817: 'grueling',\n",
              " 1636: 'wooden',\n",
              " 16818: 'wednesday',\n",
              " 52019: \"'prix\",\n",
              " 34704: 'altagracia',\n",
              " 52020: 'circuitry',\n",
              " 11585: 'crotch',\n",
              " 57766: 'busybody',\n",
              " 52021: \"tart'n'tangy\",\n",
              " 14129: 'burgade',\n",
              " 52023: 'thrace',\n",
              " 11038: \"tom's\",\n",
              " 52025: 'snuggles',\n",
              " 29114: 'francesco',\n",
              " 52027: 'complainers',\n",
              " 52125: 'templarios',\n",
              " 40835: '272',\n",
              " 52028: '273',\n",
              " 52130: 'zaniacs',\n",
              " 34706: '275',\n",
              " 27631: 'consenting',\n",
              " 40836: 'snuggled',\n",
              " 15492: 'inanimate',\n",
              " 52030: 'uality',\n",
              " 11926: 'bronte',\n",
              " 4010: 'errors',\n",
              " 3230: 'dialogs',\n",
              " 52031: \"yomada's\",\n",
              " 34707: \"madman's\",\n",
              " 30585: 'dialoge',\n",
              " 52033: 'usenet',\n",
              " 40837: 'videodrome',\n",
              " 26338: \"kid'\",\n",
              " 52034: 'pawed',\n",
              " 30569: \"'girlfriend'\",\n",
              " 52035: \"'pleasure\",\n",
              " 52036: \"'reloaded'\",\n",
              " 40839: \"kazakos'\",\n",
              " 52037: 'rocque',\n",
              " 52038: 'mailings',\n",
              " 11927: 'brainwashed',\n",
              " 16819: 'mcanally',\n",
              " 52039: \"tom''\",\n",
              " 25243: 'kurupt',\n",
              " 21905: 'affiliated',\n",
              " 52040: 'babaganoosh',\n",
              " 40840: \"noe's\",\n",
              " 40841: 'quart',\n",
              " 359: 'kids',\n",
              " 5034: 'uplifting',\n",
              " 7093: 'controversy',\n",
              " 21906: 'kida',\n",
              " 23379: 'kidd',\n",
              " 52041: \"error'\",\n",
              " 52042: 'neurologist',\n",
              " 18510: 'spotty',\n",
              " 30570: 'cobblers',\n",
              " 9878: 'projection',\n",
              " 40842: 'fastforwarding',\n",
              " 52043: 'sters',\n",
              " 52044: \"eggar's\",\n",
              " 52045: 'etherything',\n",
              " 40843: 'gateshead',\n",
              " 34708: 'airball',\n",
              " 25244: 'unsinkable',\n",
              " 7180: 'stern',\n",
              " 52046: \"cervi's\",\n",
              " 40844: 'dnd',\n",
              " 11586: 'dna',\n",
              " 20598: 'insecurity',\n",
              " 52047: \"'reboot'\",\n",
              " 11037: 'trelkovsky',\n",
              " 52048: 'jaekel',\n",
              " 52049: 'sidebars',\n",
              " 52050: \"sforza's\",\n",
              " 17633: 'distortions',\n",
              " 52051: 'mutinies',\n",
              " 30602: 'sermons',\n",
              " 40846: '7ft',\n",
              " 52052: 'boobage',\n",
              " 52053: \"o'bannon's\",\n",
              " 23380: 'populations',\n",
              " 52054: 'chulak',\n",
              " 27633: 'mesmerize',\n",
              " 52055: 'quinnell',\n",
              " 10307: 'yahoo',\n",
              " 52057: 'meteorologist',\n",
              " 42577: 'beswick',\n",
              " 15493: 'boorman',\n",
              " 40847: 'voicework',\n",
              " 52058: \"ster'\",\n",
              " 22922: 'blustering',\n",
              " 52059: 'hj',\n",
              " 27634: 'intake',\n",
              " 5621: 'morally',\n",
              " 40849: 'jumbling',\n",
              " 52060: 'bowersock',\n",
              " 52061: \"'porky's'\",\n",
              " 16821: 'gershon',\n",
              " 40850: 'ludicrosity',\n",
              " 52062: 'coprophilia',\n",
              " 40851: 'expressively',\n",
              " 19500: \"india's\",\n",
              " 34710: \"post's\",\n",
              " 52063: 'wana',\n",
              " 5283: 'wang',\n",
              " 30571: 'wand',\n",
              " 25245: 'wane',\n",
              " 52321: 'edgeways',\n",
              " 34711: 'titanium',\n",
              " 40852: 'pinta',\n",
              " 178: 'want',\n",
              " 30572: 'pinto',\n",
              " 52065: 'whoopdedoodles',\n",
              " 21908: 'tchaikovsky',\n",
              " 2103: 'travel',\n",
              " 52066: \"'victory'\",\n",
              " 11928: 'copious',\n",
              " 22433: 'gouge',\n",
              " 52067: \"chapters'\",\n",
              " 6702: 'barbra',\n",
              " 30573: 'uselessness',\n",
              " 52068: \"wan'\",\n",
              " 27635: 'assimilated',\n",
              " 16116: 'petiot',\n",
              " 52069: 'most\\x85and',\n",
              " 3930: 'dinosaurs',\n",
              " 352: 'wrong',\n",
              " 52070: 'seda',\n",
              " 52071: 'stollen',\n",
              " 34712: 'sentencing',\n",
              " 40853: 'ouroboros',\n",
              " 40854: 'assimilates',\n",
              " 40855: 'colorfully',\n",
              " 27636: 'glenne',\n",
              " 52072: 'dongen',\n",
              " 4760: 'subplots',\n",
              " 52073: 'kiloton',\n",
              " 23381: 'chandon',\n",
              " 34713: \"effect'\",\n",
              " 27637: 'snugly',\n",
              " 40856: 'kuei',\n",
              " 9092: 'welcomed',\n",
              " 30071: 'dishonor',\n",
              " 52075: 'concurrence',\n",
              " 23382: 'stoicism',\n",
              " 14896: \"guys'\",\n",
              " 52077: \"beroemd'\",\n",
              " 6703: 'butcher',\n",
              " 40857: \"melfi's\",\n",
              " 30623: 'aargh',\n",
              " 20599: 'playhouse',\n",
              " 11308: 'wickedly',\n",
              " 1180: 'fit',\n",
              " 52078: 'labratory',\n",
              " 40859: 'lifeline',\n",
              " 1927: 'screaming',\n",
              " 4287: 'fix',\n",
              " 52079: 'cineliterate',\n",
              " 52080: 'fic',\n",
              " 52081: 'fia',\n",
              " 34714: 'fig',\n",
              " 52082: 'fmvs',\n",
              " 52083: 'fie',\n",
              " 52084: 'reentered',\n",
              " 30574: 'fin',\n",
              " 52085: 'doctresses',\n",
              " 52086: 'fil',\n",
              " 12606: 'zucker',\n",
              " 31931: 'ached',\n",
              " 52088: 'counsil',\n",
              " 52089: 'paterfamilias',\n",
              " 13885: 'songwriter',\n",
              " 34715: 'shivam',\n",
              " 9654: 'hurting',\n",
              " 299: 'effects',\n",
              " 52090: 'slauther',\n",
              " 52091: \"'flame'\",\n",
              " 52092: 'sommerset',\n",
              " 52093: 'interwhined',\n",
              " 27638: 'whacking',\n",
              " 52094: 'bartok',\n",
              " 8775: 'barton',\n",
              " 21909: 'frewer',\n",
              " 52095: \"fi'\",\n",
              " 6192: 'ingrid',\n",
              " 30575: 'stribor',\n",
              " 52096: 'approporiately',\n",
              " 52097: 'wobblyhand',\n",
              " 52098: 'tantalisingly',\n",
              " 52099: 'ankylosaurus',\n",
              " 17634: 'parasites',\n",
              " 52100: 'childen',\n",
              " 52101: \"jenkins'\",\n",
              " 52102: 'metafiction',\n",
              " 17635: 'golem',\n",
              " 40860: 'indiscretion',\n",
              " 23383: \"reeves'\",\n",
              " 57781: \"inamorata's\",\n",
              " 52104: 'brittannica',\n",
              " 7916: 'adapt',\n",
              " 30576: \"russo's\",\n",
              " 48246: 'guitarists',\n",
              " 10553: 'abbott',\n",
              " 40861: 'abbots',\n",
              " 17649: 'lanisha',\n",
              " 40863: 'magickal',\n",
              " 52105: 'mattter',\n",
              " 52106: \"'willy\",\n",
              " 34716: 'pumpkins',\n",
              " 52107: 'stuntpeople',\n",
              " 30577: 'estimate',\n",
              " 40864: 'ugghhh',\n",
              " 11309: 'gameplay',\n",
              " 52108: \"wern't\",\n",
              " 40865: \"n'sync\",\n",
              " 16117: 'sickeningly',\n",
              " 40866: 'chiara',\n",
              " 4011: 'disturbed',\n",
              " 40867: 'portmanteau',\n",
              " 52109: 'ineffectively',\n",
              " 82143: \"duchonvey's\",\n",
              " 37519: \"nasty'\",\n",
              " 1285: 'purpose',\n",
              " 52112: 'lazers',\n",
              " 28105: 'lightened',\n",
              " 52113: 'kaliganj',\n",
              " 52114: 'popularism',\n",
              " 18511: \"damme's\",\n",
              " 30578: 'stylistics',\n",
              " 52115: 'mindgaming',\n",
              " 46449: 'spoilerish',\n",
              " 52117: \"'corny'\",\n",
              " 34718: 'boerner',\n",
              " 6792: 'olds',\n",
              " 52118: 'bakelite',\n",
              " 27639: 'renovated',\n",
              " 27640: 'forrester',\n",
              " 52119: \"lumiere's\",\n",
              " 52024: 'gaskets',\n",
              " 884: 'needed',\n",
              " 34719: 'smight',\n",
              " 1297: 'master',\n",
              " 25905: \"edie's\",\n",
              " 40868: 'seeber',\n",
              " 52120: 'hiya',\n",
              " 52121: 'fuzziness',\n",
              " 14897: 'genesis',\n",
              " 12607: 'rewards',\n",
              " 30579: 'enthrall',\n",
              " 40869: \"'about\",\n",
              " 52122: \"recollection's\",\n",
              " 11039: 'mutilated',\n",
              " 52123: 'fatherlands',\n",
              " 52124: \"fischer's\",\n",
              " 5399: 'positively',\n",
              " 34705: '270',\n",
              " 34720: 'ahmed',\n",
              " 9836: 'zatoichi',\n",
              " 13886: 'bannister',\n",
              " 52127: 'anniversaries',\n",
              " 30580: \"helm's\",\n",
              " 52128: \"'work'\",\n",
              " 34721: 'exclaimed',\n",
              " 52129: \"'unfunny'\",\n",
              " 52029: '274',\n",
              " 544: 'feeling',\n",
              " 52131: \"wanda's\",\n",
              " 33266: 'dolan',\n",
              " 52133: '278',\n",
              " 52134: 'peacoat',\n",
              " 40870: 'brawny',\n",
              " 40871: 'mishra',\n",
              " 40872: 'worlders',\n",
              " 52135: 'protags',\n",
              " 52136: 'skullcap',\n",
              " 57596: 'dastagir',\n",
              " 5622: 'affairs',\n",
              " 7799: 'wholesome',\n",
              " 52137: 'hymen',\n",
              " 25246: 'paramedics',\n",
              " 52138: 'unpersons',\n",
              " 52139: 'heavyarms',\n",
              " 52140: 'affaire',\n",
              " 52141: 'coulisses',\n",
              " 40873: 'hymer',\n",
              " 52142: 'kremlin',\n",
              " 30581: 'shipments',\n",
              " 52143: 'pixilated',\n",
              " 30582: \"'00s\",\n",
              " 18512: 'diminishing',\n",
              " 1357: 'cinematic',\n",
              " 14898: 'resonates',\n",
              " 40874: 'simplify',\n",
              " 40875: \"nature'\",\n",
              " 40876: 'temptresses',\n",
              " 16822: 'reverence',\n",
              " 19502: 'resonated',\n",
              " 34722: 'dailey',\n",
              " 52144: '2\\x85',\n",
              " 27641: 'treize',\n",
              " 52145: 'majo',\n",
              " 21910: 'kiya',\n",
              " 52146: 'woolnough',\n",
              " 39797: 'thanatos',\n",
              " 35731: 'sandoval',\n",
              " 40879: 'dorama',\n",
              " 52147: \"o'shaughnessy\",\n",
              " 4988: 'tech',\n",
              " 32018: 'fugitives',\n",
              " 30583: 'teck',\n",
              " 76125: \"'e'\",\n",
              " 40881: 'doesn’t',\n",
              " 52149: 'purged',\n",
              " 657: 'saying',\n",
              " 41095: \"martians'\",\n",
              " 23418: 'norliss',\n",
              " 27642: 'dickey',\n",
              " 52152: 'dicker',\n",
              " 52153: \"'sependipity\",\n",
              " 8422: 'padded',\n",
              " 57792: 'ordell',\n",
              " 40882: \"sturges'\",\n",
              " 52154: 'independentcritics',\n",
              " 5745: 'tempted',\n",
              " 34724: \"atkinson's\",\n",
              " 25247: 'hounded',\n",
              " 52155: 'apace',\n",
              " 15494: 'clicked',\n",
              " 30584: \"'humor'\",\n",
              " 17177: \"martino's\",\n",
              " 52156: \"'supporting\",\n",
              " 52032: 'warmongering',\n",
              " 34725: \"zemeckis's\",\n",
              " 21911: 'lube',\n",
              " 52157: 'shocky',\n",
              " 7476: 'plate',\n",
              " 40883: 'plata',\n",
              " 40884: 'sturgess',\n",
              " 40885: \"nerds'\",\n",
              " 20600: 'plato',\n",
              " 34726: 'plath',\n",
              " 40886: 'platt',\n",
              " 52159: 'mcnab',\n",
              " 27643: 'clumsiness',\n",
              " 3899: 'altogether',\n",
              " 42584: 'massacring',\n",
              " 52160: 'bicenntinial',\n",
              " 40887: 'skaal',\n",
              " 14360: 'droning',\n",
              " 8776: 'lds',\n",
              " 21912: 'jaguar',\n",
              " 34727: \"cale's\",\n",
              " 1777: 'nicely',\n",
              " 4588: 'mummy',\n",
              " 18513: \"lot's\",\n",
              " 10086: 'patch',\n",
              " 50202: 'kerkhof',\n",
              " 52161: \"leader's\",\n",
              " 27644: \"'movie\",\n",
              " 52162: 'uncomfirmed',\n",
              " 40888: 'heirloom',\n",
              " 47360: 'wrangle',\n",
              " 52163: 'emotion\\x85',\n",
              " 52164: \"'stargate'\",\n",
              " 40889: 'pinoy',\n",
              " 40890: 'conchatta',\n",
              " 41128: 'broeke',\n",
              " 40891: 'advisedly',\n",
              " 17636: \"barker's\",\n",
              " 52166: 'descours',\n",
              " 772: 'lots',\n",
              " 9259: 'lotr',\n",
              " 9879: 'irs',\n",
              " 52167: 'lott',\n",
              " 40892: 'xvi',\n",
              " 34728: 'irk',\n",
              " 52168: 'irl',\n",
              " 6887: 'ira',\n",
              " 21913: 'belzer',\n",
              " 52169: 'irc',\n",
              " 27645: 'ire',\n",
              " 40893: 'requisites',\n",
              " 7693: 'discipline',\n",
              " 52961: 'lyoko',\n",
              " 11310: 'extend',\n",
              " 873: 'nature',\n",
              " 52170: \"'dickie'\",\n",
              " 40894: 'optimist',\n",
              " 30586: 'lapping',\n",
              " 3900: 'superficial',\n",
              " 52171: 'vestment',\n",
              " 2823: 'extent',\n",
              " 52172: 'tendons',\n",
              " 52173: \"heller's\",\n",
              " 52174: 'quagmires',\n",
              " 52175: 'miyako',\n",
              " 20601: 'moocow',\n",
              " 52176: \"coles'\",\n",
              " 40895: 'lookit',\n",
              " 52177: 'ravenously',\n",
              " 40896: 'levitating',\n",
              " 52178: 'perfunctorily',\n",
              " 30587: 'lookin',\n",
              " 40898: \"lot'\",\n",
              " 52179: 'lookie',\n",
              " 34870: 'fearlessly',\n",
              " 52181: 'libyan',\n",
              " 40899: 'fondles',\n",
              " 35714: 'gopher',\n",
              " 40901: 'wearying',\n",
              " 52182: \"nz's\",\n",
              " 27646: 'minuses',\n",
              " 52183: 'puposelessly',\n",
              " 52184: 'shandling',\n",
              " 31268: 'decapitates',\n",
              " 11929: 'humming',\n",
              " 40902: \"'nother\",\n",
              " 21914: 'smackdown',\n",
              " 30588: 'underdone',\n",
              " 40903: 'frf',\n",
              " 52185: 'triviality',\n",
              " 25248: 'fro',\n",
              " 8777: 'bothers',\n",
              " 52186: \"'kensington\",\n",
              " 73: 'much',\n",
              " 34730: 'muco',\n",
              " 22615: 'wiseguy',\n",
              " 27648: \"richie's\",\n",
              " 40904: 'tonino',\n",
              " 52187: 'unleavened',\n",
              " 11587: 'fry',\n",
              " 40905: \"'tv'\",\n",
              " 40906: 'toning',\n",
              " 14361: 'obese',\n",
              " 30589: 'sensationalized',\n",
              " 40907: 'spiv',\n",
              " 6259: 'spit',\n",
              " 7364: 'arkin',\n",
              " 21915: 'charleton',\n",
              " 16823: 'jeon',\n",
              " 21916: 'boardroom',\n",
              " 4989: 'doubts',\n",
              " 3084: 'spin',\n",
              " 53083: 'hepo',\n",
              " 27649: 'wildcat',\n",
              " 10584: 'venoms',\n",
              " 52191: 'misconstrues',\n",
              " 18514: 'mesmerising',\n",
              " 40908: 'misconstrued',\n",
              " 52192: 'rescinds',\n",
              " 52193: 'prostrate',\n",
              " 40909: 'majid',\n",
              " 16479: 'climbed',\n",
              " 34731: 'canoeing',\n",
              " 52195: 'majin',\n",
              " 57804: 'animie',\n",
              " 40910: 'sylke',\n",
              " 14899: 'conditioned',\n",
              " 40911: 'waddell',\n",
              " 52196: '3\\x85',\n",
              " 41188: 'hyperdrive',\n",
              " 34732: 'conditioner',\n",
              " 53153: 'bricklayer',\n",
              " 2576: 'hong',\n",
              " 52198: 'memoriam',\n",
              " 30592: 'inventively',\n",
              " 25249: \"levant's\",\n",
              " 20638: 'portobello',\n",
              " 52200: 'remand',\n",
              " 19504: 'mummified',\n",
              " 27650: 'honk',\n",
              " 19505: 'spews',\n",
              " 40912: 'visitations',\n",
              " 52201: 'mummifies',\n",
              " 25250: 'cavanaugh',\n",
              " 23385: 'zeon',\n",
              " 40913: \"jungle's\",\n",
              " 34733: 'viertel',\n",
              " 27651: 'frenchmen',\n",
              " 52202: 'torpedoes',\n",
              " 52203: 'schlessinger',\n",
              " 34734: 'torpedoed',\n",
              " 69876: 'blister',\n",
              " 52204: 'cinefest',\n",
              " 34735: 'furlough',\n",
              " 52205: 'mainsequence',\n",
              " 40914: 'mentors',\n",
              " 9094: 'academic',\n",
              " 20602: 'stillness',\n",
              " 40915: 'academia',\n",
              " 52206: 'lonelier',\n",
              " 52207: 'nibby',\n",
              " 52208: \"losers'\",\n",
              " 40916: 'cineastes',\n",
              " 4449: 'corporate',\n",
              " 40917: 'massaging',\n",
              " 30593: 'bellow',\n",
              " 19506: 'absurdities',\n",
              " 53241: 'expetations',\n",
              " 40918: 'nyfiken',\n",
              " 75638: 'mehras',\n",
              " 52209: 'lasse',\n",
              " 52210: 'visability',\n",
              " 33946: 'militarily',\n",
              " 52211: \"elder'\",\n",
              " 19023: 'gainsbourg',\n",
              " 20603: 'hah',\n",
              " 13420: 'hai',\n",
              " 34736: 'haj',\n",
              " 25251: 'hak',\n",
              " 4311: 'hal',\n",
              " 4892: 'ham',\n",
              " 53259: 'duffer',\n",
              " 52213: 'haa',\n",
              " 66: 'had',\n",
              " 11930: 'advancement',\n",
              " 16825: 'hag',\n",
              " 25252: \"hand'\",\n",
              " 13421: 'hay',\n",
              " 20604: 'mcnamara',\n",
              " 52214: \"mozart's\",\n",
              " 30731: 'duffel',\n",
              " 30594: 'haq',\n",
              " 13887: 'har',\n",
              " 44: 'has',\n",
              " 2401: 'hat',\n",
              " 40919: 'hav',\n",
              " 30595: 'haw',\n",
              " 52215: 'figtings',\n",
              " 15495: 'elders',\n",
              " 52216: 'underpanted',\n",
              " 52217: 'pninson',\n",
              " 27652: 'unequivocally',\n",
              " 23673: \"barbara's\",\n",
              " 52219: \"bello'\",\n",
              " 12997: 'indicative',\n",
              " 40920: 'yawnfest',\n",
              " 52220: 'hexploitation',\n",
              " 52221: \"loder's\",\n",
              " 27653: 'sleuthing',\n",
              " 32622: \"justin's\",\n",
              " 52222: \"'ball\",\n",
              " 52223: \"'summer\",\n",
              " 34935: \"'demons'\",\n",
              " 52225: \"mormon's\",\n",
              " 34737: \"laughton's\",\n",
              " 52226: 'debell',\n",
              " 39724: 'shipyard',\n",
              " 30597: 'unabashedly',\n",
              " 40401: 'disks',\n",
              " 2290: 'crowd',\n",
              " 10087: 'crowe',\n",
              " 56434: \"vancouver's\",\n",
              " 34738: 'mosques',\n",
              " 6627: 'crown',\n",
              " 52227: 'culpas',\n",
              " 27654: 'crows',\n",
              " 53344: 'surrell',\n",
              " 52229: 'flowless',\n",
              " 52230: 'sheirk',\n",
              " 40923: \"'three\",\n",
              " 52231: \"peterson'\",\n",
              " 52232: 'ooverall',\n",
              " 40924: 'perchance',\n",
              " 1321: 'bottom',\n",
              " 53363: 'chabert',\n",
              " 52233: 'sneha',\n",
              " 13888: 'inhuman',\n",
              " 52234: 'ichii',\n",
              " 52235: 'ursla',\n",
              " 30598: 'completly',\n",
              " 40925: 'moviedom',\n",
              " 52236: 'raddick',\n",
              " 51995: 'brundage',\n",
              " 40926: 'brigades',\n",
              " 1181: 'starring',\n",
              " 52237: \"'goal'\",\n",
              " 52238: 'caskets',\n",
              " 52239: 'willcock',\n",
              " 52240: \"threesome's\",\n",
              " 52241: \"mosque'\",\n",
              " 52242: \"cover's\",\n",
              " 17637: 'spaceships',\n",
              " 40927: 'anomalous',\n",
              " 27655: 'ptsd',\n",
              " 52243: 'shirdan',\n",
              " 21962: 'obscenity',\n",
              " 30599: 'lemmings',\n",
              " 30600: 'duccio',\n",
              " 52244: \"levene's\",\n",
              " 52245: \"'gorby'\",\n",
              " 25255: \"teenager's\",\n",
              " 5340: 'marshall',\n",
              " 9095: 'honeymoon',\n",
              " 3231: 'shoots',\n",
              " 12258: 'despised',\n",
              " 52246: 'okabasho',\n",
              " 8289: 'fabric',\n",
              " 18515: 'cannavale',\n",
              " 3537: 'raped',\n",
              " 52247: \"tutt's\",\n",
              " 17638: 'grasping',\n",
              " 18516: 'despises',\n",
              " 40928: \"thief's\",\n",
              " 8926: 'rapes',\n",
              " 52248: 'raper',\n",
              " 27656: \"eyre'\",\n",
              " 52249: 'walchek',\n",
              " 23386: \"elmo's\",\n",
              " 40929: 'perfumes',\n",
              " 21918: 'spurting',\n",
              " 52250: \"exposition'\\x85\",\n",
              " 52251: 'denoting',\n",
              " 34740: 'thesaurus',\n",
              " 40930: \"shoot'\",\n",
              " 49759: 'bonejack',\n",
              " 52253: 'simpsonian',\n",
              " 30601: 'hebetude',\n",
              " 34741: \"hallow's\",\n",
              " 52254: 'desperation\\x85',\n",
              " 34742: 'incinerator',\n",
              " 10308: 'congratulations',\n",
              " 52255: 'humbled',\n",
              " 5924: \"else's\",\n",
              " 40845: 'trelkovski',\n",
              " 52256: \"rape'\",\n",
              " 59386: \"'chapters'\",\n",
              " 52257: '1600s',\n",
              " 7253: 'martian',\n",
              " 25256: 'nicest',\n",
              " 52259: 'eyred',\n",
              " 9457: 'passenger',\n",
              " 6041: 'disgrace',\n",
              " 52260: 'moderne',\n",
              " 5120: 'barrymore',\n",
              " 52261: 'yankovich',\n",
              " 40931: 'moderns',\n",
              " 52262: 'studliest',\n",
              " 52263: 'bedsheet',\n",
              " 14900: 'decapitation',\n",
              " 52264: 'slurring',\n",
              " 52265: \"'nunsploitation'\",\n",
              " 34743: \"'character'\",\n",
              " 9880: 'cambodia',\n",
              " 52266: 'rebelious',\n",
              " 27657: 'pasadena',\n",
              " 40932: 'crowne',\n",
              " 52267: \"'bedchamber\",\n",
              " 52268: 'conjectural',\n",
              " 52269: 'appologize',\n",
              " 52270: 'halfassing',\n",
              " 57816: 'paycheque',\n",
              " 20606: 'palms',\n",
              " 52271: \"'islands\",\n",
              " 40933: 'hawked',\n",
              " 21919: 'palme',\n",
              " 40934: 'conservatively',\n",
              " 64007: 'larp',\n",
              " 5558: 'palma',\n",
              " 21920: 'smelling',\n",
              " 12998: 'aragorn',\n",
              " 52272: 'hawker',\n",
              " 52273: 'hawkes',\n",
              " 3975: 'explosions',\n",
              " 8059: 'loren',\n",
              " 52274: \"pyle's\",\n",
              " 6704: 'shootout',\n",
              " 18517: \"mike's\",\n",
              " 52275: \"driscoll's\",\n",
              " 40935: 'cogsworth',\n",
              " 52276: \"britian's\",\n",
              " 34744: 'childs',\n",
              " 52277: \"portrait's\",\n",
              " 3626: 'chain',\n",
              " 2497: 'whoever',\n",
              " 52278: 'puttered',\n",
              " 52279: 'childe',\n",
              " 52280: 'maywether',\n",
              " 3036: 'chair',\n",
              " 52281: \"rance's\",\n",
              " 34745: 'machu',\n",
              " 4517: 'ballet',\n",
              " 34746: 'grapples',\n",
              " 76152: 'summerize',\n",
              " 30603: 'freelance',\n",
              " 52283: \"andrea's\",\n",
              " 52284: '\\x91very',\n",
              " 45879: 'coolidge',\n",
              " 18518: 'mache',\n",
              " 52285: 'balled',\n",
              " 40937: 'grappled',\n",
              " 18519: 'macha',\n",
              " 21921: 'underlining',\n",
              " 5623: 'macho',\n",
              " 19507: 'oversight',\n",
              " 25257: 'machi',\n",
              " 11311: 'verbally',\n",
              " 21922: 'tenacious',\n",
              " 40938: 'windshields',\n",
              " 18557: 'paychecks',\n",
              " 3396: 'jerk',\n",
              " 11931: \"good'\",\n",
              " 34748: 'prancer',\n",
              " 21923: 'prances',\n",
              " 52286: 'olympus',\n",
              " 21924: 'lark',\n",
              " 10785: 'embark',\n",
              " 7365: 'gloomy',\n",
              " 52287: 'jehaan',\n",
              " 52288: 'turaqui',\n",
              " 20607: \"child'\",\n",
              " 2894: 'locked',\n",
              " 52289: 'pranced',\n",
              " 2588: 'exact',\n",
              " 52290: 'unattuned',\n",
              " 783: 'minute',\n",
              " 16118: 'skewed',\n",
              " 40940: 'hodgins',\n",
              " 34749: 'skewer',\n",
              " 52291: 'think\\x85',\n",
              " 38765: 'rosenstein',\n",
              " 52292: 'helmit',\n",
              " 34750: 'wrestlemanias',\n",
              " 16826: 'hindered',\n",
              " 30604: \"martha's\",\n",
              " 52293: 'cheree',\n",
              " 52294: \"pluckin'\",\n",
              " 40941: 'ogles',\n",
              " 11932: 'heavyweight',\n",
              " 82190: 'aada',\n",
              " 11312: 'chopping',\n",
              " 61534: 'strongboy',\n",
              " 41342: 'hegemonic',\n",
              " 40942: 'adorns',\n",
              " 41346: 'xxth',\n",
              " 34751: 'nobuhiro',\n",
              " 52298: 'capitães',\n",
              " 52299: 'kavogianni',\n",
              " 13422: 'antwerp',\n",
              " 6538: 'celebrated',\n",
              " 52300: 'roarke',\n",
              " 40943: 'baggins',\n",
              " 31270: 'cheeseburgers',\n",
              " 52301: 'matras',\n",
              " 52302: \"nineties'\",\n",
              " 52303: \"'craig'\",\n",
              " 12999: 'celebrates',\n",
              " 3383: 'unintentionally',\n",
              " 14362: 'drafted',\n",
              " 52304: 'climby',\n",
              " 52305: '303',\n",
              " 18520: 'oldies',\n",
              " 9096: 'climbs',\n",
              " 9655: 'honour',\n",
              " 34752: 'plucking',\n",
              " 30074: '305',\n",
              " 5514: 'address',\n",
              " 40944: 'menjou',\n",
              " 42592: \"'freak'\",\n",
              " 19508: 'dwindling',\n",
              " 9458: 'benson',\n",
              " 52307: 'white’s',\n",
              " 40945: 'shamelessness',\n",
              " 21925: 'impacted',\n",
              " 52308: 'upatz',\n",
              " 3840: 'cusack',\n",
              " 37567: \"flavia's\",\n",
              " 52309: 'effette',\n",
              " 34753: 'influx',\n",
              " 52310: 'boooooooo',\n",
              " 52311: 'dimitrova',\n",
              " 13423: 'houseman',\n",
              " 25259: 'bigas',\n",
              " 52312: 'boylen',\n",
              " 52313: 'phillipenes',\n",
              " 40946: 'fakery',\n",
              " 27658: \"grandpa's\",\n",
              " 27659: 'darnell',\n",
              " 19509: 'undergone',\n",
              " 52315: 'handbags',\n",
              " 21926: 'perished',\n",
              " 37778: 'pooped',\n",
              " 27660: 'vigour',\n",
              " 3627: 'opposed',\n",
              " 52316: 'etude',\n",
              " 11799: \"caine's\",\n",
              " 52317: 'doozers',\n",
              " 34754: 'photojournals',\n",
              " 52318: 'perishes',\n",
              " 34755: 'constrains',\n",
              " 40948: 'migenes',\n",
              " 30605: 'consoled',\n",
              " 16827: 'alastair',\n",
              " 52319: 'wvs',\n",
              " 52320: 'ooooooh',\n",
              " 34756: 'approving',\n",
              " 40949: 'consoles',\n",
              " 52064: 'disparagement',\n",
              " 52322: 'futureistic',\n",
              " 52323: 'rebounding',\n",
              " 52324: \"'date\",\n",
              " 52325: 'gregoire',\n",
              " 21927: 'rutherford',\n",
              " 34757: 'americanised',\n",
              " 82196: 'novikov',\n",
              " 1042: 'following',\n",
              " 34758: 'munroe',\n",
              " 52326: \"morita'\",\n",
              " 52327: 'christenssen',\n",
              " 23106: 'oatmeal',\n",
              " 25260: 'fossey',\n",
              " 40950: 'livered',\n",
              " 13000: 'listens',\n",
              " 76164: \"'marci\",\n",
              " 52330: \"otis's\",\n",
              " 23387: 'thanking',\n",
              " 16019: 'maude',\n",
              " 34759: 'extensions',\n",
              " 52332: 'ameteurish',\n",
              " 52333: \"commender's\",\n",
              " 27661: 'agricultural',\n",
              " 4518: 'convincingly',\n",
              " 17639: 'fueled',\n",
              " 54014: 'mahattan',\n",
              " 40952: \"paris's\",\n",
              " 52336: 'vulkan',\n",
              " 52337: 'stapes',\n",
              " 52338: 'odysessy',\n",
              " 12259: 'harmon',\n",
              " 4252: 'surfing',\n",
              " 23494: 'halloran',\n",
              " 49580: 'unbelieveably',\n",
              " 52339: \"'offed'\",\n",
              " 30607: 'quadrant',\n",
              " 19510: 'inhabiting',\n",
              " 34760: 'nebbish',\n",
              " 40953: 'forebears',\n",
              " 34761: 'skirmish',\n",
              " 52340: 'ocassionally',\n",
              " 52341: \"'resist\",\n",
              " 21928: 'impactful',\n",
              " 52342: 'spicier',\n",
              " 40954: 'touristy',\n",
              " 52343: \"'football'\",\n",
              " 40955: 'webpage',\n",
              " 52345: 'exurbia',\n",
              " 52346: 'jucier',\n",
              " 14901: 'professors',\n",
              " 34762: 'structuring',\n",
              " 30608: 'jig',\n",
              " 40956: 'overlord',\n",
              " 25261: 'disconnect',\n",
              " 82201: 'sniffle',\n",
              " 40957: 'slimeball',\n",
              " 40958: 'jia',\n",
              " 16828: 'milked',\n",
              " 40959: 'banjoes',\n",
              " 1237: 'jim',\n",
              " 52348: 'workforces',\n",
              " 52349: 'jip',\n",
              " 52350: 'rotweiller',\n",
              " 34763: 'mundaneness',\n",
              " 52351: \"'ninja'\",\n",
              " 11040: \"dead'\",\n",
              " 40960: \"cipriani's\",\n",
              " 20608: 'modestly',\n",
              " 52352: \"professor'\",\n",
              " 40961: 'shacked',\n",
              " 34764: 'bashful',\n",
              " 23388: 'sorter',\n",
              " 16120: 'overpowering',\n",
              " 18521: 'workmanlike',\n",
              " 27662: 'henpecked',\n",
              " 18522: 'sorted',\n",
              " 52354: \"jōb's\",\n",
              " 52355: \"'always\",\n",
              " 34765: \"'baptists\",\n",
              " 52356: 'dreamcatchers',\n",
              " 52357: \"'silence'\",\n",
              " 21929: 'hickory',\n",
              " 52358: 'fun\\x97yet',\n",
              " 52359: 'breakumentary',\n",
              " 15496: 'didn',\n",
              " 52360: 'didi',\n",
              " 52361: 'pealing',\n",
              " 40962: 'dispite',\n",
              " 25262: \"italy's\",\n",
              " 21930: 'instability',\n",
              " 6539: 'quarter',\n",
              " 12608: 'quartet',\n",
              " 52362: 'padmé',\n",
              " 52363: \"'bleedmedry\",\n",
              " 52364: 'pahalniuk',\n",
              " 52365: 'honduras',\n",
              " 10786: 'bursting',\n",
              " 41465: \"pablo's\",\n",
              " 52367: 'irremediably',\n",
              " 40963: 'presages',\n",
              " 57832: 'bowlegged',\n",
              " 65183: 'dalip',\n",
              " 6260: 'entering',\n",
              " 76172: 'newsradio',\n",
              " 54150: 'presaged',\n",
              " 27663: \"giallo's\",\n",
              " 40964: 'bouyant',\n",
              " 52368: 'amerterish',\n",
              " 18523: 'rajni',\n",
              " 30610: 'leeves',\n",
              " 34767: 'macauley',\n",
              " 612: 'seriously',\n",
              " 52369: 'sugercoma',\n",
              " 52370: 'grimstead',\n",
              " 52371: \"'fairy'\",\n",
              " 30611: 'zenda',\n",
              " 52372: \"'twins'\",\n",
              " 17640: 'realisation',\n",
              " 27664: 'highsmith',\n",
              " 7817: 'raunchy',\n",
              " 40965: 'incentives',\n",
              " 52374: 'flatson',\n",
              " 35097: 'snooker',\n",
              " 16829: 'crazies',\n",
              " 14902: 'crazier',\n",
              " 7094: 'grandma',\n",
              " 52375: 'napunsaktha',\n",
              " 30612: 'workmanship',\n",
              " 52376: 'reisner',\n",
              " 61306: \"sanford's\",\n",
              " 52377: '\\x91doña',\n",
              " 6108: 'modest',\n",
              " 19153: \"everything's\",\n",
              " 40966: 'hamer',\n",
              " 52379: \"couldn't'\",\n",
              " 13001: 'quibble',\n",
              " 52380: 'socking',\n",
              " 21931: 'tingler',\n",
              " 52381: 'gutman',\n",
              " 40967: 'lachlan',\n",
              " 52382: 'tableaus',\n",
              " 52383: 'headbanger',\n",
              " 2847: 'spoken',\n",
              " 34768: 'cerebrally',\n",
              " 23490: \"'road\",\n",
              " 21932: 'tableaux',\n",
              " 40968: \"proust's\",\n",
              " 40969: 'periodical',\n",
              " 52385: \"shoveller's\",\n",
              " 25263: 'tamara',\n",
              " 17641: 'affords',\n",
              " 3249: 'concert',\n",
              " 87955: \"yara's\",\n",
              " 52386: 'someome',\n",
              " 8424: 'lingering',\n",
              " 41511: \"abraham's\",\n",
              " 34769: 'beesley',\n",
              " 34770: 'cherbourg',\n",
              " 28624: 'kagan',\n",
              " 9097: 'snatch',\n",
              " 9260: \"miyazaki's\",\n",
              " 25264: 'absorbs',\n",
              " 40970: \"koltai's\",\n",
              " 64027: 'tingled',\n",
              " 19511: 'crossroads',\n",
              " 16121: 'rehab',\n",
              " 52389: 'falworth',\n",
              " 52390: 'sequals',\n",
              " ...}"
            ]
          },
          "metadata": {},
          "execution_count": 9
        }
      ]
    },
    {
      "cell_type": "code",
      "source": [
        "type(reverse_word_index)"
      ],
      "metadata": {
        "colab": {
          "base_uri": "https://localhost:8080/"
        },
        "id": "Q2Q_fnFmntV9",
        "outputId": "ffbd993e-85f6-445f-d402-54994cd6c4b6"
      },
      "execution_count": 10,
      "outputs": [
        {
          "output_type": "execute_result",
          "data": {
            "text/plain": [
              "dict"
            ]
          },
          "metadata": {},
          "execution_count": 10
        }
      ]
    },
    {
      "cell_type": "code",
      "source": [
        "# dict 타입에서 .get(i-3,'?') 없다면 ?로 표현"
      ],
      "metadata": {
        "id": "8hs7FLYFn0fx"
      },
      "execution_count": 11,
      "outputs": []
    },
    {
      "cell_type": "code",
      "source": [
        "# One-Hot-Encoding\n",
        "# 데이터 준비\n",
        "# 폭 만개짜리 배열 만들기\n",
        "import numpy as np\n",
        "# dimension = 10000 (default 값을 설정, 따로 정의되지않으면 dimension은 10000)\n",
        "def vectorize_sequences(sequences, dimension = 10000): #세로 250000, 가로10000개의 배열 생성\n",
        "    results = np.zeros((len(sequences),dimension))\n",
        "    return results\n",
        "\n",
        "vectorize_sequences(train_data)"
      ],
      "metadata": {
        "colab": {
          "base_uri": "https://localhost:8080/"
        },
        "id": "JkDrx5z4o46E",
        "outputId": "9267bd04-7275-452e-93f8-247f5fbadf4c"
      },
      "execution_count": 12,
      "outputs": [
        {
          "output_type": "execute_result",
          "data": {
            "text/plain": [
              "array([[0., 0., 0., ..., 0., 0., 0.],\n",
              "       [0., 0., 0., ..., 0., 0., 0.],\n",
              "       [0., 0., 0., ..., 0., 0., 0.],\n",
              "       ...,\n",
              "       [0., 0., 0., ..., 0., 0., 0.],\n",
              "       [0., 0., 0., ..., 0., 0., 0.],\n",
              "       [0., 0., 0., ..., 0., 0., 0.]])"
            ]
          },
          "metadata": {},
          "execution_count": 12
        }
      ]
    },
    {
      "cell_type": "code",
      "source": [
        "# enumerate 반복가능한 객체를 만들때(인덱스를 만들어낼때 사용가능)\n",
        "for c in (['A','B','C']):\n",
        "    print(c)"
      ],
      "metadata": {
        "colab": {
          "base_uri": "https://localhost:8080/"
        },
        "id": "zMalRCeVurZU",
        "outputId": "e43cb20a-2348-45ef-d51a-fb5e41f6539b"
      },
      "execution_count": 13,
      "outputs": [
        {
          "output_type": "stream",
          "name": "stdout",
          "text": [
            "A\n",
            "B\n",
            "C\n"
          ]
        }
      ]
    },
    {
      "cell_type": "code",
      "source": [
        "for c in enumerate(['A','B','C']):\n",
        "    print(c)"
      ],
      "metadata": {
        "colab": {
          "base_uri": "https://localhost:8080/"
        },
        "id": "uif6150-utgv",
        "outputId": "12526818-0704-43c3-d8c5-e82a22a8962e"
      },
      "execution_count": 14,
      "outputs": [
        {
          "output_type": "stream",
          "name": "stdout",
          "text": [
            "(0, 'A')\n",
            "(1, 'B')\n",
            "(2, 'C')\n"
          ]
        }
      ]
    },
    {
      "cell_type": "code",
      "source": [
        "# 인덱스를 따로 분리\n",
        "for i,c in enumerate(['A','B','C']):\n",
        "    print(i, c)"
      ],
      "metadata": {
        "colab": {
          "base_uri": "https://localhost:8080/"
        },
        "id": "JeAf0Fgkv0Px",
        "outputId": "31a0af24-cb73-41eb-eb21-e0d11244adc1"
      },
      "execution_count": 15,
      "outputs": [
        {
          "output_type": "stream",
          "name": "stdout",
          "text": [
            "0 A\n",
            "1 B\n",
            "2 C\n"
          ]
        }
      ]
    },
    {
      "cell_type": "code",
      "source": [
        "# 인덱스 시작값을 1로 시작하고 싶을때\n",
        "for i,c in enumerate(['A','B','C'], start=1):\n",
        "    print(i, c)"
      ],
      "metadata": {
        "colab": {
          "base_uri": "https://localhost:8080/"
        },
        "id": "4_YrPAowv7zT",
        "outputId": "c3690c49-b57a-461e-810c-1af1b04302b7"
      },
      "execution_count": 16,
      "outputs": [
        {
          "output_type": "stream",
          "name": "stdout",
          "text": [
            "1 A\n",
            "2 B\n",
            "3 C\n"
          ]
        }
      ]
    },
    {
      "cell_type": "code",
      "source": [
        "temp = enumerate(['A','B','C'])\n",
        "type(temp)"
      ],
      "metadata": {
        "colab": {
          "base_uri": "https://localhost:8080/"
        },
        "id": "T9n7xY1NwHZM",
        "outputId": "7a31029d-37e1-4bc6-825d-90877c228342"
      },
      "execution_count": 17,
      "outputs": [
        {
          "output_type": "execute_result",
          "data": {
            "text/plain": [
              "enumerate"
            ]
          },
          "metadata": {},
          "execution_count": 17
        }
      ]
    },
    {
      "cell_type": "code",
      "source": [
        "temp = enumerate(['A','B','C'])\n",
        "list(temp)    # list 타입으로 변환"
      ],
      "metadata": {
        "colab": {
          "base_uri": "https://localhost:8080/"
        },
        "id": "RgRryhBcwVAM",
        "outputId": "c2c93bdf-27ec-404a-83f6-fb7ea307073b"
      },
      "execution_count": 18,
      "outputs": [
        {
          "output_type": "execute_result",
          "data": {
            "text/plain": [
              "[(0, 'A'), (1, 'B'), (2, 'C')]"
            ]
          },
          "metadata": {},
          "execution_count": 18
        }
      ]
    },
    {
      "cell_type": "code",
      "source": [
        "temp = enumerate(['A','B','C'])\n",
        "next(temp)    # 튜플타입의 특징, 한칸씩 넘어감\n",
        "next(temp)\n",
        "next(temp)"
      ],
      "metadata": {
        "colab": {
          "base_uri": "https://localhost:8080/"
        },
        "id": "8avHvNM0wgNQ",
        "outputId": "67cd5983-8aca-4363-a1a4-fb1c0854b6fe"
      },
      "execution_count": 19,
      "outputs": [
        {
          "output_type": "execute_result",
          "data": {
            "text/plain": [
              "(2, 'C')"
            ]
          },
          "metadata": {},
          "execution_count": 19
        }
      ]
    },
    {
      "cell_type": "code",
      "source": [
        "# for문을 이용해서 1넣기\n",
        "def vectorize_sequences(sequences, dimension = 10000):\n",
        "    results = np.zeros((len(sequences),dimension))\n",
        "    \n",
        "    for i, sequence in enumerate(sequences):\n",
        "        results[i, sequence] = 1\n",
        "\n",
        "    return results\n",
        "# Data의 Encoding\n",
        "x_train = vectorize_sequences(train_data)\n",
        "x_test = vectorize_sequences(test_data)"
      ],
      "metadata": {
        "id": "OxzS1K5bwuH1"
      },
      "execution_count": 20,
      "outputs": []
    },
    {
      "cell_type": "code",
      "source": [
        "print(x_train[0])"
      ],
      "metadata": {
        "colab": {
          "base_uri": "https://localhost:8080/"
        },
        "id": "MtXSVm3txxhf",
        "outputId": "4d1f0d08-e288-4ba1-e580-1022b0849b07"
      },
      "execution_count": 21,
      "outputs": [
        {
          "output_type": "stream",
          "name": "stdout",
          "text": [
            "[0. 1. 1. ... 0. 0. 0.]\n"
          ]
        }
      ]
    },
    {
      "cell_type": "code",
      "source": [
        "# float type으로 변환\n",
        "# 내부적으로 tensor로 변환해야 가능 tensor는 keras의 벡터다\n",
        "y_train = np.asarray(train_labels).astype('float32')\n",
        "y_test = np.asarray(test_labels).astype('float32')"
      ],
      "metadata": {
        "id": "8W5B2vB2zzQQ"
      },
      "execution_count": 22,
      "outputs": []
    },
    {
      "cell_type": "code",
      "source": [
        "# 신경망 구축\n",
        "from keras import models\n",
        "from keras import layers\n",
        "# network or model 이름을 많이 사용함\n",
        "\n",
        "model = models.Sequential()\n",
        "model.add(layers.Dense(16, activation='relu', input_shape=(10000,))) # Input layer 만개의 데이터를 받겠다\n",
        "model.add(layers.Dense(16, activation='relu'))\n",
        "model.add(layers.Dense(1, activation='sigmoid')) #Output layer\n"
      ],
      "metadata": {
        "id": "4E1BzbYK0fuo"
      },
      "execution_count": 47,
      "outputs": []
    },
    {
      "cell_type": "code",
      "source": [
        "# model compile\n",
        "model.compile(optimizer='rmsprop',\n",
        "              loss = 'binary_crossentropy', # 이진분류에 사용하는 로스함수\n",
        "              metrics = ['accuracy']\n",
        "              )"
      ],
      "metadata": {
        "id": "RcZVHRTA2YpB"
      },
      "execution_count": 36,
      "outputs": []
    },
    {
      "cell_type": "code",
      "source": [
        "# 15000개로 학습과 동시에 10000개로 검증을 하기위해 쪼갬\n",
        "# 완성도 높은 모델을 만들기 위해\n",
        "# 완성도 높은 모델은 validation, train, test 세개의 부분으로 나뉨\n",
        "x_val = x_train[:10000]            # 25000개 중에서 앞부분 10000개만\n",
        "partial_x_train = x_train[10000:]  # 나머지 15000개 가져옴\n",
        "\n",
        "y_val = y_train[:10000]\n",
        "partial_y_train = y_train[10000:]"
      ],
      "metadata": {
        "id": "uBUCaXDV3Ep_"
      },
      "execution_count": 49,
      "outputs": []
    },
    {
      "cell_type": "code",
      "source": [
        "history = model.fit(partial_x_train,\n",
        "                    partial_y_train,\n",
        "                    epochs = 20,\n",
        "                    batch_size = 512,\n",
        "                    validation_data=(x_val, y_val)\n",
        "                    )"
      ],
      "metadata": {
        "colab": {
          "base_uri": "https://localhost:8080/"
        },
        "id": "W8wOKxbX98FV",
        "outputId": "9fd2daa5-5cd2-44e4-8b0b-3de7784313a6"
      },
      "execution_count": 26,
      "outputs": [
        {
          "output_type": "stream",
          "name": "stdout",
          "text": [
            "Epoch 1/20\n",
            "30/30 [==============================] - 3s 77ms/step - loss: 0.5720 - accuracy: 0.7381 - val_loss: 0.4508 - val_accuracy: 0.8257\n",
            "Epoch 2/20\n",
            "30/30 [==============================] - 1s 49ms/step - loss: 0.3534 - accuracy: 0.8937 - val_loss: 0.3319 - val_accuracy: 0.8824\n",
            "Epoch 3/20\n",
            "30/30 [==============================] - 2s 63ms/step - loss: 0.2508 - accuracy: 0.9236 - val_loss: 0.2882 - val_accuracy: 0.8920\n",
            "Epoch 4/20\n",
            "30/30 [==============================] - 2s 74ms/step - loss: 0.1948 - accuracy: 0.9383 - val_loss: 0.3447 - val_accuracy: 0.8586\n",
            "Epoch 5/20\n",
            "30/30 [==============================] - 2s 65ms/step - loss: 0.1593 - accuracy: 0.9512 - val_loss: 0.2880 - val_accuracy: 0.8879\n",
            "Epoch 6/20\n",
            "30/30 [==============================] - 2s 64ms/step - loss: 0.1331 - accuracy: 0.9595 - val_loss: 0.2828 - val_accuracy: 0.8882\n",
            "Epoch 7/20\n",
            "30/30 [==============================] - 1s 46ms/step - loss: 0.1096 - accuracy: 0.9689 - val_loss: 0.2958 - val_accuracy: 0.8855\n",
            "Epoch 8/20\n",
            "30/30 [==============================] - 1s 43ms/step - loss: 0.0897 - accuracy: 0.9753 - val_loss: 0.3201 - val_accuracy: 0.8838\n",
            "Epoch 9/20\n",
            "30/30 [==============================] - 1s 42ms/step - loss: 0.0740 - accuracy: 0.9798 - val_loss: 0.3488 - val_accuracy: 0.8807\n",
            "Epoch 10/20\n",
            "30/30 [==============================] - 1s 45ms/step - loss: 0.0632 - accuracy: 0.9839 - val_loss: 0.3635 - val_accuracy: 0.8816\n",
            "Epoch 11/20\n",
            "30/30 [==============================] - 1s 41ms/step - loss: 0.0513 - accuracy: 0.9871 - val_loss: 0.3834 - val_accuracy: 0.8788\n",
            "Epoch 12/20\n",
            "30/30 [==============================] - 1s 35ms/step - loss: 0.0393 - accuracy: 0.9919 - val_loss: 0.4087 - val_accuracy: 0.8776\n",
            "Epoch 13/20\n",
            "30/30 [==============================] - 1s 34ms/step - loss: 0.0311 - accuracy: 0.9939 - val_loss: 0.4490 - val_accuracy: 0.8769\n",
            "Epoch 14/20\n",
            "30/30 [==============================] - 1s 34ms/step - loss: 0.0255 - accuracy: 0.9957 - val_loss: 0.5467 - val_accuracy: 0.8674\n",
            "Epoch 15/20\n",
            "30/30 [==============================] - 1s 36ms/step - loss: 0.0196 - accuracy: 0.9969 - val_loss: 0.5068 - val_accuracy: 0.8734\n",
            "Epoch 16/20\n",
            "30/30 [==============================] - 1s 39ms/step - loss: 0.0150 - accuracy: 0.9983 - val_loss: 0.5450 - val_accuracy: 0.8727\n",
            "Epoch 17/20\n",
            "30/30 [==============================] - 1s 38ms/step - loss: 0.0111 - accuracy: 0.9989 - val_loss: 0.5886 - val_accuracy: 0.8723\n",
            "Epoch 18/20\n",
            "30/30 [==============================] - 1s 42ms/step - loss: 0.0082 - accuracy: 0.9991 - val_loss: 0.7021 - val_accuracy: 0.8663\n",
            "Epoch 19/20\n",
            "30/30 [==============================] - 1s 38ms/step - loss: 0.0053 - accuracy: 0.9997 - val_loss: 0.6677 - val_accuracy: 0.8712\n",
            "Epoch 20/20\n",
            "30/30 [==============================] - 1s 34ms/step - loss: 0.0066 - accuracy: 0.9990 - val_loss: 0.7002 - val_accuracy: 0.8683\n"
          ]
        }
      ]
    },
    {
      "cell_type": "markdown",
      "source": [
        "batch_size를 2의 지수로 설정하시는 이유가 있나요?\n",
        "- 메모리든 컴퓨터의 구성이 2의 지수로 되어있다\n",
        "국룰"
      ],
      "metadata": {
        "id": "wdlyh66uFHD2"
      }
    },
    {
      "cell_type": "markdown",
      "source": [
        "val-accuracy를 보면 3번째가 가장 훌륭한 결과라고 볼수있다."
      ],
      "metadata": {
        "id": "zw44e9z1_S_t"
      }
    },
    {
      "cell_type": "code",
      "source": [
        "# history 데이터 가져오기(실험 결과 데이터)\n",
        "\n",
        "acc = history.history['accuracy']\n",
        "val_acc = history.history['val_accuracy']\n",
        "loss = history.history['loss']\n",
        "val_loss = history.history['val_loss']\n",
        "epochs = range(1, len(acc)+1)"
      ],
      "metadata": {
        "id": "FP0IrDFf-cfl"
      },
      "execution_count": 31,
      "outputs": []
    },
    {
      "cell_type": "code",
      "source": [
        "# 실험결과 시각화 (가장 중요하게 봐야하는건 검증 정확도)\n",
        "import matplotlib.pyplot as plt\n",
        "\n",
        "plt.plot(epochs, loss, 'bo', label = 'Training Loss')         # 학습훈련에서의 손실(훈련을 반복할수록 학습데이터에 밀착)\n",
        "plt.plot(epochs, val_loss, 'b-', label = 'Validation Loss')   # \n",
        "plt.title('Training and Validation Loss')\n",
        "plt.xlabel('Epochs')\n",
        "plt.ylabel('Loss')\n",
        "plt.legend()"
      ],
      "metadata": {
        "colab": {
          "base_uri": "https://localhost:8080/",
          "height": 312
        },
        "id": "6-k3Nv01_m-v",
        "outputId": "02f9cf38-2729-4627-9e8e-26bd93dd6113"
      },
      "execution_count": 33,
      "outputs": [
        {
          "output_type": "execute_result",
          "data": {
            "text/plain": [
              "<matplotlib.legend.Legend at 0x7f72c691d990>"
            ]
          },
          "metadata": {},
          "execution_count": 33
        },
        {
          "output_type": "display_data",
          "data": {
            "text/plain": [
              "<Figure size 432x288 with 1 Axes>"
            ],
            "image/png": "[encoded data removed]"
          },
          "metadata": {
            "needs_background": "light"
          }
        }
      ]
    },
    {
      "cell_type": "markdown",
      "source": [
        "몇번 더 실행을 해봐야한다\n",
        "\n",
        "\n",
        "데이터의 가중치가 어떻게 들어갔는지에 따라\n",
        "실험을 여러번 해야봐야 한다\n",
        "\n",
        "초기의 랜덤한 가중치의 영향임\n"
      ],
      "metadata": {
        "id": "1Abnu3m_CQ33"
      }
    },
    {
      "cell_type": "code",
      "source": [
        "plt.plot(epochs, acc, 'bo', label = 'Training acc')\n",
        "plt.plot(epochs, val_acc, 'b-', label = 'Validation acc')\n",
        "plt.title('Training and Validation Accuracy')\n",
        "plt.xlabel('Epochs')\n",
        "plt.ylabel('Accuracy')\n",
        "plt.legend()"
      ],
      "metadata": {
        "colab": {
          "base_uri": "https://localhost:8080/",
          "height": 312
        },
        "id": "uxvnf3h3A9-Q",
        "outputId": "6ae93556-38b0-42ae-bd63-fcac3d494442"
      },
      "execution_count": 34,
      "outputs": [
        {
          "output_type": "execute_result",
          "data": {
            "text/plain": [
              "<matplotlib.legend.Legend at 0x7f72c676a150>"
            ]
          },
          "metadata": {},
          "execution_count": 34
        },
        {
          "output_type": "display_data",
          "data": {
            "text/plain": [
              "<Figure size 432x288 with 1 Axes>"
            ],
            "image/png": "[encoded data removed]"
          },
          "metadata": {
            "needs_background": "light"
          }
        }
      ]
    },
    {
      "cell_type": "markdown",
      "source": [
        "3번 정도의 반복이 최대 최적화인것을 확인했기 때문에\n",
        "\n",
        "모델을 초기화 시키고 3번정도만 다시 돌려보는 실습\n",
        "\n",
        "신경망 구축, 모델컴파일, 데이터를 쪼개는 부분을 재실행하여 모델 초기화"
      ],
      "metadata": {
        "id": "mAn87KkUDdcw"
      }
    },
    {
      "cell_type": "code",
      "source": [
        "history = model.fit(partial_x_train,\n",
        "                    partial_y_train,\n",
        "                    epochs = 3,\n",
        "                    batch_size = 512,\n",
        "                    validation_data=(x_val, y_val)\n",
        "                    )"
      ],
      "metadata": {
        "colab": {
          "base_uri": "https://localhost:8080/"
        },
        "id": "wP_r8_DIDr23",
        "outputId": "422f39fd-09c7-4d00-af58-18c783f8e4e1"
      },
      "execution_count": 38,
      "outputs": [
        {
          "output_type": "stream",
          "name": "stdout",
          "text": [
            "Epoch 1/3\n",
            "30/30 [==============================] - 3s 63ms/step - loss: 0.5418 - accuracy: 0.7754 - val_loss: 0.4196 - val_accuracy: 0.8586\n",
            "Epoch 2/3\n",
            "30/30 [==============================] - 2s 68ms/step - loss: 0.3334 - accuracy: 0.9003 - val_loss: 0.3212 - val_accuracy: 0.8844\n",
            "Epoch 3/3\n",
            "30/30 [==============================] - 2s 51ms/step - loss: 0.2420 - accuracy: 0.9256 - val_loss: 0.2851 - val_accuracy: 0.8902\n"
          ]
        }
      ]
    },
    {
      "cell_type": "code",
      "source": [
        "acc = history.history['accuracy']\n",
        "val_acc = history.history['val_accuracy']\n",
        "loss = history.history['loss']\n",
        "val_loss = history.history['val_loss']\n",
        "epochs = range(1, len(acc)+1)"
      ],
      "metadata": {
        "id": "9eSBPiosEvJF"
      },
      "execution_count": 39,
      "outputs": []
    },
    {
      "cell_type": "code",
      "source": [
        "plt.plot(epochs, loss, 'bo', label = 'Training Loss')         # 학습훈련에서의 손실(훈련을 반복할수록 학습데이터에 밀착)\n",
        "plt.plot(epochs, val_loss, 'b-', label = 'Validation Loss')   # \n",
        "plt.title('Training and Validation Loss')\n",
        "plt.xlabel('Epochs')\n",
        "plt.ylabel('Loss')\n",
        "plt.legend()"
      ],
      "metadata": {
        "colab": {
          "base_uri": "https://localhost:8080/",
          "height": 312
        },
        "id": "Joo8iATGE1Ae",
        "outputId": "f34c166a-b28a-4939-89d5-0bb8b01367ea"
      },
      "execution_count": 40,
      "outputs": [
        {
          "output_type": "execute_result",
          "data": {
            "text/plain": [
              "<matplotlib.legend.Legend at 0x7f72c6428310>"
            ]
          },
          "metadata": {},
          "execution_count": 40
        },
        {
          "output_type": "display_data",
          "data": {
            "text/plain": [
              "<Figure size 432x288 with 1 Axes>"
            ],
            "image/png": "[encoded data removed]"
          },
          "metadata": {
            "needs_background": "light"
          }
        }
      ]
    },
    {
      "cell_type": "code",
      "source": [
        "plt.plot(epochs, acc, 'bo', label = 'Training acc')\n",
        "plt.plot(epochs, val_acc, 'b-', label = 'Validation acc')\n",
        "plt.title('Training and Validation Accuracy')\n",
        "plt.xlabel('Epochs')\n",
        "plt.ylabel('Accuracy')\n",
        "plt.legend()"
      ],
      "metadata": {
        "colab": {
          "base_uri": "https://localhost:8080/",
          "height": 312
        },
        "id": "e8uKj8BME7f6",
        "outputId": "4688d394-adec-4dcc-cc99-1486be264cd3"
      },
      "execution_count": 41,
      "outputs": [
        {
          "output_type": "execute_result",
          "data": {
            "text/plain": [
              "<matplotlib.legend.Legend at 0x7f72c6504790>"
            ]
          },
          "metadata": {},
          "execution_count": 41
        },
        {
          "output_type": "display_data",
          "data": {
            "text/plain": [
              "<Figure size 432x288 with 1 Axes>"
            ],
            "image/png": "[encoded data removed]"
          },
          "metadata": {
            "needs_background": "light"
          }
        }
      ]
    },
    {
      "cell_type": "code",
      "source": [
        "# Overfitting 너무 과도한 학습으로 제대로 된 검증이 안되기 때문에 학습을 제어 하기위해 컴파일 수정\n",
        "from tensorflow.keras import optimizers\n",
        "model.compile(optimizer=optimizers.RMSprop(lr=0.001), #'rmsprop'\n",
        "              loss = 'binary_crossentropy', # 이진분류에 사용하는 로스함수\n",
        "              metrics = ['accuracy']\n",
        "              )"
      ],
      "metadata": {
        "id": "MzRLVKtoFvAz"
      },
      "execution_count": 48,
      "outputs": []
    },
    {
      "cell_type": "code",
      "source": [
        "history = model.fit(partial_x_train,\n",
        "                    partial_y_train,\n",
        "                    epochs = 20,\n",
        "                    batch_size = 512,\n",
        "                    validation_data=(x_val, y_val)\n",
        "                    )"
      ],
      "metadata": {
        "colab": {
          "base_uri": "https://localhost:8080/"
        },
        "id": "-PHdimhnFyLL",
        "outputId": "c290f157-d750-4969-9fdc-e05233848d71"
      },
      "execution_count": 50,
      "outputs": [
        {
          "output_type": "stream",
          "name": "stdout",
          "text": [
            "Epoch 1/20\n",
            "30/30 [==============================] - 2s 52ms/step - loss: 0.5344 - accuracy: 0.7702 - val_loss: 0.4085 - val_accuracy: 0.8729\n",
            "Epoch 2/20\n",
            "30/30 [==============================] - 1s 36ms/step - loss: 0.3281 - accuracy: 0.9001 - val_loss: 0.3229 - val_accuracy: 0.8805\n",
            "Epoch 3/20\n",
            "30/30 [==============================] - 2s 56ms/step - loss: 0.2404 - accuracy: 0.9234 - val_loss: 0.2846 - val_accuracy: 0.8918\n",
            "Epoch 4/20\n",
            "30/30 [==============================] - 1s 45ms/step - loss: 0.1856 - accuracy: 0.9414 - val_loss: 0.2998 - val_accuracy: 0.8783\n",
            "Epoch 5/20\n",
            "30/30 [==============================] - 1s 45ms/step - loss: 0.1525 - accuracy: 0.9542 - val_loss: 0.2746 - val_accuracy: 0.8904\n",
            "Epoch 6/20\n",
            "30/30 [==============================] - 1s 38ms/step - loss: 0.1242 - accuracy: 0.9617 - val_loss: 0.2846 - val_accuracy: 0.8877\n",
            "Epoch 7/20\n",
            "30/30 [==============================] - 1s 46ms/step - loss: 0.1029 - accuracy: 0.9695 - val_loss: 0.3326 - val_accuracy: 0.8768\n",
            "Epoch 8/20\n",
            "30/30 [==============================] - 1s 45ms/step - loss: 0.0833 - accuracy: 0.9779 - val_loss: 0.3171 - val_accuracy: 0.8859\n",
            "Epoch 9/20\n",
            "30/30 [==============================] - 1s 40ms/step - loss: 0.0687 - accuracy: 0.9822 - val_loss: 0.3545 - val_accuracy: 0.8772\n",
            "Epoch 10/20\n",
            "30/30 [==============================] - 1s 35ms/step - loss: 0.0576 - accuracy: 0.9858 - val_loss: 0.3662 - val_accuracy: 0.8818\n",
            "Epoch 11/20\n",
            "30/30 [==============================] - 1s 34ms/step - loss: 0.0444 - accuracy: 0.9889 - val_loss: 0.3929 - val_accuracy: 0.8773\n",
            "Epoch 12/20\n",
            "30/30 [==============================] - 1s 34ms/step - loss: 0.0344 - accuracy: 0.9931 - val_loss: 0.4153 - val_accuracy: 0.8785\n",
            "Epoch 13/20\n",
            "30/30 [==============================] - 1s 36ms/step - loss: 0.0287 - accuracy: 0.9941 - val_loss: 0.4533 - val_accuracy: 0.8761\n",
            "Epoch 14/20\n",
            "30/30 [==============================] - 1s 45ms/step - loss: 0.0213 - accuracy: 0.9969 - val_loss: 0.4915 - val_accuracy: 0.8734\n",
            "Epoch 15/20\n",
            "30/30 [==============================] - 1s 43ms/step - loss: 0.0175 - accuracy: 0.9977 - val_loss: 0.5208 - val_accuracy: 0.8683\n",
            "Epoch 16/20\n",
            "30/30 [==============================] - 1s 36ms/step - loss: 0.0128 - accuracy: 0.9985 - val_loss: 0.5458 - val_accuracy: 0.8723\n",
            "Epoch 17/20\n",
            "30/30 [==============================] - 1s 35ms/step - loss: 0.0118 - accuracy: 0.9982 - val_loss: 0.5783 - val_accuracy: 0.8709\n",
            "Epoch 18/20\n",
            "30/30 [==============================] - 1s 34ms/step - loss: 0.0061 - accuracy: 0.9998 - val_loss: 0.6486 - val_accuracy: 0.8654\n",
            "Epoch 19/20\n",
            "30/30 [==============================] - 1s 35ms/step - loss: 0.0071 - accuracy: 0.9991 - val_loss: 0.6450 - val_accuracy: 0.8696\n",
            "Epoch 20/20\n",
            "30/30 [==============================] - 1s 34ms/step - loss: 0.0033 - accuracy: 0.9999 - val_loss: 0.6840 - val_accuracy: 0.8689\n"
          ]
        }
      ]
    },
    {
      "cell_type": "code",
      "source": [
        "acc = history.history['accuracy']\n",
        "val_acc = history.history['val_accuracy']\n",
        "loss = history.history['loss']\n",
        "val_loss = history.history['val_loss']\n",
        "epochs = range(1, len(acc)+1)\n",
        "\n",
        "plt.plot(epochs, loss, 'bo', label = 'Training Loss')         \n",
        "plt.plot(epochs, val_loss, 'b-', label = 'Validation Loss')   \n",
        "plt.title('Training and Validation Loss')\n",
        "plt.xlabel('Epochs')\n",
        "plt.ylabel('Loss')\n",
        "plt.legend()"
      ],
      "metadata": {
        "colab": {
          "base_uri": "https://localhost:8080/",
          "height": 312
        },
        "id": "c_qbrhuxHCyw",
        "outputId": "9b8d41ef-3f2c-49b6-b562-1b2f73b1df3e"
      },
      "execution_count": 52,
      "outputs": [
        {
          "output_type": "execute_result",
          "data": {
            "text/plain": [
              "<matplotlib.legend.Legend at 0x7f72c5cbbc50>"
            ]
          },
          "metadata": {},
          "execution_count": 52
        },
        {
          "output_type": "display_data",
          "data": {
            "text/plain": [
              "<Figure size 432x288 with 1 Axes>"
            ],
            "image/png": "[encoded data removed]"
          },
          "metadata": {
            "needs_background": "light"
          }
        }
      ]
    },
    {
      "cell_type": "code",
      "source": [
        "plt.plot(epochs, acc, 'bo', label = 'Training acc')\n",
        "plt.plot(epochs, val_acc, 'b-', label = 'Validation acc')\n",
        "plt.title('Training and Validation Accuracy')\n",
        "plt.xlabel('Epochs')\n",
        "plt.ylabel('Accuracy')\n",
        "plt.legend()"
      ],
      "metadata": {
        "colab": {
          "base_uri": "https://localhost:8080/",
          "height": 312
        },
        "id": "x2RY4EeNHFUa",
        "outputId": "deb42ab2-49c9-460b-b8b4-fb1523867f69"
      },
      "execution_count": 53,
      "outputs": [
        {
          "output_type": "execute_result",
          "data": {
            "text/plain": [
              "<matplotlib.legend.Legend at 0x7f72c5a50c90>"
            ]
          },
          "metadata": {},
          "execution_count": 53
        },
        {
          "output_type": "display_data",
          "data": {
            "text/plain": [
              "<Figure size 432x288 with 1 Axes>"
            ],
            "image/png": "[encoded data removed]"
          },
          "metadata": {
            "needs_background": "light"
          }
        }
      ]
    }
  ]
}