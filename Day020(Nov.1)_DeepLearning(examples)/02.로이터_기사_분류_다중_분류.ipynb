{
  "nbformat": 4,
  "nbformat_minor": 0,
  "metadata": {
    "colab": {
      "provenance": []
    },
    "kernelspec": {
      "name": "python3",
      "display_name": "Python 3"
    },
    "language_info": {
      "name": "python"
    }
  },
  "cells": [
    {
      "cell_type": "code",
      "execution_count": 1,
      "metadata": {
        "id": "yW1ynuEFYFez"
      },
      "outputs": [],
      "source": [
        "import keras\n",
        "import numpy as np\n",
        "import matplotlib.pyplot as plt"
      ]
    },
    {
      "cell_type": "code",
      "source": [
        "# 로이터 기사 데이터 셋 로딩\n",
        "\n",
        "from keras.datasets import reuters\n",
        "(train_data, train_labels),(test_data, test_labels) = reuters.load_data(num_words= 10000)"
      ],
      "metadata": {
        "colab": {
          "base_uri": "https://localhost:8080/"
        },
        "id": "L7IquNLQYX6S",
        "outputId": "df6835a3-79a4-40da-d7fd-a4487ec233ad"
      },
      "execution_count": 2,
      "outputs": [
        {
          "output_type": "stream",
          "name": "stdout",
          "text": [
            "Downloading data from https://storage.googleapis.com/tensorflow/tf-keras-datasets/reuters.npz\n",
            "2110848/2110848 [==============================] - 0s 0us/step\n"
          ]
        }
      ]
    },
    {
      "cell_type": "code",
      "source": [
        "train_data.shape"
      ],
      "metadata": {
        "colab": {
          "base_uri": "https://localhost:8080/"
        },
        "id": "zYOKlEpyZLQB",
        "outputId": "069d85f0-41d7-4cef-cd71-8dd660d8ba3d"
      },
      "execution_count": 3,
      "outputs": [
        {
          "output_type": "execute_result",
          "data": {
            "text/plain": [
              "(8982,)"
            ]
          },
          "metadata": {},
          "execution_count": 3
        }
      ]
    },
    {
      "cell_type": "code",
      "source": [
        "train_data[0]"
      ],
      "metadata": {
        "colab": {
          "base_uri": "https://localhost:8080/"
        },
        "id": "v4ctWZ36ZUo3",
        "outputId": "1b585e9f-55ea-4319-ab29-b5f2d37b4572"
      },
      "execution_count": 5,
      "outputs": [
        {
          "output_type": "execute_result",
          "data": {
            "text/plain": [
              "[1,\n",
              " 2,\n",
              " 2,\n",
              " 8,\n",
              " 43,\n",
              " 10,\n",
              " 447,\n",
              " 5,\n",
              " 25,\n",
              " 207,\n",
              " 270,\n",
              " 5,\n",
              " 3095,\n",
              " 111,\n",
              " 16,\n",
              " 369,\n",
              " 186,\n",
              " 90,\n",
              " 67,\n",
              " 7,\n",
              " 89,\n",
              " 5,\n",
              " 19,\n",
              " 102,\n",
              " 6,\n",
              " 19,\n",
              " 124,\n",
              " 15,\n",
              " 90,\n",
              " 67,\n",
              " 84,\n",
              " 22,\n",
              " 482,\n",
              " 26,\n",
              " 7,\n",
              " 48,\n",
              " 4,\n",
              " 49,\n",
              " 8,\n",
              " 864,\n",
              " 39,\n",
              " 209,\n",
              " 154,\n",
              " 6,\n",
              " 151,\n",
              " 6,\n",
              " 83,\n",
              " 11,\n",
              " 15,\n",
              " 22,\n",
              " 155,\n",
              " 11,\n",
              " 15,\n",
              " 7,\n",
              " 48,\n",
              " 9,\n",
              " 4579,\n",
              " 1005,\n",
              " 504,\n",
              " 6,\n",
              " 258,\n",
              " 6,\n",
              " 272,\n",
              " 11,\n",
              " 15,\n",
              " 22,\n",
              " 134,\n",
              " 44,\n",
              " 11,\n",
              " 15,\n",
              " 16,\n",
              " 8,\n",
              " 197,\n",
              " 1245,\n",
              " 90,\n",
              " 67,\n",
              " 52,\n",
              " 29,\n",
              " 209,\n",
              " 30,\n",
              " 32,\n",
              " 132,\n",
              " 6,\n",
              " 109,\n",
              " 15,\n",
              " 17,\n",
              " 12]"
            ]
          },
          "metadata": {},
          "execution_count": 5
        }
      ]
    },
    {
      "cell_type": "code",
      "source": [
        "word_index = reuters.get_word_index()\n",
        "reverse_word_index = dict([(value, key) for (key, value) in word_index.items()])\n",
        "\n",
        "decoded_newswire = ' '.join([reverse_word_index.get(i-3,'?')for i in train_data[0]])"
      ],
      "metadata": {
        "id": "mTLedjBCZalH"
      },
      "execution_count": 7,
      "outputs": []
    },
    {
      "cell_type": "code",
      "source": [
        "decoded_newswire"
      ],
      "metadata": {
        "colab": {
          "base_uri": "https://localhost:8080/",
          "height": 105
        },
        "id": "Mmcv0spaaaRB",
        "outputId": "2cff4e2f-b8a3-4aa9-d452-2b869efd1c8f"
      },
      "execution_count": 8,
      "outputs": [
        {
          "output_type": "execute_result",
          "data": {
            "text/plain": [
              "'? ? ? said as a result of its december acquisition of space co it expects earnings per share in 1987 of 1 15 to 1 30 dlrs per share up from 70 cts in 1986 the company said pretax net should rise to nine to 10 mln dlrs from six mln dlrs in 1986 and rental operation revenues to 19 to 22 mln dlrs from 12 5 mln dlrs it said cash flow per share this year should be 2 50 to three dlrs reuter 3'"
            ],
            "application/vnd.google.colaboratory.intrinsic+json": {
              "type": "string"
            }
          },
          "metadata": {},
          "execution_count": 8
        }
      ]
    },
    {
      "cell_type": "code",
      "source": [
        "train_labels[0]"
      ],
      "metadata": {
        "colab": {
          "base_uri": "https://localhost:8080/"
        },
        "id": "mcYD9DZqacP9",
        "outputId": "4e0a1200-fe6c-4294-cb6c-a04bb0e4aedf"
      },
      "execution_count": 9,
      "outputs": [
        {
          "output_type": "execute_result",
          "data": {
            "text/plain": [
              "3"
            ]
          },
          "metadata": {},
          "execution_count": 9
        }
      ]
    },
    {
      "cell_type": "code",
      "source": [
        "# 데이터 준비\n",
        "def vectorize_sequences(sequences, dimension = 10000):\n",
        "    results = np.zeros((len(sequences), dimension))\n",
        "    for i, sequence in enumerate(sequences):\n",
        "        results[i, sequence] = 1\n",
        "    return results\n",
        "\n",
        "# 데이터의 변환\n",
        "x_train = vectorize_sequences(train_data)\n",
        "x_test = vectorize_sequences(test_data)"
      ],
      "metadata": {
        "id": "q49xP942aeWy"
      },
      "execution_count": 10,
      "outputs": []
    },
    {
      "cell_type": "code",
      "source": [
        "train_labels"
      ],
      "metadata": {
        "colab": {
          "base_uri": "https://localhost:8080/"
        },
        "id": "7Mt9dtl3axyN",
        "outputId": "368fdbba-de6c-40c6-c2ea-e8fdb7d8a238"
      },
      "execution_count": 11,
      "outputs": [
        {
          "output_type": "execute_result",
          "data": {
            "text/plain": [
              "array([ 3,  4,  3, ..., 25,  3, 25])"
            ]
          },
          "metadata": {},
          "execution_count": 11
        }
      ]
    },
    {
      "cell_type": "code",
      "source": [
        "# label 데이터의 엔코딩\n",
        "def to_one_hot(labels, dimension = 46):\n",
        "    results = np.zeros((len(labels), dimension))\n",
        "    for i, sequence in enumerate(labels):\n",
        "        results[i, sequence] = 1\n",
        "    return results\n",
        "\n",
        "# 데이터의 변환\n",
        "one_hot_train_labels = to_one_hot(train_labels)\n",
        "one_hot_test_labels = to_one_hot(test_labels)"
      ],
      "metadata": {
        "id": "1USWqUEmb9Lk"
      },
      "execution_count": 12,
      "outputs": []
    },
    {
      "cell_type": "code",
      "source": [
        "# One-hot엔코딩 데이터를 Categorical 데이터로 변환\n",
        "# 실제로 둘중에 하나로만 바꾸는 작업을하고 일반적으로 categorical로만 바꿔서 사용하기도함\n",
        "from keras.utils.np.utils import to_categorical\n",
        "\n",
        "one_hot_train_labels = to_categorical(train_labels)\n",
        "one_hot_test_labels = to_categorical(test_labels)"
      ],
      "metadata": {
        "colab": {
          "base_uri": "https://localhost:8080/"
        },
        "id": "LFeJHdUNefnw",
        "outputId": "97dfa611-9c8b-408e-80c6-cfb06670a615"
      },
      "execution_count": 14,
      "outputs": [
        {
          "output_type": "execute_result",
          "data": {
            "text/plain": [
              "array([[0., 0., 0., ..., 0., 0., 0.],\n",
              "       [0., 0., 0., ..., 0., 0., 0.],\n",
              "       [0., 1., 0., ..., 0., 0., 0.],\n",
              "       ...,\n",
              "       [0., 0., 0., ..., 0., 0., 0.],\n",
              "       [0., 0., 0., ..., 0., 0., 0.],\n",
              "       [0., 0., 0., ..., 0., 0., 0.]])"
            ]
          },
          "metadata": {},
          "execution_count": 14
        }
      ]
    },
    {
      "cell_type": "code",
      "source": [
        "# 신경망을 구성하기\n",
        "from keras import models\n",
        "from keras import layers\n",
        "\n",
        "model = models.Sequential()\n",
        "model.add(layers.Dense(64, activation='relu', input_shape=(10000,))) # layer는 64개 Dense이므로 얽혀있음 인풋 만개\n",
        "model.add(layers.Dense(64, activation='relu'))\n",
        "model.add(layers.Dense(46, activation='softmax'))"
      ],
      "metadata": {
        "id": "fPFl3H9Aej-l"
      },
      "execution_count": 15,
      "outputs": []
    },
    {
      "cell_type": "code",
      "source": [
        "# 모델 Layer 체크\n",
        "model.summary()\n",
        "# params(파라미터)의 갯수와 계산소요 시간이 비례\n",
        "# 중간층의 크기가 충분히 크지 않다면 중간에 소실값이 너무 많음\n",
        "# 학습시킬때는 문제가 없지만 케라스 파일로 저장해서 실무 운영할때 문제가 커질수있음"
      ],
      "metadata": {
        "colab": {
          "base_uri": "https://localhost:8080/"
        },
        "id": "zekH9xQ1gyNq",
        "outputId": "e2dd892f-d9b6-417c-f9c2-23372ff34ef5"
      },
      "execution_count": 16,
      "outputs": [
        {
          "output_type": "stream",
          "name": "stdout",
          "text": [
            "Model: \"sequential\"\n",
            "_________________________________________________________________\n",
            " Layer (type)                Output Shape              Param #   \n",
            "=================================================================\n",
            " dense (Dense)               (None, 64)                640064    \n",
            "                                                                 \n",
            " dense_1 (Dense)             (None, 64)                4160      \n",
            "                                                                 \n",
            " dense_2 (Dense)             (None, 46)                2990      \n",
            "                                                                 \n",
            "=================================================================\n",
            "Total params: 647,214\n",
            "Trainable params: 647,214\n",
            "Non-trainable params: 0\n",
            "_________________________________________________________________\n"
          ]
        }
      ]
    },
    {
      "cell_type": "code",
      "source": [
        "model.compile(optimizer='rmsprop',\n",
        "              loss='categorical_crossentropy', #셋 이상 분류이므로 categorical_crossentropy사용\n",
        "              metrics=['accuracy'])"
      ],
      "metadata": {
        "id": "HbX414A6hMlV"
      },
      "execution_count": 17,
      "outputs": []
    },
    {
      "cell_type": "code",
      "source": [
        "# 훈련데이터의 준비\n",
        "\n",
        "x_val = x_train[:1000]\n",
        "partial_x_train = x_train[1000:]\n",
        "y_val = one_hot_train_labels[:1000]\n",
        "partial_y_train = one_hot_train_labels[1000:]"
      ],
      "metadata": {
        "id": "6wdRaK3HoMEN"
      },
      "execution_count": 20,
      "outputs": []
    },
    {
      "cell_type": "code",
      "source": [
        "history = model.fit(partial_x_train,\n",
        "                    partial_y_train,\n",
        "                    epochs = 20,\n",
        "                    batch_size = 512,\n",
        "                    validation_data=(x_val, y_val)\n",
        "                    )"
      ],
      "metadata": {
        "colab": {
          "base_uri": "https://localhost:8080/"
        },
        "id": "8Ocb1SKvo17w",
        "outputId": "d1c8b59c-dff7-4f4f-eabd-6a9c36ef58c0"
      },
      "execution_count": 21,
      "outputs": [
        {
          "output_type": "stream",
          "name": "stdout",
          "text": [
            "Epoch 1/20\n",
            "16/16 [==============================] - 2s 68ms/step - loss: 2.6521 - accuracy: 0.5319 - val_loss: 1.7771 - val_accuracy: 0.6590\n",
            "Epoch 2/20\n",
            "16/16 [==============================] - 1s 53ms/step - loss: 1.4326 - accuracy: 0.7116 - val_loss: 1.3465 - val_accuracy: 0.7020\n",
            "Epoch 3/20\n",
            "16/16 [==============================] - 1s 53ms/step - loss: 1.0729 - accuracy: 0.7676 - val_loss: 1.1758 - val_accuracy: 0.7340\n",
            "Epoch 4/20\n",
            "16/16 [==============================] - 1s 51ms/step - loss: 0.8505 - accuracy: 0.8150 - val_loss: 1.0629 - val_accuracy: 0.7730\n",
            "Epoch 5/20\n",
            "16/16 [==============================] - 1s 51ms/step - loss: 0.6830 - accuracy: 0.8559 - val_loss: 1.0001 - val_accuracy: 0.8000\n",
            "Epoch 6/20\n",
            "16/16 [==============================] - 1s 51ms/step - loss: 0.5454 - accuracy: 0.8893 - val_loss: 0.9491 - val_accuracy: 0.8040\n",
            "Epoch 7/20\n",
            "16/16 [==============================] - 1s 52ms/step - loss: 0.4390 - accuracy: 0.9109 - val_loss: 0.9302 - val_accuracy: 0.8130\n",
            "Epoch 8/20\n",
            "16/16 [==============================] - 1s 52ms/step - loss: 0.3603 - accuracy: 0.9241 - val_loss: 0.9328 - val_accuracy: 0.8080\n",
            "Epoch 9/20\n",
            "16/16 [==============================] - 1s 52ms/step - loss: 0.2943 - accuracy: 0.9361 - val_loss: 0.9203 - val_accuracy: 0.8070\n",
            "Epoch 10/20\n",
            "16/16 [==============================] - 1s 51ms/step - loss: 0.2484 - accuracy: 0.9451 - val_loss: 0.9195 - val_accuracy: 0.8190\n",
            "Epoch 11/20\n",
            "16/16 [==============================] - 1s 51ms/step - loss: 0.2115 - accuracy: 0.9496 - val_loss: 1.0144 - val_accuracy: 0.8000\n",
            "Epoch 12/20\n",
            "16/16 [==============================] - 1s 52ms/step - loss: 0.1909 - accuracy: 0.9499 - val_loss: 0.9680 - val_accuracy: 0.8060\n",
            "Epoch 13/20\n",
            "16/16 [==============================] - 1s 51ms/step - loss: 0.1676 - accuracy: 0.9545 - val_loss: 0.9734 - val_accuracy: 0.8050\n",
            "Epoch 14/20\n",
            "16/16 [==============================] - 1s 52ms/step - loss: 0.1546 - accuracy: 0.9553 - val_loss: 1.0216 - val_accuracy: 0.8100\n",
            "Epoch 15/20\n",
            "16/16 [==============================] - 1s 51ms/step - loss: 0.1445 - accuracy: 0.9534 - val_loss: 1.0024 - val_accuracy: 0.8040\n",
            "Epoch 16/20\n",
            "16/16 [==============================] - 1s 67ms/step - loss: 0.1335 - accuracy: 0.9550 - val_loss: 1.0290 - val_accuracy: 0.8120\n",
            "Epoch 17/20\n",
            "16/16 [==============================] - 1s 52ms/step - loss: 0.1271 - accuracy: 0.9575 - val_loss: 1.0514 - val_accuracy: 0.8040\n",
            "Epoch 18/20\n",
            "16/16 [==============================] - 1s 52ms/step - loss: 0.1262 - accuracy: 0.9575 - val_loss: 1.0838 - val_accuracy: 0.7990\n",
            "Epoch 19/20\n",
            "16/16 [==============================] - 1s 51ms/step - loss: 0.1212 - accuracy: 0.9577 - val_loss: 1.1069 - val_accuracy: 0.7940\n",
            "Epoch 20/20\n",
            "16/16 [==============================] - 1s 51ms/step - loss: 0.1143 - accuracy: 0.9575 - val_loss: 1.0890 - val_accuracy: 0.8000\n"
          ]
        }
      ]
    },
    {
      "cell_type": "markdown",
      "source": [
        "결과 분석\n",
        "\n",
        "10번째에서 가장 높은 학습 정확도와 검증 정확도를 확인할수있다\n"
      ],
      "metadata": {
        "id": "YExNhzd0qdzB"
      }
    },
    {
      "cell_type": "code",
      "source": [
        "# 학습결과 저장\n",
        "\n",
        "loss = history.history['loss']\n",
        "val_loss = history.history['val_loss']\n",
        "acc = history.history['accuracy']\n",
        "val_acc = history.history['val_accuracy']\n",
        "\n",
        "epochs = range(1, len(loss)+1)"
      ],
      "metadata": {
        "id": "odcf2ucApdCS"
      },
      "execution_count": 22,
      "outputs": []
    },
    {
      "cell_type": "code",
      "source": [
        "# 결과 시각화\n",
        "plt.plot(epochs, loss, 'bo', label='Training Loss')\n",
        "plt.plot(epochs, val_loss, 'b-', label='Validation Loss')\n",
        "plt.title('Training and validation loss')\n",
        "plt.xlabel('Epochs')\n",
        "plt.ylabel('Loss')\n",
        "plt.legend()"
      ],
      "metadata": {
        "colab": {
          "base_uri": "https://localhost:8080/",
          "height": 312
        },
        "id": "CI4OoewYrLJZ",
        "outputId": "3736bf6e-919b-49c1-84cd-7e9582b6ace3"
      },
      "execution_count": 26,
      "outputs": [
        {
          "output_type": "execute_result",
          "data": {
            "text/plain": [
              "<matplotlib.legend.Legend at 0x7f6a164ae650>"
            ]
          },
          "metadata": {},
          "execution_count": 26
        },
        {
          "output_type": "display_data",
          "data": {
            "text/plain": [
              "<Figure size 432x288 with 1 Axes>"
            ],
            "image/png": "[encoded data removed]"
          },
          "metadata": {
            "needs_background": "light"
          }
        }
      ]
    },
    {
      "cell_type": "code",
      "source": [
        "plt.plot(epochs, acc, 'ro', label='Training Accuracy')\n",
        "plt.plot(epochs, val_acc, 'r-', label='Validation Accuracy')\n",
        "plt.title('Training and validation Accuracy')\n",
        "plt.xlabel('Epochs')\n",
        "plt.ylabel('Accuracy')\n",
        "plt.legend()"
      ],
      "metadata": {
        "colab": {
          "base_uri": "https://localhost:8080/",
          "height": 312
        },
        "id": "oZfajrMPrjGV",
        "outputId": "bea2c5db-88d3-4cf4-dd2f-641443841904"
      },
      "execution_count": 27,
      "outputs": [
        {
          "output_type": "execute_result",
          "data": {
            "text/plain": [
              "<matplotlib.legend.Legend at 0x7f6a164b6ed0>"
            ]
          },
          "metadata": {},
          "execution_count": 27
        },
        {
          "output_type": "display_data",
          "data": {
            "text/plain": [
              "<Figure size 432x288 with 1 Axes>"
            ],
            "image/png": "[encoded data removed]"
          },
          "metadata": {
            "needs_background": "light"
          }
        }
      ]
    },
    {
      "cell_type": "code",
      "source": [
        "# 신경망 테스트1 : 중간 히든레이어 4로\n",
        "from keras import models\n",
        "from keras import layers\n",
        "\n",
        "model = models.Sequential()\n",
        "model.add(layers.Dense(64, activation='relu', input_shape=(10000,))) # layer는 64개 Dense이므로 얽혀있음 인풋 만개\n",
        "model.add(layers.Dense(4, activation='relu'))\n",
        "model.add(layers.Dense(46, activation='softmax'))"
      ],
      "metadata": {
        "id": "sSSri5YPsZXy"
      },
      "execution_count": 28,
      "outputs": []
    },
    {
      "cell_type": "code",
      "source": [
        "model.compile(optimizer='rmsprop',\n",
        "              loss='categorical_crossentropy', #셋 이상 분류이므로 categorical_crossentropy사용\n",
        "              metrics=['accuracy'])"
      ],
      "metadata": {
        "id": "3YFpM9MVtI9a"
      },
      "execution_count": 29,
      "outputs": []
    },
    {
      "cell_type": "code",
      "source": [
        "x_val = x_train[:1000]\n",
        "partial_x_train = x_train[1000:]\n",
        "y_val = one_hot_train_labels[:1000]\n",
        "partial_y_train = one_hot_train_labels[1000:]"
      ],
      "metadata": {
        "id": "zk_88OdjtMF2"
      },
      "execution_count": 30,
      "outputs": []
    },
    {
      "cell_type": "code",
      "source": [
        "history = model.fit(partial_x_train,\n",
        "                    partial_y_train,\n",
        "                    epochs = 20,\n",
        "                    batch_size = 512,\n",
        "                    validation_data=(x_val, y_val)\n",
        "                    )"
      ],
      "metadata": {
        "id": "w1KqPaCttOtq"
      },
      "execution_count": null,
      "outputs": []
    },
    {
      "cell_type": "code",
      "source": [
        "loss = history.history['loss']\n",
        "val_loss = history.history['val_loss']\n",
        "acc = history.history['accuracy']\n",
        "val_acc = history.history['val_accuracy']\n",
        "\n",
        "epochs = range(1, len(loss)+1)"
      ],
      "metadata": {
        "id": "WUk2gU-utVdn"
      },
      "execution_count": 32,
      "outputs": []
    },
    {
      "cell_type": "code",
      "source": [
        "plt.plot(epochs, loss, 'bo', label='Training Loss')\n",
        "plt.plot(epochs, val_loss, 'b-', label='Validation Loss')\n",
        "plt.title('Training and validation loss')\n",
        "plt.xlabel('Epochs')\n",
        "plt.ylabel('Loss')\n",
        "plt.legend()"
      ],
      "metadata": {
        "colab": {
          "base_uri": "https://localhost:8080/",
          "height": 312
        },
        "id": "mccOtWUYtaNe",
        "outputId": "a90af0c5-8c1c-4127-9158-cc31c6d8e132"
      },
      "execution_count": 35,
      "outputs": [
        {
          "output_type": "execute_result",
          "data": {
            "text/plain": [
              "<matplotlib.legend.Legend at 0x7f6a136e7790>"
            ]
          },
          "metadata": {},
          "execution_count": 35
        },
        {
          "output_type": "display_data",
          "data": {
            "text/plain": [
              "<Figure size 432x288 with 1 Axes>"
            ],
            "image/png": "[encoded data removed]"
          },
          "metadata": {
            "needs_background": "light"
          }
        }
      ]
    },
    {
      "cell_type": "code",
      "source": [
        "plt.plot(epochs, acc, 'ro', label='Training Accuracy')\n",
        "plt.plot(epochs, val_acc, 'r-', label='Validation Accuracy')\n",
        "plt.title('Training and validation Accuracy')\n",
        "plt.xlabel('Epochs')\n",
        "plt.ylabel('Accuracy')\n",
        "plt.legend()"
      ],
      "metadata": {
        "colab": {
          "base_uri": "https://localhost:8080/",
          "height": 312
        },
        "id": "jT8HEtLdthMR",
        "outputId": "11aaac51-b97c-4db6-f01d-23e9879bf882"
      },
      "execution_count": 36,
      "outputs": [
        {
          "output_type": "execute_result",
          "data": {
            "text/plain": [
              "<matplotlib.legend.Legend at 0x7f6a14197ed0>"
            ]
          },
          "metadata": {},
          "execution_count": 36
        },
        {
          "output_type": "display_data",
          "data": {
            "text/plain": [
              "<Figure size 432x288 with 1 Axes>"
            ],
            "image/png": "[encoded data removed]"
          },
          "metadata": {
            "needs_background": "light"
          }
        }
      ]
    },
    {
      "cell_type": "markdown",
      "source": [
        "중간 Layer가 너무 작기때문에 과도한 손실이 발생하여 \n",
        "\n",
        "정확도가 떨어지고 반복에 의한 정확도가 오르는현상이 발생한다"
      ],
      "metadata": {
        "id": "CDEesXrcuoIn"
      }
    },
    {
      "cell_type": "code",
      "source": [
        "# 신경망 테스트2 : 중간 히든레이어 1000로\n",
        "from keras import models\n",
        "from keras import layers\n",
        "\n",
        "model = models.Sequential()\n",
        "model.add(layers.Dense(64, activation='relu', input_shape=(10000,))) # layer는 64개 Dense이므로 얽혀있음 인풋 만개\n",
        "model.add(layers.Dense(1000, activation='relu'))\n",
        "model.add(layers.Dense(46, activation='softmax'))\n",
        "\n",
        "model.compile(optimizer='rmsprop',\n",
        "              loss='categorical_crossentropy', #셋 이상 분류이므로 categorical_crossentropy사용\n",
        "              metrics=['accuracy'])\n",
        "\n",
        "x_val = x_train[:1000]\n",
        "partial_x_train = x_train[1000:]\n",
        "y_val = one_hot_train_labels[:1000]\n",
        "partial_y_train = one_hot_train_labels[1000:]\n",
        "\n",
        "history = model.fit(partial_x_train,\n",
        "                    partial_y_train,\n",
        "                    epochs = 20,\n",
        "                    batch_size = 512,\n",
        "                    validation_data=(x_val, y_val)\n",
        "                    )"
      ],
      "metadata": {
        "colab": {
          "base_uri": "https://localhost:8080/"
        },
        "id": "NgblvK__t1J1",
        "outputId": "daef44a1-4f43-462a-e575-3868536129f8"
      },
      "execution_count": 38,
      "outputs": [
        {
          "output_type": "stream",
          "name": "stdout",
          "text": [
            "Epoch 1/20\n",
            "16/16 [==============================] - 2s 77ms/step - loss: 2.1813 - accuracy: 0.5034 - val_loss: 1.4579 - val_accuracy: 0.6550\n",
            "Epoch 2/20\n",
            "16/16 [==============================] - 1s 64ms/step - loss: 1.2401 - accuracy: 0.7157 - val_loss: 1.1878 - val_accuracy: 0.7250\n",
            "Epoch 3/20\n",
            "16/16 [==============================] - 1s 63ms/step - loss: 0.9373 - accuracy: 0.7810 - val_loss: 1.0834 - val_accuracy: 0.7510\n",
            "Epoch 4/20\n",
            "16/16 [==============================] - 1s 64ms/step - loss: 0.7107 - accuracy: 0.8315 - val_loss: 1.0029 - val_accuracy: 0.7760\n",
            "Epoch 5/20\n",
            "16/16 [==============================] - 1s 63ms/step - loss: 0.5426 - accuracy: 0.8705 - val_loss: 1.0431 - val_accuracy: 0.7680\n",
            "Epoch 6/20\n",
            "16/16 [==============================] - 1s 63ms/step - loss: 0.4032 - accuracy: 0.9053 - val_loss: 0.9526 - val_accuracy: 0.8070\n",
            "Epoch 7/20\n",
            "16/16 [==============================] - 1s 63ms/step - loss: 0.3172 - accuracy: 0.9237 - val_loss: 0.9466 - val_accuracy: 0.8150\n",
            "Epoch 8/20\n",
            "16/16 [==============================] - 1s 87ms/step - loss: 0.2453 - accuracy: 0.9375 - val_loss: 1.0122 - val_accuracy: 0.8050\n",
            "Epoch 9/20\n",
            "16/16 [==============================] - 1s 93ms/step - loss: 0.2033 - accuracy: 0.9481 - val_loss: 1.0189 - val_accuracy: 0.8050\n",
            "Epoch 10/20\n",
            "16/16 [==============================] - 1s 63ms/step - loss: 0.1729 - accuracy: 0.9544 - val_loss: 1.0463 - val_accuracy: 0.7950\n",
            "Epoch 11/20\n",
            "16/16 [==============================] - 2s 102ms/step - loss: 0.1567 - accuracy: 0.9538 - val_loss: 1.0943 - val_accuracy: 0.8030\n",
            "Epoch 12/20\n",
            "16/16 [==============================] - 1s 69ms/step - loss: 0.1432 - accuracy: 0.9567 - val_loss: 1.0748 - val_accuracy: 0.8030\n",
            "Epoch 13/20\n",
            "16/16 [==============================] - 1s 64ms/step - loss: 0.1381 - accuracy: 0.9558 - val_loss: 1.1324 - val_accuracy: 0.8030\n",
            "Epoch 14/20\n",
            "16/16 [==============================] - 1s 63ms/step - loss: 0.1273 - accuracy: 0.9570 - val_loss: 1.0953 - val_accuracy: 0.8000\n",
            "Epoch 15/20\n",
            "16/16 [==============================] - 1s 64ms/step - loss: 0.1232 - accuracy: 0.9565 - val_loss: 1.1035 - val_accuracy: 0.8100\n",
            "Epoch 16/20\n",
            "16/16 [==============================] - 1s 64ms/step - loss: 0.1188 - accuracy: 0.9570 - val_loss: 1.2124 - val_accuracy: 0.7890\n",
            "Epoch 17/20\n",
            "16/16 [==============================] - 1s 64ms/step - loss: 0.1095 - accuracy: 0.9579 - val_loss: 1.1584 - val_accuracy: 0.8000\n",
            "Epoch 18/20\n",
            "16/16 [==============================] - 1s 63ms/step - loss: 0.1092 - accuracy: 0.9587 - val_loss: 1.1963 - val_accuracy: 0.7790\n",
            "Epoch 19/20\n",
            "16/16 [==============================] - 1s 64ms/step - loss: 0.1061 - accuracy: 0.9567 - val_loss: 1.1841 - val_accuracy: 0.7890\n",
            "Epoch 20/20\n",
            "16/16 [==============================] - 1s 64ms/step - loss: 0.1030 - accuracy: 0.9568 - val_loss: 1.1528 - val_accuracy: 0.8080\n"
          ]
        }
      ]
    },
    {
      "cell_type": "code",
      "source": [
        "loss = history.history['loss']\n",
        "val_loss = history.history['val_loss']\n",
        "acc = history.history['accuracy']\n",
        "val_acc = history.history['val_accuracy']\n",
        "\n",
        "epochs = range(1, len(loss)+1)\n",
        "\n",
        "plt.plot(epochs, loss, 'bo', label='Training Loss')\n",
        "plt.plot(epochs, val_loss, 'b-', label='Validation Loss')\n",
        "plt.title('Training and validation loss')\n",
        "plt.xlabel('Epochs')\n",
        "plt.ylabel('Loss')\n",
        "plt.legend()"
      ],
      "metadata": {
        "colab": {
          "base_uri": "https://localhost:8080/",
          "height": 312
        },
        "id": "q2LlKJ9uuKlN",
        "outputId": "f4f9508c-031e-4e0a-8935-8a3517ef68ba"
      },
      "execution_count": 39,
      "outputs": [
        {
          "output_type": "execute_result",
          "data": {
            "text/plain": [
              "<matplotlib.legend.Legend at 0x7f6a13e2cad0>"
            ]
          },
          "metadata": {},
          "execution_count": 39
        },
        {
          "output_type": "display_data",
          "data": {
            "text/plain": [
              "<Figure size 432x288 with 1 Axes>"
            ],
            "image/png": "[encoded data removed]"
          },
          "metadata": {
            "needs_background": "light"
          }
        }
      ]
    },
    {
      "cell_type": "code",
      "source": [
        "plt.plot(epochs, acc, 'ro', label='Training Accuracy')\n",
        "plt.plot(epochs, val_acc, 'r-', label='Validation Accuracy')\n",
        "plt.title('Training and validation Accuracy')\n",
        "plt.xlabel('Epochs')\n",
        "plt.ylabel('Accuracy')\n",
        "plt.legend()"
      ],
      "metadata": {
        "colab": {
          "base_uri": "https://localhost:8080/",
          "height": 312
        },
        "id": "28KePzUbuRCq",
        "outputId": "e5afc2d1-319a-42a8-809f-534420d06c78"
      },
      "execution_count": 40,
      "outputs": [
        {
          "output_type": "execute_result",
          "data": {
            "text/plain": [
              "<matplotlib.legend.Legend at 0x7f6a1dd5acd0>"
            ]
          },
          "metadata": {},
          "execution_count": 40
        },
        {
          "output_type": "display_data",
          "data": {
            "text/plain": [
              "<Figure size 432x288 with 1 Axes>"
            ],
            "image/png": "[encoded data removed]"
          },
          "metadata": {
            "needs_background": "light"
          }
        }
      ]
    },
    {
      "cell_type": "markdown",
      "source": [
        "최적화가 가능한 정도를 찾아야함\n",
        "\n",
        "이걸 빠르고 정확하게 찾을수록 실력"
      ],
      "metadata": {
        "id": "SJb39GwauYPA"
      }
    }
  ]
}