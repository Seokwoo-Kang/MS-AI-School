{
  "nbformat": 4,
  "nbformat_minor": 0,
  "metadata": {
    "colab": {
      "provenance": []
    },
    "kernelspec": {
      "name": "python3",
      "display_name": "Python 3"
    },
    "language_info": {
      "name": "python"
    }
  },
  "cells": [
    {
      "cell_type": "code",
      "execution_count": 56,
      "metadata": {
        "id": "NFDAbbZ0ywAp"
      },
      "outputs": [],
      "source": [
        "import keras\n",
        "import numpy as np\n",
        "import matplotlib.pyplot as plt"
      ]
    },
    {
      "cell_type": "code",
      "source": [
        "# 보스턴 주택 가격 데이터셋\n",
        "\n",
        "from keras.datasets import boston_housing\n",
        "(train_data,train_labels ),(test_data, test_labels) = boston_housing.load_data()"
      ],
      "metadata": {
        "id": "UCdF923by7FD"
      },
      "execution_count": 57,
      "outputs": []
    },
    {
      "cell_type": "code",
      "source": [
        "train_data.shape"
      ],
      "metadata": {
        "colab": {
          "base_uri": "https://localhost:8080/"
        },
        "id": "hMvGa0-EzbGW",
        "outputId": "9fe70dc3-a197-4180-be3c-a65531f953c2"
      },
      "execution_count": 58,
      "outputs": [
        {
          "output_type": "execute_result",
          "data": {
            "text/plain": [
              "(404, 13)"
            ]
          },
          "metadata": {},
          "execution_count": 58
        }
      ]
    },
    {
      "cell_type": "code",
      "source": [
        "test_data.shape"
      ],
      "metadata": {
        "colab": {
          "base_uri": "https://localhost:8080/"
        },
        "id": "8Lia_JLGzhVx",
        "outputId": "a017c2b9-5fa1-412b-f71b-3b5db87acc71"
      },
      "execution_count": 59,
      "outputs": [
        {
          "output_type": "execute_result",
          "data": {
            "text/plain": [
              "(102, 13)"
            ]
          },
          "metadata": {},
          "execution_count": 59
        }
      ]
    },
    {
      "cell_type": "code",
      "source": [
        "# 데이터 정규화\n",
        "# minmax-Scaling의 친구 Standard-Scaling 만들기(평균:0, 표준편차:1)\n",
        "\n",
        "mean = train_data.mean(axis=0)"
      ],
      "metadata": {
        "id": "6ounLQl5znVB"
      },
      "execution_count": 60,
      "outputs": []
    },
    {
      "cell_type": "code",
      "source": [
        "mean"
      ],
      "metadata": {
        "colab": {
          "base_uri": "https://localhost:8080/"
        },
        "id": "YmXnkyosz-Vc",
        "outputId": "31528a54-6801-48aa-f900-d28065cbcb3b"
      },
      "execution_count": 61,
      "outputs": [
        {
          "output_type": "execute_result",
          "data": {
            "text/plain": [
              "array([3.74511057e+00, 1.14801980e+01, 1.11044307e+01, 6.18811881e-02,\n",
              "       5.57355941e-01, 6.26708168e+00, 6.90106436e+01, 3.74027079e+00,\n",
              "       9.44059406e+00, 4.05898515e+02, 1.84759901e+01, 3.54783168e+02,\n",
              "       1.27408168e+01])"
            ]
          },
          "metadata": {},
          "execution_count": 61
        }
      ]
    },
    {
      "cell_type": "code",
      "source": [
        "# train_data = train_data - mean 와 같은표현 \n",
        "train_data -= mean"
      ],
      "metadata": {
        "id": "zjODi_pN0CnI"
      },
      "execution_count": 62,
      "outputs": []
    },
    {
      "cell_type": "code",
      "source": [
        "# 표준편차\n",
        "std = train_data.std(axis=0)"
      ],
      "metadata": {
        "id": "xpKUxqPl11af"
      },
      "execution_count": 63,
      "outputs": []
    },
    {
      "cell_type": "code",
      "source": [
        "# train_data = train_data / std 와 같은표현 \n",
        "train_data /= std"
      ],
      "metadata": {
        "id": "QnqJHjbq2Q81"
      },
      "execution_count": 64,
      "outputs": []
    },
    {
      "cell_type": "code",
      "source": [
        "train_data"
      ],
      "metadata": {
        "colab": {
          "base_uri": "https://localhost:8080/"
        },
        "id": "Kk_fJkmy2aNe",
        "outputId": "ab9e06c7-2255-4108-a6ef-330739728878"
      },
      "execution_count": 65,
      "outputs": [
        {
          "output_type": "execute_result",
          "data": {
            "text/plain": [
              "array([[-0.27224633, -0.48361547, -0.43576161, ...,  1.14850044,\n",
              "         0.44807713,  0.8252202 ],\n",
              "       [-0.40342651,  2.99178419, -1.33391162, ..., -1.71818909,\n",
              "         0.43190599, -1.32920239],\n",
              "       [ 0.1249402 , -0.48361547,  1.0283258 , ...,  0.78447637,\n",
              "         0.22061726, -1.30850006],\n",
              "       ...,\n",
              "       [-0.40202987,  0.99079651, -0.7415148 , ..., -0.71712291,\n",
              "         0.07943894, -0.67776904],\n",
              "       [-0.17292018, -0.48361547,  1.24588095, ..., -1.71818909,\n",
              "        -0.98764362,  0.42083466],\n",
              "       [-0.40422614,  2.04394792, -1.20161456, ..., -1.30866202,\n",
              "         0.23317118, -1.15392266]])"
            ]
          },
          "metadata": {},
          "execution_count": 65
        }
      ]
    },
    {
      "cell_type": "code",
      "source": [
        "mean = test_data.mean(axis=0)\n",
        "test_data -= mean\n",
        "std = test_data.std(axis=0)\n",
        "test_data /= std"
      ],
      "metadata": {
        "id": "KVIGAEv52vN0"
      },
      "execution_count": 66,
      "outputs": []
    },
    {
      "cell_type": "code",
      "source": [
        "test_data"
      ],
      "metadata": {
        "colab": {
          "base_uri": "https://localhost:8080/"
        },
        "id": "RAQ8MZzJ35GN",
        "outputId": "2a7cc891-9db7-494f-96e8-648f3f644fff"
      },
      "execution_count": 67,
      "outputs": [
        {
          "output_type": "execute_result",
          "data": {
            "text/plain": [
              "array([[ 2.8040301 , -0.50784934,  0.96960877, ...,  0.90513041,\n",
              "        -4.27829517,  2.51324773],\n",
              "       [-0.55530596, -0.50784934, -0.17801704, ..., -0.28485844,\n",
              "         0.3909446 ,  0.58604286],\n",
              "       [-0.56808398, -0.50784934, -0.86176938, ...,  0.90513041,\n",
              "         0.41570668, -0.38506427],\n",
              "       ...,\n",
              "       [-0.23539182, -0.50784934,  1.17955762, ..., -1.82192738,\n",
              "         0.32313459, -1.55879807],\n",
              "       [-0.5113909 , -0.50784934, -0.71849348, ..., -0.48318992,\n",
              "         0.34967446, -0.38956708],\n",
              "       [-0.03148414, -0.50784934,  1.17955762, ..., -1.82192738,\n",
              "        -1.57465677, -0.3745577 ]])"
            ]
          },
          "metadata": {},
          "execution_count": 67
        }
      ]
    },
    {
      "cell_type": "code",
      "source": [
        "# 신경망\n",
        "from keras import models\n",
        "from keras import layers\n",
        "\n",
        "def build_model():\n",
        "    model = models.Sequential()\n",
        "    model.add(layers.Dense(64, activation='relu', input_shape =(train_data.shape[1],))) # 숫자로 지정할 필요없이 정확한 칼럼 수에 맞게 넣어주면됨 \n",
        "    model.add(layers.Dense(64, activation='relu'))\n",
        "    model.add(layers.Dense(1))\n",
        "\n",
        "    model.compile(\n",
        "          optimizer ='rmsprop',\n",
        "          loss = 'mse',\n",
        "          metrics = ['mae']\n",
        "          )\n",
        "    return model"
      ],
      "metadata": {
        "id": "NXtZQCYq3-4_"
      },
      "execution_count": 69,
      "outputs": []
    },
    {
      "cell_type": "code",
      "source": [
        "# 테스트 용 데이터가 전체 데이터의 20%로 너무 아깝고 적기 때문에\n",
        "# K-folder 검증 사용\n",
        "k = 4\n",
        "num_val_samples = len(train_data) // k  # 폴더의 사이즈\n",
        "\n",
        "# 결과를 반복하며 저장\n",
        "all_scores = []\n",
        "\n",
        "for i in range(k):\n",
        "    print('처리중인 폴드 #', i)\n",
        "\n",
        "    # 검증 데이터 준비 : k번째 분할\n",
        "    val_data = train_data[ i * num_val_samples : (i+1) * num_val_samples ]    # 검증용 훈련데이터\n",
        "    val_labels = train_labels[ i * num_val_samples : (i+1) * num_val_samples ]    # 검증용 라벨데이터\n",
        "    \n",
        "    # 훈련 데이터 준비\n",
        "    partial_train_data = np.concatenate(    #np.concatenate 이용해서 두 데이터를 합침\n",
        "        [train_data[ : i * num_val_samples],    # 검증데이터 앞부분\n",
        "        train_data[(i+1) * num_val_samples : ]],    # 검증데이터 뒷부분\n",
        "        axis=0    # 축지정을 안하면 오류가남\n",
        "        )\n",
        "    \n",
        "    partial_train_labels = np.concatenate(    \n",
        "        [train_labels[ : i * num_val_samples],    \n",
        "        train_labels[(i+1) * num_val_samples : ]],    \n",
        "        axis=0\n",
        "        )\n",
        "    \n",
        "    model = build_model()\n",
        "    model.fit(partial_train_data,\n",
        "              partial_train_labels,\n",
        "              epochs = 20,\n",
        "              batch_size = 1,\n",
        "              verbose = 0    # 불필요한 중간과정이 안보임\n",
        "              )\n",
        "    \n",
        "    val_mse, val_mae = model.evaluate(val_data, val_labels, verbose = 0)    # 한개의 폴더에 대한 모델 평가하기\n",
        "    all_scores.append(val_mae)"
      ],
      "metadata": {
        "colab": {
          "base_uri": "https://localhost:8080/"
        },
        "id": "mpOOLats8LQj",
        "outputId": "dced3bf6-14e2-4d08-fb0e-d0b18f873fd5"
      },
      "execution_count": 85,
      "outputs": [
        {
          "output_type": "stream",
          "name": "stdout",
          "text": [
            "처리중인 폴드 # 0\n",
            "처리중인 폴드 # 1\n",
            "처리중인 폴드 # 2\n",
            "처리중인 폴드 # 3\n"
          ]
        }
      ]
    },
    {
      "cell_type": "code",
      "source": [
        "all_scores"
      ],
      "metadata": {
        "colab": {
          "base_uri": "https://localhost:8080/"
        },
        "id": "q4dfaPHO_ub6",
        "outputId": "8a769e47-b9ae-4108-b640-1f39c74350dd"
      },
      "execution_count": 86,
      "outputs": [
        {
          "output_type": "execute_result",
          "data": {
            "text/plain": [
              "[2.545750617980957, 2.441964864730835, 2.537029981613159, 2.7581074237823486]"
            ]
          },
          "metadata": {},
          "execution_count": 86
        }
      ]
    },
    {
      "cell_type": "code",
      "source": [
        "np.mean(all_scores)"
      ],
      "metadata": {
        "colab": {
          "base_uri": "https://localhost:8080/"
        },
        "id": "qOeAKoBzHUJJ",
        "outputId": "58647afd-a440-4dc7-9ece-2bb7759ff8da"
      },
      "execution_count": 87,
      "outputs": [
        {
          "output_type": "execute_result",
          "data": {
            "text/plain": [
              "2.570713222026825"
            ]
          },
          "metadata": {},
          "execution_count": 87
        }
      ]
    },
    {
      "cell_type": "markdown",
      "source": [
        "MAE값에 대한 평균"
      ],
      "metadata": {
        "id": "fE6C1x0iHiw6"
      }
    },
    {
      "cell_type": "code",
      "source": [
        "# epochs 500으로 변경\n",
        "\n",
        "k = 4\n",
        "num_epochs = 500\n",
        "num_val_samples = len(train_data) // k  \n",
        "\n",
        "all_scores = []\n",
        "\n",
        "for i in range(k):\n",
        "    print('처리중인 폴드 #', i)\n",
        "\n",
        "    val_data = train_data[ i * num_val_samples : (i+1) * num_val_samples ]    \n",
        "    val_labels = train_labels[ i * num_val_samples : (i+1) * num_val_samples ]  \n",
        "    \n",
        "    partial_train_data = np.concatenate(    \n",
        "        [train_data[ : i * num_val_samples],    \n",
        "        train_data[(i+1) * num_val_samples : ]],    \n",
        "        axis=0    \n",
        "        )\n",
        "    \n",
        "    partial_train_labels = np.concatenate(    \n",
        "        [train_labels[ : i * num_val_samples],    \n",
        "        train_labels[(i+1) * num_val_samples : ]],    \n",
        "        axis=0\n",
        "        )\n",
        "    \n",
        "    model = build_model()\n",
        "    history = model.fit(partial_train_data,\n",
        "                        partial_train_labels,\n",
        "                        epochs = num_epochs,\n",
        "                        batch_size = 1,\n",
        "                        validation_data=(val_data, val_labels),    # fit하면서 검증하게끔\n",
        "                        verbose = 0    # 불필요한 중간과정이 안보임\n",
        "                  )\n",
        "    mae_history = history.history['mae']\n",
        "     \n",
        "    all_scores.append(mae_history)"
      ],
      "metadata": {
        "colab": {
          "base_uri": "https://localhost:8080/"
        },
        "id": "oz7j58M8HbyE",
        "outputId": "b74862ae-7277-49e0-9bcd-e9ecc34b80d2"
      },
      "execution_count": 88,
      "outputs": [
        {
          "output_type": "stream",
          "name": "stdout",
          "text": [
            "처리중인 폴드 # 0\n",
            "처리중인 폴드 # 1\n",
            "처리중인 폴드 # 2\n",
            "처리중인 폴드 # 3\n"
          ]
        }
      ]
    },
    {
      "cell_type": "code",
      "source": [
        "# 결과를 취합\n",
        "average_mae_history = [np.mean([x[i] for x in all_scores]) for i in range(num_epochs)]\n"
      ],
      "metadata": {
        "id": "MIdEWnXZNkzD"
      },
      "execution_count": 95,
      "outputs": []
    },
    {
      "cell_type": "code",
      "source": [
        "plt.plot(range(1,len(average_mae_history)+1),average_mae_history)\n",
        "plt.xlabel('Epochs')\n",
        "plt.ylabel('Validation MAE')\n"
      ],
      "metadata": {
        "colab": {
          "base_uri": "https://localhost:8080/",
          "height": 296
        },
        "id": "DPdlBGMeO0yJ",
        "outputId": "a61a2557-d9a8-4804-eea4-fb06234a2e0a"
      },
      "execution_count": 96,
      "outputs": [
        {
          "output_type": "execute_result",
          "data": {
            "text/plain": [
              "Text(0, 0.5, 'Validation MAE')"
            ]
          },
          "metadata": {},
          "execution_count": 96
        },
        {
          "output_type": "display_data",
          "data": {
            "text/plain": [
              "<Figure size 432x288 with 1 Axes>"
            ],
            "image/png": "[encoded data removed]"
          },
          "metadata": {
            "needs_background": "light"
          }
        }
      ]
    },
    {
      "cell_type": "markdown",
      "source": [
        "결과 : 80번정도에서 가장 최적의 결과를 얻을수 있다"
      ],
      "metadata": {
        "id": "6fD1EXDMQ0ud"
      }
    },
    {
      "cell_type": "code",
      "source": [],
      "metadata": {
        "id": "ps_CyiXnQimr"
      },
      "execution_count": null,
      "outputs": []
    }
  ]
}