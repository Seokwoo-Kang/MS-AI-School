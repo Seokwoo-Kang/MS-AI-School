{
  "nbformat": 4,
  "nbformat_minor": 0,
  "metadata": {
    "colab": {
      "provenance": []
    },
    "kernelspec": {
      "name": "python3",
      "display_name": "Python 3"
    },
    "language_info": {
      "name": "python"
    }
  },
  "cells": [
    {
      "cell_type": "code",
      "execution_count": null,
      "metadata": {
        "id": "8j0OY-yhtYsc"
      },
      "outputs": [],
      "source": [
        "!pip install azure-storage-blob"
      ]
    },
    {
      "cell_type": "code",
      "source": [
        "# Azure 스토리지를 관리하기 위해 필요한 패키지\n",
        "import os, uuid\n",
        "# uuid 임시변수\n",
        "from azure.storage.blob import BlobServiceClient, BlobClient, ContainerClient"
      ],
      "metadata": {
        "id": "sPi4QlVyuB-2"
      },
      "execution_count": null,
      "outputs": []
    },
    {
      "cell_type": "code",
      "source": [
        "# Blob 서비스에 연결\n",
        "\n",
        "# 애저 포탈에서 스토리지-액세스 키에서 연결 문자열 이용\n",
        "connect_string = '*************************'  \n",
        "\n",
        "# Blob 스토리지 서비스에 연결가능한 클라이언트 생성(Blob 서비스에 연결)\n",
        "blob_service_client = BlobServiceClient.from_connection_string(connect_string)"
      ],
      "metadata": {
        "id": "bP2oDbInun0j"
      },
      "execution_count": null,
      "outputs": []
    },
    {
      "cell_type": "code",
      "source": [
        "# Container 생성\n",
        "\n",
        "# container 이름 생성\n",
        "container_name = str(uuid.uuid4()) # 겹치지 않는 난수의 문자열을 생성\n",
        "print(container_name)\n",
        "\n",
        "# 생성된 이름으로 container 생성\n",
        "container_client = blob_service_client.create_container(container_name)\n",
        "\n",
        "#생성된 container를 생성되었는지 애저에서 확인"
      ],
      "metadata": {
        "colab": {
          "base_uri": "https://localhost:8080/"
        },
        "id": "M4NAxoWmv4gU",
        "outputId": "75c30820-7ecb-4aef-9657-ccf5ec2dece7"
      },
      "execution_count": null,
      "outputs": [
        {
          "output_type": "stream",
          "name": "stdout",
          "text": [
            "d8718b34-c84c-477f-a5f7-c4dbef986e0b\n"
          ]
        }
      ]
    },
    {
      "cell_type": "code",
      "source": [
        "# 데이터를 직접 upload하는 작업\n",
        "\n",
        "# 데이터를 업로드할 경로 생성\n",
        "local_path = './data'\n",
        "os.mkdir(local_path)\n",
        "\n",
        "# 로컬 파일 생성\n",
        "local_file_name = str(uuid.uuid4()) + '.txt'\n",
        "\n",
        "# 업로드 파일의 전체 경로 잡기\n",
        "upload_file_path = os.path.join(local_path, local_file_name)"
      ],
      "metadata": {
        "id": "nuKbasxGwTGy"
      },
      "execution_count": null,
      "outputs": []
    },
    {
      "cell_type": "code",
      "source": [
        "# 업로드 할 파일을 준비\n",
        "# 테스트\n",
        "file = open(file=upload_file_path, mode='w') # 파일을 'w' 쓰기모드로 연다\n",
        "file.write('Hello Azure Storage')\n",
        "file.close()\n",
        "\n",
        "# 새로운 blob 클라이언트 생성을 요청(파일이 업로드될 공간을 설정)\n",
        "blob_client = blob_service_client.get_blob_client(\n",
        "    container = container_name,\n",
        "    blob = local_file_name,    \n",
        ")\n",
        "\n",
        "# 실제로 파일 업로드하는 부분\n",
        "# binary 단위 형태로 읽는 모드(이래야 이미지가 안깨짐)\n",
        "with open(file = upload_file_path, mode = 'rb') as data:\n",
        "  blob_client.upload_blob(data)"
      ],
      "metadata": {
        "id": "wtAzzb5xxVYm"
      },
      "execution_count": null,
      "outputs": []
    },
    {
      "cell_type": "code",
      "source": [
        "# Blob내 파일 목록 확인\n",
        "blob_list = container_client.list_blobs()\n",
        "for blob in blob_list:\n",
        "  print('\\t' +blob.name)"
      ],
      "metadata": {
        "colab": {
          "base_uri": "https://localhost:8080/"
        },
        "id": "Kyx9YgWuzokQ",
        "outputId": "1ad017ec-1a19-4992-86a7-d3afdb6baf12"
      },
      "execution_count": null,
      "outputs": [
        {
          "output_type": "stream",
          "name": "stdout",
          "text": [
            "\tc7344cf2-2003-44b3-abdb-54c935d0e458.txt\n"
          ]
        }
      ]
    },
    {
      "cell_type": "code",
      "source": [
        "# 업로드 된 파일을 불러올수 있는지(다운로드가 가능한지)\n",
        "\n",
        "# 로컬에 다운로드(원래 원본과 다르게)\n",
        "download_file_path = os.path.join(local_path, str.replace(local_file_name, 'txt', 'DOWNLOAD.txt'))\n",
        "\n",
        "# 새로운 container 클라이언트 생성을 요청(파일이 업로드될 공간을 설정)\n",
        "container_client = blob_service_client.get_container_client(container=container_name)\n",
        "\n",
        "# 스트림형태로 날아오는 데이터를 받아야함\n",
        "with open(file=download_file_path, mode = 'wb') as download_file:\n",
        "  download_file.write(container_client.download_blob(blob.name).readall())   # blob속에 있는 파일 다운로드 작업"
      ],
      "metadata": {
        "id": "VAeXggY51PSc"
      },
      "execution_count": null,
      "outputs": []
    },
    {
      "cell_type": "code",
      "source": [
        "# 실습으로 만들었던 자원들 정리\n",
        "\n",
        "print('Press the Enter key to begin clean up')\n",
        "input()\n",
        "\n",
        "# container 삭제\n",
        "print('Deleting blob container...')\n",
        "container_client.delete_container()\n",
        "\n",
        "# 로컬과 다운로드 받은 파일 삭제\n",
        "print('Deleting the local source and downloaded files')\n",
        "os.remove(upload_file_path)\n",
        "os.remove(download_file_path)\n",
        "os.rmdir(local_path)  # local 디렉토리 삭제\n",
        "\n",
        "print('Done')"
      ],
      "metadata": {
        "colab": {
          "base_uri": "https://localhost:8080/",
          "height": 305
        },
        "id": "PUS-Iai82-8H",
        "outputId": "c9d8bf65-97fd-443d-e9a4-f0b3334a1830"
      },
      "execution_count": null,
      "outputs": [
        {
          "output_type": "stream",
          "name": "stdout",
          "text": [
            "Press the Enter key to begin clean up\n",
            "\n",
            "Deleting blob container...\n",
            "Deleting the local source and downloaded files\n"
          ]
        },
        {
          "output_type": "error",
          "ename": "FileNotFoundError",
          "evalue": "ignored",
          "traceback": [
            "\u001b[0;31m---------------------------------------------------------------------------\u001b[0m",
            "\u001b[0;31mFileNotFoundError\u001b[0m                         Traceback (most recent call last)",
            "\u001b[0;32m<ipython-input-16-177f0c6b73d4>\u001b[0m in \u001b[0;36m<module>\u001b[0;34m\u001b[0m\n\u001b[1;32m     10\u001b[0m \u001b[0;31m# 로컬과 다운로드 받은 파일 삭제\u001b[0m\u001b[0;34m\u001b[0m\u001b[0;34m\u001b[0m\u001b[0;34m\u001b[0m\u001b[0m\n\u001b[1;32m     11\u001b[0m \u001b[0mprint\u001b[0m\u001b[0;34m(\u001b[0m\u001b[0;34m'Deleting the local source and downloaded files'\u001b[0m\u001b[0;34m)\u001b[0m\u001b[0;34m\u001b[0m\u001b[0;34m\u001b[0m\u001b[0m\n\u001b[0;32m---> 12\u001b[0;31m \u001b[0mos\u001b[0m\u001b[0;34m.\u001b[0m\u001b[0mremove\u001b[0m\u001b[0;34m(\u001b[0m\u001b[0mupload_file_path\u001b[0m\u001b[0;34m)\u001b[0m\u001b[0;34m\u001b[0m\u001b[0;34m\u001b[0m\u001b[0m\n\u001b[0m\u001b[1;32m     13\u001b[0m \u001b[0mos\u001b[0m\u001b[0;34m.\u001b[0m\u001b[0mremove\u001b[0m\u001b[0;34m(\u001b[0m\u001b[0mdownload_file_path\u001b[0m\u001b[0;34m)\u001b[0m\u001b[0;34m\u001b[0m\u001b[0;34m\u001b[0m\u001b[0m\n\u001b[1;32m     14\u001b[0m \u001b[0mos\u001b[0m\u001b[0;34m.\u001b[0m\u001b[0mrmdir\u001b[0m\u001b[0;34m(\u001b[0m\u001b[0mlocal_path\u001b[0m\u001b[0;34m)\u001b[0m  \u001b[0;31m# local 디렉토리 삭제\u001b[0m\u001b[0;34m\u001b[0m\u001b[0;34m\u001b[0m\u001b[0m\n",
            "\u001b[0;31mFileNotFoundError\u001b[0m: [Errno 2] No such file or directory: './data/c7344cf2-2003-44b3-abdb-54c935d0e458.txt'"
          ]
        }
      ]
    },
    {
      "cell_type": "code",
      "source": [],
      "metadata": {
        "id": "LK0L6pD17SF3"
      },
      "execution_count": null,
      "outputs": []
    }
  ]
}