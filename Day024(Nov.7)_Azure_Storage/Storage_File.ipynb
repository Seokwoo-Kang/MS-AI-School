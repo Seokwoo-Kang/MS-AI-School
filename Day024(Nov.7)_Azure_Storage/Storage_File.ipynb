{
  "nbformat": 4,
  "nbformat_minor": 0,
  "metadata": {
    "colab": {
      "provenance": []
    },
    "kernelspec": {
      "name": "python3",
      "display_name": "Python 3"
    },
    "language_info": {
      "name": "python"
    }
  },
  "cells": [
    {
      "cell_type": "code",
      "execution_count": null,
      "metadata": {
        "id": "R9CyrSldJWrJ"
      },
      "outputs": [],
      "source": [
        "!pip install azure-storage-file"
      ]
    },
    {
      "cell_type": "code",
      "source": [
        "# File Share 서비스 이용 Azure 연결\n",
        "from azure.storage.file import FileService\n",
        "\n",
        "file_service = FileService(account_name='*************',\n",
        "                           account_key='*************'\n",
        "                           )"
      ],
      "metadata": {
        "id": "182YNKm5Jk8z"
      },
      "execution_count": null,
      "outputs": []
    },
    {
      "cell_type": "code",
      "source": [
        "# myshare 공유폴더 생성 연결\n",
        "\n",
        "file_service.create_share('myshare')"
      ],
      "metadata": {
        "colab": {
          "base_uri": "https://localhost:8080/"
        },
        "id": "MZxySYUMM4Lk",
        "outputId": "1d66e2c4-8a77-4928-9834-11786df94845"
      },
      "execution_count": null,
      "outputs": [
        {
          "output_type": "execute_result",
          "data": {
            "text/plain": [
              "True"
            ]
          },
          "metadata": {},
          "execution_count": 5
        }
      ]
    },
    {
      "cell_type": "code",
      "source": [
        "# myshare 내에 샘플 디렉토리 생성\n",
        "\n",
        "file_service.create_directory('myshare','sampledir')"
      ],
      "metadata": {
        "colab": {
          "base_uri": "https://localhost:8080/"
        },
        "id": "FcXSDg7zNG-N",
        "outputId": "c8641799-c72c-42e9-dbd6-cc47e8e62976"
      },
      "execution_count": null,
      "outputs": [
        {
          "output_type": "execute_result",
          "data": {
            "text/plain": [
              "True"
            ]
          },
          "metadata": {},
          "execution_count": 6
        }
      ]
    },
    {
      "cell_type": "code",
      "source": [
        "# 파일 올리기\n",
        "\n",
        "from azure.storage.file import ContentSettings\n",
        "\n",
        "file_service.create_file_from_path('myshare',\n",
        "                                   None, # 루트디렉토리로 생성하기 위해 \n",
        "                                   'myfile',  # myfile이라는 이름으로 업로드\n",
        "                                   '00004-1686921193-programmer, c___.png', # 실제 업로드 파일\n",
        "                                   content_settings=ContentSettings(content_type='image/png')                                 \n",
        "                                   )"
      ],
      "metadata": {
        "id": "Qic9ehjRNl9r"
      },
      "execution_count": null,
      "outputs": []
    },
    {
      "cell_type": "code",
      "source": [
        "# 업로드가 된 파일 목록 확인하기\n",
        "\n",
        "generator = file_service.list_directories_and_files('myshare')    # file 경로를 받아옴\n",
        "for file_or_dir in generator:\n",
        "  print(file_or_dir.name)"
      ],
      "metadata": {
        "colab": {
          "base_uri": "https://localhost:8080/"
        },
        "id": "NQFq2hz5O8-c",
        "outputId": "b19b2d57-1d6b-4661-e389-397c24346bfd"
      },
      "execution_count": null,
      "outputs": [
        {
          "output_type": "stream",
          "name": "stdout",
          "text": [
            "myfile\n",
            "sampledir\n"
          ]
        }
      ]
    },
    {
      "cell_type": "code",
      "source": [
        "# 파일 가져오기\n",
        "\n",
        "file_service.get_file_to_path('myshare',\n",
        "                              None,\n",
        "                              'myfile',\n",
        "                              'out-00004-1686921193-programmer, c___.png'     # 이름다르게\n",
        "                              )"
      ],
      "metadata": {
        "colab": {
          "base_uri": "https://localhost:8080/"
        },
        "id": "XR5eil8SPdGC",
        "outputId": "a84eac46-6166-42b7-e0d2-42005f9fff0a"
      },
      "execution_count": null,
      "outputs": [
        {
          "output_type": "execute_result",
          "data": {
            "text/plain": [
              "<azure.storage.file.models.File at 0x7fcfa6769dd0>"
            ]
          },
          "metadata": {},
          "execution_count": 10
        }
      ]
    },
    {
      "cell_type": "code",
      "source": [
        "# 스냅샷 생성\n",
        "\n",
        "metadata = {\"foo\": \"bar\"}       # 내가 원하는 폴더를 뽑고자 할때 metadata 사용\n",
        "snapshot = file_service.snapshot_share('myshare',metadata=metadata)"
      ],
      "metadata": {
        "id": "BgDdS_FUQIfe"
      },
      "execution_count": null,
      "outputs": []
    },
    {
      "cell_type": "code",
      "source": [
        "# 스냅샷 리스트 보기\n",
        "\n",
        "shares = list(file_service.list_shares(include_snapshots=True))\n",
        "\n",
        "for s in shares:\n",
        "  print(s.snapshot)"
      ],
      "metadata": {
        "colab": {
          "base_uri": "https://localhost:8080/"
        },
        "id": "wylLc5ExnzRt",
        "outputId": "4cba9a98-2bc6-4df3-d62c-77338b0b7497"
      },
      "execution_count": null,
      "outputs": [
        {
          "output_type": "stream",
          "name": "stdout",
          "text": [
            "2022-11-08T00:40:13.0000000Z\n",
            "None\n"
          ]
        }
      ]
    },
    {
      "cell_type": "code",
      "source": [
        "# 스냅샷 내 파일과 디렉토리 목록 가져오기\n",
        "\n",
        "directories_and_files = list(\n",
        "    file_service.list_directories_and_files('myshare', snapshot = '2022-11-08T00:20:20.0000000Z')\n",
        ")"
      ],
      "metadata": {
        "colab": {
          "base_uri": "https://localhost:8080/",
          "height": 505
        },
        "id": "iBaoGF8tnzPk",
        "outputId": "f83223b0-d99b-4ed0-a842-77e62f187dab"
      },
      "execution_count": null,
      "outputs": [
        {
          "output_type": "stream",
          "name": "stderr",
          "text": [
            "ERROR:azure.storage.common.storageclient:Client-Request-ID=eb8ac65e-5efd-11ed-9e1e-0242ac1c0002 Retry policy did not allow for a retry: Server-Timestamp=Tue, 08 Nov 2022 00:40:18 GMT, Server-Request-ID=779400cc-b01a-004a-100a-f3140a000000, HTTP status code=404, Exception=The specified share does not exist. ErrorCode: ShareNotFound<?xml version=\"1.0\" encoding=\"utf-8\"?><Error><Code>ShareNotFound</Code><Message>The specified share does not exist.RequestId:779400cc-b01a-004a-100a-f3140a000000Time:2022-11-08T00:40:19.0541741Z</Message></Error>.\n"
          ]
        },
        {
          "output_type": "error",
          "ename": "AzureMissingResourceHttpError",
          "evalue": "ignored",
          "traceback": [
            "\u001b[0;31m---------------------------------------------------------------------------\u001b[0m",
            "\u001b[0;31mAzureMissingResourceHttpError\u001b[0m             Traceback (most recent call last)",
            "\u001b[0;32m<ipython-input-19-147103d481ad>\u001b[0m in \u001b[0;36m<module>\u001b[0;34m\u001b[0m\n\u001b[1;32m      2\u001b[0m \u001b[0;34m\u001b[0m\u001b[0m\n\u001b[1;32m      3\u001b[0m directories_and_files = list(\n\u001b[0;32m----> 4\u001b[0;31m     \u001b[0mfile_service\u001b[0m\u001b[0;34m.\u001b[0m\u001b[0mlist_directories_and_files\u001b[0m\u001b[0;34m(\u001b[0m\u001b[0;34m'myshare'\u001b[0m\u001b[0;34m,\u001b[0m \u001b[0msnapshot\u001b[0m \u001b[0;34m=\u001b[0m \u001b[0;34m'2022-11-08T00:20:20.0000000Z'\u001b[0m\u001b[0;34m)\u001b[0m\u001b[0;34m\u001b[0m\u001b[0;34m\u001b[0m\u001b[0m\n\u001b[0m\u001b[1;32m      5\u001b[0m )\n",
            "\u001b[0;32m/usr/local/lib/python3.7/dist-packages/azure/storage/file/fileservice.py\u001b[0m in \u001b[0;36mlist_directories_and_files\u001b[0;34m(self, share_name, directory_name, num_results, marker, timeout, prefix, snapshot)\u001b[0m\n\u001b[1;32m   1254\u001b[0m                   '_context': operation_context, 'prefix': prefix, 'snapshot': snapshot}\n\u001b[1;32m   1255\u001b[0m \u001b[0;34m\u001b[0m\u001b[0m\n\u001b[0;32m-> 1256\u001b[0;31m         \u001b[0mresp\u001b[0m \u001b[0;34m=\u001b[0m \u001b[0mself\u001b[0m\u001b[0;34m.\u001b[0m\u001b[0m_list_directories_and_files\u001b[0m\u001b[0;34m(\u001b[0m\u001b[0;34m*\u001b[0m\u001b[0margs\u001b[0m\u001b[0;34m,\u001b[0m \u001b[0;34m**\u001b[0m\u001b[0mkwargs\u001b[0m\u001b[0;34m)\u001b[0m\u001b[0;34m\u001b[0m\u001b[0;34m\u001b[0m\u001b[0m\n\u001b[0m\u001b[1;32m   1257\u001b[0m \u001b[0;34m\u001b[0m\u001b[0m\n\u001b[1;32m   1258\u001b[0m         \u001b[0;32mreturn\u001b[0m \u001b[0mListGenerator\u001b[0m\u001b[0;34m(\u001b[0m\u001b[0mresp\u001b[0m\u001b[0;34m,\u001b[0m \u001b[0mself\u001b[0m\u001b[0;34m.\u001b[0m\u001b[0m_list_directories_and_files\u001b[0m\u001b[0;34m,\u001b[0m \u001b[0margs\u001b[0m\u001b[0;34m,\u001b[0m \u001b[0mkwargs\u001b[0m\u001b[0;34m)\u001b[0m\u001b[0;34m\u001b[0m\u001b[0;34m\u001b[0m\u001b[0m\n",
            "\u001b[0;32m/usr/local/lib/python3.7/dist-packages/azure/storage/file/fileservice.py\u001b[0m in \u001b[0;36m_list_directories_and_files\u001b[0;34m(self, share_name, directory_name, marker, max_results, timeout, prefix, _context, snapshot)\u001b[0m\n\u001b[1;32m   1304\u001b[0m \u001b[0;34m\u001b[0m\u001b[0m\n\u001b[1;32m   1305\u001b[0m         return self._perform_request(request, _convert_xml_to_directories_and_files,\n\u001b[0;32m-> 1306\u001b[0;31m                                      operation_context=_context)\n\u001b[0m\u001b[1;32m   1307\u001b[0m \u001b[0;34m\u001b[0m\u001b[0m\n\u001b[1;32m   1308\u001b[0m     def list_handles(self, share_name, directory_name=None, file_name=None, recursive=None,\n",
            "\u001b[0;32m/usr/local/lib/python3.7/dist-packages/azure/storage/common/storageclient.py\u001b[0m in \u001b[0;36m_perform_request\u001b[0;34m(self, request, parser, parser_args, operation_context, expected_errors)\u001b[0m\n\u001b[1;32m    444\u001b[0m                                  \u001b[0mstatus_code\u001b[0m\u001b[0;34m,\u001b[0m\u001b[0;34m\u001b[0m\u001b[0;34m\u001b[0m\u001b[0m\n\u001b[1;32m    445\u001b[0m                                  exception_str_in_one_line)\n\u001b[0;32m--> 446\u001b[0;31m                     \u001b[0;32mraise\u001b[0m \u001b[0mex\u001b[0m\u001b[0;34m\u001b[0m\u001b[0;34m\u001b[0m\u001b[0m\n\u001b[0m\u001b[1;32m    447\u001b[0m             \u001b[0;32mfinally\u001b[0m\u001b[0;34m:\u001b[0m\u001b[0;34m\u001b[0m\u001b[0;34m\u001b[0m\u001b[0m\n\u001b[1;32m    448\u001b[0m                 \u001b[0;31m# If this is a location locked operation and the location is not set,\u001b[0m\u001b[0;34m\u001b[0m\u001b[0;34m\u001b[0m\u001b[0;34m\u001b[0m\u001b[0m\n",
            "\u001b[0;32m/usr/local/lib/python3.7/dist-packages/azure/storage/common/storageclient.py\u001b[0m in \u001b[0;36m_perform_request\u001b[0;34m(self, request, parser, parser_args, operation_context, expected_errors)\u001b[0m\n\u001b[1;32m    372\u001b[0m                 \u001b[0;32mexcept\u001b[0m \u001b[0mAzureException\u001b[0m \u001b[0;32mas\u001b[0m \u001b[0mex\u001b[0m\u001b[0;34m:\u001b[0m\u001b[0;34m\u001b[0m\u001b[0;34m\u001b[0m\u001b[0m\n\u001b[1;32m    373\u001b[0m                     \u001b[0mretry_context\u001b[0m\u001b[0;34m.\u001b[0m\u001b[0mexception\u001b[0m \u001b[0;34m=\u001b[0m \u001b[0mex\u001b[0m\u001b[0;34m\u001b[0m\u001b[0;34m\u001b[0m\u001b[0m\n\u001b[0;32m--> 374\u001b[0;31m                     \u001b[0;32mraise\u001b[0m \u001b[0mex\u001b[0m\u001b[0;34m\u001b[0m\u001b[0;34m\u001b[0m\u001b[0m\n\u001b[0m\u001b[1;32m    375\u001b[0m                 \u001b[0;32mexcept\u001b[0m \u001b[0mException\u001b[0m \u001b[0;32mas\u001b[0m \u001b[0mex\u001b[0m\u001b[0;34m:\u001b[0m\u001b[0;34m\u001b[0m\u001b[0;34m\u001b[0m\u001b[0m\n\u001b[1;32m    376\u001b[0m                     \u001b[0mretry_context\u001b[0m\u001b[0;34m.\u001b[0m\u001b[0mexception\u001b[0m \u001b[0;34m=\u001b[0m \u001b[0mex\u001b[0m\u001b[0;34m\u001b[0m\u001b[0;34m\u001b[0m\u001b[0m\n",
            "\u001b[0;32m/usr/local/lib/python3.7/dist-packages/azure/storage/common/storageclient.py\u001b[0m in \u001b[0;36m_perform_request\u001b[0;34m(self, request, parser, parser_args, operation_context, expected_errors)\u001b[0m\n\u001b[1;32m    358\u001b[0m                         \u001b[0;31m# and raised as an azure http exception\u001b[0m\u001b[0;34m\u001b[0m\u001b[0;34m\u001b[0m\u001b[0;34m\u001b[0m\u001b[0m\n\u001b[1;32m    359\u001b[0m                         _http_error_handler(\n\u001b[0;32m--> 360\u001b[0;31m                             HTTPError(response.status, response.message, response.headers, response.body))\n\u001b[0m\u001b[1;32m    361\u001b[0m \u001b[0;34m\u001b[0m\u001b[0m\n\u001b[1;32m    362\u001b[0m                     \u001b[0;31m# Parse the response\u001b[0m\u001b[0;34m\u001b[0m\u001b[0;34m\u001b[0m\u001b[0;34m\u001b[0m\u001b[0m\n",
            "\u001b[0;32m/usr/local/lib/python3.7/dist-packages/azure/storage/common/_error.py\u001b[0m in \u001b[0;36m_http_error_handler\u001b[0;34m(http_error)\u001b[0m\n\u001b[1;32m    113\u001b[0m     \u001b[0mex\u001b[0m\u001b[0;34m.\u001b[0m\u001b[0merror_code\u001b[0m \u001b[0;34m=\u001b[0m \u001b[0merror_code\u001b[0m\u001b[0;34m\u001b[0m\u001b[0;34m\u001b[0m\u001b[0m\n\u001b[1;32m    114\u001b[0m \u001b[0;34m\u001b[0m\u001b[0m\n\u001b[0;32m--> 115\u001b[0;31m     \u001b[0;32mraise\u001b[0m \u001b[0mex\u001b[0m\u001b[0;34m\u001b[0m\u001b[0;34m\u001b[0m\u001b[0m\n\u001b[0m\u001b[1;32m    116\u001b[0m \u001b[0;34m\u001b[0m\u001b[0m\n\u001b[1;32m    117\u001b[0m \u001b[0;34m\u001b[0m\u001b[0m\n",
            "\u001b[0;31mAzureMissingResourceHttpError\u001b[0m: The specified share does not exist. ErrorCode: ShareNotFound\n<?xml version=\"1.0\" encoding=\"utf-8\"?><Error><Code>ShareNotFound</Code><Message>The specified share does not exist.\nRequestId:779400cc-b01a-004a-100a-f3140a000000\nTime:2022-11-08T00:40:19.0541741Z</Message></Error>"
          ]
        }
      ]
    },
    {
      "cell_type": "code",
      "source": [
        "# 파일과 디렉토리 목록을 출력\n",
        "\n",
        "directories_and_files\n",
        "for file_or_dir in generator:\n",
        "  print(file_or_dir.name)"
      ],
      "metadata": {
        "colab": {
          "base_uri": "https://localhost:8080/"
        },
        "id": "mmKfmpTjnzNd",
        "outputId": "a58952f6-70d1-45b7-a23a-8a787df3a16a"
      },
      "execution_count": null,
      "outputs": [
        {
          "output_type": "stream",
          "name": "stdout",
          "text": [
            "myfile\n",
            "sampledir\n"
          ]
        }
      ]
    },
    {
      "cell_type": "code",
      "source": [
        "# 스냅샷 삭제\n",
        "\n",
        "file_service.delete_share('myshare', snapshot='2022-11-08T00:40:13.0000000Z')"
      ],
      "metadata": {
        "colab": {
          "base_uri": "https://localhost:8080/"
        },
        "id": "UWho_0sPnzEX",
        "outputId": "419718e7-0c9a-4541-a046-bb9d66072663"
      },
      "execution_count": null,
      "outputs": [
        {
          "output_type": "execute_result",
          "data": {
            "text/plain": [
              "True"
            ]
          },
          "metadata": {},
          "execution_count": 21
        }
      ]
    },
    {
      "cell_type": "code",
      "source": [
        "# 공유 폴더내 파일 삭제\n",
        "file_service.delete_file('myshare', None, ' myfile')"
      ],
      "metadata": {
        "colab": {
          "base_uri": "https://localhost:8080/",
          "height": 470
        },
        "id": "K7yuhrnMrDk9",
        "outputId": "ac5a0963-d840-44c3-8aeb-ddd4191d966b"
      },
      "execution_count": null,
      "outputs": [
        {
          "output_type": "stream",
          "name": "stderr",
          "text": [
            "ERROR:azure.storage.common.storageclient:Client-Request-ID=0fb93786-5efe-11ed-9e1e-0242ac1c0002 Retry policy did not allow for a retry: Server-Timestamp=Tue, 08 Nov 2022 00:41:18 GMT, Server-Request-ID=7794017f-b01a-004a-4b0a-f3140a000000, HTTP status code=404, Exception=The specified resource does not exist. ErrorCode: ResourceNotFound<?xml version=\"1.0\" encoding=\"utf-8\"?><Error><Code>ResourceNotFound</Code><Message>The specified resource does not exist.RequestId:7794017f-b01a-004a-4b0a-f3140a000000Time:2022-11-08T00:41:19.7571988Z</Message></Error>.\n"
          ]
        },
        {
          "output_type": "error",
          "ename": "AzureMissingResourceHttpError",
          "evalue": "ignored",
          "traceback": [
            "\u001b[0;31m---------------------------------------------------------------------------\u001b[0m",
            "\u001b[0;31mAzureMissingResourceHttpError\u001b[0m             Traceback (most recent call last)",
            "\u001b[0;32m<ipython-input-22-97b00fd477b9>\u001b[0m in \u001b[0;36m<module>\u001b[0;34m\u001b[0m\n\u001b[1;32m      1\u001b[0m \u001b[0;31m# 공유 폴더내 파일 삭제\u001b[0m\u001b[0;34m\u001b[0m\u001b[0;34m\u001b[0m\u001b[0;34m\u001b[0m\u001b[0m\n\u001b[0;32m----> 2\u001b[0;31m \u001b[0mfile_service\u001b[0m\u001b[0;34m.\u001b[0m\u001b[0mdelete_file\u001b[0m\u001b[0;34m(\u001b[0m\u001b[0;34m'myshare'\u001b[0m\u001b[0;34m,\u001b[0m \u001b[0;32mNone\u001b[0m\u001b[0;34m,\u001b[0m \u001b[0;34m' myfile'\u001b[0m\u001b[0;34m)\u001b[0m\u001b[0;34m\u001b[0m\u001b[0;34m\u001b[0m\u001b[0m\n\u001b[0m",
            "\u001b[0;32m/usr/local/lib/python3.7/dist-packages/azure/storage/file/fileservice.py\u001b[0m in \u001b[0;36mdelete_file\u001b[0;34m(self, share_name, directory_name, file_name, timeout)\u001b[0m\n\u001b[1;32m   1825\u001b[0m         \u001b[0mrequest\u001b[0m\u001b[0;34m.\u001b[0m\u001b[0mquery\u001b[0m \u001b[0;34m=\u001b[0m \u001b[0;34m{\u001b[0m\u001b[0;34m'timeout'\u001b[0m\u001b[0;34m:\u001b[0m \u001b[0m_int_to_str\u001b[0m\u001b[0;34m(\u001b[0m\u001b[0mtimeout\u001b[0m\u001b[0;34m)\u001b[0m\u001b[0;34m}\u001b[0m\u001b[0;34m\u001b[0m\u001b[0;34m\u001b[0m\u001b[0m\n\u001b[1;32m   1826\u001b[0m \u001b[0;34m\u001b[0m\u001b[0m\n\u001b[0;32m-> 1827\u001b[0;31m         \u001b[0mself\u001b[0m\u001b[0;34m.\u001b[0m\u001b[0m_perform_request\u001b[0m\u001b[0;34m(\u001b[0m\u001b[0mrequest\u001b[0m\u001b[0;34m)\u001b[0m\u001b[0;34m\u001b[0m\u001b[0;34m\u001b[0m\u001b[0m\n\u001b[0m\u001b[1;32m   1828\u001b[0m \u001b[0;34m\u001b[0m\u001b[0m\n\u001b[1;32m   1829\u001b[0m     def create_file(self, share_name, directory_name, file_name,\n",
            "\u001b[0;32m/usr/local/lib/python3.7/dist-packages/azure/storage/common/storageclient.py\u001b[0m in \u001b[0;36m_perform_request\u001b[0;34m(self, request, parser, parser_args, operation_context, expected_errors)\u001b[0m\n\u001b[1;32m    444\u001b[0m                                  \u001b[0mstatus_code\u001b[0m\u001b[0;34m,\u001b[0m\u001b[0;34m\u001b[0m\u001b[0;34m\u001b[0m\u001b[0m\n\u001b[1;32m    445\u001b[0m                                  exception_str_in_one_line)\n\u001b[0;32m--> 446\u001b[0;31m                     \u001b[0;32mraise\u001b[0m \u001b[0mex\u001b[0m\u001b[0;34m\u001b[0m\u001b[0;34m\u001b[0m\u001b[0m\n\u001b[0m\u001b[1;32m    447\u001b[0m             \u001b[0;32mfinally\u001b[0m\u001b[0;34m:\u001b[0m\u001b[0;34m\u001b[0m\u001b[0;34m\u001b[0m\u001b[0m\n\u001b[1;32m    448\u001b[0m                 \u001b[0;31m# If this is a location locked operation and the location is not set,\u001b[0m\u001b[0;34m\u001b[0m\u001b[0;34m\u001b[0m\u001b[0;34m\u001b[0m\u001b[0m\n",
            "\u001b[0;32m/usr/local/lib/python3.7/dist-packages/azure/storage/common/storageclient.py\u001b[0m in \u001b[0;36m_perform_request\u001b[0;34m(self, request, parser, parser_args, operation_context, expected_errors)\u001b[0m\n\u001b[1;32m    372\u001b[0m                 \u001b[0;32mexcept\u001b[0m \u001b[0mAzureException\u001b[0m \u001b[0;32mas\u001b[0m \u001b[0mex\u001b[0m\u001b[0;34m:\u001b[0m\u001b[0;34m\u001b[0m\u001b[0;34m\u001b[0m\u001b[0m\n\u001b[1;32m    373\u001b[0m                     \u001b[0mretry_context\u001b[0m\u001b[0;34m.\u001b[0m\u001b[0mexception\u001b[0m \u001b[0;34m=\u001b[0m \u001b[0mex\u001b[0m\u001b[0;34m\u001b[0m\u001b[0;34m\u001b[0m\u001b[0m\n\u001b[0;32m--> 374\u001b[0;31m                     \u001b[0;32mraise\u001b[0m \u001b[0mex\u001b[0m\u001b[0;34m\u001b[0m\u001b[0;34m\u001b[0m\u001b[0m\n\u001b[0m\u001b[1;32m    375\u001b[0m                 \u001b[0;32mexcept\u001b[0m \u001b[0mException\u001b[0m \u001b[0;32mas\u001b[0m \u001b[0mex\u001b[0m\u001b[0;34m:\u001b[0m\u001b[0;34m\u001b[0m\u001b[0;34m\u001b[0m\u001b[0m\n\u001b[1;32m    376\u001b[0m                     \u001b[0mretry_context\u001b[0m\u001b[0;34m.\u001b[0m\u001b[0mexception\u001b[0m \u001b[0;34m=\u001b[0m \u001b[0mex\u001b[0m\u001b[0;34m\u001b[0m\u001b[0;34m\u001b[0m\u001b[0m\n",
            "\u001b[0;32m/usr/local/lib/python3.7/dist-packages/azure/storage/common/storageclient.py\u001b[0m in \u001b[0;36m_perform_request\u001b[0;34m(self, request, parser, parser_args, operation_context, expected_errors)\u001b[0m\n\u001b[1;32m    358\u001b[0m                         \u001b[0;31m# and raised as an azure http exception\u001b[0m\u001b[0;34m\u001b[0m\u001b[0;34m\u001b[0m\u001b[0;34m\u001b[0m\u001b[0m\n\u001b[1;32m    359\u001b[0m                         _http_error_handler(\n\u001b[0;32m--> 360\u001b[0;31m                             HTTPError(response.status, response.message, response.headers, response.body))\n\u001b[0m\u001b[1;32m    361\u001b[0m \u001b[0;34m\u001b[0m\u001b[0m\n\u001b[1;32m    362\u001b[0m                     \u001b[0;31m# Parse the response\u001b[0m\u001b[0;34m\u001b[0m\u001b[0;34m\u001b[0m\u001b[0;34m\u001b[0m\u001b[0m\n",
            "\u001b[0;32m/usr/local/lib/python3.7/dist-packages/azure/storage/common/_error.py\u001b[0m in \u001b[0;36m_http_error_handler\u001b[0;34m(http_error)\u001b[0m\n\u001b[1;32m    113\u001b[0m     \u001b[0mex\u001b[0m\u001b[0;34m.\u001b[0m\u001b[0merror_code\u001b[0m \u001b[0;34m=\u001b[0m \u001b[0merror_code\u001b[0m\u001b[0;34m\u001b[0m\u001b[0;34m\u001b[0m\u001b[0m\n\u001b[1;32m    114\u001b[0m \u001b[0;34m\u001b[0m\u001b[0m\n\u001b[0;32m--> 115\u001b[0;31m     \u001b[0;32mraise\u001b[0m \u001b[0mex\u001b[0m\u001b[0;34m\u001b[0m\u001b[0;34m\u001b[0m\u001b[0m\n\u001b[0m\u001b[1;32m    116\u001b[0m \u001b[0;34m\u001b[0m\u001b[0m\n\u001b[1;32m    117\u001b[0m \u001b[0;34m\u001b[0m\u001b[0m\n",
            "\u001b[0;31mAzureMissingResourceHttpError\u001b[0m: The specified resource does not exist. ErrorCode: ResourceNotFound\n<?xml version=\"1.0\" encoding=\"utf-8\"?><Error><Code>ResourceNotFound</Code><Message>The specified resource does not exist.\nRequestId:7794017f-b01a-004a-4b0a-f3140a000000\nTime:2022-11-08T00:41:19.7571988Z</Message></Error>"
          ]
        }
      ]
    },
    {
      "cell_type": "code",
      "source": [
        "# 공유 폴더 삭제\n",
        "\n",
        "file_service.delete_share('myshare')"
      ],
      "metadata": {
        "colab": {
          "base_uri": "https://localhost:8080/"
        },
        "id": "FOics5bzqwkB",
        "outputId": "e3bfd742-7845-438b-cd32-dc1a0554ad33"
      },
      "execution_count": null,
      "outputs": [
        {
          "output_type": "execute_result",
          "data": {
            "text/plain": [
              "True"
            ]
          },
          "metadata": {},
          "execution_count": 23
        }
      ]
    }
  ]
}