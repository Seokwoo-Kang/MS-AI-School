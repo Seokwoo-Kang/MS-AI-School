{
  "nbformat": 4,
  "nbformat_minor": 0,
  "metadata": {
    "colab": {
      "provenance": []
    },
    "kernelspec": {
      "name": "python3",
      "display_name": "Python 3"
    },
    "language_info": {
      "name": "python"
    }
  },
  "cells": [
    {
      "cell_type": "code",
      "execution_count": 4,
      "metadata": {
        "colab": {
          "base_uri": "https://localhost:8080/"
        },
        "id": "FT2ksIYHnfZX",
        "outputId": "8c7a5086-af78-4059-b583-1a43e4e833a0"
      },
      "outputs": [
        {
          "output_type": "stream",
          "name": "stdout",
          "text": [
            "[1 2 3 4]\n",
            "<class 'numpy.ndarray'>\n"
          ]
        }
      ],
      "source": [
        "import numpy as np # 패키지 numpy 를 불러와서 np라고 부르겠다\n",
        "\n",
        "arr = np.array([1,2,3,4])  # Python List 형식\n",
        "print(arr)                 # 출력물 = Numpy\n",
        "print(type(arr))         "
      ]
    },
    {
      "cell_type": "code",
      "source": [
        "# 0으로 초기화된 배열 생성\n",
        "\n",
        "arr = np.zeros((3,3))\n",
        "print(arr)"
      ],
      "metadata": {
        "colab": {
          "base_uri": "https://localhost:8080/"
        },
        "id": "N1BZPx-Doix-",
        "outputId": "71f851ea-2d0c-4149-a130-222b2d559fe0"
      },
      "execution_count": 5,
      "outputs": [
        {
          "output_type": "stream",
          "name": "stdout",
          "text": [
            "[[0. 0. 0.]\n",
            " [0. 0. 0.]\n",
            " [0. 0. 0.]]\n"
          ]
        }
      ]
    },
    {
      "cell_type": "code",
      "source": [
        "# 빈 값으로 만들어진 배열??? # 0으로 초기화 시키는 이유\n",
        "arr1 = np.empty((3,3))\n",
        "arr2 = np.empty((4,4))\n",
        "print(arr1)\n",
        "print(arr2)"
      ],
      "metadata": {
        "colab": {
          "base_uri": "https://localhost:8080/"
        },
        "id": "UvERPJZJqFqQ",
        "outputId": "92c8cf5d-83d8-40db-bcd5-fb05feacfc14"
      },
      "execution_count": 8,
      "outputs": [
        {
          "output_type": "stream",
          "name": "stdout",
          "text": [
            "[[0. 0. 0.]\n",
            " [0. 0. 0.]\n",
            " [0. 0. 0.]]\n",
            "[[2.30277911e-316 3.80430547e-322 0.00000000e+000 0.00000000e+000]\n",
            " [0.00000000e+000 1.50008929e+248 4.31174539e-096 9.80058441e+252]\n",
            " [1.23971686e+224 2.59031995e-144 6.06003395e+233 1.06400250e+248]\n",
            " [2.59050167e-144 5.22286946e-143 2.66023306e-312 0.00000000e+000]]\n"
          ]
        }
      ]
    },
    {
      "cell_type": "code",
      "source": [
        "# 1로 가득찬 배열 생성\n",
        "arr = np.ones((3,3))\n",
        "\n",
        "print(arr)"
      ],
      "metadata": {
        "colab": {
          "base_uri": "https://localhost:8080/"
        },
        "id": "9TLI4ZmVqOH0",
        "outputId": "798877de-3052-4e4f-a732-3a5d191c44aa"
      },
      "execution_count": 9,
      "outputs": [
        {
          "output_type": "stream",
          "name": "stdout",
          "text": [
            "[[1. 1. 1.]\n",
            " [1. 1. 1.]\n",
            " [1. 1. 1.]]\n"
          ]
        }
      ]
    },
    {
      "cell_type": "markdown",
      "source": [
        "생성된 배열내 숫자뒤의 점의 의미\n",
        "\n",
        "항상 실수로 표현가능하다\n",
        "기본적으로 실수(메모리는 커지지만 같은타입으로 처리속도 증가)"
      ],
      "metadata": {
        "id": "oHLFHsWnq77r"
      }
    },
    {
      "cell_type": "code",
      "source": [
        "# 배열의 생성\n",
        "arr = np.arange(10)    #10개 짜리 배열 생성 0~9\n",
        "print(arr)"
      ],
      "metadata": {
        "colab": {
          "base_uri": "https://localhost:8080/"
        },
        "id": "nVtFdmkJq1RE",
        "outputId": "8fdf90cc-fd0e-45bb-e552-9f404f62a43c"
      },
      "execution_count": 10,
      "outputs": [
        {
          "output_type": "stream",
          "name": "stdout",
          "text": [
            "[0 1 2 3 4 5 6 7 8 9]\n"
          ]
        }
      ]
    },
    {
      "cell_type": "code",
      "source": [
        "# ndarray 배열의 모양, 차수, 데이터 타입 확인\n",
        "\n",
        "arr = np.array([[1,2,3],[4,5,6]])\n",
        "print(arr)"
      ],
      "metadata": {
        "colab": {
          "base_uri": "https://localhost:8080/"
        },
        "id": "Nzdlee5Lrhry",
        "outputId": "59fc733a-b189-44b3-ba47-d8af70b57df0"
      },
      "execution_count": 11,
      "outputs": [
        {
          "output_type": "stream",
          "name": "stdout",
          "text": [
            "[[1 2 3]\n",
            " [4 5 6]]\n"
          ]
        }
      ]
    },
    {
      "cell_type": "markdown",
      "source": [
        "숫자 뒤의 점이 없으므로\n",
        "\n",
        "이 배열은 정수형 배열\n",
        "\n",
        "-> 배열 생성시 넣은 값 자체가 정수기 때문에"
      ],
      "metadata": {
        "id": "qtk_J0yQsaNQ"
      }
    },
    {
      "cell_type": "code",
      "source": [
        "# 전체 배열 모양 확인\n",
        "arr.shape"
      ],
      "metadata": {
        "colab": {
          "base_uri": "https://localhost:8080/"
        },
        "id": "QkjFnJ7vsOxk",
        "outputId": "80b90f42-41b2-4f91-e9fe-2389a0c7e2d2"
      },
      "execution_count": 12,
      "outputs": [
        {
          "output_type": "execute_result",
          "data": {
            "text/plain": [
              "(2, 3)"
            ]
          },
          "metadata": {},
          "execution_count": 12
        }
      ]
    },
    {
      "cell_type": "code",
      "source": [
        "# 배열 차원 확인\n",
        "arr.ndim"
      ],
      "metadata": {
        "colab": {
          "base_uri": "https://localhost:8080/"
        },
        "id": "qOkp0J1NsT5W",
        "outputId": "473777d2-f5de-45a8-e3ca-a36f8f6c380d"
      },
      "execution_count": 13,
      "outputs": [
        {
          "output_type": "execute_result",
          "data": {
            "text/plain": [
              "2"
            ]
          },
          "metadata": {},
          "execution_count": 13
        }
      ]
    },
    {
      "cell_type": "code",
      "source": [
        "# 배열의 데이터 타입\n",
        "arr.dtype"
      ],
      "metadata": {
        "colab": {
          "base_uri": "https://localhost:8080/"
        },
        "id": "pp3IIhwxs9iF",
        "outputId": "b9e35efa-6eea-4a0b-e2df-83a7f8036b9f"
      },
      "execution_count": 14,
      "outputs": [
        {
          "output_type": "execute_result",
          "data": {
            "text/plain": [
              "dtype('int64')"
            ]
          },
          "metadata": {},
          "execution_count": 14
        }
      ]
    },
    {
      "cell_type": "code",
      "source": [
        "# 배열 데이터 타입 변경\n",
        "arr_float = arr.astype(np.float64)\n",
        "arr_float.dtype"
      ],
      "metadata": {
        "colab": {
          "base_uri": "https://localhost:8080/"
        },
        "id": "aItU8N7CtGAP",
        "outputId": "51340eea-9716-40fe-811e-e8add23afb45"
      },
      "execution_count": 15,
      "outputs": [
        {
          "output_type": "execute_result",
          "data": {
            "text/plain": [
              "dtype('float64')"
            ]
          },
          "metadata": {},
          "execution_count": 15
        }
      ]
    },
    {
      "cell_type": "code",
      "source": [
        "arr_str = np.array(['1','2','3'])\n",
        "arr_str.dtype"
      ],
      "metadata": {
        "colab": {
          "base_uri": "https://localhost:8080/"
        },
        "id": "_IlM7p9IthMI",
        "outputId": "e841ac0e-6476-4b08-c443-f948c9c3b7fa"
      },
      "execution_count": 17,
      "outputs": [
        {
          "output_type": "execute_result",
          "data": {
            "text/plain": [
              "dtype('<U1')"
            ]
          },
          "metadata": {},
          "execution_count": 17
        }
      ]
    },
    {
      "cell_type": "markdown",
      "source": [
        "유니코드 타입이다"
      ],
      "metadata": {
        "id": "iAXnUwRlt1w1"
      }
    },
    {
      "cell_type": "code",
      "source": [
        " # 문자형을 정수형으로 변경\n",
        "\n",
        "arr_int = arr_str.astype(np.int64)\n",
        "arr_int.dtype"
      ],
      "metadata": {
        "colab": {
          "base_uri": "https://localhost:8080/"
        },
        "id": "NcHOgZEXtt8Z",
        "outputId": "17dcc6ae-d56b-4ea4-e0ff-59200b14cede"
      },
      "execution_count": 19,
      "outputs": [
        {
          "output_type": "execute_result",
          "data": {
            "text/plain": [
              "dtype('int64')"
            ]
          },
          "metadata": {},
          "execution_count": 19
        }
      ]
    },
    {
      "cell_type": "code",
      "source": [
        "# ndarray(Numpy 배열)의 연산방법\n",
        "\n",
        "arr1 = np.array([[1,2],[3,4]])\n",
        "arr2 = np.array([[5,6],[7,8]])"
      ],
      "metadata": {
        "id": "madz3Cn0uK92"
      },
      "execution_count": 20,
      "outputs": []
    },
    {
      "cell_type": "code",
      "source": [
        "arr1 + arr2"
      ],
      "metadata": {
        "colab": {
          "base_uri": "https://localhost:8080/"
        },
        "id": "ruZpDymOut-9",
        "outputId": "c28def7e-349e-4fb2-86ba-e8c2262975e1"
      },
      "execution_count": 21,
      "outputs": [
        {
          "output_type": "execute_result",
          "data": {
            "text/plain": [
              "array([[ 6,  8],\n",
              "       [10, 12]])"
            ]
          },
          "metadata": {},
          "execution_count": 21
        }
      ]
    },
    {
      "cell_type": "code",
      "source": [
        "# 명령어로 덧셈\n",
        "np.add(arr1, arr2)"
      ],
      "metadata": {
        "colab": {
          "base_uri": "https://localhost:8080/"
        },
        "id": "Hzs9BhK_vKGF",
        "outputId": "5dff7e4a-d546-4d3f-90b0-18763c9f51e8"
      },
      "execution_count": 22,
      "outputs": [
        {
          "output_type": "execute_result",
          "data": {
            "text/plain": [
              "array([[ 6,  8],\n",
              "       [10, 12]])"
            ]
          },
          "metadata": {},
          "execution_count": 22
        }
      ]
    },
    {
      "cell_type": "code",
      "source": [
        "arr1 * arr2"
      ],
      "metadata": {
        "colab": {
          "base_uri": "https://localhost:8080/"
        },
        "id": "tSTaratjvTxH",
        "outputId": "f477296e-0802-45ef-db36-11749b62a200"
      },
      "execution_count": 23,
      "outputs": [
        {
          "output_type": "execute_result",
          "data": {
            "text/plain": [
              "array([[ 5, 12],\n",
              "       [21, 32]])"
            ]
          },
          "metadata": {},
          "execution_count": 23
        }
      ]
    },
    {
      "cell_type": "code",
      "source": [
        "# 명령어로 곱셉\n",
        "np.multiply(arr1, arr2)"
      ],
      "metadata": {
        "colab": {
          "base_uri": "https://localhost:8080/"
        },
        "id": "5elynAsgvXV_",
        "outputId": "be031662-83bb-4777-dea4-13ba8300cffb"
      },
      "execution_count": 24,
      "outputs": [
        {
          "output_type": "execute_result",
          "data": {
            "text/plain": [
              "array([[ 5, 12],\n",
              "       [21, 32]])"
            ]
          },
          "metadata": {},
          "execution_count": 24
        }
      ]
    },
    {
      "cell_type": "code",
      "source": [
        "# ndarray 배열 슬라이싱 하기\n",
        "\n",
        "arr = np.array([[1,2,3],[4,5,6],[7,8,9]])"
      ],
      "metadata": {
        "id": "MyD5NPWxvcd0"
      },
      "execution_count": 26,
      "outputs": []
    },
    {
      "cell_type": "code",
      "source": [
        "arr.ndim"
      ],
      "metadata": {
        "colab": {
          "base_uri": "https://localhost:8080/"
        },
        "id": "pY2qHJKPwF6m",
        "outputId": "40bddfcb-0f2b-48b7-8058-65baffcceb8a"
      },
      "execution_count": 27,
      "outputs": [
        {
          "output_type": "execute_result",
          "data": {
            "text/plain": [
              "2"
            ]
          },
          "metadata": {},
          "execution_count": 27
        }
      ]
    },
    {
      "cell_type": "code",
      "source": [
        "arr.shape"
      ],
      "metadata": {
        "colab": {
          "base_uri": "https://localhost:8080/"
        },
        "id": "OIirogZr6BRQ",
        "outputId": "aa0cfa44-b81d-44c2-980e-d56fe7e8a1b4"
      },
      "execution_count": 34,
      "outputs": [
        {
          "output_type": "execute_result",
          "data": {
            "text/plain": [
              "(3, 3)"
            ]
          },
          "metadata": {},
          "execution_count": 34
        }
      ]
    },
    {
      "cell_type": "code",
      "source": [
        "arr_1 = arr[:2,1:3]\n",
        "print(arr_1)"
      ],
      "metadata": {
        "colab": {
          "base_uri": "https://localhost:8080/"
        },
        "id": "dIkjcIK7wLnz",
        "outputId": "0e259505-7e62-4a16-c557-5b1fd93fc882"
      },
      "execution_count": 35,
      "outputs": [
        {
          "output_type": "stream",
          "name": "stdout",
          "text": [
            "[[2 3]\n",
            " [5 6]]\n"
          ]
        }
      ]
    },
    {
      "cell_type": "markdown",
      "source": [
        "arr(3,3) 배열( 3행 3열짜리)\n",
        "\n",
        "[:2]:처음부터 0, 1까지 즉 인덱스0,1에 해당하는 행을 가져옴\n",
        "\n",
        "[1:3] : 인덱스 1, 2에 해당하는 열을 가져옴"
      ],
      "metadata": {
        "id": "rVKKNudP5KF1"
      }
    },
    {
      "cell_type": "code",
      "source": [
        "arr[0,2] #인덱스 0행, 인덱스 2 호출"
      ],
      "metadata": {
        "colab": {
          "base_uri": "https://localhost:8080/"
        },
        "id": "XKBSiNlv42pc",
        "outputId": "ec26ed8a-48e2-43f0-e3cd-860c7607a52d"
      },
      "execution_count": 36,
      "outputs": [
        {
          "output_type": "execute_result",
          "data": {
            "text/plain": [
              "3"
            ]
          },
          "metadata": {},
          "execution_count": 36
        }
      ]
    },
    {
      "cell_type": "code",
      "source": [
        "arr[[0,1,2],[2,0,1]] #인덱스 0, 1, 2행, 인덱스 0행2, 1행0, 2행1 호출\n",
        "                     #첫번째 = 줄선택, 두번째 = 각줄 인덱스 선택"
      ],
      "metadata": {
        "colab": {
          "base_uri": "https://localhost:8080/"
        },
        "id": "_Wf01NJM62cq",
        "outputId": "266a25e9-9223-419f-a0c7-302c1d0c9752"
      },
      "execution_count": 37,
      "outputs": [
        {
          "output_type": "execute_result",
          "data": {
            "text/plain": [
              "array([3, 4, 8])"
            ]
          },
          "metadata": {},
          "execution_count": 37
        }
      ]
    },
    {
      "cell_type": "code",
      "source": [
        "idx = arr > 3\n",
        "print(idx)"
      ],
      "metadata": {
        "colab": {
          "base_uri": "https://localhost:8080/"
        },
        "id": "8tOUpYVF7f9j",
        "outputId": "c0069c75-9779-4658-f2c9-d691849e71fb"
      },
      "execution_count": 38,
      "outputs": [
        {
          "output_type": "stream",
          "name": "stdout",
          "text": [
            "[[False False False]\n",
            " [ True  True  True]\n",
            " [ True  True  True]]\n"
          ]
        }
      ]
    },
    {
      "cell_type": "code",
      "source": [
        "print(arr[idx])"
      ],
      "metadata": {
        "colab": {
          "base_uri": "https://localhost:8080/"
        },
        "id": "zsBV9XRK8Hem",
        "outputId": "55c917a8-9578-4c63-c504-51b812d192d3"
      },
      "execution_count": 39,
      "outputs": [
        {
          "output_type": "stream",
          "name": "stdout",
          "text": [
            "[4 5 6 7 8 9]\n"
          ]
        }
      ]
    },
    {
      "cell_type": "code",
      "source": [
        "np.loadtxt(fname='winequality-red.csv',delimiter=';',skiprows=1) #csv 파일 열기(파일지정, 구별자, 첫줄무시) "
      ],
      "metadata": {
        "colab": {
          "base_uri": "https://localhost:8080/"
        },
        "id": "BOEvBw7S8kfW",
        "outputId": "a3e9b79f-7b39-45c7-80b6-97be52847ebd"
      },
      "execution_count": 41,
      "outputs": [
        {
          "output_type": "execute_result",
          "data": {
            "text/plain": [
              "array([[ 7.4  ,  0.7  ,  0.   , ...,  0.56 ,  9.4  ,  5.   ],\n",
              "       [ 7.8  ,  0.88 ,  0.   , ...,  0.68 ,  9.8  ,  5.   ],\n",
              "       [ 7.8  ,  0.76 ,  0.04 , ...,  0.65 ,  9.8  ,  5.   ],\n",
              "       ...,\n",
              "       [ 6.3  ,  0.51 ,  0.13 , ...,  0.75 , 11.   ,  6.   ],\n",
              "       [ 5.9  ,  0.645,  0.12 , ...,  0.71 , 10.2  ,  5.   ],\n",
              "       [ 6.   ,  0.31 ,  0.47 , ...,  0.66 , 11.   ,  6.   ]])"
            ]
          },
          "metadata": {},
          "execution_count": 41
        }
      ]
    },
    {
      "cell_type": "code",
      "source": [
        "#저장하기\n",
        "redwine = np.loadtxt(fname='winequality-red.csv',delimiter=';',skiprows=1)\n",
        "print(redwine)"
      ],
      "metadata": {
        "colab": {
          "base_uri": "https://localhost:8080/"
        },
        "id": "zXIjueIr8kdH",
        "outputId": "47cd1116-cb01-4750-f651-2001502a190f"
      },
      "execution_count": 42,
      "outputs": [
        {
          "output_type": "stream",
          "name": "stdout",
          "text": [
            "[[ 7.4    0.7    0.    ...  0.56   9.4    5.   ]\n",
            " [ 7.8    0.88   0.    ...  0.68   9.8    5.   ]\n",
            " [ 7.8    0.76   0.04  ...  0.65   9.8    5.   ]\n",
            " ...\n",
            " [ 6.3    0.51   0.13  ...  0.75  11.     6.   ]\n",
            " [ 5.9    0.645  0.12  ...  0.71  10.2    5.   ]\n",
            " [ 6.     0.31   0.47  ...  0.66  11.     6.   ]]\n"
          ]
        }
      ]
    },
    {
      "cell_type": "code",
      "source": [
        "# 합계\n",
        "\n",
        "print(redwine.sum())"
      ],
      "metadata": {
        "colab": {
          "base_uri": "https://localhost:8080/"
        },
        "id": "R0K5y3qE8kVg",
        "outputId": "6f7749cb-28c6-4f25-b445-72d48d15e641"
      },
      "execution_count": 43,
      "outputs": [
        {
          "output_type": "stream",
          "name": "stdout",
          "text": [
            "152084.78194\n"
          ]
        }
      ]
    },
    {
      "cell_type": "code",
      "source": [
        "#평균\n",
        "\n",
        "print(redwine.mean())"
      ],
      "metadata": {
        "colab": {
          "base_uri": "https://localhost:8080/"
        },
        "id": "911gSBOh89W7",
        "outputId": "f5d7ebf6-f08c-4777-ea57-8268b975176c"
      },
      "execution_count": 44,
      "outputs": [
        {
          "output_type": "stream",
          "name": "stdout",
          "text": [
            "7.926036165311652\n"
          ]
        }
      ]
    },
    {
      "cell_type": "markdown",
      "source": [
        "합계 평균 작업\n",
        "\n",
        "데이터 기준 축을 고려해야함\n",
        "\n",
        "<0번축 기준 합>\n",
        "sum(axis=0)\n",
        "\n",
        "<1번축 기준 합>\n",
        "sum(axis=1)"
      ],
      "metadata": {
        "id": "lG68XA2W9AnS"
      }
    },
    {
      "cell_type": "code",
      "source": [
        "# 축(axis)\n",
        "print(redwine.sum(axis=0))"
      ],
      "metadata": {
        "colab": {
          "base_uri": "https://localhost:8080/"
        },
        "id": "--GHJISm89Uo",
        "outputId": "fccfd926-0a03-4470-fcdf-3acefd8f4faf"
      },
      "execution_count": 45,
      "outputs": [
        {
          "output_type": "stream",
          "name": "stdout",
          "text": [
            "[13303.1       843.985     433.29     4059.55      139.859   25384.\n",
            " 74302.       1593.79794  5294.47     1052.38    16666.35     9012.     ]\n"
          ]
        }
      ]
    },
    {
      "cell_type": "code",
      "source": [
        "print(redwine.mean(axis=0))"
      ],
      "metadata": {
        "colab": {
          "base_uri": "https://localhost:8080/"
        },
        "id": "BoFUlCtL89Ml",
        "outputId": "49c2208a-a4ad-4bd9-b8c0-b4b2e9e98f78"
      },
      "execution_count": 46,
      "outputs": [
        {
          "output_type": "stream",
          "name": "stdout",
          "text": [
            "[ 8.31963727  0.52782051  0.27097561  2.5388055   0.08746654 15.87492183\n",
            " 46.46779237  0.99674668  3.3111132   0.65814884 10.42298311  5.63602251]\n"
          ]
        }
      ]
    },
    {
      "cell_type": "code",
      "source": [
        "#슬라이싱 처리\n",
        "\n",
        "redwine[:,0].mean()"
      ],
      "metadata": {
        "colab": {
          "base_uri": "https://localhost:8080/"
        },
        "id": "ygGKEcIi9Jn3",
        "outputId": "f814ef2b-bd57-4328-bebb-704a06c39f95"
      },
      "execution_count": 47,
      "outputs": [
        {
          "output_type": "execute_result",
          "data": {
            "text/plain": [
              "8.31963727329581"
            ]
          },
          "metadata": {},
          "execution_count": 47
        }
      ]
    },
    {
      "cell_type": "markdown",
      "source": [
        "redwine[:,0]\n",
        "  <-:->, 0(첫번째 컬럼 선택)\n",
        "\n",
        "  0번축 평균의 첫번째 데이터와 일치"
      ],
      "metadata": {
        "id": "s4S1GqGs9OM2"
      }
    },
    {
      "cell_type": "code",
      "source": [
        "redwine.max(axis=0)"
      ],
      "metadata": {
        "colab": {
          "base_uri": "https://localhost:8080/"
        },
        "id": "XoLA8ulc9Jhg",
        "outputId": "112d1be1-5055-40cc-e3a9-835dd6a2b0d2"
      },
      "execution_count": 48,
      "outputs": [
        {
          "output_type": "execute_result",
          "data": {
            "text/plain": [
              "array([ 15.9    ,   1.58   ,   1.     ,  15.5    ,   0.611  ,  72.     ,\n",
              "       289.     ,   1.00369,   4.01   ,   2.     ,  14.9    ,   8.     ])"
            ]
          },
          "metadata": {},
          "execution_count": 48
        }
      ]
    },
    {
      "cell_type": "code",
      "source": [
        "redwine.min(axis=0)"
      ],
      "metadata": {
        "colab": {
          "base_uri": "https://localhost:8080/"
        },
        "id": "Y9vd5ZI99JZ6",
        "outputId": "de2e06c2-c7c5-44cd-89d9-6ade50113293"
      },
      "execution_count": 49,
      "outputs": [
        {
          "output_type": "execute_result",
          "data": {
            "text/plain": [
              "array([4.6    , 0.12   , 0.     , 0.9    , 0.012  , 1.     , 6.     ,\n",
              "       0.99007, 2.74   , 0.33   , 8.4    , 3.     ])"
            ]
          },
          "metadata": {},
          "execution_count": 49
        }
      ]
    },
    {
      "cell_type": "markdown",
      "source": [
        "CSV 문서 불러오기\n",
        "축, 배열 이해\n"
      ],
      "metadata": {
        "id": "_VqxGvDW9UI3"
      }
    }
  ]
}