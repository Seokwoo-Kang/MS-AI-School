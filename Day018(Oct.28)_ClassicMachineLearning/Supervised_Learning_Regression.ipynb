{
  "nbformat": 4,
  "nbformat_minor": 0,
  "metadata": {
    "colab": {
      "provenance": [],
      "collapsed_sections": []
    },
    "kernelspec": {
      "name": "python3",
      "display_name": "Python 3"
    },
    "language_info": {
      "name": "python"
    }
  },
  "cells": [
    {
      "cell_type": "code",
      "execution_count": 1,
      "metadata": {
        "id": "Af8rLXF57f0l"
      },
      "outputs": [],
      "source": [
        "# 중간중간에 import 들어가는건 좋지않음\n",
        "# 사용할 패키지들을 미리 다 불러오는게 좋다\n",
        "\n",
        "import numpy as np\n",
        "import pandas as pd\n",
        "import sklearn\n",
        "import matplotlib.pyplot as plt"
      ]
    },
    {
      "cell_type": "code",
      "source": [
        "from sklearn.datasets import load_boston\n",
        "boston = load_boston()"
      ],
      "metadata": {
        "colab": {
          "base_uri": "https://localhost:8080/"
        },
        "id": "HFE3d7Zg8-mV",
        "outputId": "00bb1abb-9a54-4c6c-9622-ec0999ef17f2"
      },
      "execution_count": 2,
      "outputs": [
        {
          "output_type": "stream",
          "name": "stderr",
          "text": [
            "/usr/local/lib/python3.7/dist-packages/sklearn/utils/deprecation.py:87: FutureWarning: Function load_boston is deprecated; `load_boston` is deprecated in 1.0 and will be removed in 1.2.\n",
            "\n",
            "    The Boston housing prices dataset has an ethical problem. You can refer to\n",
            "    the documentation of this function for further details.\n",
            "\n",
            "    The scikit-learn maintainers therefore strongly discourage the use of this\n",
            "    dataset unless the purpose of the code is to study and educate about\n",
            "    ethical issues in data science and machine learning.\n",
            "\n",
            "    In this special case, you can fetch the dataset from the original\n",
            "    source::\n",
            "\n",
            "        import pandas as pd\n",
            "        import numpy as np\n",
            "\n",
            "\n",
            "        data_url = \"http://lib.stat.cmu.edu/datasets/boston\"\n",
            "        raw_df = pd.read_csv(data_url, sep=\"\\s+\", skiprows=22, header=None)\n",
            "        data = np.hstack([raw_df.values[::2, :], raw_df.values[1::2, :2]])\n",
            "        target = raw_df.values[1::2, 2]\n",
            "\n",
            "    Alternative datasets include the California housing dataset (i.e.\n",
            "    :func:`~sklearn.datasets.fetch_california_housing`) and the Ames housing\n",
            "    dataset. You can load the datasets as follows::\n",
            "\n",
            "        from sklearn.datasets import fetch_california_housing\n",
            "        housing = fetch_california_housing()\n",
            "\n",
            "    for the California housing dataset and::\n",
            "\n",
            "        from sklearn.datasets import fetch_openml\n",
            "        housing = fetch_openml(name=\"house_prices\", as_frame=True)\n",
            "\n",
            "    for the Ames housing dataset.\n",
            "    \n",
            "  warnings.warn(msg, category=FutureWarning)\n"
          ]
        }
      ]
    },
    {
      "cell_type": "code",
      "source": [
        "# warnings.warn(msg, category=FutureWarning)와 같은 경고 무시하는방법\n",
        "\n",
        "import warnings\n",
        "warnings.filterwarnings('ignore')\n",
        "\n",
        "boston = load_boston()"
      ],
      "metadata": {
        "id": "CwIGJ3KS9wJh"
      },
      "execution_count": 3,
      "outputs": []
    },
    {
      "cell_type": "code",
      "source": [
        "print(boston['DESCR'])"
      ],
      "metadata": {
        "colab": {
          "base_uri": "https://localhost:8080/"
        },
        "id": "-36xiD_v95aM",
        "outputId": "6f133a6b-9127-4721-db52-eb29ea1de277"
      },
      "execution_count": 4,
      "outputs": [
        {
          "output_type": "stream",
          "name": "stdout",
          "text": [
            ".. _boston_dataset:\n",
            "\n",
            "Boston house prices dataset\n",
            "---------------------------\n",
            "\n",
            "**Data Set Characteristics:**  \n",
            "\n",
            "    :Number of Instances: 506 \n",
            "\n",
            "    :Number of Attributes: 13 numeric/categorical predictive. Median Value (attribute 14) is usually the target.\n",
            "\n",
            "    :Attribute Information (in order):\n",
            "        - CRIM     per capita crime rate by town\n",
            "        - ZN       proportion of residential land zoned for lots over 25,000 sq.ft.\n",
            "        - INDUS    proportion of non-retail business acres per town\n",
            "        - CHAS     Charles River dummy variable (= 1 if tract bounds river; 0 otherwise)\n",
            "        - NOX      nitric oxides concentration (parts per 10 million)\n",
            "        - RM       average number of rooms per dwelling\n",
            "        - AGE      proportion of owner-occupied units built prior to 1940\n",
            "        - DIS      weighted distances to five Boston employment centres\n",
            "        - RAD      index of accessibility to radial highways\n",
            "        - TAX      full-value property-tax rate per $10,000\n",
            "        - PTRATIO  pupil-teacher ratio by town\n",
            "        - B        1000(Bk - 0.63)^2 where Bk is the proportion of black people by town\n",
            "        - LSTAT    % lower status of the population\n",
            "        - MEDV     Median value of owner-occupied homes in $1000's\n",
            "\n",
            "    :Missing Attribute Values: None\n",
            "\n",
            "    :Creator: Harrison, D. and Rubinfeld, D.L.\n",
            "\n",
            "This is a copy of UCI ML housing dataset.\n",
            "https://archive.ics.uci.edu/ml/machine-learning-databases/housing/\n",
            "\n",
            "\n",
            "This dataset was taken from the StatLib library which is maintained at Carnegie Mellon University.\n",
            "\n",
            "The Boston house-price data of Harrison, D. and Rubinfeld, D.L. 'Hedonic\n",
            "prices and the demand for clean air', J. Environ. Economics & Management,\n",
            "vol.5, 81-102, 1978.   Used in Belsley, Kuh & Welsch, 'Regression diagnostics\n",
            "...', Wiley, 1980.   N.B. Various transformations are used in the table on\n",
            "pages 244-261 of the latter.\n",
            "\n",
            "The Boston house-price data has been used in many machine learning papers that address regression\n",
            "problems.   \n",
            "     \n",
            ".. topic:: References\n",
            "\n",
            "   - Belsley, Kuh & Welsch, 'Regression diagnostics: Identifying Influential Data and Sources of Collinearity', Wiley, 1980. 244-261.\n",
            "   - Quinlan,R. (1993). Combining Instance-Based and Model-Based Learning. In Proceedings on the Tenth International Conference of Machine Learning, 236-243, University of Massachusetts, Amherst. Morgan Kaufmann.\n",
            "\n"
          ]
        }
      ]
    },
    {
      "cell_type": "code",
      "source": [
        "# data, label, columns가 필요함\n",
        "data = boston.data\n",
        "label = boston.target\n",
        "columns = boston.feature_names"
      ],
      "metadata": {
        "id": "EOGVvLCU-EyJ"
      },
      "execution_count": 5,
      "outputs": []
    },
    {
      "cell_type": "code",
      "source": [
        "# dataframe 객체로 \n",
        "pd.DataFrame(data, columns = columns)"
      ],
      "metadata": {
        "colab": {
          "base_uri": "https://localhost:8080/",
          "height": 487
        },
        "id": "Mda6n3fj-lkI",
        "outputId": "fd622038-5ef1-4f56-8f74-2d2d5bdce5a5"
      },
      "execution_count": 6,
      "outputs": [
        {
          "output_type": "execute_result",
          "data": {
            "text/plain": [
              "        CRIM    ZN  INDUS  CHAS    NOX     RM   AGE     DIS  RAD    TAX  \\\n",
              "0    0.00632  18.0   2.31   0.0  0.538  6.575  65.2  4.0900  1.0  296.0   \n",
              "1    0.02731   0.0   7.07   0.0  0.469  6.421  78.9  4.9671  2.0  242.0   \n",
              "2    0.02729   0.0   7.07   0.0  0.469  7.185  61.1  4.9671  2.0  242.0   \n",
              "3    0.03237   0.0   2.18   0.0  0.458  6.998  45.8  6.0622  3.0  222.0   \n",
              "4    0.06905   0.0   2.18   0.0  0.458  7.147  54.2  6.0622  3.0  222.0   \n",
              "..       ...   ...    ...   ...    ...    ...   ...     ...  ...    ...   \n",
              "501  0.06263   0.0  11.93   0.0  0.573  6.593  69.1  2.4786  1.0  273.0   \n",
              "502  0.04527   0.0  11.93   0.0  0.573  6.120  76.7  2.2875  1.0  273.0   \n",
              "503  0.06076   0.0  11.93   0.0  0.573  6.976  91.0  2.1675  1.0  273.0   \n",
              "504  0.10959   0.0  11.93   0.0  0.573  6.794  89.3  2.3889  1.0  273.0   \n",
              "505  0.04741   0.0  11.93   0.0  0.573  6.030  80.8  2.5050  1.0  273.0   \n",
              "\n",
              "     PTRATIO       B  LSTAT  \n",
              "0       15.3  396.90   4.98  \n",
              "1       17.8  396.90   9.14  \n",
              "2       17.8  392.83   4.03  \n",
              "3       18.7  394.63   2.94  \n",
              "4       18.7  396.90   5.33  \n",
              "..       ...     ...    ...  \n",
              "501     21.0  391.99   9.67  \n",
              "502     21.0  396.90   9.08  \n",
              "503     21.0  396.90   5.64  \n",
              "504     21.0  393.45   6.48  \n",
              "505     21.0  396.90   7.88  \n",
              "\n",
              "[506 rows x 13 columns]"
            ],
            "text/html": [
              "\n",
              "  <div id=\"df-995fda24-88bb-4041-84a8-ff959fc33d34\">\n",
              "    <div class=\"colab-df-container\">\n",
              "      <div>\n",
              "<style scoped>\n",
              "    .dataframe tbody tr th:only-of-type {\n",
              "        vertical-align: middle;\n",
              "    }\n",
              "\n",
              "    .dataframe tbody tr th {\n",
              "        vertical-align: top;\n",
              "    }\n",
              "\n",
              "    .dataframe thead th {\n",
              "        text-align: right;\n",
              "    }\n",
              "</style>\n",
              "<table border=\"1\" class=\"dataframe\">\n",
              "  <thead>\n",
              "    <tr style=\"text-align: right;\">\n",
              "      <th></th>\n",
              "      <th>CRIM</th>\n",
              "      <th>ZN</th>\n",
              "      <th>INDUS</th>\n",
              "      <th>CHAS</th>\n",
              "      <th>NOX</th>\n",
              "      <th>RM</th>\n",
              "      <th>AGE</th>\n",
              "      <th>DIS</th>\n",
              "      <th>RAD</th>\n",
              "      <th>TAX</th>\n",
              "      <th>PTRATIO</th>\n",
              "      <th>B</th>\n",
              "      <th>LSTAT</th>\n",
              "    </tr>\n",
              "  </thead>\n",
              "  <tbody>\n",
              "    <tr>\n",
              "      <th>0</th>\n",
              "      <td>0.00632</td>\n",
              "      <td>18.0</td>\n",
              "      <td>2.31</td>\n",
              "      <td>0.0</td>\n",
              "      <td>0.538</td>\n",
              "      <td>6.575</td>\n",
              "      <td>65.2</td>\n",
              "      <td>4.0900</td>\n",
              "      <td>1.0</td>\n",
              "      <td>296.0</td>\n",
              "      <td>15.3</td>\n",
              "      <td>396.90</td>\n",
              "      <td>4.98</td>\n",
              "    </tr>\n",
              "    <tr>\n",
              "      <th>1</th>\n",
              "      <td>0.02731</td>\n",
              "      <td>0.0</td>\n",
              "      <td>7.07</td>\n",
              "      <td>0.0</td>\n",
              "      <td>0.469</td>\n",
              "      <td>6.421</td>\n",
              "      <td>78.9</td>\n",
              "      <td>4.9671</td>\n",
              "      <td>2.0</td>\n",
              "      <td>242.0</td>\n",
              "      <td>17.8</td>\n",
              "      <td>396.90</td>\n",
              "      <td>9.14</td>\n",
              "    </tr>\n",
              "    <tr>\n",
              "      <th>2</th>\n",
              "      <td>0.02729</td>\n",
              "      <td>0.0</td>\n",
              "      <td>7.07</td>\n",
              "      <td>0.0</td>\n",
              "      <td>0.469</td>\n",
              "      <td>7.185</td>\n",
              "      <td>61.1</td>\n",
              "      <td>4.9671</td>\n",
              "      <td>2.0</td>\n",
              "      <td>242.0</td>\n",
              "      <td>17.8</td>\n",
              "      <td>392.83</td>\n",
              "      <td>4.03</td>\n",
              "    </tr>\n",
              "    <tr>\n",
              "      <th>3</th>\n",
              "      <td>0.03237</td>\n",
              "      <td>0.0</td>\n",
              "      <td>2.18</td>\n",
              "      <td>0.0</td>\n",
              "      <td>0.458</td>\n",
              "      <td>6.998</td>\n",
              "      <td>45.8</td>\n",
              "      <td>6.0622</td>\n",
              "      <td>3.0</td>\n",
              "      <td>222.0</td>\n",
              "      <td>18.7</td>\n",
              "      <td>394.63</td>\n",
              "      <td>2.94</td>\n",
              "    </tr>\n",
              "    <tr>\n",
              "      <th>4</th>\n",
              "      <td>0.06905</td>\n",
              "      <td>0.0</td>\n",
              "      <td>2.18</td>\n",
              "      <td>0.0</td>\n",
              "      <td>0.458</td>\n",
              "      <td>7.147</td>\n",
              "      <td>54.2</td>\n",
              "      <td>6.0622</td>\n",
              "      <td>3.0</td>\n",
              "      <td>222.0</td>\n",
              "      <td>18.7</td>\n",
              "      <td>396.90</td>\n",
              "      <td>5.33</td>\n",
              "    </tr>\n",
              "    <tr>\n",
              "      <th>...</th>\n",
              "      <td>...</td>\n",
              "      <td>...</td>\n",
              "      <td>...</td>\n",
              "      <td>...</td>\n",
              "      <td>...</td>\n",
              "      <td>...</td>\n",
              "      <td>...</td>\n",
              "      <td>...</td>\n",
              "      <td>...</td>\n",
              "      <td>...</td>\n",
              "      <td>...</td>\n",
              "      <td>...</td>\n",
              "      <td>...</td>\n",
              "    </tr>\n",
              "    <tr>\n",
              "      <th>501</th>\n",
              "      <td>0.06263</td>\n",
              "      <td>0.0</td>\n",
              "      <td>11.93</td>\n",
              "      <td>0.0</td>\n",
              "      <td>0.573</td>\n",
              "      <td>6.593</td>\n",
              "      <td>69.1</td>\n",
              "      <td>2.4786</td>\n",
              "      <td>1.0</td>\n",
              "      <td>273.0</td>\n",
              "      <td>21.0</td>\n",
              "      <td>391.99</td>\n",
              "      <td>9.67</td>\n",
              "    </tr>\n",
              "    <tr>\n",
              "      <th>502</th>\n",
              "      <td>0.04527</td>\n",
              "      <td>0.0</td>\n",
              "      <td>11.93</td>\n",
              "      <td>0.0</td>\n",
              "      <td>0.573</td>\n",
              "      <td>6.120</td>\n",
              "      <td>76.7</td>\n",
              "      <td>2.2875</td>\n",
              "      <td>1.0</td>\n",
              "      <td>273.0</td>\n",
              "      <td>21.0</td>\n",
              "      <td>396.90</td>\n",
              "      <td>9.08</td>\n",
              "    </tr>\n",
              "    <tr>\n",
              "      <th>503</th>\n",
              "      <td>0.06076</td>\n",
              "      <td>0.0</td>\n",
              "      <td>11.93</td>\n",
              "      <td>0.0</td>\n",
              "      <td>0.573</td>\n",
              "      <td>6.976</td>\n",
              "      <td>91.0</td>\n",
              "      <td>2.1675</td>\n",
              "      <td>1.0</td>\n",
              "      <td>273.0</td>\n",
              "      <td>21.0</td>\n",
              "      <td>396.90</td>\n",
              "      <td>5.64</td>\n",
              "    </tr>\n",
              "    <tr>\n",
              "      <th>504</th>\n",
              "      <td>0.10959</td>\n",
              "      <td>0.0</td>\n",
              "      <td>11.93</td>\n",
              "      <td>0.0</td>\n",
              "      <td>0.573</td>\n",
              "      <td>6.794</td>\n",
              "      <td>89.3</td>\n",
              "      <td>2.3889</td>\n",
              "      <td>1.0</td>\n",
              "      <td>273.0</td>\n",
              "      <td>21.0</td>\n",
              "      <td>393.45</td>\n",
              "      <td>6.48</td>\n",
              "    </tr>\n",
              "    <tr>\n",
              "      <th>505</th>\n",
              "      <td>0.04741</td>\n",
              "      <td>0.0</td>\n",
              "      <td>11.93</td>\n",
              "      <td>0.0</td>\n",
              "      <td>0.573</td>\n",
              "      <td>6.030</td>\n",
              "      <td>80.8</td>\n",
              "      <td>2.5050</td>\n",
              "      <td>1.0</td>\n",
              "      <td>273.0</td>\n",
              "      <td>21.0</td>\n",
              "      <td>396.90</td>\n",
              "      <td>7.88</td>\n",
              "    </tr>\n",
              "  </tbody>\n",
              "</table>\n",
              "<p>506 rows × 13 columns</p>\n",
              "</div>\n",
              "      <button class=\"colab-df-convert\" onclick=\"convertToInteractive('df-995fda24-88bb-4041-84a8-ff959fc33d34')\"\n",
              "              title=\"Convert this dataframe to an interactive table.\"\n",
              "              style=\"display:none;\">\n",
              "        \n",
              "  <svg xmlns=\"http://www.w3.org/2000/svg\" height=\"24px\"viewBox=\"0 0 24 24\"\n",
              "       width=\"24px\">\n",
              "    <path d=\"M0 0h24v24H0V0z\" fill=\"none\"/>\n",
              "    <path d=\"M18.56 5.44l.94 2.06.94-2.06 2.06-.94-2.06-.94-.94-2.06-.94 2.06-2.06.94zm-11 1L8.5 8.5l.94-2.06 2.06-.94-2.06-.94L8.5 2.5l-.94 2.06-2.06.94zm10 10l.94 2.06.94-2.06 2.06-.94-2.06-.94-.94-2.06-.94 2.06-2.06.94z\"/><path d=\"M17.41 7.96l-1.37-1.37c-.4-.4-.92-.59-1.43-.59-.52 0-1.04.2-1.43.59L10.3 9.45l-7.72 7.72c-.78.78-.78 2.05 0 2.83L4 21.41c.39.39.9.59 1.41.59.51 0 1.02-.2 1.41-.59l7.78-7.78 2.81-2.81c.8-.78.8-2.07 0-2.86zM5.41 20L4 18.59l7.72-7.72 1.47 1.35L5.41 20z\"/>\n",
              "  </svg>\n",
              "      </button>\n",
              "      \n",
              "  <style>\n",
              "    .colab-df-container {\n",
              "      display:flex;\n",
              "      flex-wrap:wrap;\n",
              "      gap: 12px;\n",
              "    }\n",
              "\n",
              "    .colab-df-convert {\n",
              "      background-color: #E8F0FE;\n",
              "      border: none;\n",
              "      border-radius: 50%;\n",
              "      cursor: pointer;\n",
              "      display: none;\n",
              "      fill: #1967D2;\n",
              "      height: 32px;\n",
              "      padding: 0 0 0 0;\n",
              "      width: 32px;\n",
              "    }\n",
              "\n",
              "    .colab-df-convert:hover {\n",
              "      background-color: #E2EBFA;\n",
              "      box-shadow: 0px 1px 2px rgba(60, 64, 67, 0.3), 0px 1px 3px 1px rgba(60, 64, 67, 0.15);\n",
              "      fill: #174EA6;\n",
              "    }\n",
              "\n",
              "    [theme=dark] .colab-df-convert {\n",
              "      background-color: #3B4455;\n",
              "      fill: #D2E3FC;\n",
              "    }\n",
              "\n",
              "    [theme=dark] .colab-df-convert:hover {\n",
              "      background-color: #434B5C;\n",
              "      box-shadow: 0px 1px 3px 1px rgba(0, 0, 0, 0.15);\n",
              "      filter: drop-shadow(0px 1px 2px rgba(0, 0, 0, 0.3));\n",
              "      fill: #FFFFFF;\n",
              "    }\n",
              "  </style>\n",
              "\n",
              "      <script>\n",
              "        const buttonEl =\n",
              "          document.querySelector('#df-995fda24-88bb-4041-84a8-ff959fc33d34 button.colab-df-convert');\n",
              "        buttonEl.style.display =\n",
              "          google.colab.kernel.accessAllowed ? 'block' : 'none';\n",
              "\n",
              "        async function convertToInteractive(key) {\n",
              "          const element = document.querySelector('#df-995fda24-88bb-4041-84a8-ff959fc33d34');\n",
              "          const dataTable =\n",
              "            await google.colab.kernel.invokeFunction('convertToInteractive',\n",
              "                                                     [key], {});\n",
              "          if (!dataTable) return;\n",
              "\n",
              "          const docLinkHtml = 'Like what you see? Visit the ' +\n",
              "            '<a target=\"_blank\" href=https://colab.research.google.com/notebooks/data_table.ipynb>data table notebook</a>'\n",
              "            + ' to learn more about interactive tables.';\n",
              "          element.innerHTML = '';\n",
              "          dataTable['output_type'] = 'display_data';\n",
              "          await google.colab.output.renderOutput(dataTable, element);\n",
              "          const docLink = document.createElement('div');\n",
              "          docLink.innerHTML = docLinkHtml;\n",
              "          element.appendChild(docLink);\n",
              "        }\n",
              "      </script>\n",
              "    </div>\n",
              "  </div>\n",
              "  "
            ]
          },
          "metadata": {},
          "execution_count": 6
        }
      ]
    },
    {
      "cell_type": "code",
      "source": [
        "# dataframe 객체로 저장\n",
        "data = pd.DataFrame(data, columns = columns)\n",
        "data.head()"
      ],
      "metadata": {
        "colab": {
          "base_uri": "https://localhost:8080/",
          "height": 270
        },
        "id": "AbBIHIIg-uoH",
        "outputId": "31a2fca6-57fb-4baa-e64d-40ac7a3c88af"
      },
      "execution_count": 7,
      "outputs": [
        {
          "output_type": "execute_result",
          "data": {
            "text/plain": [
              "      CRIM    ZN  INDUS  CHAS    NOX     RM   AGE     DIS  RAD    TAX  \\\n",
              "0  0.00632  18.0   2.31   0.0  0.538  6.575  65.2  4.0900  1.0  296.0   \n",
              "1  0.02731   0.0   7.07   0.0  0.469  6.421  78.9  4.9671  2.0  242.0   \n",
              "2  0.02729   0.0   7.07   0.0  0.469  7.185  61.1  4.9671  2.0  242.0   \n",
              "3  0.03237   0.0   2.18   0.0  0.458  6.998  45.8  6.0622  3.0  222.0   \n",
              "4  0.06905   0.0   2.18   0.0  0.458  7.147  54.2  6.0622  3.0  222.0   \n",
              "\n",
              "   PTRATIO       B  LSTAT  \n",
              "0     15.3  396.90   4.98  \n",
              "1     17.8  396.90   9.14  \n",
              "2     17.8  392.83   4.03  \n",
              "3     18.7  394.63   2.94  \n",
              "4     18.7  396.90   5.33  "
            ],
            "text/html": [
              "\n",
              "  <div id=\"df-93f94c3f-9e92-43ff-9c45-fa75e9b20378\">\n",
              "    <div class=\"colab-df-container\">\n",
              "      <div>\n",
              "<style scoped>\n",
              "    .dataframe tbody tr th:only-of-type {\n",
              "        vertical-align: middle;\n",
              "    }\n",
              "\n",
              "    .dataframe tbody tr th {\n",
              "        vertical-align: top;\n",
              "    }\n",
              "\n",
              "    .dataframe thead th {\n",
              "        text-align: right;\n",
              "    }\n",
              "</style>\n",
              "<table border=\"1\" class=\"dataframe\">\n",
              "  <thead>\n",
              "    <tr style=\"text-align: right;\">\n",
              "      <th></th>\n",
              "      <th>CRIM</th>\n",
              "      <th>ZN</th>\n",
              "      <th>INDUS</th>\n",
              "      <th>CHAS</th>\n",
              "      <th>NOX</th>\n",
              "      <th>RM</th>\n",
              "      <th>AGE</th>\n",
              "      <th>DIS</th>\n",
              "      <th>RAD</th>\n",
              "      <th>TAX</th>\n",
              "      <th>PTRATIO</th>\n",
              "      <th>B</th>\n",
              "      <th>LSTAT</th>\n",
              "    </tr>\n",
              "  </thead>\n",
              "  <tbody>\n",
              "    <tr>\n",
              "      <th>0</th>\n",
              "      <td>0.00632</td>\n",
              "      <td>18.0</td>\n",
              "      <td>2.31</td>\n",
              "      <td>0.0</td>\n",
              "      <td>0.538</td>\n",
              "      <td>6.575</td>\n",
              "      <td>65.2</td>\n",
              "      <td>4.0900</td>\n",
              "      <td>1.0</td>\n",
              "      <td>296.0</td>\n",
              "      <td>15.3</td>\n",
              "      <td>396.90</td>\n",
              "      <td>4.98</td>\n",
              "    </tr>\n",
              "    <tr>\n",
              "      <th>1</th>\n",
              "      <td>0.02731</td>\n",
              "      <td>0.0</td>\n",
              "      <td>7.07</td>\n",
              "      <td>0.0</td>\n",
              "      <td>0.469</td>\n",
              "      <td>6.421</td>\n",
              "      <td>78.9</td>\n",
              "      <td>4.9671</td>\n",
              "      <td>2.0</td>\n",
              "      <td>242.0</td>\n",
              "      <td>17.8</td>\n",
              "      <td>396.90</td>\n",
              "      <td>9.14</td>\n",
              "    </tr>\n",
              "    <tr>\n",
              "      <th>2</th>\n",
              "      <td>0.02729</td>\n",
              "      <td>0.0</td>\n",
              "      <td>7.07</td>\n",
              "      <td>0.0</td>\n",
              "      <td>0.469</td>\n",
              "      <td>7.185</td>\n",
              "      <td>61.1</td>\n",
              "      <td>4.9671</td>\n",
              "      <td>2.0</td>\n",
              "      <td>242.0</td>\n",
              "      <td>17.8</td>\n",
              "      <td>392.83</td>\n",
              "      <td>4.03</td>\n",
              "    </tr>\n",
              "    <tr>\n",
              "      <th>3</th>\n",
              "      <td>0.03237</td>\n",
              "      <td>0.0</td>\n",
              "      <td>2.18</td>\n",
              "      <td>0.0</td>\n",
              "      <td>0.458</td>\n",
              "      <td>6.998</td>\n",
              "      <td>45.8</td>\n",
              "      <td>6.0622</td>\n",
              "      <td>3.0</td>\n",
              "      <td>222.0</td>\n",
              "      <td>18.7</td>\n",
              "      <td>394.63</td>\n",
              "      <td>2.94</td>\n",
              "    </tr>\n",
              "    <tr>\n",
              "      <th>4</th>\n",
              "      <td>0.06905</td>\n",
              "      <td>0.0</td>\n",
              "      <td>2.18</td>\n",
              "      <td>0.0</td>\n",
              "      <td>0.458</td>\n",
              "      <td>7.147</td>\n",
              "      <td>54.2</td>\n",
              "      <td>6.0622</td>\n",
              "      <td>3.0</td>\n",
              "      <td>222.0</td>\n",
              "      <td>18.7</td>\n",
              "      <td>396.90</td>\n",
              "      <td>5.33</td>\n",
              "    </tr>\n",
              "  </tbody>\n",
              "</table>\n",
              "</div>\n",
              "      <button class=\"colab-df-convert\" onclick=\"convertToInteractive('df-93f94c3f-9e92-43ff-9c45-fa75e9b20378')\"\n",
              "              title=\"Convert this dataframe to an interactive table.\"\n",
              "              style=\"display:none;\">\n",
              "        \n",
              "  <svg xmlns=\"http://www.w3.org/2000/svg\" height=\"24px\"viewBox=\"0 0 24 24\"\n",
              "       width=\"24px\">\n",
              "    <path d=\"M0 0h24v24H0V0z\" fill=\"none\"/>\n",
              "    <path d=\"M18.56 5.44l.94 2.06.94-2.06 2.06-.94-2.06-.94-.94-2.06-.94 2.06-2.06.94zm-11 1L8.5 8.5l.94-2.06 2.06-.94-2.06-.94L8.5 2.5l-.94 2.06-2.06.94zm10 10l.94 2.06.94-2.06 2.06-.94-2.06-.94-.94-2.06-.94 2.06-2.06.94z\"/><path d=\"M17.41 7.96l-1.37-1.37c-.4-.4-.92-.59-1.43-.59-.52 0-1.04.2-1.43.59L10.3 9.45l-7.72 7.72c-.78.78-.78 2.05 0 2.83L4 21.41c.39.39.9.59 1.41.59.51 0 1.02-.2 1.41-.59l7.78-7.78 2.81-2.81c.8-.78.8-2.07 0-2.86zM5.41 20L4 18.59l7.72-7.72 1.47 1.35L5.41 20z\"/>\n",
              "  </svg>\n",
              "      </button>\n",
              "      \n",
              "  <style>\n",
              "    .colab-df-container {\n",
              "      display:flex;\n",
              "      flex-wrap:wrap;\n",
              "      gap: 12px;\n",
              "    }\n",
              "\n",
              "    .colab-df-convert {\n",
              "      background-color: #E8F0FE;\n",
              "      border: none;\n",
              "      border-radius: 50%;\n",
              "      cursor: pointer;\n",
              "      display: none;\n",
              "      fill: #1967D2;\n",
              "      height: 32px;\n",
              "      padding: 0 0 0 0;\n",
              "      width: 32px;\n",
              "    }\n",
              "\n",
              "    .colab-df-convert:hover {\n",
              "      background-color: #E2EBFA;\n",
              "      box-shadow: 0px 1px 2px rgba(60, 64, 67, 0.3), 0px 1px 3px 1px rgba(60, 64, 67, 0.15);\n",
              "      fill: #174EA6;\n",
              "    }\n",
              "\n",
              "    [theme=dark] .colab-df-convert {\n",
              "      background-color: #3B4455;\n",
              "      fill: #D2E3FC;\n",
              "    }\n",
              "\n",
              "    [theme=dark] .colab-df-convert:hover {\n",
              "      background-color: #434B5C;\n",
              "      box-shadow: 0px 1px 3px 1px rgba(0, 0, 0, 0.15);\n",
              "      filter: drop-shadow(0px 1px 2px rgba(0, 0, 0, 0.3));\n",
              "      fill: #FFFFFF;\n",
              "    }\n",
              "  </style>\n",
              "\n",
              "      <script>\n",
              "        const buttonEl =\n",
              "          document.querySelector('#df-93f94c3f-9e92-43ff-9c45-fa75e9b20378 button.colab-df-convert');\n",
              "        buttonEl.style.display =\n",
              "          google.colab.kernel.accessAllowed ? 'block' : 'none';\n",
              "\n",
              "        async function convertToInteractive(key) {\n",
              "          const element = document.querySelector('#df-93f94c3f-9e92-43ff-9c45-fa75e9b20378');\n",
              "          const dataTable =\n",
              "            await google.colab.kernel.invokeFunction('convertToInteractive',\n",
              "                                                     [key], {});\n",
              "          if (!dataTable) return;\n",
              "\n",
              "          const docLinkHtml = 'Like what you see? Visit the ' +\n",
              "            '<a target=\"_blank\" href=https://colab.research.google.com/notebooks/data_table.ipynb>data table notebook</a>'\n",
              "            + ' to learn more about interactive tables.';\n",
              "          element.innerHTML = '';\n",
              "          dataTable['output_type'] = 'display_data';\n",
              "          await google.colab.output.renderOutput(dataTable, element);\n",
              "          const docLink = document.createElement('div');\n",
              "          docLink.innerHTML = docLinkHtml;\n",
              "          element.appendChild(docLink);\n",
              "        }\n",
              "      </script>\n",
              "    </div>\n",
              "  </div>\n",
              "  "
            ]
          },
          "metadata": {},
          "execution_count": 7
        }
      ]
    },
    {
      "cell_type": "code",
      "source": [
        "data.shape #506개의 데이터와 13개의 열로 이루어져있다"
      ],
      "metadata": {
        "colab": {
          "base_uri": "https://localhost:8080/"
        },
        "id": "fScuhH_P--ck",
        "outputId": "e48e2ca8-1d10-47de-8d95-b6443465d66f"
      },
      "execution_count": 8,
      "outputs": [
        {
          "output_type": "execute_result",
          "data": {
            "text/plain": [
              "(506, 13)"
            ]
          },
          "metadata": {},
          "execution_count": 8
        }
      ]
    },
    {
      "cell_type": "code",
      "source": [
        "# Simple Linear Regression\n",
        "#데이터 준비, split\n",
        "from sklearn.model_selection import train_test_split\n",
        "\n",
        "X_train, X_test, y_train, y_test = train_test_split(data, label, test_size = 0.2, random_state=2022)"
      ],
      "metadata": {
        "id": "LKTVTqLQ_DZ0"
      },
      "execution_count": 9,
      "outputs": []
    },
    {
      "cell_type": "code",
      "source": [
        "X_train"
      ],
      "metadata": {
        "colab": {
          "base_uri": "https://localhost:8080/",
          "height": 487
        },
        "id": "9Hos9BTJDVEq",
        "outputId": "0f315ea3-6439-401e-dbef-e516b13e34bc"
      },
      "execution_count": 10,
      "outputs": [
        {
          "output_type": "execute_result",
          "data": {
            "text/plain": [
              "         CRIM    ZN  INDUS  CHAS    NOX     RM   AGE     DIS   RAD    TAX  \\\n",
              "256   0.01538  90.0   3.75   0.0  0.394  7.454  34.2  6.3361   3.0  244.0   \n",
              "288   0.04590  52.5   5.32   0.0  0.405  6.315  45.6  7.3172   6.0  293.0   \n",
              "318   0.40202   0.0   9.90   0.0  0.544  6.382  67.2  3.5325   4.0  304.0   \n",
              "136   0.32264   0.0  21.89   0.0  0.624  5.942  93.5  1.9669   4.0  437.0   \n",
              "233   0.33147   0.0   6.20   0.0  0.507  8.247  70.4  3.6519   8.0  307.0   \n",
              "..        ...   ...    ...   ...    ...    ...   ...     ...   ...    ...   \n",
              "177   0.05425   0.0   4.05   0.0  0.510  6.315  73.4  3.3175   5.0  296.0   \n",
              "112   0.12329   0.0  10.01   0.0  0.547  5.913  92.9  2.3534   6.0  432.0   \n",
              "173   0.09178   0.0   4.05   0.0  0.510  6.416  84.1  2.6463   5.0  296.0   \n",
              "220   0.35809   0.0   6.20   1.0  0.507  6.951  88.5  2.8617   8.0  307.0   \n",
              "381  15.87440   0.0  18.10   0.0  0.671  6.545  99.1  1.5192  24.0  666.0   \n",
              "\n",
              "     PTRATIO       B  LSTAT  \n",
              "256     15.9  386.34   3.11  \n",
              "288     16.6  396.90   7.60  \n",
              "318     18.4  395.21  10.36  \n",
              "136     21.2  378.25  16.90  \n",
              "233     17.4  378.95   3.95  \n",
              "..       ...     ...    ...  \n",
              "177     16.6  395.60   6.29  \n",
              "112     17.8  394.95  16.21  \n",
              "173     16.6  395.50   9.04  \n",
              "220     17.4  391.70   9.71  \n",
              "381     20.2  396.90  21.08  \n",
              "\n",
              "[404 rows x 13 columns]"
            ],
            "text/html": [
              "\n",
              "  <div id=\"df-eacd67de-3a5b-435b-81e1-a5c2db5b65a2\">\n",
              "    <div class=\"colab-df-container\">\n",
              "      <div>\n",
              "<style scoped>\n",
              "    .dataframe tbody tr th:only-of-type {\n",
              "        vertical-align: middle;\n",
              "    }\n",
              "\n",
              "    .dataframe tbody tr th {\n",
              "        vertical-align: top;\n",
              "    }\n",
              "\n",
              "    .dataframe thead th {\n",
              "        text-align: right;\n",
              "    }\n",
              "</style>\n",
              "<table border=\"1\" class=\"dataframe\">\n",
              "  <thead>\n",
              "    <tr style=\"text-align: right;\">\n",
              "      <th></th>\n",
              "      <th>CRIM</th>\n",
              "      <th>ZN</th>\n",
              "      <th>INDUS</th>\n",
              "      <th>CHAS</th>\n",
              "      <th>NOX</th>\n",
              "      <th>RM</th>\n",
              "      <th>AGE</th>\n",
              "      <th>DIS</th>\n",
              "      <th>RAD</th>\n",
              "      <th>TAX</th>\n",
              "      <th>PTRATIO</th>\n",
              "      <th>B</th>\n",
              "      <th>LSTAT</th>\n",
              "    </tr>\n",
              "  </thead>\n",
              "  <tbody>\n",
              "    <tr>\n",
              "      <th>256</th>\n",
              "      <td>0.01538</td>\n",
              "      <td>90.0</td>\n",
              "      <td>3.75</td>\n",
              "      <td>0.0</td>\n",
              "      <td>0.394</td>\n",
              "      <td>7.454</td>\n",
              "      <td>34.2</td>\n",
              "      <td>6.3361</td>\n",
              "      <td>3.0</td>\n",
              "      <td>244.0</td>\n",
              "      <td>15.9</td>\n",
              "      <td>386.34</td>\n",
              "      <td>3.11</td>\n",
              "    </tr>\n",
              "    <tr>\n",
              "      <th>288</th>\n",
              "      <td>0.04590</td>\n",
              "      <td>52.5</td>\n",
              "      <td>5.32</td>\n",
              "      <td>0.0</td>\n",
              "      <td>0.405</td>\n",
              "      <td>6.315</td>\n",
              "      <td>45.6</td>\n",
              "      <td>7.3172</td>\n",
              "      <td>6.0</td>\n",
              "      <td>293.0</td>\n",
              "      <td>16.6</td>\n",
              "      <td>396.90</td>\n",
              "      <td>7.60</td>\n",
              "    </tr>\n",
              "    <tr>\n",
              "      <th>318</th>\n",
              "      <td>0.40202</td>\n",
              "      <td>0.0</td>\n",
              "      <td>9.90</td>\n",
              "      <td>0.0</td>\n",
              "      <td>0.544</td>\n",
              "      <td>6.382</td>\n",
              "      <td>67.2</td>\n",
              "      <td>3.5325</td>\n",
              "      <td>4.0</td>\n",
              "      <td>304.0</td>\n",
              "      <td>18.4</td>\n",
              "      <td>395.21</td>\n",
              "      <td>10.36</td>\n",
              "    </tr>\n",
              "    <tr>\n",
              "      <th>136</th>\n",
              "      <td>0.32264</td>\n",
              "      <td>0.0</td>\n",
              "      <td>21.89</td>\n",
              "      <td>0.0</td>\n",
              "      <td>0.624</td>\n",
              "      <td>5.942</td>\n",
              "      <td>93.5</td>\n",
              "      <td>1.9669</td>\n",
              "      <td>4.0</td>\n",
              "      <td>437.0</td>\n",
              "      <td>21.2</td>\n",
              "      <td>378.25</td>\n",
              "      <td>16.90</td>\n",
              "    </tr>\n",
              "    <tr>\n",
              "      <th>233</th>\n",
              "      <td>0.33147</td>\n",
              "      <td>0.0</td>\n",
              "      <td>6.20</td>\n",
              "      <td>0.0</td>\n",
              "      <td>0.507</td>\n",
              "      <td>8.247</td>\n",
              "      <td>70.4</td>\n",
              "      <td>3.6519</td>\n",
              "      <td>8.0</td>\n",
              "      <td>307.0</td>\n",
              "      <td>17.4</td>\n",
              "      <td>378.95</td>\n",
              "      <td>3.95</td>\n",
              "    </tr>\n",
              "    <tr>\n",
              "      <th>...</th>\n",
              "      <td>...</td>\n",
              "      <td>...</td>\n",
              "      <td>...</td>\n",
              "      <td>...</td>\n",
              "      <td>...</td>\n",
              "      <td>...</td>\n",
              "      <td>...</td>\n",
              "      <td>...</td>\n",
              "      <td>...</td>\n",
              "      <td>...</td>\n",
              "      <td>...</td>\n",
              "      <td>...</td>\n",
              "      <td>...</td>\n",
              "    </tr>\n",
              "    <tr>\n",
              "      <th>177</th>\n",
              "      <td>0.05425</td>\n",
              "      <td>0.0</td>\n",
              "      <td>4.05</td>\n",
              "      <td>0.0</td>\n",
              "      <td>0.510</td>\n",
              "      <td>6.315</td>\n",
              "      <td>73.4</td>\n",
              "      <td>3.3175</td>\n",
              "      <td>5.0</td>\n",
              "      <td>296.0</td>\n",
              "      <td>16.6</td>\n",
              "      <td>395.60</td>\n",
              "      <td>6.29</td>\n",
              "    </tr>\n",
              "    <tr>\n",
              "      <th>112</th>\n",
              "      <td>0.12329</td>\n",
              "      <td>0.0</td>\n",
              "      <td>10.01</td>\n",
              "      <td>0.0</td>\n",
              "      <td>0.547</td>\n",
              "      <td>5.913</td>\n",
              "      <td>92.9</td>\n",
              "      <td>2.3534</td>\n",
              "      <td>6.0</td>\n",
              "      <td>432.0</td>\n",
              "      <td>17.8</td>\n",
              "      <td>394.95</td>\n",
              "      <td>16.21</td>\n",
              "    </tr>\n",
              "    <tr>\n",
              "      <th>173</th>\n",
              "      <td>0.09178</td>\n",
              "      <td>0.0</td>\n",
              "      <td>4.05</td>\n",
              "      <td>0.0</td>\n",
              "      <td>0.510</td>\n",
              "      <td>6.416</td>\n",
              "      <td>84.1</td>\n",
              "      <td>2.6463</td>\n",
              "      <td>5.0</td>\n",
              "      <td>296.0</td>\n",
              "      <td>16.6</td>\n",
              "      <td>395.50</td>\n",
              "      <td>9.04</td>\n",
              "    </tr>\n",
              "    <tr>\n",
              "      <th>220</th>\n",
              "      <td>0.35809</td>\n",
              "      <td>0.0</td>\n",
              "      <td>6.20</td>\n",
              "      <td>1.0</td>\n",
              "      <td>0.507</td>\n",
              "      <td>6.951</td>\n",
              "      <td>88.5</td>\n",
              "      <td>2.8617</td>\n",
              "      <td>8.0</td>\n",
              "      <td>307.0</td>\n",
              "      <td>17.4</td>\n",
              "      <td>391.70</td>\n",
              "      <td>9.71</td>\n",
              "    </tr>\n",
              "    <tr>\n",
              "      <th>381</th>\n",
              "      <td>15.87440</td>\n",
              "      <td>0.0</td>\n",
              "      <td>18.10</td>\n",
              "      <td>0.0</td>\n",
              "      <td>0.671</td>\n",
              "      <td>6.545</td>\n",
              "      <td>99.1</td>\n",
              "      <td>1.5192</td>\n",
              "      <td>24.0</td>\n",
              "      <td>666.0</td>\n",
              "      <td>20.2</td>\n",
              "      <td>396.90</td>\n",
              "      <td>21.08</td>\n",
              "    </tr>\n",
              "  </tbody>\n",
              "</table>\n",
              "<p>404 rows × 13 columns</p>\n",
              "</div>\n",
              "      <button class=\"colab-df-convert\" onclick=\"convertToInteractive('df-eacd67de-3a5b-435b-81e1-a5c2db5b65a2')\"\n",
              "              title=\"Convert this dataframe to an interactive table.\"\n",
              "              style=\"display:none;\">\n",
              "        \n",
              "  <svg xmlns=\"http://www.w3.org/2000/svg\" height=\"24px\"viewBox=\"0 0 24 24\"\n",
              "       width=\"24px\">\n",
              "    <path d=\"M0 0h24v24H0V0z\" fill=\"none\"/>\n",
              "    <path d=\"M18.56 5.44l.94 2.06.94-2.06 2.06-.94-2.06-.94-.94-2.06-.94 2.06-2.06.94zm-11 1L8.5 8.5l.94-2.06 2.06-.94-2.06-.94L8.5 2.5l-.94 2.06-2.06.94zm10 10l.94 2.06.94-2.06 2.06-.94-2.06-.94-.94-2.06-.94 2.06-2.06.94z\"/><path d=\"M17.41 7.96l-1.37-1.37c-.4-.4-.92-.59-1.43-.59-.52 0-1.04.2-1.43.59L10.3 9.45l-7.72 7.72c-.78.78-.78 2.05 0 2.83L4 21.41c.39.39.9.59 1.41.59.51 0 1.02-.2 1.41-.59l7.78-7.78 2.81-2.81c.8-.78.8-2.07 0-2.86zM5.41 20L4 18.59l7.72-7.72 1.47 1.35L5.41 20z\"/>\n",
              "  </svg>\n",
              "      </button>\n",
              "      \n",
              "  <style>\n",
              "    .colab-df-container {\n",
              "      display:flex;\n",
              "      flex-wrap:wrap;\n",
              "      gap: 12px;\n",
              "    }\n",
              "\n",
              "    .colab-df-convert {\n",
              "      background-color: #E8F0FE;\n",
              "      border: none;\n",
              "      border-radius: 50%;\n",
              "      cursor: pointer;\n",
              "      display: none;\n",
              "      fill: #1967D2;\n",
              "      height: 32px;\n",
              "      padding: 0 0 0 0;\n",
              "      width: 32px;\n",
              "    }\n",
              "\n",
              "    .colab-df-convert:hover {\n",
              "      background-color: #E2EBFA;\n",
              "      box-shadow: 0px 1px 2px rgba(60, 64, 67, 0.3), 0px 1px 3px 1px rgba(60, 64, 67, 0.15);\n",
              "      fill: #174EA6;\n",
              "    }\n",
              "\n",
              "    [theme=dark] .colab-df-convert {\n",
              "      background-color: #3B4455;\n",
              "      fill: #D2E3FC;\n",
              "    }\n",
              "\n",
              "    [theme=dark] .colab-df-convert:hover {\n",
              "      background-color: #434B5C;\n",
              "      box-shadow: 0px 1px 3px 1px rgba(0, 0, 0, 0.15);\n",
              "      filter: drop-shadow(0px 1px 2px rgba(0, 0, 0, 0.3));\n",
              "      fill: #FFFFFF;\n",
              "    }\n",
              "  </style>\n",
              "\n",
              "      <script>\n",
              "        const buttonEl =\n",
              "          document.querySelector('#df-eacd67de-3a5b-435b-81e1-a5c2db5b65a2 button.colab-df-convert');\n",
              "        buttonEl.style.display =\n",
              "          google.colab.kernel.accessAllowed ? 'block' : 'none';\n",
              "\n",
              "        async function convertToInteractive(key) {\n",
              "          const element = document.querySelector('#df-eacd67de-3a5b-435b-81e1-a5c2db5b65a2');\n",
              "          const dataTable =\n",
              "            await google.colab.kernel.invokeFunction('convertToInteractive',\n",
              "                                                     [key], {});\n",
              "          if (!dataTable) return;\n",
              "\n",
              "          const docLinkHtml = 'Like what you see? Visit the ' +\n",
              "            '<a target=\"_blank\" href=https://colab.research.google.com/notebooks/data_table.ipynb>data table notebook</a>'\n",
              "            + ' to learn more about interactive tables.';\n",
              "          element.innerHTML = '';\n",
              "          dataTable['output_type'] = 'display_data';\n",
              "          await google.colab.output.renderOutput(dataTable, element);\n",
              "          const docLink = document.createElement('div');\n",
              "          docLink.innerHTML = docLinkHtml;\n",
              "          element.appendChild(docLink);\n",
              "        }\n",
              "      </script>\n",
              "    </div>\n",
              "  </div>\n",
              "  "
            ]
          },
          "metadata": {},
          "execution_count": 10
        }
      ]
    },
    {
      "cell_type": "code",
      "source": [
        "# RM값만 가져오기\n",
        "X_train['RM']"
      ],
      "metadata": {
        "colab": {
          "base_uri": "https://localhost:8080/"
        },
        "id": "whLd0Ll7DYoL",
        "outputId": "bc953bef-036c-47cc-e231-5b600cd52fa2"
      },
      "execution_count": 11,
      "outputs": [
        {
          "output_type": "execute_result",
          "data": {
            "text/plain": [
              "256    7.454\n",
              "288    6.315\n",
              "318    6.382\n",
              "136    5.942\n",
              "233    8.247\n",
              "       ...  \n",
              "177    6.315\n",
              "112    5.913\n",
              "173    6.416\n",
              "220    6.951\n",
              "381    6.545\n",
              "Name: RM, Length: 404, dtype: float64"
            ]
          },
          "metadata": {},
          "execution_count": 11
        }
      ]
    },
    {
      "cell_type": "code",
      "source": [
        "# 1차원 배열형태의 데이터는 sklearn의 데이터로 사용하지못함\n",
        "# [10, 20, 30] = (1, )\n",
        "# [[10],[20],[30]] = (3,1)\n",
        "\n",
        "X_train['RM'].values"
      ],
      "metadata": {
        "colab": {
          "base_uri": "https://localhost:8080/"
        },
        "id": "s1p9PdOVDic_",
        "outputId": "6bdb10a2-8e2e-4b71-8150-10ab25196061"
      },
      "execution_count": 12,
      "outputs": [
        {
          "output_type": "execute_result",
          "data": {
            "text/plain": [
              "array([7.454, 6.315, 6.382, 5.942, 8.247, 6.604, 5.414, 7.148, 6.525,\n",
              "       6.38 , 5.683, 5.871, 6.8  , 6.162, 6.101, 6.122, 6.12 , 7.041,\n",
              "       7.765, 6.606, 6.631, 6.012, 6.781, 5.927, 6.152, 6.376, 6.749,\n",
              "       6.301, 5.88 , 6.174, 5.856, 6.333, 6.415, 7.61 , 6.182, 5.935,\n",
              "       6.86 , 6.461, 7.691, 7.686, 6.826, 5.888, 5.277, 6.556, 5.99 ,\n",
              "       6.824, 6.142, 5.895, 6.219, 7.024, 8.704, 6.216, 8.259, 6.031,\n",
              "       6.728, 6.286, 7.274, 6.358, 6.153, 6.144, 5.565, 5.949, 6.474,\n",
              "       7.393, 6.326, 5.987, 6.975, 6.727, 6.421, 5.747, 5.762, 3.863,\n",
              "       6.047, 6.437, 6.202, 7.287, 6.108, 5.468, 5.869, 6.395, 6.02 ,\n",
              "       5.663, 6.245, 6.066, 6.164, 4.973, 7.185, 6.482, 6.595, 5.879,\n",
              "       6.405, 6.009, 6.417, 5.878, 5.713, 6.655, 5.822, 6.431, 6.563,\n",
              "       6.03 , 5.854, 5.936, 7.163, 6.24 , 6.727, 6.433, 6.015, 5.594,\n",
              "       6.319, 6.453, 5.983, 6.373, 7.236, 6.976, 7.412, 6.438, 6.14 ,\n",
              "       6.112, 6.625, 5.813, 5.807, 6.113, 6.251, 6.037, 6.739, 5.57 ,\n",
              "       6.114, 6.021, 6.98 , 6.169, 6.326, 6.616, 6.485, 7.47 , 7.82 ,\n",
              "       6.879, 7.831, 6.459, 6.618, 6.185, 5.985, 7.802, 5.412, 6.957,\n",
              "       6.842, 5.628, 6.816, 6.758, 5.186, 6.471, 6.417, 6.425, 6.968,\n",
              "       5.854, 7.185, 5.885, 6.065, 6.29 , 6.715, 5.877, 5.928, 6.041,\n",
              "       5.891, 5.597, 6.162, 6.273, 6.629, 5.961, 6.998, 5.272, 6.086,\n",
              "       7.333, 6.137, 6.127, 6.871, 6.266, 6.152, 6.092, 7.079, 6.794,\n",
              "       6.302, 7.007, 6.383, 5.898, 5.856, 7.014, 8.266, 7.42 , 5.706,\n",
              "       6.861, 6.251, 5.841, 6.317, 5.966, 5.851, 6.13 , 6.115, 6.31 ,\n",
              "       5.741, 8.398, 5.631, 5.986, 5.933, 5.887, 5.39 , 4.963, 6.027,\n",
              "       6.249, 6.657, 6.312, 6.495, 5.926, 6.854, 6.167, 7.107, 4.97 ,\n",
              "       6.436, 6.209, 6.63 , 6.059, 6.951, 6.232, 5.875, 6.376, 6.968,\n",
              "       7.203, 5.876, 6.072, 7.52 , 5.884, 6.064, 6.43 , 5.757, 5.957,\n",
              "       5.935, 6.575, 5.803, 5.96 , 6.442, 5.875, 5.52 , 7.241, 5.968,\n",
              "       6.674, 6.552, 7.416, 4.519, 6.003, 5.926, 5.403, 6.023, 4.138,\n",
              "       6.096, 6.389, 5.787, 6.019, 6.127, 6.635, 7.645, 6.348, 5.637,\n",
              "       6.167, 5.757, 7.249, 7.82 , 6.406, 5.362, 5.837, 6.121, 5.604,\n",
              "       6.487, 6.069, 7.875, 5.682, 6.195, 6.484, 5.708, 7.313, 8.034,\n",
              "       6.083, 6.579, 6.458, 6.782, 6.54 , 5.963, 6.593, 5.727, 5.617,\n",
              "       8.375, 5.888, 5.914, 6.833, 5.67 , 6.513, 6.229, 4.628, 5.707,\n",
              "       6.03 , 5.936, 5.857, 8.725, 5.713, 8.337, 6.481, 5.731, 5.952,\n",
              "       6.372, 6.25 , 6.193, 6.212, 6.456, 6.229, 6.642, 7.327, 6.129,\n",
              "       6.434, 5.981, 6.103, 6.454, 6.495, 7.016, 6.546, 5.813, 6.943,\n",
              "       7.489, 8.04 , 6.516, 5.605, 6.718, 7.104, 6.75 , 5.782, 6.398,\n",
              "       5.983, 5.859, 6.004, 6.426, 5.304, 5.786, 7.853, 5.759, 5.966,\n",
              "       5.965, 5.85 , 6.812, 6.762, 6.701, 7.178, 5.998, 6.345, 6.511,\n",
              "       6.316, 5.92 , 6.163, 6.242, 6.279, 6.417, 6.095, 6.59 , 5.889,\n",
              "       5.404, 6.98 , 6.38 , 5.818, 5.593, 6.006, 6.375, 6.696, 6.619,\n",
              "       5.404, 5.834, 6.209, 4.652, 8.069, 6.151, 5.427, 6.538, 6.939,\n",
              "       5.453, 5.868, 7.929, 5.454, 5.399, 6.081, 6.49 , 5.613, 4.926,\n",
              "       6.009, 7.923, 6.565, 5.79 , 5.972, 4.903, 5.924, 5.456, 6.874,\n",
              "       5.627, 6.897, 5.794, 6.315, 5.913, 6.416, 6.951, 6.545])"
            ]
          },
          "metadata": {},
          "execution_count": 12
        }
      ]
    },
    {
      "cell_type": "code",
      "source": [
        "# 데이터의 차원변형\n",
        "X_train['RM'].values.reshape(-1,1)[:5]  # 1개 짜리를 전체갯수만큼 2차원 배열로 변형 [:5]를 이용해서 5개만 출력\n",
        "# .reshape(전체 갯수, 내부수) 이미 split을 해놨기 때문에 정확한 갯수를 모름\n",
        "# 이때 인덱스 -1 성질 이용, 맨끝점으로 감"
      ],
      "metadata": {
        "colab": {
          "base_uri": "https://localhost:8080/"
        },
        "id": "Gz2_di7RESaR",
        "outputId": "5ba2ca9c-808d-4af0-e5ce-f906372f2279"
      },
      "execution_count": 13,
      "outputs": [
        {
          "output_type": "execute_result",
          "data": {
            "text/plain": [
              "array([[7.454],\n",
              "       [6.315],\n",
              "       [6.382],\n",
              "       [5.942],\n",
              "       [8.247]])"
            ]
          },
          "metadata": {},
          "execution_count": 13
        }
      ]
    },
    {
      "cell_type": "code",
      "source": [
        "# 데이터 차원변형 연습\n",
        "x = np.array([10, 20, 30])\n",
        "x.shape"
      ],
      "metadata": {
        "colab": {
          "base_uri": "https://localhost:8080/"
        },
        "id": "Lhkyygh3R-Mf",
        "outputId": "635db653-d8d1-4cb2-a5cb-ed23a31c2577"
      },
      "execution_count": 14,
      "outputs": [
        {
          "output_type": "execute_result",
          "data": {
            "text/plain": [
              "(3,)"
            ]
          },
          "metadata": {},
          "execution_count": 14
        }
      ]
    },
    {
      "cell_type": "code",
      "source": [
        "x.reshape(3,1) #이런 방법이 가능한 이유는 위 배열이 3개인걸 알고있기 떄문에 사용가능\n",
        "#따라서 -1 인덱스를 사용하여 맨끝을 선택할수있다"
      ],
      "metadata": {
        "colab": {
          "base_uri": "https://localhost:8080/"
        },
        "id": "MsFrPh-QSPha",
        "outputId": "b90e6724-684e-46ed-a7a9-22900b46ecaf"
      },
      "execution_count": 15,
      "outputs": [
        {
          "output_type": "execute_result",
          "data": {
            "text/plain": [
              "array([[10],\n",
              "       [20],\n",
              "       [30]])"
            ]
          },
          "metadata": {},
          "execution_count": 15
        }
      ]
    },
    {
      "cell_type": "code",
      "source": [
        "x.reshape(-1,1) #결과가 같게 나온다"
      ],
      "metadata": {
        "colab": {
          "base_uri": "https://localhost:8080/"
        },
        "id": "12pzTP7USvSO",
        "outputId": "89c0d090-0cf6-4e3f-b34f-6219dbb99b08"
      },
      "execution_count": 16,
      "outputs": [
        {
          "output_type": "execute_result",
          "data": {
            "text/plain": [
              "array([[10],\n",
              "       [20],\n",
              "       [30]])"
            ]
          },
          "metadata": {},
          "execution_count": 16
        }
      ]
    },
    {
      "cell_type": "code",
      "source": [
        "from sklearn.linear_model import LinearRegression\n",
        "sim_lr = LinearRegression()"
      ],
      "metadata": {
        "id": "VwtmLGixFGmq"
      },
      "execution_count": 17,
      "outputs": []
    },
    {
      "cell_type": "code",
      "source": [
        "# 룸의 갯수로 학습\n",
        "\n",
        "X_train_reshape = X_train['RM'].values.reshape(-1,1)\n",
        "sim_lr.fit(X_train_reshape, y_train)      #train 데이터로 학습"
      ],
      "metadata": {
        "colab": {
          "base_uri": "https://localhost:8080/"
        },
        "id": "2VdZ8HHDFx0F",
        "outputId": "ec7bcb6b-0760-4f83-8234-85ee3d3dccf2"
      },
      "execution_count": 18,
      "outputs": [
        {
          "output_type": "execute_result",
          "data": {
            "text/plain": [
              "LinearRegression()"
            ]
          },
          "metadata": {},
          "execution_count": 18
        }
      ]
    },
    {
      "cell_type": "code",
      "source": [
        "# 룸의 갯수로 예측\n",
        "\n",
        "y_pred = sim_lr.predict(X_test['RM'].values.reshape(-1, 1)) # test용 데이터에 대한 예측"
      ],
      "metadata": {
        "id": "jyWrQUonGdT2"
      },
      "execution_count": 19,
      "outputs": []
    },
    {
      "cell_type": "code",
      "source": [
        "# 결과 살펴보기 : R2 값으로 정확도 파악\n",
        "from sklearn.metrics import r2_score\n",
        "print('단순 선형 회귀, R2: {:.4f}'.format(r2_score(y_test, y_pred))) # 실제 label값과 예측 label값을 데이터로\n",
        "#{:.4f} :.4f 소수점넷째자리의 실수로 표현제한"
      ],
      "metadata": {
        "colab": {
          "base_uri": "https://localhost:8080/"
        },
        "id": "hzDKIcN4GwGg",
        "outputId": "aa38845d-adca-4ec0-9848-0cc20eb3d7e6"
      },
      "execution_count": 20,
      "outputs": [
        {
          "output_type": "stream",
          "name": "stdout",
          "text": [
            "단순 선형 회귀, R2: 0.2121\n"
          ]
        }
      ]
    },
    {
      "cell_type": "code",
      "source": [
        "# 결과 시각화 하기\n",
        "# x축, y축 필요\n",
        "line_x = np.linspace(np.min(X_test['RM']), np.max(X_test['RM']), 10) #최소, 최고사이의 간격 10등분\n",
        "line_y = sim_lr.predict(line_x.reshape(-1,1))\n",
        "\n",
        "plt.scatter(X_test['RM'], y_test, s=10, c='black')\n",
        "plt.plot(line_x, line_y, c='red')\n",
        "plt.legend(['Regression line','Test data sample'], loc='upper left')\n",
        "#plt.legend 복습하기"
      ],
      "metadata": {
        "colab": {
          "base_uri": "https://localhost:8080/",
          "height": 282
        },
        "id": "7aDnoloHHitk",
        "outputId": "019b3858-189f-4b57-e783-4834778f6e83"
      },
      "execution_count": 21,
      "outputs": [
        {
          "output_type": "execute_result",
          "data": {
            "text/plain": [
              "<matplotlib.legend.Legend at 0x7fd07923da90>"
            ]
          },
          "metadata": {},
          "execution_count": 21
        },
        {
          "output_type": "display_data",
          "data": {
            "text/plain": [
              "<Figure size 432x288 with 1 Axes>"
            ],
            "image/png": "[encoded data removed]"
          },
          "metadata": {
            "needs_background": "light"
          }
        }
      ]
    },
    {
      "cell_type": "code",
      "source": [
        "# Multiple Linear Regression 여러 인자를 고려하여 시각화\n",
        "# 별도의 기능을 사용하는게 아니라 단순히 columns을 더 많이 사용\n",
        "mul_lr = LinearRegression()\n",
        "mul_lr.fit(X_train,y_train)  # X_train의 모든 칼럼과 label train 데이터로 학습"
      ],
      "metadata": {
        "colab": {
          "base_uri": "https://localhost:8080/"
        },
        "id": "TLkujKesKSAl",
        "outputId": "ab7123bb-aafa-48b9-d544-891dbd776ece"
      },
      "execution_count": 22,
      "outputs": [
        {
          "output_type": "execute_result",
          "data": {
            "text/plain": [
              "LinearRegression()"
            ]
          },
          "metadata": {},
          "execution_count": 22
        }
      ]
    },
    {
      "cell_type": "code",
      "source": [
        "y_pred = mul_lr.predict(X_test) #X_test로 예측"
      ],
      "metadata": {
        "id": "Ds0BMDeJMYjd"
      },
      "execution_count": 23,
      "outputs": []
    },
    {
      "cell_type": "code",
      "source": [
        "# 다중 선형 회귀\n",
        "print('다중 선형 회귀, R2: {:.4f}'.format(r2_score(y_test, y_pred)))"
      ],
      "metadata": {
        "colab": {
          "base_uri": "https://localhost:8080/"
        },
        "id": "84Bz_ZAVMkVx",
        "outputId": "a2c0892e-505b-429a-c9f5-0d8c6bdaa296"
      },
      "execution_count": 24,
      "outputs": [
        {
          "output_type": "stream",
          "name": "stdout",
          "text": [
            "다중 선형 회귀, R2: 0.6226\n"
          ]
        }
      ]
    },
    {
      "cell_type": "code",
      "source": [
        "# Decision Tree Regressor 결정트리알고리즘\n",
        "# 결정트리알고리즘을 사용해서 회귀분석에 사용가능\n",
        "from sklearn.tree import DecisionTreeRegressor\n",
        "dt_regr = DecisionTreeRegressor(max_depth=4) # max_depth=5 몇 단계까지 내려갈 것인지 결정"
      ],
      "metadata": {
        "id": "LsccJhxmM4p1"
      },
      "execution_count": 25,
      "outputs": []
    },
    {
      "cell_type": "code",
      "source": [
        "#학습\n",
        "\n",
        "dt_regr.fit(X_train['RM'].values.reshape((-1,1)), y_train)"
      ],
      "metadata": {
        "colab": {
          "base_uri": "https://localhost:8080/"
        },
        "id": "IQ_GkKXWTzLe",
        "outputId": "cf1a5e78-cf7a-434e-cdb2-00721365783e"
      },
      "execution_count": 26,
      "outputs": [
        {
          "output_type": "execute_result",
          "data": {
            "text/plain": [
              "DecisionTreeRegressor(max_depth=4)"
            ]
          },
          "metadata": {},
          "execution_count": 26
        }
      ]
    },
    {
      "cell_type": "code",
      "source": [
        "# 예측\n",
        "\n",
        "y_pred = dt_regr.predict(X_test['RM'].values.reshape(-1,1))"
      ],
      "metadata": {
        "id": "7bqU2gKJUMI9"
      },
      "execution_count": 27,
      "outputs": []
    },
    {
      "cell_type": "code",
      "source": [
        "print('단순 결정 트리 회귀 R2: {:.4f}'.format(r2_score(y_test, y_pred)))"
      ],
      "metadata": {
        "colab": {
          "base_uri": "https://localhost:8080/"
        },
        "id": "yi-5xAhYVIIG",
        "outputId": "725c731a-879e-4f23-9770-8ac537b0d2b1"
      },
      "execution_count": 28,
      "outputs": [
        {
          "output_type": "stream",
          "name": "stdout",
          "text": [
            "단순 결정 트리 회귀 R2: 0.3816\n"
          ]
        }
      ]
    },
    {
      "cell_type": "code",
      "source": [
        "# depth가 많다는건 학습데이터와 밀착이 되기때문에 테스트로 예측이 안된다\n",
        "# 이게 곧 오버피팅현상\n",
        "# depth는 데이터와 원하는 결과에 맞게 조정\n",
        "# 위의 코드를 반복문을 돌려서 가장높은 데이터를 찾아야함"
      ],
      "metadata": {
        "id": "my6gmuWCWGsA"
      },
      "execution_count": 29,
      "outputs": []
    },
    {
      "cell_type": "code",
      "source": [
        "# 반복문 생성을 위한 배열 생성\n",
        "\n",
        "arr = np.arange(1, 11)\n",
        "arr"
      ],
      "metadata": {
        "colab": {
          "base_uri": "https://localhost:8080/"
        },
        "id": "rjfamkPDVYZU",
        "outputId": "a4e04a4b-6dd1-4a03-d1c7-60a56b8b9c7e"
      },
      "execution_count": 30,
      "outputs": [
        {
          "output_type": "execute_result",
          "data": {
            "text/plain": [
              "array([ 1,  2,  3,  4,  5,  6,  7,  8,  9, 10])"
            ]
          },
          "metadata": {},
          "execution_count": 30
        }
      ]
    },
    {
      "cell_type": "code",
      "source": [
        "# 반복문 생성\n",
        "\n",
        "for depth in arr:\n",
        "  dt_regr = DecisionTreeRegressor(max_depth=depth)\n",
        "  dt_regr.fit(X_train['RM'].values.reshape((-1,1)), y_train)\n",
        "  y_pred = dt_regr.predict(X_test['RM'].values.reshape(-1,1))\n",
        "  print('\\n단순 결정 트리 회귀 depth={} R2: {:.4f}'.format(depth, r2_score(y_test, y_pred)))"
      ],
      "metadata": {
        "colab": {
          "base_uri": "https://localhost:8080/"
        },
        "id": "emF8flaWWyqL",
        "outputId": "c7b2d367-0b82-4931-fb77-1e35f4c2117a"
      },
      "execution_count": 31,
      "outputs": [
        {
          "output_type": "stream",
          "name": "stdout",
          "text": [
            "\n",
            "단순 결정 트리 회귀 depth=1 R2: 0.2459\n",
            "\n",
            "단순 결정 트리 회귀 depth=2 R2: 0.3547\n",
            "\n",
            "단순 결정 트리 회귀 depth=3 R2: 0.3931\n",
            "\n",
            "단순 결정 트리 회귀 depth=4 R2: 0.3816\n",
            "\n",
            "단순 결정 트리 회귀 depth=5 R2: 0.3247\n",
            "\n",
            "단순 결정 트리 회귀 depth=6 R2: 0.3474\n",
            "\n",
            "단순 결정 트리 회귀 depth=7 R2: 0.3164\n",
            "\n",
            "단순 결정 트리 회귀 depth=8 R2: 0.3368\n",
            "\n",
            "단순 결정 트리 회귀 depth=9 R2: 0.3098\n",
            "\n",
            "단순 결정 트리 회귀 depth=10 R2: 0.2579\n"
          ]
        }
      ]
    },
    {
      "cell_type": "code",
      "source": [
        "# 응용 반복문 생성\n",
        "best_depth = 0\n",
        "best_r2 = 0\n",
        "\n",
        "for depth in arr:\n",
        "  dt_regr = DecisionTreeRegressor(max_depth=depth)\n",
        "  dt_regr.fit(X_train['RM'].values.reshape((-1,1)), y_train)\n",
        "  y_pred = dt_regr.predict(X_test['RM'].values.reshape(-1,1))\n",
        "  \n",
        "  temp_r2 = r2_score(y_test, y_pred)\n",
        "  print('\\n단순 결정 트리 회귀 depth={} R2: {:.4f}'.format(depth, r2_score(y_test, y_pred)))\n",
        "  \n",
        "  if best_r2 < temp_r2:\n",
        "    best_depth = depth\n",
        "    best_r2 = temp_r2\n",
        "\n",
        "print('최적의 결과는 depth={} R2={:.4f}'.format(best_depth, best_r2))"
      ],
      "metadata": {
        "colab": {
          "base_uri": "https://localhost:8080/"
        },
        "id": "-h4I6lWAXZYx",
        "outputId": "eaef5b7b-20c4-4878-cc3b-f8e14550afcc"
      },
      "execution_count": 32,
      "outputs": [
        {
          "output_type": "stream",
          "name": "stdout",
          "text": [
            "\n",
            "단순 결정 트리 회귀 depth=1 R2: 0.2459\n",
            "\n",
            "단순 결정 트리 회귀 depth=2 R2: 0.3547\n",
            "\n",
            "단순 결정 트리 회귀 depth=3 R2: 0.3931\n",
            "\n",
            "단순 결정 트리 회귀 depth=4 R2: 0.3816\n",
            "\n",
            "단순 결정 트리 회귀 depth=5 R2: 0.3247\n",
            "\n",
            "단순 결정 트리 회귀 depth=6 R2: 0.3474\n",
            "\n",
            "단순 결정 트리 회귀 depth=7 R2: 0.3164\n",
            "\n",
            "단순 결정 트리 회귀 depth=8 R2: 0.3368\n",
            "\n",
            "단순 결정 트리 회귀 depth=9 R2: 0.3098\n",
            "\n",
            "단순 결정 트리 회귀 depth=10 R2: 0.2579\n",
            "최적의 결과는 depth=3 R2=0.3931\n"
          ]
        }
      ]
    },
    {
      "cell_type": "code",
      "source": [
        "# X전체로 \n",
        "\n",
        "dt_regr = DecisionTreeRegressor(max_depth=10)\n",
        "dt_regr.fit(X_train, y_train)\n",
        "\n",
        "y_pred = dt_regr.predict(X_test)\n",
        "print('다중 결정 트리 R2: {:.4f}'.format(r2_score(y_test, y_pred)))"
      ],
      "metadata": {
        "colab": {
          "base_uri": "https://localhost:8080/"
        },
        "id": "VQd8r7HOZalB",
        "outputId": "451cf297-8f11-4bcb-ca7d-80220996a665"
      },
      "execution_count": 33,
      "outputs": [
        {
          "output_type": "stream",
          "name": "stdout",
          "text": [
            "다중 결정 트리 R2: 0.7391\n"
          ]
        }
      ]
    },
    {
      "cell_type": "code",
      "source": [
        "best_depth = 0\n",
        "best_r2 = 0\n",
        "\n",
        "for depth in arr:\n",
        "  dt_regr = DecisionTreeRegressor(max_depth=10)\n",
        "  dt_regr.fit(X_train, y_train)\n",
        "\n",
        "  y_pred = dt_regr.predict(X_test)\n",
        "  #print('다중 결정 트리 R2: {:.4f}'.format(r2_score(y_test, y_pred)))\n",
        "  \n",
        "  temp_r2 = r2_score(y_test, y_pred)\n",
        "  #print('\\n단순 결정 트리 회귀 depth={} R2: {:.4f}'.format(depth, r2_score(y_test, y_pred)))\n",
        "  \n",
        "  if best_r2 < temp_r2:\n",
        "    best_depth = depth\n",
        "    best_r2 = temp_r2\n",
        "\n",
        "print('최적의 결과는 depth={} r2={:.4f}'.format(best_depth, best_r2))"
      ],
      "metadata": {
        "colab": {
          "base_uri": "https://localhost:8080/"
        },
        "id": "niQZ7LF8ZqzE",
        "outputId": "12056b60-64ed-48c6-dc1e-f8d5129ce5e2"
      },
      "execution_count": 34,
      "outputs": [
        {
          "output_type": "stream",
          "name": "stdout",
          "text": [
            "최적의 결과는 depth=10 r2=0.7525\n"
          ]
        }
      ]
    },
    {
      "cell_type": "markdown",
      "source": [
        "방금 했던 다중결정트리(X전체) 반복문 돌린 코드에서 돌릴때마다 최고 R2랑 depth가 바뀌는데 인자가 많아서 학습할 때 마다 학습결과가 바뀌는 거라고 이해하면 될까요?\n",
        "\n",
        "\n",
        "-R2 값을 돌릴때마다 조건이 변하기 때문\n",
        "\n",
        "스플릿에 랜덤 스테이트 값도 영향을 많이 주나요?\n",
        "-데이터의 종류와 균일도에 따라서 달라진다"
      ],
      "metadata": {
        "id": "iLoflfrVdzdo"
      }
    },
    {
      "cell_type": "code",
      "source": [
        "# Support Vector machine Regressor (SVM)\n",
        "# 옵선 중 C= 최대몇개를 무시할껀지\n",
        "# SVM 회귀 특성상 분류에도 사용가능하고 회귀에도 사용할수있다\n",
        "\n",
        "from sklearn.svm import SVR\n",
        "svm_regr = SVR() \n",
        "\n",
        "svm_regr.fit(X_train['RM'].values.reshape(-1,1), y_train)     # 학습\n",
        "y_pred = svm_regr.predict(X_test['RM'].values.reshape(-1,1))  # 예측\n",
        "\n",
        "print('단순 서포트 벡터 머신 회귀 R2: {:.4f}'.format(r2_score(y_test, y_pred)))"
      ],
      "metadata": {
        "colab": {
          "base_uri": "https://localhost:8080/"
        },
        "id": "7I9kmjdseTbk",
        "outputId": "7fa5b4a1-9551-4d04-d5e7-5d5eeba208fd"
      },
      "execution_count": 35,
      "outputs": [
        {
          "output_type": "stream",
          "name": "stdout",
          "text": [
            "단순 서포트 벡터 머신 회귀 R2: 0.3763\n"
          ]
        }
      ]
    },
    {
      "cell_type": "code",
      "source": [
        "## 테스트\n",
        "svm_regr.fit(X_train, y_train)     # 학습\n",
        "y_pred = svm_regr.predict(X_test)  # 예측\n",
        "\n",
        "print('단순 서포트 벡터 머신 회귀 R2: {:.4f}'.format(r2_score(y_test, y_pred)))"
      ],
      "metadata": {
        "colab": {
          "base_uri": "https://localhost:8080/"
        },
        "id": "qTxWwqFljNgH",
        "outputId": "ae3fa622-3c00-4df0-d089-95de001d7e71"
      },
      "execution_count": 36,
      "outputs": [
        {
          "output_type": "stream",
          "name": "stdout",
          "text": [
            "단순 서포트 벡터 머신 회귀 R2: 0.3081\n"
          ]
        }
      ]
    },
    {
      "cell_type": "code",
      "source": [
        "# SVM 옵션설정해보기\n",
        "\n",
        "svm_regr = SVR(C=2) \n",
        "svm_regr.fit(X_train['RM'].values.reshape(-1,1), y_train)     # 학습\n",
        "y_pred = svm_regr.predict(X_test['RM'].values.reshape(-1,1))  # 예측\n",
        "\n",
        "print('단순 서포트 벡터 머신 회귀 R2: {:.4f}'.format(r2_score(y_test, y_pred)))"
      ],
      "metadata": {
        "colab": {
          "base_uri": "https://localhost:8080/"
        },
        "id": "ufTfcY-Tj9xg",
        "outputId": "50d86fe5-3845-44fc-cdbd-59b1e36388d0"
      },
      "execution_count": 37,
      "outputs": [
        {
          "output_type": "stream",
          "name": "stdout",
          "text": [
            "단순 서포트 벡터 머신 회귀 R2: 0.4202\n"
          ]
        }
      ]
    },
    {
      "cell_type": "code",
      "source": [
        "svm_regr = SVR(C=1)\n",
        "svm_regr.fit(X_train['RM'].values.reshape(-1,1), y_train)     # 학습\n",
        "y_pred = svm_regr.predict(X_test['RM'].values.reshape(-1,1))  # 예측\n",
        "\n",
        "print('단순 서포트 벡터 머신 회귀 R2: {:.4f}'.format(r2_score(y_test, y_pred)))"
      ],
      "metadata": {
        "colab": {
          "base_uri": "https://localhost:8080/"
        },
        "id": "NutPiuWDlrdX",
        "outputId": "8d19f4ff-fdc5-413b-bd71-bd7ec9f92f56"
      },
      "execution_count": 38,
      "outputs": [
        {
          "output_type": "stream",
          "name": "stdout",
          "text": [
            "단순 서포트 벡터 머신 회귀 R2: 0.3763\n"
          ]
        }
      ]
    },
    {
      "cell_type": "code",
      "source": [
        "# 결과 시각화\n",
        "line_x = np.linspace(np.min(X_test['RM']), np.max(X_test['RM']), 100)\n",
        "line_y = svm_regr.predict(line_x.reshape(-1, 1))\n",
        "\n",
        "plt.scatter(X_test['RM'], y_test, c='black')\n",
        "plt.plot(line_x, line_y, c='red')\n",
        "plt.legend(['Regression line', 'Test data sample'], loc='upper left')"
      ],
      "metadata": {
        "colab": {
          "base_uri": "https://localhost:8080/",
          "height": 282
        },
        "id": "tn3ouyTilsKe",
        "outputId": "0dc46c40-ebd3-4d28-8e54-147c02bfc865"
      },
      "execution_count": 39,
      "outputs": [
        {
          "output_type": "execute_result",
          "data": {
            "text/plain": [
              "<matplotlib.legend.Legend at 0x7fd078d07410>"
            ]
          },
          "metadata": {},
          "execution_count": 39
        },
        {
          "output_type": "display_data",
          "data": {
            "text/plain": [
              "<Figure size 432x288 with 1 Axes>"
            ],
            "image/png": "[encoded data removed]"
          },
          "metadata": {
            "needs_background": "light"
          }
        }
      ]
    },
    {
      "cell_type": "code",
      "source": [
        "svm_regr = SVR(C=0.0001)\n",
        "svm_regr.fit(X_train, y_train)\n",
        "y_pred = svm_regr.predict(X_test)  # 예측\n",
        "\n",
        "print('단순 서포트 벡터 머신 회귀 R2: {:.2f}'.format(r2_score(y_test, y_pred)*100))\n"
      ],
      "metadata": {
        "colab": {
          "base_uri": "https://localhost:8080/"
        },
        "id": "_jO4C_CrmuwT",
        "outputId": "6736a2fa-06bd-4a3a-c1a9-4af4b33bb6a6"
      },
      "execution_count": 40,
      "outputs": [
        {
          "output_type": "stream",
          "name": "stdout",
          "text": [
            "단순 서포트 벡터 머신 회귀 R2: -1.06\n"
          ]
        }
      ]
    },
    {
      "cell_type": "markdown",
      "source": [
        "\n",
        "# 반복문을 사용해서 최적의 C값을 찾는 숙제"
      ],
      "metadata": {
        "id": "YFtfqvc2nwSg"
      }
    },
    {
      "cell_type": "code",
      "source": [
        "arr = np.arange(6570, 6585)\n",
        "# print(arr)\n",
        "best_C = 0\n",
        "best_r2 = 0\n",
        "\n",
        "for C_var in arr:\n",
        "  svm_regr = SVR(C = C_var)\n",
        "  svm_regr.fit(X_train, y_train)\n",
        "  y_pred = svm_regr.predict(X_test)\n",
        "  \n",
        "  temp_r2 = r2_score(y_test, y_pred)\n",
        "  print('\\n서포트 벡터 머신 C={} R2: {:.4f}'.format(C_var, r2_score(y_test, y_pred)))\n",
        "  \n",
        "\n",
        "  if best_r2 < temp_r2:\n",
        "    \n",
        "    best_C = C_var\n",
        "    best_r2 = temp_r2\n",
        "\n",
        "print('최적의 결과는 C={} r2={:.4f}'.format(best_C, best_r2))\n",
        "\n",
        "# for depth in arr:\n",
        "#   dt_regr = DecisionTreeRegressor(max_depth=10)\n",
        "#   dt_regr.fit(X_train, y_train)"
      ],
      "metadata": {
        "colab": {
          "base_uri": "https://localhost:8080/"
        },
        "id": "2UJfP0YtsbuE",
        "outputId": "efedce5a-22c3-4ef9-9fc6-47d7b3b85d23"
      },
      "execution_count": 41,
      "outputs": [
        {
          "output_type": "stream",
          "name": "stdout",
          "text": [
            "\n",
            "단순 결정 트리 회귀 C=6570 R2: 0.6804\n",
            "\n",
            "단순 결정 트리 회귀 C=6571 R2: 0.6804\n",
            "\n",
            "단순 결정 트리 회귀 C=6572 R2: 0.6804\n",
            "\n",
            "단순 결정 트리 회귀 C=6573 R2: 0.6804\n",
            "\n",
            "단순 결정 트리 회귀 C=6574 R2: 0.6804\n",
            "\n",
            "단순 결정 트리 회귀 C=6575 R2: 0.6804\n",
            "\n",
            "단순 결정 트리 회귀 C=6576 R2: 0.6804\n",
            "\n",
            "단순 결정 트리 회귀 C=6577 R2: 0.6804\n",
            "\n",
            "단순 결정 트리 회귀 C=6578 R2: 0.6804\n",
            "\n",
            "단순 결정 트리 회귀 C=6579 R2: 0.6804\n",
            "\n",
            "단순 결정 트리 회귀 C=6580 R2: 0.6805\n",
            "\n",
            "단순 결정 트리 회귀 C=6581 R2: 0.6805\n",
            "\n",
            "단순 결정 트리 회귀 C=6582 R2: 0.6805\n",
            "\n",
            "단순 결정 트리 회귀 C=6583 R2: 0.6805\n",
            "\n",
            "단순 결정 트리 회귀 C=6584 R2: 0.6805\n",
            "최적의 결과는 C=6582 r2=0.6805\n"
          ]
        }
      ]
    },
    {
      "cell_type": "code",
      "source": [
        "arr1 = np.arange(100,102)\n",
        "arr1"
      ],
      "metadata": {
        "colab": {
          "base_uri": "https://localhost:8080/"
        },
        "id": "BmOSEJqpD8fT",
        "outputId": "7ac53cae-22e2-4ee8-b3c1-7e75bc6f62bd"
      },
      "execution_count": 42,
      "outputs": [
        {
          "output_type": "execute_result",
          "data": {
            "text/plain": [
              "array([100, 101])"
            ]
          },
          "metadata": {},
          "execution_count": 42
        }
      ]
    },
    {
      "cell_type": "code",
      "source": [
        "x = 506*13\n",
        "x"
      ],
      "metadata": {
        "colab": {
          "base_uri": "https://localhost:8080/"
        },
        "id": "ykWsYtKYu7ot",
        "outputId": "5947d4ad-f4f6-447f-9be8-13cc0a7567c6"
      },
      "execution_count": 43,
      "outputs": [
        {
          "output_type": "execute_result",
          "data": {
            "text/plain": [
              "6578"
            ]
          },
          "metadata": {},
          "execution_count": 43
        }
      ]
    },
    {
      "cell_type": "code",
      "source": [
        "# Case1_test1 = arr_C와 arr_r2 상관관계 파악\n",
        "sPoint = 1\n",
        "ePoint = 5000\n",
        "\n",
        "arr_C = np.empty((0, ePoint))\n",
        "arr_r2 = np.empty((0, ePoint))\n",
        "arr = np.arange(sPoint, ePoint)\n",
        "\n",
        "best_C = 0\n",
        "best_r2 = 0\n",
        "\n",
        "for C_var in arr:\n",
        "  svm_regr = SVR(C = C_var)\n",
        "  svm_regr.fit(X_train, y_train)\n",
        "  y_pred = svm_regr.predict(X_test)\n",
        "  \n",
        "  temp_r2 = r2_score(y_test, y_pred)  \n",
        "\n",
        "  if best_r2 < temp_r2:\n",
        "    arr_C = np.append(arr_C, np.array([C_var]))\n",
        "    # print(arr_C)\n",
        "    arr_r2 = np.append(arr_r2, np.array([temp_r2]))\n",
        "    # print(arr_r2)\n",
        "\n",
        "    best_C = C_var\n",
        "    best_r2 = temp_r2\n",
        "\n",
        "print('최적의 결과는 C={} r2={:.4f}'.format(best_C, best_r2))\n",
        "import matplotlib.pyplot as plt\n",
        "plt.style.use('seaborn-darkgrid')\n",
        "x = arr_C\n",
        "y = arr_r2\n",
        "plt.plot(x,y)"
      ],
      "metadata": {
        "colab": {
          "base_uri": "https://localhost:8080/",
          "height": 297
        },
        "id": "P2KJ-CdhxxIL",
        "outputId": "bf84edd7-e05a-48af-efcb-4e70098af353"
      },
      "execution_count": 51,
      "outputs": [
        {
          "output_type": "stream",
          "name": "stdout",
          "text": [
            "최적의 결과는 C=4999 r2=0.6759\n"
          ]
        },
        {
          "output_type": "execute_result",
          "data": {
            "text/plain": [
              "[<matplotlib.lines.Line2D at 0x7fd0753c5b90>]"
            ]
          },
          "metadata": {},
          "execution_count": 51
        },
        {
          "output_type": "display_data",
          "data": {
            "text/plain": [
              "<Figure size 432x288 with 1 Axes>"
            ],
            "image/png": "[encoded data removed]"
          },
          "metadata": {}
        }
      ]
    },
    {
      "cell_type": "code",
      "source": [
        "plt.plot(x,y)\n",
        "plt.xlim(0, 1000)\n",
        "plt.ylim(0.5, 0.66)\n",
        "\n",
        "def numerical_diff(f,x):\n",
        "  h = 1e-4\n",
        "  return (f(x+h)-f(x-h))/2*h"
      ],
      "metadata": {
        "colab": {
          "base_uri": "https://localhost:8080/",
          "height": 266
        },
        "id": "ke663tXPbQsi",
        "outputId": "e07e7051-b4f2-48ea-b049-eb9792453b75"
      },
      "execution_count": 46,
      "outputs": [
        {
          "output_type": "display_data",
          "data": {
            "text/plain": [
              "<Figure size 432x288 with 1 Axes>"
            ],
            "image/png": "[encoded data removed]"
          },
          "metadata": {}
        }
      ]
    },
    {
      "cell_type": "markdown",
      "source": [
        "C 400 R2 0.64"
      ],
      "metadata": {
        "id": "5EI37E1H57LT"
      }
    },
    {
      "cell_type": "code",
      "source": [
        "# Multi Layer Perceptron Regressor\n",
        "\n",
        "from sklearn.neural_network import MLPRegressor\n",
        "mlp_regr = MLPRegressor(solver='adam', hidden_layer_sizes=200, max_iter=1000)    #MLPRegressor() Solver= lbfgs, sgd, adam\n",
        "\n",
        "mlp_regr.fit(X_train, y_train)\n",
        "y_pred = mlp_regr.predict(X_test)\n",
        "\n",
        "print('다중 MLP 회귀, R2: {:.4f}'.format(r2_score(y_test, y_pred)))"
      ],
      "metadata": {
        "id": "ZrjqEWszcqiy",
        "colab": {
          "base_uri": "https://localhost:8080/"
        },
        "outputId": "7c423256-b9d6-4d9e-ec25-ed009f704569"
      },
      "execution_count": 93,
      "outputs": [
        {
          "output_type": "stream",
          "name": "stdout",
          "text": [
            "다중 MLP 회귀, R2: 0.3551\n"
          ]
        }
      ]
    },
    {
      "cell_type": "code",
      "source": [],
      "metadata": {
        "id": "SVPspB8oBuO7"
      },
      "execution_count": null,
      "outputs": []
    }
  ]
}