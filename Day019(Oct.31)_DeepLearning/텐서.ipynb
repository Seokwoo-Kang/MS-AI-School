{
  "nbformat": 4,
  "nbformat_minor": 0,
  "metadata": {
    "colab": {
      "provenance": [],
      "collapsed_sections": []
    },
    "kernelspec": {
      "name": "python3",
      "display_name": "Python 3"
    },
    "language_info": {
      "name": "python"
    }
  },
  "cells": [
    {
      "cell_type": "code",
      "execution_count": 1,
      "metadata": {
        "id": "ZGL2dRIWutjM"
      },
      "outputs": [],
      "source": [
        "import numpy as np\n",
        "import matplotlib.pyplot as plt\n",
        "plt.style.use(['seaborn-whitegrid'])"
      ]
    },
    {
      "cell_type": "code",
      "source": [
        "# 스칼라 값 표현(무차원, 방향성 없음)\n",
        "x = np.array(3)\n",
        "print(x)\n",
        "print(x.shape)\n",
        "print(np.ndim(x))"
      ],
      "metadata": {
        "colab": {
          "base_uri": "https://localhost:8080/"
        },
        "id": "BZMAvQnJu5Wb",
        "outputId": "bbc30e24-b731-4f60-c687-1492ff685396"
      },
      "execution_count": 4,
      "outputs": [
        {
          "output_type": "stream",
          "name": "stdout",
          "text": [
            "3\n",
            "()\n",
            "0\n"
          ]
        }
      ]
    },
    {
      "cell_type": "code",
      "source": [
        "# 벡터 (1차원 텐서)\n",
        "a = np.array([1,2,3,4])\n",
        "b = np.array([5,6,7,8])\n",
        "c = a + b\n",
        "print(c)\n",
        "print(c.shape)\n",
        "print(np.ndim(c))"
      ],
      "metadata": {
        "colab": {
          "base_uri": "https://localhost:8080/"
        },
        "id": "cZzUA9eWu9IF",
        "outputId": "d3ce5520-abcb-4ec7-f509-3a05cd4bba73"
      },
      "execution_count": 11,
      "outputs": [
        {
          "output_type": "stream",
          "name": "stdout",
          "text": [
            "[ 6  8 10 12]\n",
            "(4,)\n",
            "1\n"
          ]
        }
      ]
    },
    {
      "cell_type": "code",
      "source": [
        "# 벡터 곱\n",
        "c = a * b\n",
        "print(c)\n",
        "print(c.shape)\n",
        "print(np.ndim(c))"
      ],
      "metadata": {
        "colab": {
          "base_uri": "https://localhost:8080/"
        },
        "id": "VctKQcobymM7",
        "outputId": "08f6dd1d-1fad-40db-c13a-d899ca2a7ec3"
      },
      "execution_count": 12,
      "outputs": [
        {
          "output_type": "stream",
          "name": "stdout",
          "text": [
            "[ 5 12 21 32]\n",
            "(4,)\n",
            "1\n"
          ]
        }
      ]
    },
    {
      "cell_type": "code",
      "source": [
        "# 스칼라와 벡터의 곱\n",
        "a = np.array(10)  #스칼라\n",
        "b = np.array([1,2,3,4]) # 1차원 텐서\n",
        "c = a * b\n",
        "\n",
        "print(c)"
      ],
      "metadata": {
        "colab": {
          "base_uri": "https://localhost:8080/"
        },
        "id": "0SU3u4fezPTh",
        "outputId": "305af698-e5ef-4279-db43-40afcc98aab2"
      },
      "execution_count": 14,
      "outputs": [
        {
          "output_type": "stream",
          "name": "stdout",
          "text": [
            "[10 20 30 40]\n"
          ]
        }
      ]
    },
    {
      "cell_type": "code",
      "source": [
        "# 전치행렬\n",
        "\n",
        "A = np.array([[1,2,3],[4,5,6]])\n",
        "print('A\\n',A)\n",
        "print('A.shape\\n',A.shape)\n",
        "print('---------')"
      ],
      "metadata": {
        "colab": {
          "base_uri": "https://localhost:8080/"
        },
        "id": "HWUewzkfzt0z",
        "outputId": "9ad594db-a8fb-42e0-94c9-02be7c044bc7"
      },
      "execution_count": 15,
      "outputs": [
        {
          "output_type": "stream",
          "name": "stdout",
          "text": [
            "A\n",
            " [[1 2 3]\n",
            " [4 5 6]]\n",
            "A.shape\n",
            " (2, 3)\n",
            "---------\n"
          ]
        }
      ]
    },
    {
      "cell_type": "code",
      "source": [
        "A_ = A.T\n",
        "print('A_T\\n',A_)\n",
        "print('A_.shape\\n',A_.shape)\n",
        "print('---------')"
      ],
      "metadata": {
        "colab": {
          "base_uri": "https://localhost:8080/"
        },
        "id": "P_J4pzV01Lga",
        "outputId": "59389f16-8b55-4c20-c1f5-fd5f9b8a566f"
      },
      "execution_count": 16,
      "outputs": [
        {
          "output_type": "stream",
          "name": "stdout",
          "text": [
            "A_T\n",
            " [[1 4]\n",
            " [2 5]\n",
            " [3 6]]\n",
            "A_.shape\n",
            " (3, 2)\n",
            "---------\n"
          ]
        }
      ]
    },
    {
      "cell_type": "code",
      "source": [
        "from keras.datasets import mnist\n",
        "(train_images, train_labels),(test_images, test_labels ) = mnist.load_data()"
      ],
      "metadata": {
        "id": "cTUgkBsr1puS"
      },
      "execution_count": 19,
      "outputs": []
    },
    {
      "cell_type": "code",
      "source": [
        "print(train_images.ndim)"
      ],
      "metadata": {
        "colab": {
          "base_uri": "https://localhost:8080/"
        },
        "id": "96OlqfBK4oWf",
        "outputId": "bda1bd83-4787-4c62-f409-6196fb1f0801"
      },
      "execution_count": 20,
      "outputs": [
        {
          "output_type": "stream",
          "name": "stdout",
          "text": [
            "3\n"
          ]
        }
      ]
    },
    {
      "cell_type": "code",
      "source": [
        "#28(28x28 size) pixel 짜리 6만장\n",
        "print(train_images.shape)"
      ],
      "metadata": {
        "colab": {
          "base_uri": "https://localhost:8080/"
        },
        "id": "08F4bPar5L3Y",
        "outputId": "cff1a1b5-bd02-4653-c9df-a040f633ef0a"
      },
      "execution_count": 21,
      "outputs": [
        {
          "output_type": "stream",
          "name": "stdout",
          "text": [
            "(60000, 28, 28)\n"
          ]
        }
      ]
    },
    {
      "cell_type": "code",
      "source": [
        "uint8(양의 정수 8비트)\n",
        "print(train_images.dtype)"
      ],
      "metadata": {
        "colab": {
          "base_uri": "https://localhost:8080/"
        },
        "id": "RZjsEoTz5Oli",
        "outputId": "58796ee6-f779-41d8-e589-e37151a0db06"
      },
      "execution_count": 22,
      "outputs": [
        {
          "output_type": "stream",
          "name": "stdout",
          "text": [
            "uint8\n"
          ]
        }
      ]
    },
    {
      "cell_type": "code",
      "source": [
        "#제일 첫번째장 가져오기\n",
        "\n",
        "temp_image = train_images[3]\n",
        "plt.imshow(temp_image, cmap='gray')"
      ],
      "metadata": {
        "colab": {
          "base_uri": "https://localhost:8080/",
          "height": 279
        },
        "id": "M9V5iFwj6h-r",
        "outputId": "7ad4d06d-110a-4634-eff7-36b945bd8e1f"
      },
      "execution_count": 28,
      "outputs": [
        {
          "output_type": "execute_result",
          "data": {
            "text/plain": [
              "<matplotlib.image.AxesImage at 0x7f4dd0b717d0>"
            ]
          },
          "metadata": {},
          "execution_count": 28
        },
        {
          "output_type": "display_data",
          "data": {
            "text/plain": [
              "<Figure size 432x288 with 1 Axes>"
            ],
            "image/png": "[encoded data removed]"
          },
          "metadata": {}
        }
      ]
    },
    {
      "cell_type": "code",
      "source": [
        "# 라벨값확인\n",
        "train_labels[3]"
      ],
      "metadata": {
        "colab": {
          "base_uri": "https://localhost:8080/"
        },
        "id": "uB-izvQV63tQ",
        "outputId": "ce83e333-8799-4c69-9448-76ad11b7779e"
      },
      "execution_count": 29,
      "outputs": [
        {
          "output_type": "execute_result",
          "data": {
            "text/plain": [
              "1"
            ]
          },
          "metadata": {},
          "execution_count": 29
        }
      ]
    },
    {
      "cell_type": "code",
      "source": [],
      "metadata": {
        "id": "zzqVzjcI7jHf"
      },
      "execution_count": null,
      "outputs": []
    }
  ]
}