{
  "nbformat": 4,
  "nbformat_minor": 0,
  "metadata": {
    "colab": {
      "provenance": []
    },
    "kernelspec": {
      "name": "python3",
      "display_name": "Python 3"
    },
    "language_info": {
      "name": "python"
    }
  },
  "cells": [
    {
      "cell_type": "code",
      "execution_count": 36,
      "metadata": {
        "id": "-bxFd4iHubH1"
      },
      "outputs": [],
      "source": [
        "from keras.datasets import mnist"
      ]
    },
    {
      "cell_type": "code",
      "source": [
        "(train_images, train_labels),(test_images, test_labels) = mnist.load_data()"
      ],
      "metadata": {
        "id": "gaXL1fj_wwuU"
      },
      "execution_count": 37,
      "outputs": []
    },
    {
      "cell_type": "code",
      "source": [
        "# 구조 살펴보기\n",
        "train_images.shape"
      ],
      "metadata": {
        "colab": {
          "base_uri": "https://localhost:8080/"
        },
        "id": "TRJwjOgaxSlv",
        "outputId": "24a29550-2590-4bb3-a7c4-86492c28652b"
      },
      "execution_count": 38,
      "outputs": [
        {
          "output_type": "execute_result",
          "data": {
            "text/plain": [
              "(60000, 28, 28)"
            ]
          },
          "metadata": {},
          "execution_count": 38
        }
      ]
    },
    {
      "cell_type": "code",
      "source": [
        "len(train_labels)"
      ],
      "metadata": {
        "colab": {
          "base_uri": "https://localhost:8080/"
        },
        "id": "Z5ZLiB6PxbGV",
        "outputId": "ba8d144e-857d-4ac9-920e-59500e96d98a"
      },
      "execution_count": 39,
      "outputs": [
        {
          "output_type": "execute_result",
          "data": {
            "text/plain": [
              "60000"
            ]
          },
          "metadata": {},
          "execution_count": 39
        }
      ]
    },
    {
      "cell_type": "code",
      "source": [
        "test_images.shape"
      ],
      "metadata": {
        "colab": {
          "base_uri": "https://localhost:8080/"
        },
        "id": "ufuE-MPpxfM6",
        "outputId": "46c8b9d0-efce-4938-a056-a7df10294d23"
      },
      "execution_count": 40,
      "outputs": [
        {
          "output_type": "execute_result",
          "data": {
            "text/plain": [
              "(10000, 28, 28)"
            ]
          },
          "metadata": {},
          "execution_count": 40
        }
      ]
    },
    {
      "cell_type": "code",
      "source": [
        "from keras import models\n",
        "from keras import layers\n",
        "\n",
        "# 어떤모델을 사용할지는 신경망에 따라 결정\n",
        "# 신경망을 나타내는 네트워크, .Sequential 순차적으로 신경망을 만듬\n",
        "network = models.Sequential()\n",
        "# 네트워크에 Dense(일반적인 신경망) 추가, 히든층없이 바로 input, output으로 구성\n",
        "network.add(layers.Dense(512, activation='relu', input_shape=(28*28,))) # 모양은 첫번째 층에서만 결정해주면된다\n",
        "network.add(layers.Dense(10, activation='softmax'))"
      ],
      "metadata": {
        "id": "vEJeIWB9xtOk"
      },
      "execution_count": 41,
      "outputs": []
    },
    {
      "cell_type": "code",
      "source": [
        "# 신경망 완성\n",
        "\n",
        "network.compile(optimizer='rmsprop',      # optimizer(최적화): 스스로 최적화해 나가는 방법을 결정(가중치, bias 조정)\n",
        "                loss='categorical_crossentropy',    # loss(손실값): 다중분류에서는 기본적으로 crossentropy(이중에서는 binary)\n",
        "                metrics=['accuracy']\n",
        "                )"
      ],
      "metadata": {
        "id": "gLqHN28Sx5hF"
      },
      "execution_count": 42,
      "outputs": []
    },
    {
      "cell_type": "code",
      "source": [
        "# 데이터 모양의 변환\n",
        "train_images = train_images.reshape((60000,28*28))\n",
        "print(train_images)\n",
        "print(train_images.shape)"
      ],
      "metadata": {
        "colab": {
          "base_uri": "https://localhost:8080/"
        },
        "id": "bu0EA84Q4ptT",
        "outputId": "f9bcdc7b-ea47-45ac-e615-b4c0d6055c09"
      },
      "execution_count": 43,
      "outputs": [
        {
          "output_type": "stream",
          "name": "stdout",
          "text": [
            "[[0 0 0 ... 0 0 0]\n",
            " [0 0 0 ... 0 0 0]\n",
            " [0 0 0 ... 0 0 0]\n",
            " ...\n",
            " [0 0 0 ... 0 0 0]\n",
            " [0 0 0 ... 0 0 0]\n",
            " [0 0 0 ... 0 0 0]]\n",
            "(60000, 784)\n"
          ]
        }
      ]
    },
    {
      "cell_type": "code",
      "source": [
        "# 데이터 실수형으로 변환\n",
        "train_images = train_images.astype('float32') / 255\n",
        "\n",
        "test_images = test_images.reshape((10000, 28*28))\n",
        "test_images = test_images.astype('float32') / 255"
      ],
      "metadata": {
        "id": "16_LGqYF5sQa"
      },
      "execution_count": null,
      "outputs": []
    },
    {
      "cell_type": "code",
      "source": [
        "# Categorical Data(분류형 데이터의 설정)\n",
        "# 예전에 했던 encoding 개념\n",
        "from tensorflow.keras.utils import to_categorical\n",
        "\n",
        "train_labels = to_categorical(train_labels)\n",
        "test_labels = to_categorical(test_labels)"
      ],
      "metadata": {
        "id": "BVXI55js6TjB"
      },
      "execution_count": 45,
      "outputs": []
    },
    {
      "cell_type": "code",
      "source": [
        "# 네트워크에 학습을 시킴\n",
        "network.fit(train_images, train_labels,\n",
        "            epochs = 5,         # epochs = 5, 학습 반복 횟수 \n",
        "            batch_size = 128    # batch_size = 128, 128Kbite씩 뭉텅이로\n",
        "            ) \n"
      ],
      "metadata": {
        "colab": {
          "base_uri": "https://localhost:8080/"
        },
        "id": "UTTMhbEx75lE",
        "outputId": "37fc7cf0-2a37-4aec-c29a-5c6115239951"
      },
      "execution_count": 46,
      "outputs": [
        {
          "output_type": "stream",
          "name": "stdout",
          "text": [
            "Epoch 1/5\n",
            "469/469 [==============================] - 5s 10ms/step - loss: 0.2575 - accuracy: 0.9264\n",
            "Epoch 2/5\n",
            "469/469 [==============================] - 4s 10ms/step - loss: 0.1044 - accuracy: 0.9687\n",
            "Epoch 3/5\n",
            "469/469 [==============================] - 4s 9ms/step - loss: 0.0689 - accuracy: 0.9793\n",
            "Epoch 4/5\n",
            "469/469 [==============================] - 4s 9ms/step - loss: 0.0504 - accuracy: 0.9850\n",
            "Epoch 5/5\n",
            "469/469 [==============================] - 5s 10ms/step - loss: 0.0379 - accuracy: 0.9883\n"
          ]
        },
        {
          "output_type": "execute_result",
          "data": {
            "text/plain": [
              "<keras.callbacks.History at 0x7f8dea2494d0>"
            ]
          },
          "metadata": {},
          "execution_count": 46
        }
      ]
    },
    {
      "cell_type": "code",
      "source": [
        "test_loss, test_acc = network.evaluate(test_images, test_labels)"
      ],
      "metadata": {
        "colab": {
          "base_uri": "https://localhost:8080/"
        },
        "id": "fz8R3_6E8veb",
        "outputId": "952f9059-c1f1-407e-d6e7-faae5e167c26"
      },
      "execution_count": 48,
      "outputs": [
        {
          "output_type": "stream",
          "name": "stdout",
          "text": [
            "313/313 [==============================] - 1s 2ms/step - loss: 0.0620 - accuracy: 0.9817\n"
          ]
        }
      ]
    },
    {
      "cell_type": "code",
      "source": [
        "print('test_acc: ', test_acc)"
      ],
      "metadata": {
        "colab": {
          "base_uri": "https://localhost:8080/"
        },
        "id": "ysxSmPuY-D4J",
        "outputId": "39b87556-40b1-4f50-fe7c-ea42e074e953"
      },
      "execution_count": 49,
      "outputs": [
        {
          "output_type": "stream",
          "name": "stdout",
          "text": [
            "test_acc:  0.9817000031471252\n"
          ]
        }
      ]
    },
    {
      "cell_type": "code",
      "source": [],
      "metadata": {
        "id": "7m0uAgrm-Q71"
      },
      "execution_count": null,
      "outputs": []
    }
  ]
}