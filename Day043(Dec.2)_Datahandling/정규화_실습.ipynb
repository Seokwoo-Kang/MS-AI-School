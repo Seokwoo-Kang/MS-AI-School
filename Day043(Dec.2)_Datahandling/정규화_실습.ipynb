{
  "nbformat": 4,
  "nbformat_minor": 0,
  "metadata": {
    "colab": {
      "provenance": []
    },
    "kernelspec": {
      "name": "python3",
      "display_name": "Python 3"
    },
    "language_info": {
      "name": "python"
    }
  },
  "cells": [
    {
      "cell_type": "code",
      "execution_count": 1,
      "metadata": {
        "id": "E1CTJIYlsvfv"
      },
      "outputs": [],
      "source": [
        "import sklearn\n",
        "from sklearn.preprocessing import *\n",
        "import numpy as np\n",
        "from numpy import *"
      ]
    },
    {
      "cell_type": "code",
      "source": [
        "def normaliztion(data):\n",
        "  data_mm = (data - data.min(axis=0))/(data.max(axis=0)-data.min(axis=0))\n",
        "  return data_mm\n",
        "\n",
        "def numpy_standardiztion(data):\n",
        "  \"\"\"\n",
        "  (각데이터 - 평균(각열)) / 표준편차(각열)\n",
        "  \"\"\"\n",
        "  std_data=(data - np.mean(data, axis=0)/np.std(data, axis=0))\n",
        "  return std_data\n",
        "\n",
        "def main():\n",
        "  data = np.random.randint(30, size=(6,5))\n",
        "  #print(data)\n",
        "  std_data_temp = numpy_standardiztion(data)\n",
        "  print(std_data_temp)\n",
        "\n",
        "  no_data = normaliztion(data)\n",
        "  print(data)\n",
        "\n",
        "if __name__ == '__main__':\n",
        "  main()"
      ],
      "metadata": {
        "colab": {
          "base_uri": "https://localhost:8080/"
        },
        "id": "nEjZOOxCtl8y",
        "outputId": "ce75f548-4220-4b0d-d1e4-c4a3e54e7b28"
      },
      "execution_count": 6,
      "outputs": [
        {
          "output_type": "stream",
          "name": "stdout",
          "text": [
            "[[23.47185097  8.55257424  2.42666763 13.29681185 13.86067004]\n",
            " [ 1.47185097 27.55257424 19.42666763  4.29681185  8.86067004]\n",
            " [19.47185097  2.55257424 10.42666763  6.29681185 -0.13932996]\n",
            " [25.47185097  4.55257424 13.42666763  8.29681185 18.86067004]\n",
            " [-1.52814903  6.55257424 14.42666763 20.29681185 19.86067004]\n",
            " [21.47185097 19.55257424 -1.57333237  1.29681185 11.86067004]]\n",
            "[[25 10  4 15 16]\n",
            " [ 3 29 21  6 11]\n",
            " [21  4 12  8  2]\n",
            " [27  6 15 10 21]\n",
            " [ 0  8 16 22 22]\n",
            " [23 21  0  3 14]]\n"
          ]
        }
      ]
    },
    {
      "cell_type": "code",
      "source": [
        "## 질문\n",
        "\n",
        "# if __name__ == '__main__':\n",
        "#   main()"
      ],
      "metadata": {
        "id": "p9yGXt5luAtQ"
      },
      "execution_count": null,
      "outputs": []
    }
  ]
}