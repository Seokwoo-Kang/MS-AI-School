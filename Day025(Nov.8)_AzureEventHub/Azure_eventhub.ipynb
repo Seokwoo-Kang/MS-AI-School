{
  "cells": [
    {
      "cell_type": "code",
      "execution_count": null,
      "metadata": {
        "colab": {
          "base_uri": "https://localhost:8080/"
        },
        "id": "O4FjuO6Hi2pI",
        "outputId": "58e2c3c1-d0d4-4af9-da3a-609a33f89135"
      },
      "outputs": [
        {
          "name": "stdout",
          "output_type": "stream",
          "text": [
            "Looking in indexes: https://pypi.org/simple, https://us-python.pkg.dev/colab-wheels/public/simple/\n",
            "Collecting azure-eventhub\n",
            "  Downloading azure_eventhub-5.10.1-py3-none-any.whl (150 kB)\n",
            "\u001b[K     |████████████████████████████████| 150 kB 5.0 MB/s \n",
            "\u001b[?25hRequirement already satisfied: typing-extensions>=4.0.1 in /usr/local/lib/python3.7/dist-packages (from azure-eventhub) (4.1.1)\n",
            "Collecting azure-core<2.0.0,>=1.14.0\n",
            "  Downloading azure_core-1.26.1-py3-none-any.whl (172 kB)\n",
            "\u001b[K     |████████████████████████████████| 172 kB 38.4 MB/s \n",
            "\u001b[?25hCollecting uamqp<2.0.0,>=1.6.0\n",
            "  Downloading uamqp-1.6.3-cp37-cp37m-manylinux_2_17_x86_64.manylinux2014_x86_64.whl (3.1 MB)\n",
            "\u001b[K     |████████████████████████████████| 3.1 MB 49.1 MB/s \n",
            "\u001b[?25hRequirement already satisfied: six>=1.11.0 in /usr/local/lib/python3.7/dist-packages (from azure-core<2.0.0,>=1.14.0->azure-eventhub) (1.15.0)\n",
            "Requirement already satisfied: requests>=2.18.4 in /usr/local/lib/python3.7/dist-packages (from azure-core<2.0.0,>=1.14.0->azure-eventhub) (2.23.0)\n",
            "Requirement already satisfied: chardet<4,>=3.0.2 in /usr/local/lib/python3.7/dist-packages (from requests>=2.18.4->azure-core<2.0.0,>=1.14.0->azure-eventhub) (3.0.4)\n",
            "Requirement already satisfied: urllib3!=1.25.0,!=1.25.1,<1.26,>=1.21.1 in /usr/local/lib/python3.7/dist-packages (from requests>=2.18.4->azure-core<2.0.0,>=1.14.0->azure-eventhub) (1.24.3)\n",
            "Requirement already satisfied: idna<3,>=2.5 in /usr/local/lib/python3.7/dist-packages (from requests>=2.18.4->azure-core<2.0.0,>=1.14.0->azure-eventhub) (2.10)\n",
            "Requirement already satisfied: certifi>=2017.4.17 in /usr/local/lib/python3.7/dist-packages (from requests>=2.18.4->azure-core<2.0.0,>=1.14.0->azure-eventhub) (2022.9.24)\n",
            "Installing collected packages: uamqp, azure-core, azure-eventhub\n",
            "Successfully installed azure-core-1.26.1 azure-eventhub-5.10.1 uamqp-1.6.3\n"
          ]
        }
      ],
      "source": [
        "!pip install azure-eventhub"
      ]
    },
    {
      "cell_type": "code",
      "execution_count": null,
      "metadata": {
        "id": "qftrlLk0i7U7"
      },
      "outputs": [],
      "source": [
        "from azure.eventhub.aio import EventHubProducerClient # 이벤트 허브쪽으로 데이터를 쏨\n",
        "from azure.eventhub import EventData\n"
      ]
    },
    {
      "cell_type": "code",
      "execution_count": null,
      "metadata": {
        "id": "MKlJqfE_jkER"
      },
      "outputs": [],
      "source": [
        "# EventHubProducerClient가 연결문자열로 이벤트 허브와 연결, 접속 후 eventhub에 저장\n",
        "\n",
        "eventhub = EventHubProducerClient.from_connection_string(conn_str='')"
      ]
    },
    {
      "cell_type": "code",
      "execution_count": null,
      "metadata": {
        "colab": {
          "base_uri": "https://localhost:8080/",
          "height": 1000
        },
        "id": "eSZGd2OclCcd",
        "outputId": "2177e150-5615-44c7-b83a-f307435a8bb9"
      },
      "outputs": [
        {
          "name": "stderr",
          "output_type": "stream",
          "text": [
            "/usr/local/lib/python3.7/dist-packages/ipykernel_launcher.py:9: RuntimeWarning: coroutine 'EventHubProducerClient.send_event' was never awaited\n",
            "  if __name__ == '__main__':\n",
            "RuntimeWarning: Enable tracemalloc to get the object allocation traceback\n"
          ]
        },
        {
          "name": "stdout",
          "output_type": "stream",
          "text": [
            "message 10 sending...\n",
            "message 20 sending...\n",
            "message 30 sending...\n",
            "message 40 sending...\n",
            "message 50 sending...\n",
            "message 60 sending...\n",
            "message 70 sending...\n",
            "message 80 sending...\n",
            "message 90 sending...\n",
            "message 100 sending...\n",
            "message 110 sending...\n",
            "message 120 sending...\n",
            "message 130 sending...\n",
            "message 140 sending...\n",
            "message 150 sending...\n",
            "message 160 sending...\n",
            "message 170 sending...\n",
            "message 180 sending...\n",
            "message 190 sending...\n",
            "message 200 sending...\n",
            "message 210 sending...\n",
            "message 220 sending...\n",
            "message 230 sending...\n",
            "message 240 sending...\n",
            "message 250 sending...\n",
            "message 260 sending...\n",
            "message 270 sending...\n",
            "message 280 sending...\n",
            "message 290 sending...\n",
            "message 300 sending...\n",
            "message 310 sending...\n",
            "message 320 sending...\n",
            "message 330 sending...\n",
            "message 340 sending...\n",
            "message 350 sending...\n",
            "message 360 sending...\n",
            "message 370 sending...\n",
            "message 380 sending...\n",
            "message 390 sending...\n",
            "message 400 sending...\n",
            "message 410 sending...\n",
            "message 420 sending...\n",
            "message 430 sending...\n",
            "message 440 sending...\n",
            "message 450 sending...\n",
            "message 460 sending...\n",
            "message 470 sending...\n",
            "message 480 sending...\n",
            "message 490 sending...\n",
            "message 500 sending...\n",
            "message 510 sending...\n",
            "message 520 sending...\n",
            "message 530 sending...\n",
            "message 540 sending...\n",
            "message 550 sending...\n",
            "message 560 sending...\n",
            "message 570 sending...\n",
            "message 580 sending...\n",
            "message 590 sending...\n",
            "message 600 sending...\n",
            "message 610 sending...\n",
            "message 620 sending...\n",
            "message 630 sending...\n",
            "message 640 sending...\n",
            "message 650 sending...\n",
            "message 660 sending...\n",
            "message 670 sending...\n",
            "message 680 sending...\n",
            "message 690 sending...\n",
            "message 700 sending...\n",
            "message 710 sending...\n",
            "message 720 sending...\n",
            "message 730 sending...\n",
            "message 740 sending...\n",
            "message 750 sending...\n",
            "message 760 sending...\n",
            "message 770 sending...\n",
            "message 780 sending...\n",
            "message 790 sending...\n",
            "message 800 sending...\n",
            "message 810 sending...\n",
            "message 820 sending...\n",
            "message 830 sending...\n",
            "message 840 sending...\n",
            "message 850 sending...\n",
            "message 860 sending...\n",
            "message 870 sending...\n",
            "message 880 sending...\n",
            "message 890 sending...\n",
            "message 900 sending...\n",
            "message 910 sending...\n",
            "message 920 sending...\n",
            "message 930 sending...\n",
            "message 940 sending...\n"
          ]
        },
        {
          "ename": "KeyboardInterrupt",
          "evalue": "ignored",
          "output_type": "error",
          "traceback": [
            "\u001b[0;31m---------------------------------------------------------------------------\u001b[0m",
            "\u001b[0;31mKeyboardInterrupt\u001b[0m                         Traceback (most recent call last)",
            "\u001b[0;32m<ipython-input-4-aa54e1f93113>\u001b[0m in \u001b[0;36m<module>\u001b[0;34m\u001b[0m\n\u001b[1;32m     14\u001b[0m     \u001b[0mprint\u001b[0m\u001b[0;34m(\u001b[0m\u001b[0;34m'message {} sending...'\u001b[0m\u001b[0;34m.\u001b[0m\u001b[0mformat\u001b[0m\u001b[0;34m(\u001b[0m\u001b[0mi\u001b[0m\u001b[0;34m)\u001b[0m\u001b[0;34m)\u001b[0m\u001b[0;34m\u001b[0m\u001b[0;34m\u001b[0m\u001b[0m\n\u001b[1;32m     15\u001b[0m \u001b[0;34m\u001b[0m\u001b[0m\n\u001b[0;32m---> 16\u001b[0;31m   \u001b[0mtime\u001b[0m\u001b[0;34m.\u001b[0m\u001b[0msleep\u001b[0m\u001b[0;34m(\u001b[0m\u001b[0;36m2\u001b[0m\u001b[0;34m)\u001b[0m \u001b[0;31m# 20초에 한번씩 찍히도록\u001b[0m\u001b[0;34m\u001b[0m\u001b[0;34m\u001b[0m\u001b[0m\n\u001b[0m",
            "\u001b[0;31mKeyboardInterrupt\u001b[0m: "
          ]
        }
      ],
      "source": [
        "# 주기적인 작업을 하기위한 time 패키지\n",
        "import time\n",
        "from datetime import datetime   # 시간을 보낼거임\n",
        "\n",
        "\n",
        "i = 0     # 반복하는 횟수를 체크하기위해\n",
        "while(1):\n",
        "  message = 'time: ' + str(datetime.now())  # 현재시간을 계속 보냄\n",
        "  eventhub.send_event(EventData(message))   # 한꺼번 많은 양을 보낼때 send_batch를 적용\n",
        "  \n",
        "  # 열번에 한번씩 중간 과정 체크\n",
        "  i += 1\n",
        "  if i%10==0:\n",
        "    print('message {} sending...'.format(i))\n",
        "\n",
        "  time.sleep(2) # 20초에 한번씩 찍히도록\n"
      ]
    },
    {
      "cell_type": "code",
      "execution_count": null,
      "metadata": {
        "id": "1wrhJbCBlCTe"
      },
      "outputs": [],
      "source": []
    },
    {
      "cell_type": "code",
      "execution_count": null,
      "metadata": {
        "id": "DgbJkCfZlCHG"
      },
      "outputs": [],
      "source": []
    },
    {
      "cell_type": "code",
      "execution_count": null,
      "metadata": {
        "id": "YpymfvOklB8c"
      },
      "outputs": [],
      "source": []
    }
  ],
  "metadata": {
    "colab": {
      "provenance": []
    },
    "kernelspec": {
      "display_name": "Python 3",
      "name": "python3"
    },
    "language_info": {
      "name": "python"
    }
  },
  "nbformat": 4,
  "nbformat_minor": 0
}
