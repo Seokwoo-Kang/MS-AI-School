{
  "nbformat": 4,
  "nbformat_minor": 0,
  "metadata": {
    "colab": {
      "provenance": []
    },
    "kernelspec": {
      "name": "python3",
      "display_name": "Python 3"
    },
    "language_info": {
      "name": "python"
    }
  },
  "cells": [
    {
      "cell_type": "code",
      "execution_count": 2,
      "metadata": {
        "colab": {
          "base_uri": "https://localhost:8080/"
        },
        "id": "xEkcue_r3mTw",
        "outputId": "65d0294c-3afc-46a1-c81c-e2ab7836e8ca"
      },
      "outputs": [
        {
          "output_type": "stream",
          "name": "stdout",
          "text": [
            "Looking in indexes: https://pypi.org/simple, https://us-python.pkg.dev/colab-wheels/public/simple/\n",
            "Requirement already satisfied: koreanize-matplotlib in /usr/local/lib/python3.7/dist-packages (0.0.1)\n",
            "Requirement already satisfied: matplotlib in /usr/local/lib/python3.7/dist-packages (from koreanize-matplotlib) (3.2.2)\n",
            "Requirement already satisfied: cycler>=0.10 in /usr/local/lib/python3.7/dist-packages (from matplotlib->koreanize-matplotlib) (0.11.0)\n",
            "Requirement already satisfied: kiwisolver>=1.0.1 in /usr/local/lib/python3.7/dist-packages (from matplotlib->koreanize-matplotlib) (1.4.4)\n",
            "Requirement already satisfied: numpy>=1.11 in /usr/local/lib/python3.7/dist-packages (from matplotlib->koreanize-matplotlib) (1.21.6)\n",
            "Requirement already satisfied: pyparsing!=2.0.4,!=2.1.2,!=2.1.6,>=2.0.1 in /usr/local/lib/python3.7/dist-packages (from matplotlib->koreanize-matplotlib) (3.0.9)\n",
            "Requirement already satisfied: python-dateutil>=2.1 in /usr/local/lib/python3.7/dist-packages (from matplotlib->koreanize-matplotlib) (2.8.2)\n",
            "Requirement already satisfied: typing-extensions in /usr/local/lib/python3.7/dist-packages (from kiwisolver>=1.0.1->matplotlib->koreanize-matplotlib) (4.1.1)\n",
            "Requirement already satisfied: six>=1.5 in /usr/local/lib/python3.7/dist-packages (from python-dateutil>=2.1->matplotlib->koreanize-matplotlib) (1.15.0)\n"
          ]
        }
      ],
      "source": [
        "!pip install koreanize-matplotlib"
      ]
    },
    {
      "cell_type": "markdown",
      "source": [
        "# 확률분포의 종류\n",
        "- 이항분포\n",
        "      binom\n",
        "- 다항분포\n",
        "      multinomial\n",
        "- 정규분포\n",
        "      norm\n",
        "- 균일분포\n",
        "      uniform\n",
        "- 베타분포\n",
        "      beta\n",
        "- 감마분포\n",
        "      gamma\n",
        "- t - 분포\n",
        "      t\n",
        "- 카이제곱분포\n",
        "      chi2"
      ],
      "metadata": {
        "id": "J0azzQ5U3qsF"
      }
    },
    {
      "cell_type": "markdown",
      "source": [
        "## 모수 지정\n",
        "평균, 편차\n",
        "\n",
        "분포의 기대값, 표준편차"
      ],
      "metadata": {
        "id": "3yKLw2WP3t2I"
      }
    },
    {
      "cell_type": "markdown",
      "source": [
        "      pdf : 확률밀도함수\n",
        "      pmf : 확률질량함수\n",
        "      cdf : 누적확률밀도함수\n",
        "      ppf : cdf의 역함수"
      ],
      "metadata": {
        "id": "rVrGWNX43wMs"
      }
    },
    {
      "cell_type": "code",
      "source": [
        "import scipy as sp\n",
        "import scipy.stats\n",
        "import numpy as np\n",
        "rv = scipy.stats.norm(1, 2)"
      ],
      "metadata": {
        "id": "RpJdsLZ93zLc"
      },
      "execution_count": 3,
      "outputs": []
    },
    {
      "cell_type": "code",
      "source": [
        "import koreanize_matplotlib\n",
        "import matplotlib.pyplot as plt\n",
        "import seaborn as sns"
      ],
      "metadata": {
        "id": "Kg5Hgwr431Co"
      },
      "execution_count": 4,
      "outputs": []
    },
    {
      "cell_type": "code",
      "source": [
        "x = np.linspace(-10, 10, 200)\n",
        "pdf = rv.pdf(x)\n",
        "plt.plot(x, pdf)\n",
        "plt.title('확률밀도함수')\n",
        "plt.grid()\n",
        "plt.show()"
      ],
      "metadata": {
        "colab": {
          "base_uri": "https://localhost:8080/",
          "height": 279
        },
        "id": "WRyrU5cu31rT",
        "outputId": "64175deb-f8fa-4e83-ed19-69d1641c5c6d"
      },
      "execution_count": 5,
      "outputs": [
        {
          "output_type": "display_data",
          "data": {
            "text/plain": [
              "<Figure size 432x288 with 1 Axes>"
            ],
            "image/png": "[encoded data removed]"
          },
          "metadata": {
            "needs_background": "light"
          }
        }
      ]
    },
    {
      "cell_type": "code",
      "source": [
        "cdf = rv.cdf(x)\n",
        "plt.plot(x, cdf)\n",
        "plt.title('누적확률밀도함수')\n",
        "plt.grid()\n",
        "plt.show()"
      ],
      "metadata": {
        "colab": {
          "base_uri": "https://localhost:8080/",
          "height": 279
        },
        "id": "f6waaCjL32kC",
        "outputId": "1cad3ccf-9f6f-46e9-c3ee-63629461d234"
      },
      "execution_count": 6,
      "outputs": [
        {
          "output_type": "display_data",
          "data": {
            "text/plain": [
              "<Figure size 432x288 with 1 Axes>"
            ],
            "image/png": "[encoded data removed]"
          },
          "metadata": {
            "needs_background": "light"
          }
        }
      ]
    },
    {
      "cell_type": "code",
      "source": [
        "# random value sampling\n",
        "sns.distplot(rv.rvs(size=10000, random_state=0))\n",
        "plt.title('랜덤 표본 그래프')\n",
        "plt.xlabel('표본값')\n",
        "plt.ylabel('count')\n",
        "plt.show()"
      ],
      "metadata": {
        "colab": {
          "base_uri": "https://localhost:8080/",
          "height": 348
        },
        "id": "omBNxgTw33sR",
        "outputId": "d904f213-13b2-4ea8-8e86-05f025895d03"
      },
      "execution_count": 7,
      "outputs": [
        {
          "output_type": "stream",
          "name": "stderr",
          "text": [
            "/usr/local/lib/python3.7/dist-packages/seaborn/distributions.py:2619: FutureWarning: `distplot` is a deprecated function and will be removed in a future version. Please adapt your code to use either `displot` (a figure-level function with similar flexibility) or `histplot` (an axes-level function for histograms).\n",
            "  warnings.warn(msg, FutureWarning)\n"
          ]
        },
        {
          "output_type": "display_data",
          "data": {
            "text/plain": [
              "<Figure size 432x288 with 1 Axes>"
            ],
            "image/png": "[encoded data removed]"
          },
          "metadata": {
            "needs_background": "light"
          }
        }
      ]
    },
    {
      "cell_type": "markdown",
      "source": [
        "## 변환 확률 변수의 시뮬레이션"
      ],
      "metadata": {
        "id": "0rzKSWev36ps"
      }
    },
    {
      "cell_type": "code",
      "source": [
        "rv1 = sp.stats.uniform()\n",
        "rv2 = sp.stats.uniform()\n",
        "\n",
        "np.random.seed(0)\n",
        "N = 50000\n",
        "x_1 = rv1.rvs(N)\n",
        "x_2 = rv2.rvs(N)\n",
        "\n",
        "x_3 = x_1 + x_2\n",
        "\n",
        "plt.subplot(131)\n",
        "sns.distplot(x_1, kde=False)\n",
        "plt.grid()\n",
        "plt.title('균일분포')\n",
        "plt.xlabel('표본값')\n",
        "\n",
        "plt.subplot(132)\n",
        "sns.distplot(x_2, kde=False)\n",
        "plt.grid()\n",
        "plt.title('균일분포')\n",
        "plt.xlabel('표본값')\n",
        "\n",
        "plt.subplot(133)\n",
        "sns.distplot(x_3, kde=False)\n",
        "plt.title('균일분포 표본의 합의 분포')\n",
        "plt.grid()\n",
        "plt.tight_layout()\n",
        "plt.show()"
      ],
      "metadata": {
        "colab": {
          "base_uri": "https://localhost:8080/",
          "height": 352
        },
        "id": "nFAS8GWU376N",
        "outputId": "cf326b4f-f1a3-47bf-d410-f8423039361e"
      },
      "execution_count": 8,
      "outputs": [
        {
          "output_type": "stream",
          "name": "stderr",
          "text": [
            "/usr/local/lib/python3.7/dist-packages/seaborn/distributions.py:2619: FutureWarning: `distplot` is a deprecated function and will be removed in a future version. Please adapt your code to use either `displot` (a figure-level function with similar flexibility) or `histplot` (an axes-level function for histograms).\n",
            "  warnings.warn(msg, FutureWarning)\n"
          ]
        },
        {
          "output_type": "display_data",
          "data": {
            "text/plain": [
              "<Figure size 432x288 with 3 Axes>"
            ],
            "image/png": "[encoded data removed]"
          },
          "metadata": {
            "needs_background": "light"
          }
        }
      ]
    },
    {
      "cell_type": "markdown",
      "source": [
        "### 베르누이 분포\n",
        "      bernoulli\n",
        "      베르누이 실험 : 결과가 두개 밖에 없는 실험(동전)\n",
        "      베르누이의 확률변수 : 이산확률변수 {0,1}, {-1,1}\n",
        "$$Bern(x;μ)={μ^x}{(1-μ)^{(1-x)}}$$"
      ],
      "metadata": {
        "id": "dKaUgprg3-sc"
      }
    },
    {
      "cell_type": "code",
      "source": [
        "mu = 0.6\n",
        "rv = scipy.stats.bernoulli(mu)\n",
        "rv"
      ],
      "metadata": {
        "colab": {
          "base_uri": "https://localhost:8080/"
        },
        "id": "U16cQpk23_sl",
        "outputId": "f9b50da9-6857-4db5-f802-792821b4fc83"
      },
      "execution_count": 9,
      "outputs": [
        {
          "output_type": "execute_result",
          "data": {
            "text/plain": [
              "<scipy.stats._distn_infrastructure.rv_frozen at 0x7f0cd7ef3850>"
            ]
          },
          "metadata": {},
          "execution_count": 9
        }
      ]
    },
    {
      "cell_type": "code",
      "source": [
        "x = [0, 1]\n",
        "plt.bar(x, rv.pmf(x))\n",
        "plt.xticks([0,1], ['x=0','x=1'])\n",
        "plt.grid()\n",
        "plt.xlabel('표본값')\n",
        "plt.title('베르누이 확률질량 함수')\n",
        "plt.show()"
      ],
      "metadata": {
        "colab": {
          "base_uri": "https://localhost:8080/",
          "height": 293
        },
        "id": "7NV4HAwa4A8P",
        "outputId": "ad9ade4b-54ad-4c17-b596-f63c890c2503"
      },
      "execution_count": 10,
      "outputs": [
        {
          "output_type": "display_data",
          "data": {
            "text/plain": [
              "<Figure size 432x288 with 1 Axes>"
            ],
            "image/png": "[encoded data removed]"
          },
          "metadata": {
            "needs_background": "light"
          }
        }
      ]
    },
    {
      "cell_type": "code",
      "source": [
        "x = rv.rvs(100, random_state=0)\n",
        "x"
      ],
      "metadata": {
        "colab": {
          "base_uri": "https://localhost:8080/"
        },
        "id": "g0tSkvhw4B2A",
        "outputId": "08138265-a6d8-4ad5-8dfe-f20635b46e0c"
      },
      "execution_count": 11,
      "outputs": [
        {
          "output_type": "execute_result",
          "data": {
            "text/plain": [
              "array([1, 0, 0, 1, 1, 0, 1, 0, 0, 1, 0, 1, 1, 0, 1, 1, 1, 0, 0, 0, 0, 0,\n",
              "       1, 0, 1, 0, 1, 0, 1, 1, 1, 0, 1, 1, 1, 0, 0, 0, 0, 0, 1, 1, 0, 1,\n",
              "       0, 0, 1, 1, 1, 1, 1, 1, 0, 1, 1, 1, 0, 1, 1, 1, 1, 1, 0, 1, 1, 1,\n",
              "       0, 1, 0, 1, 0, 1, 0, 0, 0, 1, 1, 1, 1, 1, 1, 1, 1, 0, 1, 1, 1, 1,\n",
              "       1, 0, 1, 0, 1, 0, 1, 1, 1, 1, 0, 1])"
            ]
          },
          "metadata": {},
          "execution_count": 11
        }
      ]
    },
    {
      "cell_type": "code",
      "source": [
        "sns.countplot(x)\n",
        "plt.title('베르누이의 확률변수 시뮬레이션')\n",
        "plt.xlabel('표본값')\n",
        "plt.grid()\n",
        "plt.show()"
      ],
      "metadata": {
        "colab": {
          "base_uri": "https://localhost:8080/",
          "height": 348
        },
        "id": "hmWU0hkA4CmL",
        "outputId": "53a9aeca-1466-45c5-85de-d6501b0fd7a6"
      },
      "execution_count": 12,
      "outputs": [
        {
          "output_type": "stream",
          "name": "stderr",
          "text": [
            "/usr/local/lib/python3.7/dist-packages/seaborn/_decorators.py:43: FutureWarning: Pass the following variable as a keyword arg: x. From version 0.12, the only valid positional argument will be `data`, and passing other arguments without an explicit keyword will result in an error or misinterpretation.\n",
            "  FutureWarning\n"
          ]
        },
        {
          "output_type": "display_data",
          "data": {
            "text/plain": [
              "<Figure size 432x288 with 1 Axes>"
            ],
            "image/png": "[encoded data removed]"
          },
          "metadata": {
            "needs_background": "light"
          }
        }
      ]
    },
    {
      "cell_type": "code",
      "source": [
        "import pandas as pd\n",
        "y = np.bincount(x, minlength=2)/float(len(x))\n",
        "df = pd.DataFrame({'이론':rv.pmf([0,1]), '시뮬레이션' : y})\n",
        "df.index = [0,1]\n",
        "df"
      ],
      "metadata": {
        "colab": {
          "base_uri": "https://localhost:8080/",
          "height": 112
        },
        "id": "UWEL1Wm14Djs",
        "outputId": "f8c417f3-951b-4070-e250-4531cafbd486"
      },
      "execution_count": 13,
      "outputs": [
        {
          "output_type": "execute_result",
          "data": {
            "text/plain": [
              "    이론  시뮬레이션\n",
              "0  0.4   0.38\n",
              "1  0.6   0.62"
            ],
            "text/html": [
              "\n",
              "  <div id=\"df-2d161825-89fe-4ce4-a17b-f448d45e333f\">\n",
              "    <div class=\"colab-df-container\">\n",
              "      <div>\n",
              "<style scoped>\n",
              "    .dataframe tbody tr th:only-of-type {\n",
              "        vertical-align: middle;\n",
              "    }\n",
              "\n",
              "    .dataframe tbody tr th {\n",
              "        vertical-align: top;\n",
              "    }\n",
              "\n",
              "    .dataframe thead th {\n",
              "        text-align: right;\n",
              "    }\n",
              "</style>\n",
              "<table border=\"1\" class=\"dataframe\">\n",
              "  <thead>\n",
              "    <tr style=\"text-align: right;\">\n",
              "      <th></th>\n",
              "      <th>이론</th>\n",
              "      <th>시뮬레이션</th>\n",
              "    </tr>\n",
              "  </thead>\n",
              "  <tbody>\n",
              "    <tr>\n",
              "      <th>0</th>\n",
              "      <td>0.4</td>\n",
              "      <td>0.38</td>\n",
              "    </tr>\n",
              "    <tr>\n",
              "      <th>1</th>\n",
              "      <td>0.6</td>\n",
              "      <td>0.62</td>\n",
              "    </tr>\n",
              "  </tbody>\n",
              "</table>\n",
              "</div>\n",
              "      <button class=\"colab-df-convert\" onclick=\"convertToInteractive('df-2d161825-89fe-4ce4-a17b-f448d45e333f')\"\n",
              "              title=\"Convert this dataframe to an interactive table.\"\n",
              "              style=\"display:none;\">\n",
              "        \n",
              "  <svg xmlns=\"http://www.w3.org/2000/svg\" height=\"24px\"viewBox=\"0 0 24 24\"\n",
              "       width=\"24px\">\n",
              "    <path d=\"M0 0h24v24H0V0z\" fill=\"none\"/>\n",
              "    <path d=\"M18.56 5.44l.94 2.06.94-2.06 2.06-.94-2.06-.94-.94-2.06-.94 2.06-2.06.94zm-11 1L8.5 8.5l.94-2.06 2.06-.94-2.06-.94L8.5 2.5l-.94 2.06-2.06.94zm10 10l.94 2.06.94-2.06 2.06-.94-2.06-.94-.94-2.06-.94 2.06-2.06.94z\"/><path d=\"M17.41 7.96l-1.37-1.37c-.4-.4-.92-.59-1.43-.59-.52 0-1.04.2-1.43.59L10.3 9.45l-7.72 7.72c-.78.78-.78 2.05 0 2.83L4 21.41c.39.39.9.59 1.41.59.51 0 1.02-.2 1.41-.59l7.78-7.78 2.81-2.81c.8-.78.8-2.07 0-2.86zM5.41 20L4 18.59l7.72-7.72 1.47 1.35L5.41 20z\"/>\n",
              "  </svg>\n",
              "      </button>\n",
              "      \n",
              "  <style>\n",
              "    .colab-df-container {\n",
              "      display:flex;\n",
              "      flex-wrap:wrap;\n",
              "      gap: 12px;\n",
              "    }\n",
              "\n",
              "    .colab-df-convert {\n",
              "      background-color: #E8F0FE;\n",
              "      border: none;\n",
              "      border-radius: 50%;\n",
              "      cursor: pointer;\n",
              "      display: none;\n",
              "      fill: #1967D2;\n",
              "      height: 32px;\n",
              "      padding: 0 0 0 0;\n",
              "      width: 32px;\n",
              "    }\n",
              "\n",
              "    .colab-df-convert:hover {\n",
              "      background-color: #E2EBFA;\n",
              "      box-shadow: 0px 1px 2px rgba(60, 64, 67, 0.3), 0px 1px 3px 1px rgba(60, 64, 67, 0.15);\n",
              "      fill: #174EA6;\n",
              "    }\n",
              "\n",
              "    [theme=dark] .colab-df-convert {\n",
              "      background-color: #3B4455;\n",
              "      fill: #D2E3FC;\n",
              "    }\n",
              "\n",
              "    [theme=dark] .colab-df-convert:hover {\n",
              "      background-color: #434B5C;\n",
              "      box-shadow: 0px 1px 3px 1px rgba(0, 0, 0, 0.15);\n",
              "      filter: drop-shadow(0px 1px 2px rgba(0, 0, 0, 0.3));\n",
              "      fill: #FFFFFF;\n",
              "    }\n",
              "  </style>\n",
              "\n",
              "      <script>\n",
              "        const buttonEl =\n",
              "          document.querySelector('#df-2d161825-89fe-4ce4-a17b-f448d45e333f button.colab-df-convert');\n",
              "        buttonEl.style.display =\n",
              "          google.colab.kernel.accessAllowed ? 'block' : 'none';\n",
              "\n",
              "        async function convertToInteractive(key) {\n",
              "          const element = document.querySelector('#df-2d161825-89fe-4ce4-a17b-f448d45e333f');\n",
              "          const dataTable =\n",
              "            await google.colab.kernel.invokeFunction('convertToInteractive',\n",
              "                                                     [key], {});\n",
              "          if (!dataTable) return;\n",
              "\n",
              "          const docLinkHtml = 'Like what you see? Visit the ' +\n",
              "            '<a target=\"_blank\" href=https://colab.research.google.com/notebooks/data_table.ipynb>data table notebook</a>'\n",
              "            + ' to learn more about interactive tables.';\n",
              "          element.innerHTML = '';\n",
              "          dataTable['output_type'] = 'display_data';\n",
              "          await google.colab.output.renderOutput(dataTable, element);\n",
              "          const docLink = document.createElement('div');\n",
              "          docLink.innerHTML = docLinkHtml;\n",
              "          element.appendChild(docLink);\n",
              "        }\n",
              "      </script>\n",
              "    </div>\n",
              "  </div>\n",
              "  "
            ]
          },
          "metadata": {},
          "execution_count": 13
        }
      ]
    },
    {
      "cell_type": "code",
      "source": [
        "for i in range(200):\n",
        "  x = rv.rvs(i, random_state=0)\n",
        "  y = np.bincount(x, minlength=2)/float(len(x))\n",
        "  print(f'표본 수가 {i}개 일때 이론값 : {rv.pmf([0,1])}, 표본값 : {y}')\n"
      ],
      "metadata": {
        "colab": {
          "base_uri": "https://localhost:8080/"
        },
        "id": "huWlcpwc4EYX",
        "outputId": "919917f2-91bb-4767-cca2-125d190b2d59"
      },
      "execution_count": 14,
      "outputs": [
        {
          "output_type": "stream",
          "name": "stderr",
          "text": [
            "/usr/local/lib/python3.7/dist-packages/ipykernel_launcher.py:3: RuntimeWarning: invalid value encountered in true_divide\n",
            "  This is separate from the ipykernel package so we can avoid doing imports until\n"
          ]
        },
        {
          "output_type": "stream",
          "name": "stdout",
          "text": [
            "표본 수가 0개 일때 이론값 : [0.4 0.6], 표본값 : [nan nan]\n",
            "표본 수가 1개 일때 이론값 : [0.4 0.6], 표본값 : [0. 1.]\n",
            "표본 수가 2개 일때 이론값 : [0.4 0.6], 표본값 : [0.5 0.5]\n",
            "표본 수가 3개 일때 이론값 : [0.4 0.6], 표본값 : [0.66666667 0.33333333]\n",
            "표본 수가 4개 일때 이론값 : [0.4 0.6], 표본값 : [0.5 0.5]\n",
            "표본 수가 5개 일때 이론값 : [0.4 0.6], 표본값 : [0.4 0.6]\n",
            "표본 수가 6개 일때 이론값 : [0.4 0.6], 표본값 : [0.5 0.5]\n",
            "표본 수가 7개 일때 이론값 : [0.4 0.6], 표본값 : [0.42857143 0.57142857]\n",
            "표본 수가 8개 일때 이론값 : [0.4 0.6], 표본값 : [0.5 0.5]\n",
            "표본 수가 9개 일때 이론값 : [0.4 0.6], 표본값 : [0.55555556 0.44444444]\n",
            "표본 수가 10개 일때 이론값 : [0.4 0.6], 표본값 : [0.5 0.5]\n",
            "표본 수가 11개 일때 이론값 : [0.4 0.6], 표본값 : [0.54545455 0.45454545]\n",
            "표본 수가 12개 일때 이론값 : [0.4 0.6], 표본값 : [0.5 0.5]\n",
            "표본 수가 13개 일때 이론값 : [0.4 0.6], 표본값 : [0.46153846 0.53846154]\n",
            "표본 수가 14개 일때 이론값 : [0.4 0.6], 표본값 : [0.5 0.5]\n",
            "표본 수가 15개 일때 이론값 : [0.4 0.6], 표본값 : [0.46666667 0.53333333]\n",
            "표본 수가 16개 일때 이론값 : [0.4 0.6], 표본값 : [0.4375 0.5625]\n",
            "표본 수가 17개 일때 이론값 : [0.4 0.6], 표본값 : [0.41176471 0.58823529]\n",
            "표본 수가 18개 일때 이론값 : [0.4 0.6], 표본값 : [0.44444444 0.55555556]\n",
            "표본 수가 19개 일때 이론값 : [0.4 0.6], 표본값 : [0.47368421 0.52631579]\n",
            "표본 수가 20개 일때 이론값 : [0.4 0.6], 표본값 : [0.5 0.5]\n",
            "표본 수가 21개 일때 이론값 : [0.4 0.6], 표본값 : [0.52380952 0.47619048]\n",
            "표본 수가 22개 일때 이론값 : [0.4 0.6], 표본값 : [0.54545455 0.45454545]\n",
            "표본 수가 23개 일때 이론값 : [0.4 0.6], 표본값 : [0.52173913 0.47826087]\n",
            "표본 수가 24개 일때 이론값 : [0.4 0.6], 표본값 : [0.54166667 0.45833333]\n",
            "표본 수가 25개 일때 이론값 : [0.4 0.6], 표본값 : [0.52 0.48]\n",
            "표본 수가 26개 일때 이론값 : [0.4 0.6], 표본값 : [0.53846154 0.46153846]\n",
            "표본 수가 27개 일때 이론값 : [0.4 0.6], 표본값 : [0.51851852 0.48148148]\n",
            "표본 수가 28개 일때 이론값 : [0.4 0.6], 표본값 : [0.53571429 0.46428571]\n",
            "표본 수가 29개 일때 이론값 : [0.4 0.6], 표본값 : [0.51724138 0.48275862]\n",
            "표본 수가 30개 일때 이론값 : [0.4 0.6], 표본값 : [0.5 0.5]\n",
            "표본 수가 31개 일때 이론값 : [0.4 0.6], 표본값 : [0.48387097 0.51612903]\n",
            "표본 수가 32개 일때 이론값 : [0.4 0.6], 표본값 : [0.5 0.5]\n",
            "표본 수가 33개 일때 이론값 : [0.4 0.6], 표본값 : [0.48484848 0.51515152]\n",
            "표본 수가 34개 일때 이론값 : [0.4 0.6], 표본값 : [0.47058824 0.52941176]\n",
            "표본 수가 35개 일때 이론값 : [0.4 0.6], 표본값 : [0.45714286 0.54285714]\n",
            "표본 수가 36개 일때 이론값 : [0.4 0.6], 표본값 : [0.47222222 0.52777778]\n",
            "표본 수가 37개 일때 이론값 : [0.4 0.6], 표본값 : [0.48648649 0.51351351]\n",
            "표본 수가 38개 일때 이론값 : [0.4 0.6], 표본값 : [0.5 0.5]\n",
            "표본 수가 39개 일때 이론값 : [0.4 0.6], 표본값 : [0.51282051 0.48717949]\n",
            "표본 수가 40개 일때 이론값 : [0.4 0.6], 표본값 : [0.525 0.475]\n",
            "표본 수가 41개 일때 이론값 : [0.4 0.6], 표본값 : [0.51219512 0.48780488]\n",
            "표본 수가 42개 일때 이론값 : [0.4 0.6], 표본값 : [0.5 0.5]\n",
            "표본 수가 43개 일때 이론값 : [0.4 0.6], 표본값 : [0.51162791 0.48837209]\n",
            "표본 수가 44개 일때 이론값 : [0.4 0.6], 표본값 : [0.5 0.5]\n",
            "표본 수가 45개 일때 이론값 : [0.4 0.6], 표본값 : [0.51111111 0.48888889]\n",
            "표본 수가 46개 일때 이론값 : [0.4 0.6], 표본값 : [0.52173913 0.47826087]\n",
            "표본 수가 47개 일때 이론값 : [0.4 0.6], 표본값 : [0.5106383 0.4893617]\n",
            "표본 수가 48개 일때 이론값 : [0.4 0.6], 표본값 : [0.5 0.5]\n",
            "표본 수가 49개 일때 이론값 : [0.4 0.6], 표본값 : [0.48979592 0.51020408]\n",
            "표본 수가 50개 일때 이론값 : [0.4 0.6], 표본값 : [0.48 0.52]\n",
            "표본 수가 51개 일때 이론값 : [0.4 0.6], 표본값 : [0.47058824 0.52941176]\n",
            "표본 수가 52개 일때 이론값 : [0.4 0.6], 표본값 : [0.46153846 0.53846154]\n",
            "표본 수가 53개 일때 이론값 : [0.4 0.6], 표본값 : [0.47169811 0.52830189]\n",
            "표본 수가 54개 일때 이론값 : [0.4 0.6], 표본값 : [0.46296296 0.53703704]\n",
            "표본 수가 55개 일때 이론값 : [0.4 0.6], 표본값 : [0.45454545 0.54545455]\n",
            "표본 수가 56개 일때 이론값 : [0.4 0.6], 표본값 : [0.44642857 0.55357143]\n",
            "표본 수가 57개 일때 이론값 : [0.4 0.6], 표본값 : [0.45614035 0.54385965]\n",
            "표본 수가 58개 일때 이론값 : [0.4 0.6], 표본값 : [0.44827586 0.55172414]\n",
            "표본 수가 59개 일때 이론값 : [0.4 0.6], 표본값 : [0.44067797 0.55932203]\n",
            "표본 수가 60개 일때 이론값 : [0.4 0.6], 표본값 : [0.43333333 0.56666667]\n",
            "표본 수가 61개 일때 이론값 : [0.4 0.6], 표본값 : [0.42622951 0.57377049]\n",
            "표본 수가 62개 일때 이론값 : [0.4 0.6], 표본값 : [0.41935484 0.58064516]\n",
            "표본 수가 63개 일때 이론값 : [0.4 0.6], 표본값 : [0.42857143 0.57142857]\n",
            "표본 수가 64개 일때 이론값 : [0.4 0.6], 표본값 : [0.421875 0.578125]\n",
            "표본 수가 65개 일때 이론값 : [0.4 0.6], 표본값 : [0.41538462 0.58461538]\n",
            "표본 수가 66개 일때 이론값 : [0.4 0.6], 표본값 : [0.40909091 0.59090909]\n",
            "표본 수가 67개 일때 이론값 : [0.4 0.6], 표본값 : [0.41791045 0.58208955]\n",
            "표본 수가 68개 일때 이론값 : [0.4 0.6], 표본값 : [0.41176471 0.58823529]\n",
            "표본 수가 69개 일때 이론값 : [0.4 0.6], 표본값 : [0.42028986 0.57971014]\n",
            "표본 수가 70개 일때 이론값 : [0.4 0.6], 표본값 : [0.41428571 0.58571429]\n",
            "표본 수가 71개 일때 이론값 : [0.4 0.6], 표본값 : [0.42253521 0.57746479]\n",
            "표본 수가 72개 일때 이론값 : [0.4 0.6], 표본값 : [0.41666667 0.58333333]\n",
            "표본 수가 73개 일때 이론값 : [0.4 0.6], 표본값 : [0.42465753 0.57534247]\n",
            "표본 수가 74개 일때 이론값 : [0.4 0.6], 표본값 : [0.43243243 0.56756757]\n",
            "표본 수가 75개 일때 이론값 : [0.4 0.6], 표본값 : [0.44 0.56]\n",
            "표본 수가 76개 일때 이론값 : [0.4 0.6], 표본값 : [0.43421053 0.56578947]\n",
            "표본 수가 77개 일때 이론값 : [0.4 0.6], 표본값 : [0.42857143 0.57142857]\n",
            "표본 수가 78개 일때 이론값 : [0.4 0.6], 표본값 : [0.42307692 0.57692308]\n",
            "표본 수가 79개 일때 이론값 : [0.4 0.6], 표본값 : [0.41772152 0.58227848]\n",
            "표본 수가 80개 일때 이론값 : [0.4 0.6], 표본값 : [0.4125 0.5875]\n",
            "표본 수가 81개 일때 이론값 : [0.4 0.6], 표본값 : [0.40740741 0.59259259]\n",
            "표본 수가 82개 일때 이론값 : [0.4 0.6], 표본값 : [0.40243902 0.59756098]\n",
            "표본 수가 83개 일때 이론값 : [0.4 0.6], 표본값 : [0.39759036 0.60240964]\n",
            "표본 수가 84개 일때 이론값 : [0.4 0.6], 표본값 : [0.4047619 0.5952381]\n",
            "표본 수가 85개 일때 이론값 : [0.4 0.6], 표본값 : [0.4 0.6]\n",
            "표본 수가 86개 일때 이론값 : [0.4 0.6], 표본값 : [0.39534884 0.60465116]\n",
            "표본 수가 87개 일때 이론값 : [0.4 0.6], 표본값 : [0.3908046 0.6091954]\n",
            "표본 수가 88개 일때 이론값 : [0.4 0.6], 표본값 : [0.38636364 0.61363636]\n",
            "표본 수가 89개 일때 이론값 : [0.4 0.6], 표본값 : [0.38202247 0.61797753]\n",
            "표본 수가 90개 일때 이론값 : [0.4 0.6], 표본값 : [0.38888889 0.61111111]\n",
            "표본 수가 91개 일때 이론값 : [0.4 0.6], 표본값 : [0.38461538 0.61538462]\n",
            "표본 수가 92개 일때 이론값 : [0.4 0.6], 표본값 : [0.39130435 0.60869565]\n",
            "표본 수가 93개 일때 이론값 : [0.4 0.6], 표본값 : [0.38709677 0.61290323]\n",
            "표본 수가 94개 일때 이론값 : [0.4 0.6], 표본값 : [0.39361702 0.60638298]\n",
            "표본 수가 95개 일때 이론값 : [0.4 0.6], 표본값 : [0.38947368 0.61052632]\n",
            "표본 수가 96개 일때 이론값 : [0.4 0.6], 표본값 : [0.38541667 0.61458333]\n",
            "표본 수가 97개 일때 이론값 : [0.4 0.6], 표본값 : [0.3814433 0.6185567]\n",
            "표본 수가 98개 일때 이론값 : [0.4 0.6], 표본값 : [0.37755102 0.62244898]\n",
            "표본 수가 99개 일때 이론값 : [0.4 0.6], 표본값 : [0.38383838 0.61616162]\n",
            "표본 수가 100개 일때 이론값 : [0.4 0.6], 표본값 : [0.38 0.62]\n",
            "표본 수가 101개 일때 이론값 : [0.4 0.6], 표본값 : [0.38613861 0.61386139]\n",
            "표본 수가 102개 일때 이론값 : [0.4 0.6], 표본값 : [0.38235294 0.61764706]\n",
            "표본 수가 103개 일때 이론값 : [0.4 0.6], 표본값 : [0.38834951 0.61165049]\n",
            "표본 수가 104개 일때 이론값 : [0.4 0.6], 표본값 : [0.39423077 0.60576923]\n",
            "표본 수가 105개 일때 이론값 : [0.4 0.6], 표본값 : [0.39047619 0.60952381]\n",
            "표본 수가 106개 일때 이론값 : [0.4 0.6], 표본값 : [0.38679245 0.61320755]\n",
            "표본 수가 107개 일때 이론값 : [0.4 0.6], 표본값 : [0.38317757 0.61682243]\n",
            "표본 수가 108개 일때 이론값 : [0.4 0.6], 표본값 : [0.37962963 0.62037037]\n",
            "표본 수가 109개 일때 이론값 : [0.4 0.6], 표본값 : [0.37614679 0.62385321]\n",
            "표본 수가 110개 일때 이론값 : [0.4 0.6], 표본값 : [0.38181818 0.61818182]\n",
            "표본 수가 111개 일때 이론값 : [0.4 0.6], 표본값 : [0.37837838 0.62162162]\n",
            "표본 수가 112개 일때 이론값 : [0.4 0.6], 표본값 : [0.38392857 0.61607143]\n",
            "표본 수가 113개 일때 이론값 : [0.4 0.6], 표본값 : [0.38938053 0.61061947]\n",
            "표본 수가 114개 일때 이론값 : [0.4 0.6], 표본값 : [0.38596491 0.61403509]\n",
            "표본 수가 115개 일때 이론값 : [0.4 0.6], 표본값 : [0.39130435 0.60869565]\n",
            "표본 수가 116개 일때 이론값 : [0.4 0.6], 표본값 : [0.38793103 0.61206897]\n",
            "표본 수가 117개 일때 이론값 : [0.4 0.6], 표본값 : [0.39316239 0.60683761]\n",
            "표본 수가 118개 일때 이론값 : [0.4 0.6], 표본값 : [0.38983051 0.61016949]\n",
            "표본 수가 119개 일때 이론값 : [0.4 0.6], 표본값 : [0.39495798 0.60504202]\n",
            "표본 수가 120개 일때 이론값 : [0.4 0.6], 표본값 : [0.4 0.6]\n",
            "표본 수가 121개 일때 이론값 : [0.4 0.6], 표본값 : [0.40495868 0.59504132]\n",
            "표본 수가 122개 일때 이론값 : [0.4 0.6], 표본값 : [0.40163934 0.59836066]\n",
            "표본 수가 123개 일때 이론값 : [0.4 0.6], 표본값 : [0.40650407 0.59349593]\n",
            "표본 수가 124개 일때 이론값 : [0.4 0.6], 표본값 : [0.41129032 0.58870968]\n",
            "표본 수가 125개 일때 이론값 : [0.4 0.6], 표본값 : [0.408 0.592]\n",
            "표본 수가 126개 일때 이론값 : [0.4 0.6], 표본값 : [0.41269841 0.58730159]\n",
            "표본 수가 127개 일때 이론값 : [0.4 0.6], 표본값 : [0.40944882 0.59055118]\n",
            "표본 수가 128개 일때 이론값 : [0.4 0.6], 표본값 : [0.40625 0.59375]\n",
            "표본 수가 129개 일때 이론값 : [0.4 0.6], 표본값 : [0.41085271 0.58914729]\n",
            "표본 수가 130개 일때 이론값 : [0.4 0.6], 표본값 : [0.40769231 0.59230769]\n",
            "표본 수가 131개 일때 이론값 : [0.4 0.6], 표본값 : [0.41221374 0.58778626]\n",
            "표본 수가 132개 일때 이론값 : [0.4 0.6], 표본값 : [0.40909091 0.59090909]\n",
            "표본 수가 133개 일때 이론값 : [0.4 0.6], 표본값 : [0.40601504 0.59398496]\n",
            "표본 수가 134개 일때 이론값 : [0.4 0.6], 표본값 : [0.40298507 0.59701493]\n",
            "표본 수가 135개 일때 이론값 : [0.4 0.6], 표본값 : [0.4 0.6]\n",
            "표본 수가 136개 일때 이론값 : [0.4 0.6], 표본값 : [0.39705882 0.60294118]\n",
            "표본 수가 137개 일때 이론값 : [0.4 0.6], 표본값 : [0.39416058 0.60583942]\n",
            "표본 수가 138개 일때 이론값 : [0.4 0.6], 표본값 : [0.39855072 0.60144928]\n",
            "표본 수가 139개 일때 이론값 : [0.4 0.6], 표본값 : [0.4028777 0.5971223]\n",
            "표본 수가 140개 일때 이론값 : [0.4 0.6], 표본값 : [0.4 0.6]\n",
            "표본 수가 141개 일때 이론값 : [0.4 0.6], 표본값 : [0.40425532 0.59574468]\n",
            "표본 수가 142개 일때 이론값 : [0.4 0.6], 표본값 : [0.40140845 0.59859155]\n",
            "표본 수가 143개 일때 이론값 : [0.4 0.6], 표본값 : [0.3986014 0.6013986]\n",
            "표본 수가 144개 일때 이론값 : [0.4 0.6], 표본값 : [0.40277778 0.59722222]\n",
            "표본 수가 145개 일때 이론값 : [0.4 0.6], 표본값 : [0.40689655 0.59310345]\n",
            "표본 수가 146개 일때 이론값 : [0.4 0.6], 표본값 : [0.4109589 0.5890411]\n",
            "표본 수가 147개 일때 이론값 : [0.4 0.6], 표본값 : [0.40816327 0.59183673]\n",
            "표본 수가 148개 일때 이론값 : [0.4 0.6], 표본값 : [0.41216216 0.58783784]\n",
            "표본 수가 149개 일때 이론값 : [0.4 0.6], 표본값 : [0.41610738 0.58389262]\n",
            "표본 수가 150개 일때 이론값 : [0.4 0.6], 표본값 : [0.42 0.58]\n",
            "표본 수가 151개 일때 이론값 : [0.4 0.6], 표본값 : [0.41721854 0.58278146]\n",
            "표본 수가 152개 일때 이론값 : [0.4 0.6], 표본값 : [0.42105263 0.57894737]\n",
            "표본 수가 153개 일때 이론값 : [0.4 0.6], 표본값 : [0.41830065 0.58169935]\n",
            "표본 수가 154개 일때 이론값 : [0.4 0.6], 표본값 : [0.42207792 0.57792208]\n",
            "표본 수가 155개 일때 이론값 : [0.4 0.6], 표본값 : [0.41935484 0.58064516]\n",
            "표본 수가 156개 일때 이론값 : [0.4 0.6], 표본값 : [0.42307692 0.57692308]\n",
            "표본 수가 157개 일때 이론값 : [0.4 0.6], 표본값 : [0.42675159 0.57324841]\n",
            "표본 수가 158개 일때 이론값 : [0.4 0.6], 표본값 : [0.42405063 0.57594937]\n",
            "표본 수가 159개 일때 이론값 : [0.4 0.6], 표본값 : [0.42138365 0.57861635]\n",
            "표본 수가 160개 일때 이론값 : [0.4 0.6], 표본값 : [0.41875 0.58125]\n",
            "표본 수가 161개 일때 이론값 : [0.4 0.6], 표본값 : [0.42236025 0.57763975]\n",
            "표본 수가 162개 일때 이론값 : [0.4 0.6], 표본값 : [0.41975309 0.58024691]\n",
            "표본 수가 163개 일때 이론값 : [0.4 0.6], 표본값 : [0.42331288 0.57668712]\n",
            "표본 수가 164개 일때 이론값 : [0.4 0.6], 표본값 : [0.42682927 0.57317073]\n",
            "표본 수가 165개 일때 이론값 : [0.4 0.6], 표본값 : [0.43030303 0.56969697]\n",
            "표본 수가 166개 일때 이론값 : [0.4 0.6], 표본값 : [0.43373494 0.56626506]\n",
            "표본 수가 167개 일때 이론값 : [0.4 0.6], 표본값 : [0.43113772 0.56886228]\n",
            "표본 수가 168개 일때 이론값 : [0.4 0.6], 표본값 : [0.42857143 0.57142857]\n",
            "표본 수가 169개 일때 이론값 : [0.4 0.6], 표본값 : [0.43195266 0.56804734]\n",
            "표본 수가 170개 일때 이론값 : [0.4 0.6], 표본값 : [0.42941176 0.57058824]\n",
            "표본 수가 171개 일때 이론값 : [0.4 0.6], 표본값 : [0.42690058 0.57309942]\n",
            "표본 수가 172개 일때 이론값 : [0.4 0.6], 표본값 : [0.4244186 0.5755814]\n",
            "표본 수가 173개 일때 이론값 : [0.4 0.6], 표본값 : [0.42196532 0.57803468]\n",
            "표본 수가 174개 일때 이론값 : [0.4 0.6], 표본값 : [0.41954023 0.58045977]\n",
            "표본 수가 175개 일때 이론값 : [0.4 0.6], 표본값 : [0.42285714 0.57714286]\n",
            "표본 수가 176개 일때 이론값 : [0.4 0.6], 표본값 : [0.42045455 0.57954545]\n",
            "표본 수가 177개 일때 이론값 : [0.4 0.6], 표본값 : [0.4180791 0.5819209]\n",
            "표본 수가 178개 일때 이론값 : [0.4 0.6], 표본값 : [0.42134831 0.57865169]\n",
            "표본 수가 179개 일때 이론값 : [0.4 0.6], 표본값 : [0.42458101 0.57541899]\n",
            "표본 수가 180개 일때 이론값 : [0.4 0.6], 표본값 : [0.42222222 0.57777778]\n",
            "표본 수가 181개 일때 이론값 : [0.4 0.6], 표본값 : [0.4198895 0.5801105]\n",
            "표본 수가 182개 일때 이론값 : [0.4 0.6], 표본값 : [0.42307692 0.57692308]\n",
            "표본 수가 183개 일때 이론값 : [0.4 0.6], 표본값 : [0.42076503 0.57923497]\n",
            "표본 수가 184개 일때 이론값 : [0.4 0.6], 표본값 : [0.41847826 0.58152174]\n",
            "표본 수가 185개 일때 이론값 : [0.4 0.6], 표본값 : [0.42162162 0.57837838]\n",
            "표본 수가 186개 일때 이론값 : [0.4 0.6], 표본값 : [0.42473118 0.57526882]\n",
            "표본 수가 187개 일때 이론값 : [0.4 0.6], 표본값 : [0.42245989 0.57754011]\n",
            "표본 수가 188개 일때 이론값 : [0.4 0.6], 표본값 : [0.42021277 0.57978723]\n",
            "표본 수가 189개 일때 이론값 : [0.4 0.6], 표본값 : [0.42328042 0.57671958]\n",
            "표본 수가 190개 일때 이론값 : [0.4 0.6], 표본값 : [0.42105263 0.57894737]\n",
            "표본 수가 191개 일때 이론값 : [0.4 0.6], 표본값 : [0.41884817 0.58115183]\n",
            "표본 수가 192개 일때 이론값 : [0.4 0.6], 표본값 : [0.41666667 0.58333333]\n",
            "표본 수가 193개 일때 이론값 : [0.4 0.6], 표본값 : [0.41450777 0.58549223]\n",
            "표본 수가 194개 일때 이론값 : [0.4 0.6], 표본값 : [0.41752577 0.58247423]\n",
            "표본 수가 195개 일때 이론값 : [0.4 0.6], 표본값 : [0.42051282 0.57948718]\n",
            "표본 수가 196개 일때 이론값 : [0.4 0.6], 표본값 : [0.41836735 0.58163265]\n",
            "표본 수가 197개 일때 이론값 : [0.4 0.6], 표본값 : [0.41624365 0.58375635]\n",
            "표본 수가 198개 일때 이론값 : [0.4 0.6], 표본값 : [0.41414141 0.58585859]\n",
            "표본 수가 199개 일때 이론값 : [0.4 0.6], 표본값 : [0.4120603 0.5879397]\n"
          ]
        }
      ]
    }
  ]
}