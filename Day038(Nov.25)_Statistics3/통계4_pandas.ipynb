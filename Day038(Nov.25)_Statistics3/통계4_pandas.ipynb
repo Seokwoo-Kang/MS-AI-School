{
  "nbformat": 4,
  "nbformat_minor": 0,
  "metadata": {
    "colab": {
      "provenance": []
    },
    "kernelspec": {
      "name": "python3",
      "display_name": "Python 3"
    },
    "language_info": {
      "name": "python"
    }
  },
  "cells": [
    {
      "cell_type": "code",
      "execution_count": 3,
      "metadata": {
        "id": "Dki6i4YxeuUg"
      },
      "outputs": [],
      "source": [
        "import pandas as pd"
      ]
    },
    {
      "cell_type": "code",
      "source": [
        "!pip install pandas"
      ],
      "metadata": {
        "colab": {
          "base_uri": "https://localhost:8080/"
        },
        "id": "yuCDM8k-e36Y",
        "outputId": "b6524249-582c-419b-e70a-389c42dfb064"
      },
      "execution_count": 4,
      "outputs": [
        {
          "output_type": "stream",
          "name": "stdout",
          "text": [
            "Looking in indexes: https://pypi.org/simple, https://us-python.pkg.dev/colab-wheels/public/simple/\n",
            "Requirement already satisfied: pandas in /usr/local/lib/python3.7/dist-packages (1.3.5)\n",
            "Requirement already satisfied: python-dateutil>=2.7.3 in /usr/local/lib/python3.7/dist-packages (from pandas) (2.8.2)\n",
            "Requirement already satisfied: pytz>=2017.3 in /usr/local/lib/python3.7/dist-packages (from pandas) (2022.6)\n",
            "Requirement already satisfied: numpy>=1.17.3 in /usr/local/lib/python3.7/dist-packages (from pandas) (1.21.6)\n",
            "Requirement already satisfied: six>=1.5 in /usr/local/lib/python3.7/dist-packages (from python-dateutil>=2.7.3->pandas) (1.15.0)\n"
          ]
        }
      ]
    },
    {
      "cell_type": "code",
      "source": [
        "s = pd.Series([1116, 12259, 65119, 16699], index=['서울','부산','인천','대구'])\n",
        "s"
      ],
      "metadata": {
        "colab": {
          "base_uri": "https://localhost:8080/"
        },
        "id": "7uDiS7Cwe62V",
        "outputId": "b9bcedad-80bd-447b-ae0c-c85f5f263e50"
      },
      "execution_count": 5,
      "outputs": [
        {
          "output_type": "execute_result",
          "data": {
            "text/plain": [
              "서울     1116\n",
              "부산    12259\n",
              "인천    65119\n",
              "대구    16699\n",
              "dtype: int64"
            ]
          },
          "metadata": {},
          "execution_count": 5
        }
      ]
    },
    {
      "cell_type": "code",
      "source": [
        "s.index"
      ],
      "metadata": {
        "colab": {
          "base_uri": "https://localhost:8080/"
        },
        "id": "A5oi8fhUe9R1",
        "outputId": "2a0b19f1-ca8b-4f99-f2e9-2ef4e08f7323"
      },
      "execution_count": 6,
      "outputs": [
        {
          "output_type": "execute_result",
          "data": {
            "text/plain": [
              "Index(['서울', '부산', '인천', '대구'], dtype='object')"
            ]
          },
          "metadata": {},
          "execution_count": 6
        }
      ]
    },
    {
      "cell_type": "code",
      "source": [
        "s.values"
      ],
      "metadata": {
        "colab": {
          "base_uri": "https://localhost:8080/"
        },
        "id": "x3qex_-7e_iW",
        "outputId": "7cc26265-0a4f-45fb-d6e9-a8c4579d5eca"
      },
      "execution_count": 7,
      "outputs": [
        {
          "output_type": "execute_result",
          "data": {
            "text/plain": [
              "array([ 1116, 12259, 65119, 16699])"
            ]
          },
          "metadata": {},
          "execution_count": 7
        }
      ]
    },
    {
      "cell_type": "code",
      "source": [
        "s.name = '농작물 생산량(톤)'"
      ],
      "metadata": {
        "id": "HN_HeSMJfESi"
      },
      "execution_count": 8,
      "outputs": []
    },
    {
      "cell_type": "code",
      "source": [
        "s.index.name = '지역구'"
      ],
      "metadata": {
        "id": "HIOki7tmfF94"
      },
      "execution_count": 9,
      "outputs": []
    },
    {
      "cell_type": "code",
      "source": [
        "s"
      ],
      "metadata": {
        "colab": {
          "base_uri": "https://localhost:8080/"
        },
        "id": "-mWuMghafHA7",
        "outputId": "4669fbb4-157a-4bf3-c2f1-57075ff54253"
      },
      "execution_count": 10,
      "outputs": [
        {
          "output_type": "execute_result",
          "data": {
            "text/plain": [
              "지역구\n",
              "서울     1116\n",
              "부산    12259\n",
              "인천    65119\n",
              "대구    16699\n",
              "Name: 농작물 생산량(톤), dtype: int64"
            ]
          },
          "metadata": {},
          "execution_count": 10
        }
      ]
    },
    {
      "cell_type": "code",
      "source": [
        "s1 = s/1000"
      ],
      "metadata": {
        "id": "KITluE_YfLBj"
      },
      "execution_count": 11,
      "outputs": []
    },
    {
      "cell_type": "code",
      "source": [
        "s1.name = '농작물 생산량(k톤)'"
      ],
      "metadata": {
        "id": "ZNuVvHWrfL0d"
      },
      "execution_count": 12,
      "outputs": []
    },
    {
      "cell_type": "code",
      "source": [
        "s1"
      ],
      "metadata": {
        "colab": {
          "base_uri": "https://localhost:8080/"
        },
        "id": "yObMTxurfNOU",
        "outputId": "e455b7b9-971a-43a0-fd30-096ae31fba88"
      },
      "execution_count": 13,
      "outputs": [
        {
          "output_type": "execute_result",
          "data": {
            "text/plain": [
              "지역구\n",
              "서울     1.116\n",
              "부산    12.259\n",
              "인천    65.119\n",
              "대구    16.699\n",
              "Name: 농작물 생산량(k톤), dtype: float64"
            ]
          },
          "metadata": {},
          "execution_count": 13
        }
      ]
    },
    {
      "cell_type": "code",
      "source": [
        "(s/4456952*100).round(2)"
      ],
      "metadata": {
        "colab": {
          "base_uri": "https://localhost:8080/"
        },
        "id": "ugVFrn1HfOid",
        "outputId": "217b1f2e-2091-4179-97ce-a0a8e8fb6249"
      },
      "execution_count": 14,
      "outputs": [
        {
          "output_type": "execute_result",
          "data": {
            "text/plain": [
              "지역구\n",
              "서울    0.03\n",
              "부산    0.28\n",
              "인천    1.46\n",
              "대구    0.37\n",
              "Name: 농작물 생산량(톤), dtype: float64"
            ]
          },
          "metadata": {},
          "execution_count": 14
        }
      ]
    },
    {
      "cell_type": "code",
      "source": [
        "s"
      ],
      "metadata": {
        "colab": {
          "base_uri": "https://localhost:8080/"
        },
        "id": "eSrIy-CDfPlA",
        "outputId": "34b7ac68-7b1c-4dc9-a51b-e62f116bb6e2"
      },
      "execution_count": 15,
      "outputs": [
        {
          "output_type": "execute_result",
          "data": {
            "text/plain": [
              "지역구\n",
              "서울     1116\n",
              "부산    12259\n",
              "인천    65119\n",
              "대구    16699\n",
              "Name: 농작물 생산량(톤), dtype: int64"
            ]
          },
          "metadata": {},
          "execution_count": 15
        }
      ]
    },
    {
      "cell_type": "code",
      "source": [
        "s[0], s['서울']"
      ],
      "metadata": {
        "colab": {
          "base_uri": "https://localhost:8080/"
        },
        "id": "UJiLN80JfQpk",
        "outputId": "2b16370a-6f5c-4bb9-fe14-3f55474fabeb"
      },
      "execution_count": 16,
      "outputs": [
        {
          "output_type": "execute_result",
          "data": {
            "text/plain": [
              "(1116, 1116)"
            ]
          },
          "metadata": {},
          "execution_count": 16
        }
      ]
    },
    {
      "cell_type": "code",
      "source": [
        "s[[0,1]]"
      ],
      "metadata": {
        "colab": {
          "base_uri": "https://localhost:8080/"
        },
        "id": "gKFNkeW1fRk3",
        "outputId": "b6cd6cbc-07db-4e5e-8330-cf6fd3f24ba4"
      },
      "execution_count": 17,
      "outputs": [
        {
          "output_type": "execute_result",
          "data": {
            "text/plain": [
              "지역구\n",
              "서울     1116\n",
              "부산    12259\n",
              "Name: 농작물 생산량(톤), dtype: int64"
            ]
          },
          "metadata": {},
          "execution_count": 17
        }
      ]
    },
    {
      "cell_type": "code",
      "source": [
        "s[[1,0]]"
      ],
      "metadata": {
        "colab": {
          "base_uri": "https://localhost:8080/"
        },
        "id": "CiG8r4GrfT04",
        "outputId": "35c98c30-99bf-448a-98a3-71827d57112b"
      },
      "execution_count": 18,
      "outputs": [
        {
          "output_type": "execute_result",
          "data": {
            "text/plain": [
              "지역구\n",
              "부산    12259\n",
              "서울     1116\n",
              "Name: 농작물 생산량(톤), dtype: int64"
            ]
          },
          "metadata": {},
          "execution_count": 18
        }
      ]
    },
    {
      "cell_type": "code",
      "source": [
        "s[['부산','서울']]"
      ],
      "metadata": {
        "colab": {
          "base_uri": "https://localhost:8080/"
        },
        "id": "9-0GzD4AfU3t",
        "outputId": "f413e833-7a41-4fc2-c0eb-7e61c3443bd9"
      },
      "execution_count": 19,
      "outputs": [
        {
          "output_type": "execute_result",
          "data": {
            "text/plain": [
              "지역구\n",
              "부산    12259\n",
              "서울     1116\n",
              "Name: 농작물 생산량(톤), dtype: int64"
            ]
          },
          "metadata": {},
          "execution_count": 19
        }
      ]
    },
    {
      "cell_type": "code",
      "source": [
        "s[(s>10000) & (s<20000)] "
      ],
      "metadata": {
        "colab": {
          "base_uri": "https://localhost:8080/"
        },
        "id": "kCHynTUIfVpf",
        "outputId": "bc3aee7f-9c82-41a0-bca7-39ff47fdcc61"
      },
      "execution_count": 20,
      "outputs": [
        {
          "output_type": "execute_result",
          "data": {
            "text/plain": [
              "지역구\n",
              "부산    12259\n",
              "대구    16699\n",
              "Name: 농작물 생산량(톤), dtype: int64"
            ]
          },
          "metadata": {},
          "execution_count": 20
        }
      ]
    },
    {
      "cell_type": "code",
      "source": [
        "s[(s/4456952*100) > 0.5]"
      ],
      "metadata": {
        "colab": {
          "base_uri": "https://localhost:8080/"
        },
        "id": "5oZaN-kOfWn9",
        "outputId": "609b6c9d-7795-475d-b702-4fc0c9f628d5"
      },
      "execution_count": 21,
      "outputs": [
        {
          "output_type": "execute_result",
          "data": {
            "text/plain": [
              "지역구\n",
              "인천    65119\n",
              "Name: 농작물 생산량(톤), dtype: int64"
            ]
          },
          "metadata": {},
          "execution_count": 21
        }
      ]
    },
    {
      "cell_type": "code",
      "source": [
        "s[1:3]"
      ],
      "metadata": {
        "colab": {
          "base_uri": "https://localhost:8080/"
        },
        "id": "YLxmHkJYfXlO",
        "outputId": "4722b13e-e92c-420e-b17f-989fc33d7e4e"
      },
      "execution_count": 22,
      "outputs": [
        {
          "output_type": "execute_result",
          "data": {
            "text/plain": [
              "지역구\n",
              "부산    12259\n",
              "인천    65119\n",
              "Name: 농작물 생산량(톤), dtype: int64"
            ]
          },
          "metadata": {},
          "execution_count": 22
        }
      ]
    },
    {
      "cell_type": "code",
      "source": [
        "s['서울':'대구']"
      ],
      "metadata": {
        "colab": {
          "base_uri": "https://localhost:8080/"
        },
        "id": "A7w6LGUzfYzw",
        "outputId": "29b04571-ade9-402f-e881-645cbfd42bcd"
      },
      "execution_count": 23,
      "outputs": [
        {
          "output_type": "execute_result",
          "data": {
            "text/plain": [
              "지역구\n",
              "서울     1116\n",
              "부산    12259\n",
              "인천    65119\n",
              "대구    16699\n",
              "Name: 농작물 생산량(톤), dtype: int64"
            ]
          },
          "metadata": {},
          "execution_count": 23
        }
      ]
    },
    {
      "cell_type": "code",
      "source": [
        "s"
      ],
      "metadata": {
        "colab": {
          "base_uri": "https://localhost:8080/"
        },
        "id": "XmWcC3DjfZzu",
        "outputId": "285ae544-001c-4ee1-8d7b-56fda955f04e"
      },
      "execution_count": 24,
      "outputs": [
        {
          "output_type": "execute_result",
          "data": {
            "text/plain": [
              "지역구\n",
              "서울     1116\n",
              "부산    12259\n",
              "인천    65119\n",
              "대구    16699\n",
              "Name: 농작물 생산량(톤), dtype: int64"
            ]
          },
          "metadata": {},
          "execution_count": 24
        }
      ]
    },
    {
      "cell_type": "code",
      "source": [
        "s.서울"
      ],
      "metadata": {
        "colab": {
          "base_uri": "https://localhost:8080/"
        },
        "id": "E5b444SmfbHp",
        "outputId": "63071232-9c4b-4cbd-b024-607af042c8ce"
      },
      "execution_count": 25,
      "outputs": [
        {
          "output_type": "execute_result",
          "data": {
            "text/plain": [
              "1116"
            ]
          },
          "metadata": {},
          "execution_count": 25
        }
      ]
    },
    {
      "cell_type": "code",
      "source": [
        "d1 = {'서울':1, '부산':2}\n",
        "pd.Series(d1)"
      ],
      "metadata": {
        "colab": {
          "base_uri": "https://localhost:8080/"
        },
        "id": "PpXNBzelfb7r",
        "outputId": "25846cb4-dc62-41e2-ddd1-4e60332bd3a7"
      },
      "execution_count": 26,
      "outputs": [
        {
          "output_type": "execute_result",
          "data": {
            "text/plain": [
              "서울    1\n",
              "부산    2\n",
              "dtype: int64"
            ]
          },
          "metadata": {},
          "execution_count": 26
        }
      ]
    },
    {
      "cell_type": "code",
      "source": [
        "for k,v in s.items():\n",
        "    print(k,v)"
      ],
      "metadata": {
        "colab": {
          "base_uri": "https://localhost:8080/"
        },
        "id": "lbA3G3XNfdGM",
        "outputId": "aca27b72-1f5b-4cfc-928c-02b31945619a"
      },
      "execution_count": 27,
      "outputs": [
        {
          "output_type": "stream",
          "name": "stdout",
          "text": [
            "서울 1116\n",
            "부산 12259\n",
            "인천 65119\n",
            "대구 16699\n"
          ]
        }
      ]
    },
    {
      "cell_type": "code",
      "source": [
        "print('제주도' in s)\n",
        "'서울' in s.keys()"
      ],
      "metadata": {
        "colab": {
          "base_uri": "https://localhost:8080/"
        },
        "id": "Xyh5_Jl1fd_n",
        "outputId": "adf81a89-5b95-463d-8583-a0037eb7914c"
      },
      "execution_count": 28,
      "outputs": [
        {
          "output_type": "stream",
          "name": "stdout",
          "text": [
            "False\n"
          ]
        },
        {
          "output_type": "execute_result",
          "data": {
            "text/plain": [
              "True"
            ]
          },
          "metadata": {},
          "execution_count": 28
        }
      ]
    },
    {
      "cell_type": "code",
      "source": [
        "s21 = pd.Series([1116, 12259, 65119, 16699], index=['서울','부산','인천','대구'])\n",
        "s21"
      ],
      "metadata": {
        "colab": {
          "base_uri": "https://localhost:8080/"
        },
        "id": "NAL_hTFLfezL",
        "outputId": "f90e11c4-6f75-4c56-cd1e-3514f8f4c311"
      },
      "execution_count": 29,
      "outputs": [
        {
          "output_type": "execute_result",
          "data": {
            "text/plain": [
              "서울     1116\n",
              "부산    12259\n",
              "인천    65119\n",
              "대구    16699\n",
              "dtype: int64"
            ]
          },
          "metadata": {},
          "execution_count": 29
        }
      ]
    },
    {
      "cell_type": "code",
      "source": [
        "s20 = pd.Series([628,11075,56013,15695], index=['서울','부산','인천','대구'])"
      ],
      "metadata": {
        "id": "nTFyEcUmff_A"
      },
      "execution_count": 30,
      "outputs": []
    },
    {
      "cell_type": "code",
      "source": [
        "s_sub = s21 - s20"
      ],
      "metadata": {
        "id": "A3cknOFWfg9I"
      },
      "execution_count": 31,
      "outputs": []
    },
    {
      "cell_type": "code",
      "source": [
        "import numpy as np\n",
        "type(np.nan)"
      ],
      "metadata": {
        "colab": {
          "base_uri": "https://localhost:8080/"
        },
        "id": "GWzRRELmfhpq",
        "outputId": "4804dbfc-f9f7-4dbb-b370-1ac8c3e7f013"
      },
      "execution_count": 32,
      "outputs": [
        {
          "output_type": "execute_result",
          "data": {
            "text/plain": [
              "float"
            ]
          },
          "metadata": {},
          "execution_count": 32
        }
      ]
    },
    {
      "cell_type": "code",
      "source": [
        "s_sub.astype(int)"
      ],
      "metadata": {
        "colab": {
          "base_uri": "https://localhost:8080/"
        },
        "id": "nTWEIQPRfjF-",
        "outputId": "d0e35514-eebd-4d1f-f35f-4d6eff06cbdb"
      },
      "execution_count": 33,
      "outputs": [
        {
          "output_type": "execute_result",
          "data": {
            "text/plain": [
              "서울     488\n",
              "부산    1184\n",
              "인천    9106\n",
              "대구    1004\n",
              "dtype: int64"
            ]
          },
          "metadata": {},
          "execution_count": 33
        }
      ]
    },
    {
      "cell_type": "code",
      "source": [
        "s_sub = s21.sub(s20, fill_value=0)"
      ],
      "metadata": {
        "id": "zuwT4o_nfj7j"
      },
      "execution_count": 34,
      "outputs": []
    },
    {
      "cell_type": "code",
      "source": [
        "s_sub2 = s21.sub(s20)"
      ],
      "metadata": {
        "id": "R5LkaN8Ufku5"
      },
      "execution_count": 35,
      "outputs": []
    },
    {
      "cell_type": "code",
      "source": [
        "s_sub2.notnull()"
      ],
      "metadata": {
        "colab": {
          "base_uri": "https://localhost:8080/"
        },
        "id": "cAZe9B9HfkoT",
        "outputId": "9a5575b4-9332-48c4-d4c7-4e820e5d0755"
      },
      "execution_count": 36,
      "outputs": [
        {
          "output_type": "execute_result",
          "data": {
            "text/plain": [
              "서울    True\n",
              "부산    True\n",
              "인천    True\n",
              "대구    True\n",
              "dtype: bool"
            ]
          },
          "metadata": {},
          "execution_count": 36
        }
      ]
    },
    {
      "cell_type": "code",
      "source": [
        "s21"
      ],
      "metadata": {
        "colab": {
          "base_uri": "https://localhost:8080/"
        },
        "id": "K-wNHW_Lfl2J",
        "outputId": "d54ed275-2ed9-4bda-c1e3-99338e63dbba"
      },
      "execution_count": 37,
      "outputs": [
        {
          "output_type": "execute_result",
          "data": {
            "text/plain": [
              "서울     1116\n",
              "부산    12259\n",
              "인천    65119\n",
              "대구    16699\n",
              "dtype: int64"
            ]
          },
          "metadata": {},
          "execution_count": 37
        }
      ]
    },
    {
      "cell_type": "code",
      "source": [
        "s20"
      ],
      "metadata": {
        "colab": {
          "base_uri": "https://localhost:8080/"
        },
        "id": "f3WWJfdNfmsf",
        "outputId": "5e2ff3d8-9c6d-47cf-b148-1b083f17648d"
      },
      "execution_count": 38,
      "outputs": [
        {
          "output_type": "execute_result",
          "data": {
            "text/plain": [
              "서울      628\n",
              "부산    11075\n",
              "인천    56013\n",
              "대구    15695\n",
              "dtype: int64"
            ]
          },
          "metadata": {},
          "execution_count": 38
        }
      ]
    },
    {
      "cell_type": "code",
      "source": [
        "rs = ((s21 - s20) / s20 * 100).round(2)"
      ],
      "metadata": {
        "id": "B-fzz9Wffn4q"
      },
      "execution_count": 39,
      "outputs": []
    },
    {
      "cell_type": "code",
      "source": [
        "rs['서울']"
      ],
      "metadata": {
        "colab": {
          "base_uri": "https://localhost:8080/"
        },
        "id": "OQ5_S09Xfo6h",
        "outputId": "7b67cbfe-c1a3-41da-b1bb-07a0de1ded16"
      },
      "execution_count": 40,
      "outputs": [
        {
          "output_type": "execute_result",
          "data": {
            "text/plain": [
              "77.71"
            ]
          },
          "metadata": {},
          "execution_count": 40
        }
      ]
    },
    {
      "cell_type": "code",
      "source": [
        "rs['서울'] = 0"
      ],
      "metadata": {
        "id": "x_Z1p-M5fpu6"
      },
      "execution_count": 41,
      "outputs": []
    },
    {
      "cell_type": "code",
      "source": [
        "rs[0] = 123"
      ],
      "metadata": {
        "id": "OaAeuqlXfqtQ"
      },
      "execution_count": 42,
      "outputs": []
    },
    {
      "cell_type": "code",
      "source": [
        "rs"
      ],
      "metadata": {
        "colab": {
          "base_uri": "https://localhost:8080/"
        },
        "id": "QL3wuFZrfrvf",
        "outputId": "c5325f6f-b768-4e13-f837-81aa244de77a"
      },
      "execution_count": 43,
      "outputs": [
        {
          "output_type": "execute_result",
          "data": {
            "text/plain": [
              "서울    123.00\n",
              "부산     10.69\n",
              "인천     16.26\n",
              "대구      6.40\n",
              "dtype: float64"
            ]
          },
          "metadata": {},
          "execution_count": 43
        }
      ]
    },
    {
      "cell_type": "code",
      "source": [
        "del rs['대구']"
      ],
      "metadata": {
        "id": "hERgXC29fsqZ"
      },
      "execution_count": 44,
      "outputs": []
    },
    {
      "cell_type": "code",
      "source": [
        "del rs['서울']"
      ],
      "metadata": {
        "id": "f2z5FHEeftym"
      },
      "execution_count": 45,
      "outputs": []
    },
    {
      "cell_type": "code",
      "source": [
        "rs"
      ],
      "metadata": {
        "colab": {
          "base_uri": "https://localhost:8080/"
        },
        "id": "gVSuX6ENfu1C",
        "outputId": "b08b13e8-c45c-40d2-dbe7-01cec8248543"
      },
      "execution_count": 46,
      "outputs": [
        {
          "output_type": "execute_result",
          "data": {
            "text/plain": [
              "부산    10.69\n",
              "인천    16.26\n",
              "dtype: float64"
            ]
          },
          "metadata": {},
          "execution_count": 46
        }
      ]
    },
    {
      "cell_type": "code",
      "source": [
        "rs['서울'] = 77.71"
      ],
      "metadata": {
        "id": "TfndlyXBfv2b"
      },
      "execution_count": 47,
      "outputs": []
    },
    {
      "cell_type": "code",
      "source": [
        "rs"
      ],
      "metadata": {
        "colab": {
          "base_uri": "https://localhost:8080/"
        },
        "id": "-LvbBUsofwhb",
        "outputId": "fa14cc44-5b43-4a8b-934b-e70b67bd5dbd"
      },
      "execution_count": 48,
      "outputs": [
        {
          "output_type": "execute_result",
          "data": {
            "text/plain": [
              "부산    10.69\n",
              "인천    16.26\n",
              "서울    77.71\n",
              "dtype: float64"
            ]
          },
          "metadata": {},
          "execution_count": 48
        }
      ]
    },
    {
      "cell_type": "code",
      "source": [
        "rs['대구'] = 6.40"
      ],
      "metadata": {
        "id": "2pBLC5eTfypX"
      },
      "execution_count": 49,
      "outputs": []
    },
    {
      "cell_type": "code",
      "source": [
        "c"
      ],
      "metadata": {
        "colab": {
          "base_uri": "https://localhost:8080/",
          "height": 166
        },
        "id": "iddeRYMnfzdS",
        "outputId": "ae0e3106-ff5d-4fdd-b588-04f3e71209ac"
      },
      "execution_count": 50,
      "outputs": [
        {
          "output_type": "error",
          "ename": "NameError",
          "evalue": "ignored",
          "traceback": [
            "\u001b[0;31m---------------------------------------------------------------------------\u001b[0m",
            "\u001b[0;31mNameError\u001b[0m                                 Traceback (most recent call last)",
            "\u001b[0;32m<ipython-input-50-2b66fd261ee5>\u001b[0m in \u001b[0;36m<module>\u001b[0;34m\u001b[0m\n\u001b[0;32m----> 1\u001b[0;31m \u001b[0mc\u001b[0m\u001b[0;34m\u001b[0m\u001b[0;34m\u001b[0m\u001b[0m\n\u001b[0m",
            "\u001b[0;31mNameError\u001b[0m: name 'c' is not defined"
          ]
        }
      ]
    },
    {
      "cell_type": "code",
      "source": [
        "import random"
      ],
      "metadata": {
        "id": "xpSa-ReYf4A1"
      },
      "execution_count": 51,
      "outputs": []
    },
    {
      "cell_type": "code",
      "source": [
        "key100 = random.sample(list(range(120)), 100)\n",
        "# pd.Series() # 크기가 100\n",
        "# 키값 100 밸류값 100\n",
        "key80 = random.sample(list(range(120)), 80)\n",
        "value100 = random.sample(list(range(120)), 100)\n",
        "value80 = random.sample(list(range(120)), 80)\n",
        "s100 = pd.Series(value100, index=key100)\n",
        "s80 = pd.Series(value80, index=key80)"
      ],
      "metadata": {
        "id": "TnVoq6Laf5hM"
      },
      "execution_count": 53,
      "outputs": []
    },
    {
      "cell_type": "code",
      "source": [
        "s_100_80_mul = s100.sub(s80)"
      ],
      "metadata": {
        "id": "qhRIPMAVf7D3"
      },
      "execution_count": 54,
      "outputs": []
    },
    {
      "cell_type": "code",
      "source": [
        "s_100_80_sub[122]"
      ],
      "metadata": {
        "colab": {
          "base_uri": "https://localhost:8080/",
          "height": 166
        },
        "id": "QnB-htiaf8kp",
        "outputId": "ac7cbebd-694a-4b39-f2d4-99b8c524b208"
      },
      "execution_count": 55,
      "outputs": [
        {
          "output_type": "error",
          "ename": "NameError",
          "evalue": "ignored",
          "traceback": [
            "\u001b[0;31m---------------------------------------------------------------------------\u001b[0m",
            "\u001b[0;31mNameError\u001b[0m                                 Traceback (most recent call last)",
            "\u001b[0;32m<ipython-input-55-3cbd84a61f24>\u001b[0m in \u001b[0;36m<module>\u001b[0;34m\u001b[0m\n\u001b[0;32m----> 1\u001b[0;31m \u001b[0ms_100_80_sub\u001b[0m\u001b[0;34m[\u001b[0m\u001b[0;36m122\u001b[0m\u001b[0;34m]\u001b[0m\u001b[0;34m\u001b[0m\u001b[0;34m\u001b[0m\u001b[0m\n\u001b[0m",
            "\u001b[0;31mNameError\u001b[0m: name 's_100_80_sub' is not defined"
          ]
        }
      ]
    },
    {
      "cell_type": "code",
      "source": [
        "s100[122]"
      ],
      "metadata": {
        "id": "1De1D9VFf9WN"
      },
      "execution_count": null,
      "outputs": []
    },
    {
      "cell_type": "code",
      "source": [
        "s80[122]"
      ],
      "metadata": {
        "id": "wL9Ypbqrf-Ew"
      },
      "execution_count": null,
      "outputs": []
    },
    {
      "cell_type": "code",
      "source": [
        "range(120)"
      ],
      "metadata": {
        "id": "Ln4JEzYOf-6S"
      },
      "execution_count": null,
      "outputs": []
    }
  ]
}