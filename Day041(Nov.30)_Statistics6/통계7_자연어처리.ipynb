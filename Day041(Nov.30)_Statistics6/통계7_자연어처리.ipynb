{
  "nbformat": 4,
  "nbformat_minor": 0,
  "metadata": {
    "colab": {
      "provenance": []
    },
    "kernelspec": {
      "name": "python3",
      "display_name": "Python 3"
    },
    "language_info": {
      "name": "python"
    }
  },
  "cells": [
    {
      "cell_type": "markdown",
      "source": [
        "# 자연어처리\n",
        "## 영어\n",
        "\n",
        "- NLTK\n",
        "      말뭉치(corpus), 토큰생성(tokenizing), 형태소 분석(morphological analysis), 품사(POS, part-of-speech) 태깅"
      ],
      "metadata": {
        "id": "kdh_jU_iICom"
      }
    },
    {
      "cell_type": "code",
      "execution_count": null,
      "metadata": {
        "id": "oZTwa_-lIAJw"
      },
      "outputs": [],
      "source": [
        "import nltk\n",
        "nltk.download('book', quiet=True)\n",
        "\n"
      ]
    },
    {
      "cell_type": "code",
      "source": [
        "nltk.corpus.gutenberg.fileids()"
      ],
      "metadata": {
        "id": "UUU1zWngIc_J"
      },
      "execution_count": null,
      "outputs": []
    },
    {
      "cell_type": "code",
      "source": [
        "emma_raw = nltk.corpus.gutenberg.raw('austen-emma.txt')"
      ],
      "metadata": {
        "id": "Atit-iYMIlQP"
      },
      "execution_count": null,
      "outputs": []
    },
    {
      "cell_type": "code",
      "source": [
        "print(emma_raw[:1000])"
      ],
      "metadata": {
        "id": "MfwncQ-VIxuc"
      },
      "execution_count": null,
      "outputs": []
    },
    {
      "cell_type": "markdown",
      "source": [
        "### 토큰생성"
      ],
      "metadata": {
        "id": "0I3YTDv_JURC"
      }
    },
    {
      "cell_type": "code",
      "source": [
        "from nltk.tokenize import sent_tokenize\n",
        "# 첫번째 줄\n",
        "print(sent_tokenize(emma_raw[:1000])[0])\n",
        "# 세번재 줄\n",
        "# print(sent_tokenize(emma_raw[:1000])[3])"
      ],
      "metadata": {
        "id": "n8M4VNRzJVu5"
      },
      "execution_count": null,
      "outputs": []
    },
    {
      "cell_type": "code",
      "source": [
        "from nltk.tokenize import word_tokenize\n",
        "word_tokenize(emma_raw[50:100])"
      ],
      "metadata": {
        "id": "9BqahCQwKCFT"
      },
      "execution_count": null,
      "outputs": []
    },
    {
      "cell_type": "code",
      "source": [
        "from nltk.tokenize import RegexpTokenizer\n",
        "retokenize = RegexpTokenizer(\"[\\w]+\")\n",
        "retokenize.tokenize(emma_raw[50:100])"
      ],
      "metadata": {
        "id": "1rP-O7CdKI_k"
      },
      "execution_count": null,
      "outputs": []
    },
    {
      "cell_type": "markdown",
      "source": [
        "### 형태소 분석"
      ],
      "metadata": {
        "id": "19syBvYSLNqr"
      }
    },
    {
      "cell_type": "code",
      "source": [
        "from nltk.stem import PorterStemmer, LancasterStemmer\n",
        "\n",
        "st1 = PorterStemmer()\n",
        "st2 =  LancasterStemmer()\n",
        "\n",
        "words = [\"fly\", \"flies\", \"flying\", \"flew\", \"flown\"]\n",
        "\n",
        "print(\"Porter Stemmer   :\", [st1.stem(w) for w in words])\n",
        "print(\"Lancaster Stemmer:\", [st2.stem(w) for w in words])"
      ],
      "metadata": {
        "id": "bkjCjuZCLQM-"
      },
      "execution_count": null,
      "outputs": []
    },
    {
      "cell_type": "code",
      "source": [
        "# 원형복원(lemmatizing)에서 품사를 지정해서 더 정확한 원형을 찾음\n",
        "from nltk.stem import WordNetLemmatizer\n",
        "nltk.download('omw-1.4')\n",
        "\n",
        "\n",
        "lm = WordNetLemmatizer()\n",
        "\n",
        "[lm.lemmatize(w, pos=\"v\") for w in words]"
      ],
      "metadata": {
        "id": "-tuzpu1ZLWFp"
      },
      "execution_count": null,
      "outputs": []
    },
    {
      "cell_type": "markdown",
      "source": [
        "### 품사 부착\n",
        "- NNP : 단수 고유명사\n",
        "- VB : 동사\n",
        "- VBP : 동사현재형\n",
        "- TO : to 전치사\n",
        "- NN : 명사(단수형 혹은 집합형)\n",
        "- DT : 관형사\n"
      ],
      "metadata": {
        "id": "7HaCxWSsMgto"
      }
    },
    {
      "cell_type": "code",
      "source": [
        "# nltk.help.upenn_tagset() 명령으로 자세한 설명\n",
        "nltk.help.upenn_tagset(\"VB\")"
      ],
      "metadata": {
        "id": "AytWfjx3M20_"
      },
      "execution_count": null,
      "outputs": []
    },
    {
      "cell_type": "code",
      "source": [
        "# pos_tag 명령으로 단어 토큰에 품사 부착가능\n",
        "from nltk.tag import pos_tag\n",
        "sentence = \"Emma refused to permit us to obtain the refuse permit\"\n",
        "tagged_list = pos_tag(word_tokenize(sentence))\n",
        "tagged_list"
      ],
      "metadata": {
        "id": "ahi6YTg3M-4C"
      },
      "execution_count": null,
      "outputs": []
    },
    {
      "cell_type": "code",
      "source": [
        "nouns_list = [t[0] for t in tagged_list if t[1] == \"NN\"]\n",
        "nouns_list"
      ],
      "metadata": {
        "id": "xgH4vFcqNK1-"
      },
      "execution_count": null,
      "outputs": []
    },
    {
      "cell_type": "code",
      "source": [
        "# untag 명령으로 태그 튜플 제거\n",
        "\n",
        "from nltk.tag import untag\n",
        "untag(tagged_list)"
      ],
      "metadata": {
        "id": "NNxn9NhRNNya"
      },
      "execution_count": null,
      "outputs": []
    },
    {
      "cell_type": "code",
      "source": [
        "# Scikit-Learn 등에서 자연어 분석을 할 때는 같은 토큰이라도 품사가 다르면 다른 토큰으로 처리해야 하는 경우가 많은데 이 때는 원래의 토큰과 품사를 붙여서 새로운 토큰 이름을 만들어 사용하면 철자가 같고 품사가 다른 단어를 구분할 수 있다.\n",
        "\n",
        "def tokenizer(doc):\n",
        "    return [\"/\".join(p) for p in tagged_list]\n",
        "\n",
        "tokenizer(sentence)"
      ],
      "metadata": {
        "id": "bNIk8bgKNbSF"
      },
      "execution_count": null,
      "outputs": []
    },
    {
      "cell_type": "markdown",
      "source": [
        "### Text 클래스\n"
      ],
      "metadata": {
        "id": "HTr_RJnHNky7"
      }
    },
    {
      "cell_type": "code",
      "source": [
        "from nltk import Text\n",
        "\n",
        "text = Text(retokenize.tokenize(emma_raw))"
      ],
      "metadata": {
        "id": "ZcNvsY4dNprp"
      },
      "execution_count": null,
      "outputs": []
    },
    {
      "cell_type": "code",
      "source": [
        "import matplotlib.pyplot as plt\n",
        "text.plot(30)\n",
        "plt.show()"
      ],
      "metadata": {
        "id": "1IV7O3xTNsX6"
      },
      "execution_count": null,
      "outputs": []
    },
    {
      "cell_type": "code",
      "source": [
        "# dispersion_plot 메서드는 단어가 사용된 위치를 시각화\n",
        "\n",
        "text.dispersion_plot([\"Emma\", \"Knightley\", \"Frank\", \"Jane\", \"Harriet\", \"Robert\"])"
      ],
      "metadata": {
        "id": "bA0DUR_hN0mq"
      },
      "execution_count": null,
      "outputs": []
    },
    {
      "cell_type": "code",
      "source": [
        "# concordance 메서드로 단어가 사용된 위치를 직접 표시하면 문맥(context) 확인 가능\n",
        "\n",
        "text.concordance(\"Emma\")"
      ],
      "metadata": {
        "id": "MqdRxm5VOapm"
      },
      "execution_count": null,
      "outputs": []
    },
    {
      "cell_type": "code",
      "source": [
        "# similar 메서드는 같은 문맥에서 주어진 단어 대신 사용된 횟수가 높은 단어들을 찾는다.\n",
        "text.similar(\"Emma\")"
      ],
      "metadata": {
        "id": "I-dwJ09KOroQ"
      },
      "execution_count": null,
      "outputs": []
    },
    {
      "cell_type": "code",
      "source": [
        "# 두 단어의 공통 문맥을 보려면 common_contexts 메서드를 사용한다.\n",
        "text.common_contexts([\"Emma\", \"she\"])"
      ],
      "metadata": {
        "id": "3F4cb-waOy2W"
      },
      "execution_count": null,
      "outputs": []
    },
    {
      "cell_type": "markdown",
      "source": [
        "### FreqDist\n",
        "\n",
        "FreqDist 클래스는 문서에 사용된 단어(토큰)의 사용빈도 정보를 담는 클래스이다. Text 클래스의 vocab 메서드로 추출할 수 있다."
      ],
      "metadata": {
        "id": "7WXBXe1BR89d"
      }
    },
    {
      "cell_type": "code",
      "source": [
        "# 빈도수 체크\n",
        "fd = text.vocab()\n",
        "type(fd)"
      ],
      "metadata": {
        "id": "RDAlJaCkSD1H"
      },
      "execution_count": null,
      "outputs": []
    },
    {
      "cell_type": "code",
      "source": [
        "# 토큰 리스트 이용\n",
        "# 사람이름의 FreqDist 클래스 객체 생성\n",
        "# NNP면서 필요없는 단어(stop words)를 제거한 품사 태그\n",
        "\n",
        "from nltk import FreqDist\n",
        "\n",
        "stopwords = [\"Mr.\", \"Mrs.\", \"Miss\", \"Mr\", \"Mrs\", \"Dear\"]\n",
        "emma_tokens = pos_tag(retokenize.tokenize(emma_raw))\n",
        "names_list = [t[0] for t in emma_tokens if t[1] == \"NNP\" and t[0] not in stopwords]\n",
        "fd_names = FreqDist(names_list)"
      ],
      "metadata": {
        "id": "d2JGrnhASGwD"
      },
      "execution_count": null,
      "outputs": []
    },
    {
      "cell_type": "code",
      "source": [
        "# FreqDist 클래스는 단어를 키(key), 출현빈도를 값(value)으로 가지는 사전 자료형과 유사하다. \n",
        "# 다음 코드는 전체 단어의 수, “Emma”라는 단어의 출현 횟수, 확률을 각각 계산한다.\n",
        "\n",
        "fd_names.N(), fd_names[\"Emma\"], fd_names.freq(\"Emma\")"
      ],
      "metadata": {
        "id": "FkqXAAoUStJ8"
      },
      "execution_count": null,
      "outputs": []
    },
    {
      "cell_type": "code",
      "source": [
        "names_list"
      ],
      "metadata": {
        "id": "-TfDvnC0S_J8"
      },
      "execution_count": null,
      "outputs": []
    },
    {
      "cell_type": "code",
      "source": [
        "# most_common 메서드를 사용하면 가장 출현 횟수가 높은 단어를 찾는다.\n",
        "\n",
        "fd_names.most_common(5)"
      ],
      "metadata": {
        "id": "oaF6w6OBS92V"
      },
      "execution_count": null,
      "outputs": []
    },
    {
      "cell_type": "markdown",
      "source": [
        "### 워드클라우드\n",
        "\n",
        "wordcloud 패키지를 사용하면 단어의 사용 빈도수에 따라 워드클라우드(Word Cloud) 시각화를 할 수 있다."
      ],
      "metadata": {
        "id": "2NoGXwL5Tccd"
      }
    },
    {
      "cell_type": "code",
      "source": [
        "from wordcloud import WordCloud\n",
        "\n",
        "wc = WordCloud(width=1000, height=600, background_color=\"white\", random_state=0)\n",
        "plt.imshow(wc.generate_from_frequencies(fd_names))\n",
        "plt.axis(\"off\")\n",
        "plt.show()"
      ],
      "metadata": {
        "id": "ZkRqvYnETgWw"
      },
      "execution_count": null,
      "outputs": []
    },
    {
      "cell_type": "markdown",
      "source": [
        "## 한글\n",
        "- KoNLPy\n",
        "      tokenize, 형태소 분석 등"
      ],
      "metadata": {
        "id": "oZsp5mmSUKAh"
      }
    },
    {
      "cell_type": "code",
      "source": [
        "!pip install konlpy"
      ],
      "metadata": {
        "id": "8Hpv5-rFUk16"
      },
      "execution_count": null,
      "outputs": []
    },
    {
      "cell_type": "code",
      "source": [
        "import warnings\n",
        "warnings.simplefilter(\"ignore\")\n",
        "\n",
        "import konlpy\n",
        "konlpy.__version__"
      ],
      "metadata": {
        "id": "BWP5X3YUUgvM"
      },
      "execution_count": null,
      "outputs": []
    },
    {
      "cell_type": "markdown",
      "source": [
        "### 한국어 말뭉치"
      ],
      "metadata": {
        "id": "kfgpPU9eUvlz"
      }
    },
    {
      "cell_type": "code",
      "source": [
        "from konlpy.corpus import kolaw\n",
        "kolaw.fileids()"
      ],
      "metadata": {
        "id": "vRD6mcQdUupt"
      },
      "execution_count": null,
      "outputs": []
    },
    {
      "cell_type": "code",
      "source": [
        "c = kolaw.open('constitution.txt').read()\n",
        "print(c[:100])"
      ],
      "metadata": {
        "id": "W8gh-AfzVA51"
      },
      "execution_count": null,
      "outputs": []
    },
    {
      "cell_type": "code",
      "source": [
        "from konlpy.corpus import kobill\n",
        "kobill.fileids()"
      ],
      "metadata": {
        "id": "Lq3uUw-SVKS4"
      },
      "execution_count": null,
      "outputs": []
    },
    {
      "cell_type": "code",
      "source": [
        "d = kobill.open('1809890.txt').read()\n",
        "print(d[:40])"
      ],
      "metadata": {
        "id": "MkiP90diVM0V"
      },
      "execution_count": null,
      "outputs": []
    },
    {
      "cell_type": "markdown",
      "source": [
        "### 형태소 분석\n",
        "KoNLPy는 다음과 같은 다양한 형태소 분석, 태깅 라이브러리를 파이썬에서 쉽게 사용할 수 있도록 모아놓았다.\n",
        "\n",
        "- Hannanum: 한나눔. KAIST Semantic Web Research Center 개발.\n",
        "\n",
        "  - http://semanticweb.kaist.ac.kr/hannanum/\n",
        "\n",
        "- Kkma: 꼬꼬마. 서울대학교 IDS(Intelligent Data Systems) 연구실 개발.\n",
        "\n",
        "  - http://kkma.snu.ac.kr/\n",
        "\n",
        "- Komoran: 코모란. Shineware에서 개발.\n",
        "\n",
        "  - https://github.com/shin285/KOMORAN\n",
        "\n",
        "- Mecab: 메카브. 일본어용 형태소 분석기를 한국어를 사용할 수 있도록 수정.\n",
        "\n",
        "  - https://bitbucket.org/eunjeon/mecab-ko\n",
        "\n",
        "- Open Korean Text: 오픈 소스 한국어 분석기. 과거 트위터 형태소 분석기.\n",
        "\n",
        "  - https://github.com/open-korean-text/open-korean-text\n",
        "\n",
        "\n",
        "  이 클래스들은 다음과 같은 메서드를 공통적으로 제공한다.\n",
        "\n",
        "- nouns : 명사 추출\n",
        "\n",
        "- morphs : 형태소 추출\n",
        "\n",
        "- pos : 품사 부착"
      ],
      "metadata": {
        "id": "ypS6R-2aVlk8"
      }
    },
    {
      "cell_type": "code",
      "source": [
        "from konlpy.tag import *\n",
        "\n",
        "hannanum = Hannanum()\n",
        "kkma = Kkma()\n",
        "komoran = Komoran()\n",
        "# mecab = Mecab() windows 사용안됨\n",
        "okt = Okt()"
      ],
      "metadata": {
        "id": "HG3WFb0zVkot"
      },
      "execution_count": null,
      "outputs": []
    },
    {
      "cell_type": "markdown",
      "source": [
        "### 명사 추출\n",
        "문자열에서 명사만 추출하려면 noun 명령을 사용한다."
      ],
      "metadata": {
        "id": "YAtynB9AWuD0"
      }
    },
    {
      "cell_type": "code",
      "source": [
        "hannanum.nouns(c[:40])"
      ],
      "metadata": {
        "colab": {
          "base_uri": "https://localhost:8080/"
        },
        "id": "iDUWSWH0WxiI",
        "outputId": "08c2757f-4bec-4486-a807-c3204bf25462"
      },
      "execution_count": 103,
      "outputs": [
        {
          "data": {
            "text/plain": [
              "['대한민국헌법', '유구', '역사', '전통', '빛', '우리', '대한국민', '3·1운동']"
            ]
          },
          "execution_count": 103,
          "metadata": {},
          "output_type": "execute_result"
        }
      ]
    },
    {
      "cell_type": "code",
      "source": [
        "kkma.nouns(c[:40])"
      ],
      "metadata": {
        "colab": {
          "base_uri": "https://localhost:8080/"
        },
        "id": "76JP1uWeW0gx",
        "outputId": "89a1be26-ffa8-4bfa-e040-757bc2b24df2"
      },
      "execution_count": 104,
      "outputs": [
        {
          "data": {
            "text/plain": [
              "['대한',\n",
              " '대한민국',\n",
              " '대한민국헌법',\n",
              " '민국',\n",
              " '헌법',\n",
              " '유구',\n",
              " '역사',\n",
              " '전통',\n",
              " '우리',\n",
              " '국민',\n",
              " '3',\n",
              " '1',\n",
              " '1운동',\n",
              " '운동']"
            ]
          },
          "execution_count": 104,
          "metadata": {},
          "output_type": "execute_result"
        }
      ]
    },
    {
      "cell_type": "code",
      "source": [
        "# komoran은 빈줄이 있으면 에러가 남\n",
        "komoran.nouns(\"\\n\".join([s for s in c[:40].split(\"\\n\") if s]))"
      ],
      "metadata": {
        "colab": {
          "base_uri": "https://localhost:8080/"
        },
        "id": "pDFkAaGEW2yE",
        "outputId": "705a66a7-ac82-4df8-f9bc-0bb5343a8c83"
      },
      "execution_count": 105,
      "outputs": [
        {
          "data": {
            "text/plain": [
              "['대한민국', '헌법', '역사', '전통', '국민', '운동']"
            ]
          },
          "execution_count": 105,
          "metadata": {},
          "output_type": "execute_result"
        }
      ]
    },
    {
      "cell_type": "code",
      "source": [
        "okt.nouns(c[:40])"
      ],
      "metadata": {
        "colab": {
          "base_uri": "https://localhost:8080/"
        },
        "id": "8KZTCNpMW-UL",
        "outputId": "c0845083-1dc2-4dc0-cac9-660c8a437ded"
      },
      "execution_count": 106,
      "outputs": [
        {
          "data": {
            "text/plain": [
              "['대한민국', '헌법', '유구', '역사', '전통', '우리', '국민', '운동']"
            ]
          },
          "execution_count": 106,
          "metadata": {},
          "output_type": "execute_result"
        }
      ]
    },
    {
      "cell_type": "markdown",
      "source": [
        "### 형태소 추출\n",
        "명사 뿐 아니라 모든 품사의 형태소를 알아내려면 morphs라는 명령을 사용한다."
      ],
      "metadata": {
        "id": "WbPY2s26XCTS"
      }
    },
    {
      "cell_type": "code",
      "source": [
        "hannanum.morphs(c[:40])"
      ],
      "metadata": {
        "colab": {
          "base_uri": "https://localhost:8080/"
        },
        "id": "bDPk1qqGXGAI",
        "outputId": "7c3cf2d1-cd69-4536-9ca4-68a880e6498e"
      },
      "execution_count": 107,
      "outputs": [
        {
          "data": {
            "text/plain": [
              "['대한민국헌법',\n",
              " '유구',\n",
              " '하',\n",
              " 'ㄴ',\n",
              " '역사',\n",
              " '와',\n",
              " '전통',\n",
              " '에',\n",
              " '빛',\n",
              " '나는',\n",
              " '우리',\n",
              " '대한국민',\n",
              " '은',\n",
              " '3·1운동',\n",
              " '으로']"
            ]
          },
          "execution_count": 107,
          "metadata": {},
          "output_type": "execute_result"
        }
      ]
    },
    {
      "cell_type": "code",
      "source": [
        "kkma.morphs(c[:40])"
      ],
      "metadata": {
        "colab": {
          "base_uri": "https://localhost:8080/"
        },
        "id": "LYq-90-UXIDB",
        "outputId": "437de375-6b4c-4ed6-fe2b-d36448671bc5"
      },
      "execution_count": 108,
      "outputs": [
        {
          "data": {
            "text/plain": [
              "['대한민국',\n",
              " '헌법',\n",
              " '유구',\n",
              " '하',\n",
              " 'ㄴ',\n",
              " '역사',\n",
              " '와',\n",
              " '전통',\n",
              " '에',\n",
              " '빛나',\n",
              " '는',\n",
              " '우리',\n",
              " '대하',\n",
              " 'ㄴ',\n",
              " '국민',\n",
              " '은',\n",
              " '3',\n",
              " '·',\n",
              " '1',\n",
              " '운동',\n",
              " '으로']"
            ]
          },
          "execution_count": 108,
          "metadata": {},
          "output_type": "execute_result"
        }
      ]
    },
    {
      "cell_type": "code",
      "source": [
        "# komoran은 빈줄이 있으면 에러가 남\n",
        "komoran.morphs(\"\\n\".join([s for s in c[:40].split(\"\\n\") if s]))"
      ],
      "metadata": {
        "colab": {
          "base_uri": "https://localhost:8080/"
        },
        "id": "Bt-EK_aYXKF8",
        "outputId": "77b5574e-64b7-4682-e304-e5111a4a0906"
      },
      "execution_count": 109,
      "outputs": [
        {
          "data": {
            "text/plain": [
              "['대한민국',\n",
              " '헌법',\n",
              " '유구',\n",
              " '하',\n",
              " 'ㄴ',\n",
              " '역사',\n",
              " '와',\n",
              " '전통',\n",
              " '에',\n",
              " '빛나',\n",
              " '는',\n",
              " '우리',\n",
              " '대하',\n",
              " 'ㄴ',\n",
              " '국민',\n",
              " '은',\n",
              " '3',\n",
              " '·',\n",
              " '1',\n",
              " '운동',\n",
              " '으로']"
            ]
          },
          "execution_count": 109,
          "metadata": {},
          "output_type": "execute_result"
        }
      ]
    },
    {
      "cell_type": "code",
      "source": [
        "okt.morphs(c[:40])"
      ],
      "metadata": {
        "colab": {
          "base_uri": "https://localhost:8080/"
        },
        "id": "ii7q0OiqXMFb",
        "outputId": "7359847d-1ccd-49bf-ef63-7a7d559a7661"
      },
      "execution_count": 110,
      "outputs": [
        {
          "data": {
            "text/plain": [
              "['대한민국',\n",
              " '헌법',\n",
              " '\\n\\n',\n",
              " '유구',\n",
              " '한',\n",
              " '역사',\n",
              " '와',\n",
              " '전통',\n",
              " '에',\n",
              " '빛나는',\n",
              " '우리',\n",
              " '대',\n",
              " '한',\n",
              " '국민',\n",
              " '은',\n",
              " '3',\n",
              " '·',\n",
              " '1',\n",
              " '운동',\n",
              " '으로']"
            ]
          },
          "execution_count": 110,
          "metadata": {},
          "output_type": "execute_result"
        }
      ]
    },
    {
      "cell_type": "markdown",
      "source": [
        "### 품사 부착\n",
        "\n",
        "pos 명령을 사용하면 품사 부착을 한다.\n",
        "\n",
        "한국어 품사 태그세트로는 “21세기 세종계획 품사 태그세트”를 비롯하여 다양한 품사 태그세트가 있다. 형태소 분석기마다 사용하는 품사 태그가 다르므로 각 형태소 분석기에 대한 문서를 참조한다."
      ],
      "metadata": {
        "id": "rYH2RvvhXZR5"
      }
    },
    {
      "cell_type": "code",
      "source": [
        "hannanum.pos(c[:40])"
      ],
      "metadata": {
        "colab": {
          "base_uri": "https://localhost:8080/"
        },
        "id": "Kr9lumYkXi4D",
        "outputId": "589231d3-2418-4748-bdb8-995019b20baf"
      },
      "execution_count": 111,
      "outputs": [
        {
          "data": {
            "text/plain": [
              "[('대한민국헌법', 'N'),\n",
              " ('유구', 'N'),\n",
              " ('하', 'X'),\n",
              " ('ㄴ', 'E'),\n",
              " ('역사', 'N'),\n",
              " ('와', 'J'),\n",
              " ('전통', 'N'),\n",
              " ('에', 'J'),\n",
              " ('빛', 'N'),\n",
              " ('나는', 'J'),\n",
              " ('우리', 'N'),\n",
              " ('대한국민', 'N'),\n",
              " ('은', 'J'),\n",
              " ('3·1운동', 'N'),\n",
              " ('으로', 'J')]"
            ]
          },
          "execution_count": 111,
          "metadata": {},
          "output_type": "execute_result"
        }
      ]
    },
    {
      "cell_type": "code",
      "source": [
        "kkma.pos(c[:40])"
      ],
      "metadata": {
        "colab": {
          "base_uri": "https://localhost:8080/"
        },
        "id": "f8igFBSuXlEz",
        "outputId": "34becb2a-6fe5-4aab-d4e9-47df42672fa0"
      },
      "execution_count": 112,
      "outputs": [
        {
          "data": {
            "text/plain": [
              "[('대한민국', 'NNG'),\n",
              " ('헌법', 'NNG'),\n",
              " ('유구', 'NNG'),\n",
              " ('하', 'XSV'),\n",
              " ('ㄴ', 'ETD'),\n",
              " ('역사', 'NNG'),\n",
              " ('와', 'JC'),\n",
              " ('전통', 'NNG'),\n",
              " ('에', 'JKM'),\n",
              " ('빛나', 'VV'),\n",
              " ('는', 'ETD'),\n",
              " ('우리', 'NNM'),\n",
              " ('대하', 'VV'),\n",
              " ('ㄴ', 'ETD'),\n",
              " ('국민', 'NNG'),\n",
              " ('은', 'JX'),\n",
              " ('3', 'NR'),\n",
              " ('·', 'SP'),\n",
              " ('1', 'NR'),\n",
              " ('운동', 'NNG'),\n",
              " ('으로', 'JKM')]"
            ]
          },
          "execution_count": 112,
          "metadata": {},
          "output_type": "execute_result"
        }
      ]
    },
    {
      "cell_type": "code",
      "source": [
        "# komoran은 빈줄이 있으면 에러가 남\n",
        "komoran.pos(\"\\n\".join([s for s in c[:40].split(\"\\n\") if s]))"
      ],
      "metadata": {
        "colab": {
          "base_uri": "https://localhost:8080/"
        },
        "id": "9-hj3DCeXk_E",
        "outputId": "1647252f-4841-407a-c193-8b7923b1161b"
      },
      "execution_count": 113,
      "outputs": [
        {
          "data": {
            "text/plain": [
              "[('대한민국', 'NNP'),\n",
              " ('헌법', 'NNP'),\n",
              " ('유구', 'XR'),\n",
              " ('하', 'XSA'),\n",
              " ('ㄴ', 'ETM'),\n",
              " ('역사', 'NNG'),\n",
              " ('와', 'JC'),\n",
              " ('전통', 'NNG'),\n",
              " ('에', 'JKB'),\n",
              " ('빛나', 'VV'),\n",
              " ('는', 'ETM'),\n",
              " ('우리', 'NP'),\n",
              " ('대하', 'VV'),\n",
              " ('ㄴ', 'ETM'),\n",
              " ('국민', 'NNP'),\n",
              " ('은', 'JX'),\n",
              " ('3', 'SN'),\n",
              " ('·', 'SP'),\n",
              " ('1', 'SN'),\n",
              " ('운동', 'NNP'),\n",
              " ('으로', 'JKB')]"
            ]
          },
          "execution_count": 113,
          "metadata": {},
          "output_type": "execute_result"
        }
      ]
    },
    {
      "cell_type": "code",
      "source": [
        "okt.pos(c[:40])"
      ],
      "metadata": {
        "colab": {
          "base_uri": "https://localhost:8080/"
        },
        "id": "5jfKUb9vXoQQ",
        "outputId": "2f8e20b8-b41e-4e82-84c8-67da5a2ff37a"
      },
      "execution_count": 114,
      "outputs": [
        {
          "data": {
            "text/plain": [
              "[('대한민국', 'Noun'),\n",
              " ('헌법', 'Noun'),\n",
              " ('\\n\\n', 'Foreign'),\n",
              " ('유구', 'Noun'),\n",
              " ('한', 'Josa'),\n",
              " ('역사', 'Noun'),\n",
              " ('와', 'Josa'),\n",
              " ('전통', 'Noun'),\n",
              " ('에', 'Josa'),\n",
              " ('빛나는', 'Verb'),\n",
              " ('우리', 'Noun'),\n",
              " ('대', 'Modifier'),\n",
              " ('한', 'Modifier'),\n",
              " ('국민', 'Noun'),\n",
              " ('은', 'Josa'),\n",
              " ('3', 'Number'),\n",
              " ('·', 'Punctuation'),\n",
              " ('1', 'Number'),\n",
              " ('운동', 'Noun'),\n",
              " ('으로', 'Josa')]"
            ]
          },
          "execution_count": 114,
          "metadata": {},
          "output_type": "execute_result"
        }
      ]
    },
    {
      "cell_type": "code",
      "source": [
        "# 부착되는 품사 태그의 기호와 의미는 tagset 속성으로 확인할 수 있다.\n",
        "okt.tagset"
      ],
      "metadata": {
        "colab": {
          "base_uri": "https://localhost:8080/"
        },
        "id": "SP98JDJEXqJ_",
        "outputId": "13b9f00b-4fe6-4839-f384-1dfc5b4c32c9"
      },
      "execution_count": 115,
      "outputs": [
        {
          "data": {
            "text/plain": [
              "{'Adjective': '형용사',\n",
              " 'Adverb': '부사',\n",
              " 'Alpha': '알파벳',\n",
              " 'Conjunction': '접속사',\n",
              " 'Determiner': '관형사',\n",
              " 'Eomi': '어미',\n",
              " 'Exclamation': '감탄사',\n",
              " 'Foreign': '외국어, 한자 및 기타기호',\n",
              " 'Hashtag': '트위터 해쉬태그',\n",
              " 'Josa': '조사',\n",
              " 'KoreanParticle': '(ex: ㅋㅋ)',\n",
              " 'Noun': '명사',\n",
              " 'Number': '숫자',\n",
              " 'PreEomi': '선어말어미',\n",
              " 'Punctuation': '구두점',\n",
              " 'ScreenName': '트위터 아이디',\n",
              " 'Suffix': '접미사',\n",
              " 'Unknown': '미등록어',\n",
              " 'Verb': '동사'}"
            ]
          },
          "execution_count": 115,
          "metadata": {},
          "output_type": "execute_result"
        }
      ]
    },
    {
      "cell_type": "code",
      "source": [
        "import pandas as pd\n",
        "\n",
        "tagsets = pd.DataFrame()\n",
        "N = 67\n",
        "tagsets[\"Hannanum-기호\"] = list(hannanum.tagset.keys()) + list(\"*\" * (N - len(hannanum.tagset)))\n",
        "tagsets[\"Hannanum-품사\"] = list(hannanum.tagset.values()) + list(\"*\" * (N - len(hannanum.tagset)))\n",
        "tagsets[\"Kkma-기호\"] = list(kkma.tagset.keys()) + list(\"*\" * (N - len(kkma.tagset)))\n",
        "tagsets[\"Kkma-품사\"] = list(kkma.tagset.values()) + list(\"*\" * (N - len(kkma.tagset)))\n",
        "tagsets[\"Komoran-기호\"] = list(komoran.tagset.keys()) + list(\"*\" * (N - len(komoran.tagset)))\n",
        "tagsets[\"Komoran-품사\"] = list(komoran.tagset.values()) + list(\"*\" * (N - len(komoran.tagset)))\n",
        "tagsets[\"OKT-기호\"] = list(okt.tagset.keys()) + list(\"*\" * (N - len(okt.tagset)))\n",
        "tagsets[\"OKT-품사\"] = list(okt.tagset.values()) + list(\"*\" * (N - len(okt.tagset)))\n",
        "tagsets"
      ],
      "metadata": {
        "colab": {
          "base_uri": "https://localhost:8080/",
          "height": 711
        },
        "id": "0tbAr8mCXx6R",
        "outputId": "68a742a2-8ee1-47ea-ee57-e39222f815fb"
      },
      "execution_count": 116,
      "outputs": [
        {
          "data": {
            "text/html": [
              "\n",
              "  <div id=\"df-00f600a2-69d3-429f-9be4-50ed26400fbb\">\n",
              "    <div class=\"colab-df-container\">\n",
              "      <div>\n",
              "<style scoped>\n",
              "    .dataframe tbody tr th:only-of-type {\n",
              "        vertical-align: middle;\n",
              "    }\n",
              "\n",
              "    .dataframe tbody tr th {\n",
              "        vertical-align: top;\n",
              "    }\n",
              "\n",
              "    .dataframe thead th {\n",
              "        text-align: right;\n",
              "    }\n",
              "</style>\n",
              "<table border=\"1\" class=\"dataframe\">\n",
              "  <thead>\n",
              "    <tr style=\"text-align: right;\">\n",
              "      <th></th>\n",
              "      <th>Hannanum-기호</th>\n",
              "      <th>Hannanum-품사</th>\n",
              "      <th>Kkma-기호</th>\n",
              "      <th>Kkma-품사</th>\n",
              "      <th>Komoran-기호</th>\n",
              "      <th>Komoran-품사</th>\n",
              "      <th>OKT-기호</th>\n",
              "      <th>OKT-품사</th>\n",
              "    </tr>\n",
              "  </thead>\n",
              "  <tbody>\n",
              "    <tr>\n",
              "      <th>0</th>\n",
              "      <td>E</td>\n",
              "      <td>어미</td>\n",
              "      <td>EC</td>\n",
              "      <td>연결 어미</td>\n",
              "      <td>EC</td>\n",
              "      <td>연결 어미</td>\n",
              "      <td>Adjective</td>\n",
              "      <td>형용사</td>\n",
              "    </tr>\n",
              "    <tr>\n",
              "      <th>1</th>\n",
              "      <td>EC</td>\n",
              "      <td>연결 어미</td>\n",
              "      <td>ECD</td>\n",
              "      <td>의존적 연결 어미</td>\n",
              "      <td>EF</td>\n",
              "      <td>종결 어미</td>\n",
              "      <td>Adverb</td>\n",
              "      <td>부사</td>\n",
              "    </tr>\n",
              "    <tr>\n",
              "      <th>2</th>\n",
              "      <td>EF</td>\n",
              "      <td>종결 어미</td>\n",
              "      <td>ECE</td>\n",
              "      <td>대등 연결 어미</td>\n",
              "      <td>EP</td>\n",
              "      <td>선어말어미</td>\n",
              "      <td>Alpha</td>\n",
              "      <td>알파벳</td>\n",
              "    </tr>\n",
              "    <tr>\n",
              "      <th>3</th>\n",
              "      <td>EP</td>\n",
              "      <td>선어말어미</td>\n",
              "      <td>ECS</td>\n",
              "      <td>보조적 연결 어미</td>\n",
              "      <td>ETM</td>\n",
              "      <td>관형형 전성 어미</td>\n",
              "      <td>Conjunction</td>\n",
              "      <td>접속사</td>\n",
              "    </tr>\n",
              "    <tr>\n",
              "      <th>4</th>\n",
              "      <td>ET</td>\n",
              "      <td>전성 어미</td>\n",
              "      <td>EF</td>\n",
              "      <td>종결 어미</td>\n",
              "      <td>ETN</td>\n",
              "      <td>명사형 전성 어미</td>\n",
              "      <td>Determiner</td>\n",
              "      <td>관형사</td>\n",
              "    </tr>\n",
              "    <tr>\n",
              "      <th>...</th>\n",
              "      <td>...</td>\n",
              "      <td>...</td>\n",
              "      <td>...</td>\n",
              "      <td>...</td>\n",
              "      <td>...</td>\n",
              "      <td>...</td>\n",
              "      <td>...</td>\n",
              "      <td>...</td>\n",
              "    </tr>\n",
              "    <tr>\n",
              "      <th>62</th>\n",
              "      <td>*</td>\n",
              "      <td>*</td>\n",
              "      <td>XPV</td>\n",
              "      <td>용언 접두사</td>\n",
              "      <td>*</td>\n",
              "      <td>*</td>\n",
              "      <td>*</td>\n",
              "      <td>*</td>\n",
              "    </tr>\n",
              "    <tr>\n",
              "      <th>63</th>\n",
              "      <td>*</td>\n",
              "      <td>*</td>\n",
              "      <td>XR</td>\n",
              "      <td>어근</td>\n",
              "      <td>*</td>\n",
              "      <td>*</td>\n",
              "      <td>*</td>\n",
              "      <td>*</td>\n",
              "    </tr>\n",
              "    <tr>\n",
              "      <th>64</th>\n",
              "      <td>*</td>\n",
              "      <td>*</td>\n",
              "      <td>XSA</td>\n",
              "      <td>형용사 파생 접미사</td>\n",
              "      <td>*</td>\n",
              "      <td>*</td>\n",
              "      <td>*</td>\n",
              "      <td>*</td>\n",
              "    </tr>\n",
              "    <tr>\n",
              "      <th>65</th>\n",
              "      <td>*</td>\n",
              "      <td>*</td>\n",
              "      <td>XSN</td>\n",
              "      <td>명사파생 접미사</td>\n",
              "      <td>*</td>\n",
              "      <td>*</td>\n",
              "      <td>*</td>\n",
              "      <td>*</td>\n",
              "    </tr>\n",
              "    <tr>\n",
              "      <th>66</th>\n",
              "      <td>*</td>\n",
              "      <td>*</td>\n",
              "      <td>XSV</td>\n",
              "      <td>동사 파생 접미사</td>\n",
              "      <td>*</td>\n",
              "      <td>*</td>\n",
              "      <td>*</td>\n",
              "      <td>*</td>\n",
              "    </tr>\n",
              "  </tbody>\n",
              "</table>\n",
              "<p>67 rows × 8 columns</p>\n",
              "</div>\n",
              "      <button class=\"colab-df-convert\" onclick=\"convertToInteractive('df-00f600a2-69d3-429f-9be4-50ed26400fbb')\"\n",
              "              title=\"Convert this dataframe to an interactive table.\"\n",
              "              style=\"display:none;\">\n",
              "        \n",
              "  <svg xmlns=\"http://www.w3.org/2000/svg\" height=\"24px\"viewBox=\"0 0 24 24\"\n",
              "       width=\"24px\">\n",
              "    <path d=\"M0 0h24v24H0V0z\" fill=\"none\"/>\n",
              "    <path d=\"M18.56 5.44l.94 2.06.94-2.06 2.06-.94-2.06-.94-.94-2.06-.94 2.06-2.06.94zm-11 1L8.5 8.5l.94-2.06 2.06-.94-2.06-.94L8.5 2.5l-.94 2.06-2.06.94zm10 10l.94 2.06.94-2.06 2.06-.94-2.06-.94-.94-2.06-.94 2.06-2.06.94z\"/><path d=\"M17.41 7.96l-1.37-1.37c-.4-.4-.92-.59-1.43-.59-.52 0-1.04.2-1.43.59L10.3 9.45l-7.72 7.72c-.78.78-.78 2.05 0 2.83L4 21.41c.39.39.9.59 1.41.59.51 0 1.02-.2 1.41-.59l7.78-7.78 2.81-2.81c.8-.78.8-2.07 0-2.86zM5.41 20L4 18.59l7.72-7.72 1.47 1.35L5.41 20z\"/>\n",
              "  </svg>\n",
              "      </button>\n",
              "      \n",
              "  <style>\n",
              "    .colab-df-container {\n",
              "      display:flex;\n",
              "      flex-wrap:wrap;\n",
              "      gap: 12px;\n",
              "    }\n",
              "\n",
              "    .colab-df-convert {\n",
              "      background-color: #E8F0FE;\n",
              "      border: none;\n",
              "      border-radius: 50%;\n",
              "      cursor: pointer;\n",
              "      display: none;\n",
              "      fill: #1967D2;\n",
              "      height: 32px;\n",
              "      padding: 0 0 0 0;\n",
              "      width: 32px;\n",
              "    }\n",
              "\n",
              "    .colab-df-convert:hover {\n",
              "      background-color: #E2EBFA;\n",
              "      box-shadow: 0px 1px 2px rgba(60, 64, 67, 0.3), 0px 1px 3px 1px rgba(60, 64, 67, 0.15);\n",
              "      fill: #174EA6;\n",
              "    }\n",
              "\n",
              "    [theme=dark] .colab-df-convert {\n",
              "      background-color: #3B4455;\n",
              "      fill: #D2E3FC;\n",
              "    }\n",
              "\n",
              "    [theme=dark] .colab-df-convert:hover {\n",
              "      background-color: #434B5C;\n",
              "      box-shadow: 0px 1px 3px 1px rgba(0, 0, 0, 0.15);\n",
              "      filter: drop-shadow(0px 1px 2px rgba(0, 0, 0, 0.3));\n",
              "      fill: #FFFFFF;\n",
              "    }\n",
              "  </style>\n",
              "\n",
              "      <script>\n",
              "        const buttonEl =\n",
              "          document.querySelector('#df-00f600a2-69d3-429f-9be4-50ed26400fbb button.colab-df-convert');\n",
              "        buttonEl.style.display =\n",
              "          google.colab.kernel.accessAllowed ? 'block' : 'none';\n",
              "\n",
              "        async function convertToInteractive(key) {\n",
              "          const element = document.querySelector('#df-00f600a2-69d3-429f-9be4-50ed26400fbb');\n",
              "          const dataTable =\n",
              "            await google.colab.kernel.invokeFunction('convertToInteractive',\n",
              "                                                     [key], {});\n",
              "          if (!dataTable) return;\n",
              "\n",
              "          const docLinkHtml = 'Like what you see? Visit the ' +\n",
              "            '<a target=\"_blank\" href=https://colab.research.google.com/notebooks/data_table.ipynb>data table notebook</a>'\n",
              "            + ' to learn more about interactive tables.';\n",
              "          element.innerHTML = '';\n",
              "          dataTable['output_type'] = 'display_data';\n",
              "          await google.colab.output.renderOutput(dataTable, element);\n",
              "          const docLink = document.createElement('div');\n",
              "          docLink.innerHTML = docLinkHtml;\n",
              "          element.appendChild(docLink);\n",
              "        }\n",
              "      </script>\n",
              "    </div>\n",
              "  </div>\n",
              "  "
            ],
            "text/plain": [
              "   Hannanum-기호 Hannanum-품사 Kkma-기호     Kkma-품사 Komoran-기호 Komoran-품사  \\\n",
              "0            E          어미      EC       연결 어미         EC      연결 어미   \n",
              "1           EC       연결 어미     ECD   의존적 연결 어미         EF      종결 어미   \n",
              "2           EF       종결 어미     ECE    대등 연결 어미         EP      선어말어미   \n",
              "3           EP       선어말어미     ECS   보조적 연결 어미        ETM  관형형 전성 어미   \n",
              "4           ET       전성 어미      EF       종결 어미        ETN  명사형 전성 어미   \n",
              "..         ...         ...     ...         ...        ...        ...   \n",
              "62           *           *     XPV      용언 접두사          *          *   \n",
              "63           *           *      XR          어근          *          *   \n",
              "64           *           *     XSA  형용사 파생 접미사          *          *   \n",
              "65           *           *     XSN    명사파생 접미사          *          *   \n",
              "66           *           *     XSV   동사 파생 접미사          *          *   \n",
              "\n",
              "         OKT-기호 OKT-품사  \n",
              "0     Adjective    형용사  \n",
              "1        Adverb     부사  \n",
              "2         Alpha    알파벳  \n",
              "3   Conjunction    접속사  \n",
              "4    Determiner    관형사  \n",
              "..          ...    ...  \n",
              "62            *      *  \n",
              "63            *      *  \n",
              "64            *      *  \n",
              "65            *      *  \n",
              "66            *      *  \n",
              "\n",
              "[67 rows x 8 columns]"
            ]
          },
          "execution_count": 116,
          "metadata": {},
          "output_type": "execute_result"
        }
      ]
    },
    {
      "cell_type": "code",
      "source": [
        "!pip install koreanize-matplotlib\n",
        "import koreanize_matplotlib"
      ],
      "metadata": {
        "colab": {
          "base_uri": "https://localhost:8080/"
        },
        "id": "e95ZA_HWZidU",
        "outputId": "03ac0142-4f7c-4d27-a2e9-7bd2033bb5ed"
      },
      "execution_count": 117,
      "outputs": [
        {
          "metadata": {
            "tags": null
          },
          "name": "stdout",
          "output_type": "stream",
          "text": [
            "Looking in indexes: https://pypi.org/simple, https://us-python.pkg.dev/colab-wheels/public/simple/\n",
            "Requirement already satisfied: koreanize-matplotlib in /usr/local/lib/python3.7/dist-packages (0.0.1)\n",
            "Requirement already satisfied: matplotlib in /usr/local/lib/python3.7/dist-packages (from koreanize-matplotlib) (3.2.2)\n",
            "Requirement already satisfied: kiwisolver>=1.0.1 in /usr/local/lib/python3.7/dist-packages (from matplotlib->koreanize-matplotlib) (1.4.4)\n",
            "Requirement already satisfied: cycler>=0.10 in /usr/local/lib/python3.7/dist-packages (from matplotlib->koreanize-matplotlib) (0.11.0)\n",
            "Requirement already satisfied: python-dateutil>=2.1 in /usr/local/lib/python3.7/dist-packages (from matplotlib->koreanize-matplotlib) (2.8.2)\n",
            "Requirement already satisfied: pyparsing!=2.0.4,!=2.1.2,!=2.1.6,>=2.0.1 in /usr/local/lib/python3.7/dist-packages (from matplotlib->koreanize-matplotlib) (3.0.9)\n",
            "Requirement already satisfied: numpy>=1.11 in /usr/local/lib/python3.7/dist-packages (from matplotlib->koreanize-matplotlib) (1.21.6)\n",
            "Requirement already satisfied: typing-extensions in /usr/local/lib/python3.7/dist-packages (from kiwisolver>=1.0.1->matplotlib->koreanize-matplotlib) (4.1.1)\n",
            "Requirement already satisfied: six>=1.5 in /usr/local/lib/python3.7/dist-packages (from python-dateutil>=2.1->matplotlib->koreanize-matplotlib) (1.15.0)\n"
          ]
        }
      ]
    },
    {
      "cell_type": "code",
      "source": [
        "from nltk import Text\n",
        "\n",
        "kolaw = Text(okt.nouns(c), name=\"kolaw\")\n",
        "kolaw.plot(30)\n",
        "plt.show()"
      ],
      "metadata": {
        "colab": {
          "base_uri": "https://localhost:8080/",
          "height": 306
        },
        "id": "XXmbogciZbh2",
        "outputId": "4435d2fd-1682-4df4-f7fd-ef1ac7a0c448"
      },
      "execution_count": 118,
      "outputs": [
        {
          "data": {
            "image/png": "[encoded data removed]",
            "text/plain": [
              "<Figure size 432x288 with 1 Axes>"
            ]
          },
          "metadata": {},
          "output_type": "display_data"
        }
      ]
    },
    {
      "cell_type": "code",
      "source": [
        "from wordcloud import WordCloud\n",
        "\n",
        "# 자신의 컴퓨터 환경에 맞는 한글 폰트 경로를 설정\n",
        "font_path = '/usr/share/fonts/truetype/nanum/NanumGothic.ttf'\n",
        "\n",
        "wc = WordCloud(width = 1000, height = 600, background_color=\"white\" , font_path=font_path)\n",
        "plt.imshow(wc.generate_from_frequencies(kolaw.vocab()))\n",
        "plt.axis(\"off\")\n",
        "plt.show()"
      ],
      "metadata": {
        "colab": {
          "base_uri": "https://localhost:8080/",
          "height": 232
        },
        "id": "mn4ETRCQZo_L",
        "outputId": "dd9f15bd-9be2-44d4-9235-a22f85cd7820"
      },
      "execution_count": 124,
      "outputs": [
        {
          "output_type": "display_data",
          "data": {
            "text/plain": [
              "<Figure size 432x288 with 1 Axes>"
            ],
            "image/png": "[encoded data removed]"
          },
          "metadata": {
            "needs_background": "light"
          }
        }
      ]
    },
    {
      "cell_type": "code",
      "source": [
        "WordCloud?"
      ],
      "metadata": {
        "id": "0aHBAVnVaVd4"
      },
      "execution_count": 120,
      "outputs": []
    },
    {
      "cell_type": "code",
      "source": [
        "import matplotlib\n",
        "[i for i in matplotlib.font_manager.findSystemFonts() if 'nanum' in i.lower()]"
      ],
      "metadata": {
        "colab": {
          "base_uri": "https://localhost:8080/"
        },
        "id": "MuCWkJLDaW-b",
        "outputId": "8647c42d-1363-4179-dba6-d9b0ca1bd80b"
      },
      "execution_count": 121,
      "outputs": [
        {
          "data": {
            "text/plain": [
              "['/usr/share/fonts/truetype/nanum/NanumSquareRoundB.ttf',\n",
              " '/usr/share/fonts/truetype/nanum/NanumSquareRoundR.ttf',\n",
              " '/usr/share/fonts/truetype/nanum/NanumSquareR.ttf',\n",
              " '/usr/share/fonts/truetype/nanum/NanumSquareB.ttf',\n",
              " '/usr/share/fonts/truetype/nanum/NanumMyeongjo.ttf',\n",
              " '/usr/share/fonts/truetype/nanum/NanumMyeongjoBold.ttf',\n",
              " '/usr/share/fonts/truetype/nanum/NanumGothic.ttf',\n",
              " '/usr/share/fonts/truetype/nanum/NanumGothicBold.ttf',\n",
              " '/usr/share/fonts/truetype/nanum/NanumBarunGothic.ttf',\n",
              " '/usr/share/fonts/truetype/nanum/NanumBarunGothicBold.ttf']"
            ]
          },
          "execution_count": 121,
          "metadata": {},
          "output_type": "execute_result"
        }
      ]
    },
    {
      "cell_type": "code",
      "source": [
        "koreanize_matplotlib?"
      ],
      "metadata": {
        "id": "j9jhogCQbBYg"
      },
      "execution_count": 122,
      "outputs": []
    },
    {
      "cell_type": "code",
      "source": [
        "# 한글폰트 설치\n",
        "\n",
        "!sudo apt-get install -y fonts-nanum\n",
        "!sudo fc-cache -fv\n",
        "!rm ~/.cache/matplotlib -rf"
      ],
      "metadata": {
        "colab": {
          "base_uri": "https://localhost:8080/"
        },
        "id": "55hzFjTrbEnX",
        "outputId": "5f2f4cb9-6612-42ac-90cd-d2db2bb6508c"
      },
      "execution_count": 123,
      "outputs": [
        {
          "metadata": {
            "tags": null
          },
          "name": "stdout",
          "output_type": "stream",
          "text": [
            "Reading package lists... Done\n",
            "Building dependency tree       \n",
            "Reading state information... Done\n",
            "fonts-nanum is already the newest version (20170925-1).\n",
            "The following package was automatically installed and is no longer required:\n",
            "  libnvidia-common-460\n",
            "Use 'sudo apt autoremove' to remove it.\n",
            "0 upgraded, 0 newly installed, 0 to remove and 5 not upgraded.\n",
            "/usr/share/fonts: caching, new cache contents: 0 fonts, 1 dirs\n",
            "/usr/share/fonts/truetype: caching, new cache contents: 0 fonts, 3 dirs\n",
            "/usr/share/fonts/truetype/humor-sans: caching, new cache contents: 1 fonts, 0 dirs\n",
            "/usr/share/fonts/truetype/liberation: caching, new cache contents: 16 fonts, 0 dirs\n",
            "/usr/share/fonts/truetype/nanum: caching, new cache contents: 10 fonts, 0 dirs\n",
            "/usr/local/share/fonts: caching, new cache contents: 0 fonts, 0 dirs\n",
            "/root/.local/share/fonts: skipping, no such directory\n",
            "/root/.fonts: skipping, no such directory\n",
            "/var/cache/fontconfig: cleaning cache directory\n",
            "/root/.cache/fontconfig: not cleaning non-existent cache directory\n",
            "/root/.fontconfig: not cleaning non-existent cache directory\n",
            "fc-cache: succeeded\n"
          ]
        }
      ]
    }
  ]
}