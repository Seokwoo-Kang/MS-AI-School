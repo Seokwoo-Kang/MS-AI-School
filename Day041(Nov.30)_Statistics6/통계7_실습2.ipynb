{
  "nbformat": 4,
  "nbformat_minor": 0,
  "metadata": {
    "colab": {
      "provenance": []
    },
    "kernelspec": {
      "name": "python3",
      "display_name": "Python 3"
    },
    "language_info": {
      "name": "python"
    }
  },
  "cells": [
    {
      "cell_type": "code",
      "source": [
        "!pip install koreanize-matplotlib\n",
        "import koreanize_matplotlib"
      ],
      "metadata": {
        "colab": {
          "base_uri": "https://localhost:8080/"
        },
        "id": "FhWinAKwjKo-",
        "outputId": "b8ca9b66-94c1-45a6-c585-67f9c4091fdb"
      },
      "execution_count": 1,
      "outputs": [
        {
          "output_type": "stream",
          "name": "stdout",
          "text": [
            "Looking in indexes: https://pypi.org/simple, https://us-python.pkg.dev/colab-wheels/public/simple/\n",
            "Collecting koreanize-matplotlib\n",
            "  Downloading koreanize_matplotlib-0.0.1-py3-none-any.whl (2.5 MB)\n",
            "\u001b[K     |████████████████████████████████| 2.5 MB 5.0 MB/s \n",
            "\u001b[?25hRequirement already satisfied: matplotlib in /usr/local/lib/python3.7/dist-packages (from koreanize-matplotlib) (3.2.2)\n",
            "Requirement already satisfied: cycler>=0.10 in /usr/local/lib/python3.7/dist-packages (from matplotlib->koreanize-matplotlib) (0.11.0)\n",
            "Requirement already satisfied: python-dateutil>=2.1 in /usr/local/lib/python3.7/dist-packages (from matplotlib->koreanize-matplotlib) (2.8.2)\n",
            "Requirement already satisfied: pyparsing!=2.0.4,!=2.1.2,!=2.1.6,>=2.0.1 in /usr/local/lib/python3.7/dist-packages (from matplotlib->koreanize-matplotlib) (3.0.9)\n",
            "Requirement already satisfied: kiwisolver>=1.0.1 in /usr/local/lib/python3.7/dist-packages (from matplotlib->koreanize-matplotlib) (1.4.4)\n",
            "Requirement already satisfied: numpy>=1.11 in /usr/local/lib/python3.7/dist-packages (from matplotlib->koreanize-matplotlib) (1.21.6)\n",
            "Requirement already satisfied: typing-extensions in /usr/local/lib/python3.7/dist-packages (from kiwisolver>=1.0.1->matplotlib->koreanize-matplotlib) (4.1.1)\n",
            "Requirement already satisfied: six>=1.5 in /usr/local/lib/python3.7/dist-packages (from python-dateutil>=2.1->matplotlib->koreanize-matplotlib) (1.15.0)\n",
            "Installing collected packages: koreanize-matplotlib\n",
            "Successfully installed koreanize-matplotlib-0.0.1\n"
          ]
        }
      ]
    },
    {
      "cell_type": "code",
      "execution_count": 2,
      "metadata": {
        "colab": {
          "base_uri": "https://localhost:8080/"
        },
        "id": "fVDcuatPcXyH",
        "outputId": "a494159c-004c-4c84-e4a2-e3f2b805bdee"
      },
      "outputs": [
        {
          "output_type": "stream",
          "name": "stdout",
          "text": [
            "'전력+사용량(용도별)_20221130163857.csv'   \u001b[0m\u001b[01;34msample_data\u001b[0m/\n"
          ]
        }
      ],
      "source": [
        "%ls"
      ]
    },
    {
      "cell_type": "code",
      "source": [
        "import numpy as np\n",
        "import pandas as pd\n",
        "import matplotlib.pyplot as plt"
      ],
      "metadata": {
        "id": "1CGAWhljehhd"
      },
      "execution_count": 3,
      "outputs": []
    },
    {
      "cell_type": "code",
      "source": [
        "use_elec_pd = pd.read_csv('전력+사용량(용도별)_20221130163857.csv', header=[0,1,2,3])"
      ],
      "metadata": {
        "id": "opy8-fyYelaF"
      },
      "execution_count": 4,
      "outputs": []
    },
    {
      "cell_type": "code",
      "source": [
        "columns = '소계\t 소계\t 소계\t 소계\t 전철\t 수도\t 사업자용\t 순수서비스\t 소계\t 농립어업\t 광업\t 제조업\t 소계\t 소계\t 소계\t 소계\t 전철\t 수도\t 사업자용\t 순수서비스\t 소계\t 농립어업\t 광업\t 제조업\t 소계\t 소계\t 소계\t 소계\t 전철\t 수도\t 사업자용\t 순수서비스\t 소계\t 농립어업\t 광업\t 제조업'.split('\\t ')"
      ],
      "metadata": {
        "id": "KRp4qUZifviL"
      },
      "execution_count": 5,
      "outputs": []
    },
    {
      "cell_type": "code",
      "source": [
        "columns = set([c[0] for idx, c in enumerate(use_elec_pd.columns) if idx>=3])\n",
        "columns"
      ],
      "metadata": {
        "colab": {
          "base_uri": "https://localhost:8080/"
        },
        "id": "vqC-DZBte2-I",
        "outputId": "d0d86387-5dc9-4939-c47b-fab0cfea223e"
      },
      "execution_count": 6,
      "outputs": [
        {
          "output_type": "execute_result",
          "data": {
            "text/plain": [
              "{'2021. 10', '2021. 11', '2021. 12'}"
            ]
          },
          "metadata": {},
          "execution_count": 6
        }
      ]
    },
    {
      "cell_type": "code",
      "source": [
        "total_list = [use_elec_pd[i]['합계']['소계']['소계'][0] for i in columns]"
      ],
      "metadata": {
        "id": "oUc8gcSVfM57"
      },
      "execution_count": 7,
      "outputs": []
    },
    {
      "cell_type": "code",
      "source": [
        "total_list"
      ],
      "metadata": {
        "colab": {
          "base_uri": "https://localhost:8080/"
        },
        "id": "gCeucf3bfl3p",
        "outputId": "1434e1d1-3676-418b-badf-b3a149516f6c"
      },
      "execution_count": 8,
      "outputs": [
        {
          "output_type": "execute_result",
          "data": {
            "text/plain": [
              "[3537141, 3963700, 3578614]"
            ]
          },
          "metadata": {},
          "execution_count": 8
        }
      ]
    },
    {
      "cell_type": "code",
      "source": [
        "from collections import defaultdict\n",
        "kind_elect = defaultdict(list)\n",
        "total = []\n",
        "index = []\n",
        "for date in columns:\n",
        "  index.append(date)\n",
        "  total.append(use_elec_pd[date]['합계']['소계']['소계'][0])\n",
        "  sec_columns = use_elec_pd[date]['합계'].columns\n",
        "  sec_columns = set([value[0] for idx,value in enumerate(sec_columns) if value!='소계'])\n",
        "  # print(sec_columns)\n",
        "  \n",
        "  for kind in sec_columns:\n",
        "    if kind != '소계':\n",
        "      kind_elect[kind].append(use_elec_pd[date]['합계'][kind]['소계'][0])"
      ],
      "metadata": {
        "id": "UUB9KTsBgH04"
      },
      "execution_count": 9,
      "outputs": []
    },
    {
      "cell_type": "code",
      "source": [
        "index, total, kind_elect"
      ],
      "metadata": {
        "colab": {
          "base_uri": "https://localhost:8080/"
        },
        "id": "HacLg_GOh1-h",
        "outputId": "40be767d-bc97-44ad-acab-e045ace3a689"
      },
      "execution_count": 10,
      "outputs": [
        {
          "output_type": "execute_result",
          "data": {
            "text/plain": [
              "(['2021. 11', '2021. 12', '2021. 10'],\n",
              " [3537141, 3963700, 3578614],\n",
              " defaultdict(list,\n",
              "             {'산업용': [115192, 128338, 110820],\n",
              "              '서비스업': [2050450, 2352648, 2107191],\n",
              "              '가정용': [1101163, 1146475, 1106205],\n",
              "              '공공용': [270336, 336239, 254397]}))"
            ]
          },
          "metadata": {},
          "execution_count": 10
        }
      ]
    },
    {
      "cell_type": "code",
      "source": [
        "import matplotlib.pyplot as plt\n",
        "plt.plot(total, label='total')\n",
        "for key, value in kind_elect.items():\n",
        "  plt.plot(value, label=key)\n",
        "plt.legend()\n",
        "plt.show()"
      ],
      "metadata": {
        "colab": {
          "base_uri": "https://localhost:8080/",
          "height": 274
        },
        "id": "ZLVHSLyjh5or",
        "outputId": "5303f8bb-5293-4aad-f811-2f2420a824cf"
      },
      "execution_count": 11,
      "outputs": [
        {
          "output_type": "display_data",
          "data": {
            "text/plain": [
              "<Figure size 432x288 with 1 Axes>"
            ],
            "image/png": "[encoded data removed]"
          },
          "metadata": {
            "needs_background": "light"
          }
        }
      ]
    }
  ]
}