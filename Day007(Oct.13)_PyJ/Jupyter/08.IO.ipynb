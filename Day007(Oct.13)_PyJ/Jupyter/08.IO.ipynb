{
 "cells": [
  {
   "cell_type": "code",
   "execution_count": 1,
   "id": "03764d8c",
   "metadata": {},
   "outputs": [
    {
     "name": "stdout",
     "output_type": "stream",
     "text": [
      "Hello World\n"
     ]
    }
   ],
   "source": [
    "print('Hello World')"
   ]
  },
  {
   "cell_type": "code",
   "execution_count": 2,
   "id": "bcbce457",
   "metadata": {},
   "outputs": [],
   "source": [
    "import sys"
   ]
  },
  {
   "cell_type": "code",
   "execution_count": 3,
   "id": "970358c3",
   "metadata": {},
   "outputs": [
    {
     "name": "stdout",
     "output_type": "stream",
     "text": [
      "Welcome to Python\n"
     ]
    }
   ],
   "source": [
    "print('Welcome to', 'Python')"
   ]
  },
  {
   "cell_type": "code",
   "execution_count": 4,
   "id": "406db923",
   "metadata": {},
   "outputs": [
    {
     "name": "stderr",
     "output_type": "stream",
     "text": [
      "Welcome to Python\n"
     ]
    }
   ],
   "source": [
    "print('Welcome to', 'Python', file=sys.stderr)"
   ]
  },
  {
   "cell_type": "code",
   "execution_count": 6,
   "id": "64434675",
   "metadata": {},
   "outputs": [],
   "source": [
    "f = open('test.txt','w') \n",
    "#기존에 없던 파일이라도 생성되며 쓰기모드로 생성됨"
   ]
  },
  {
   "cell_type": "code",
   "execution_count": 7,
   "id": "d72ae0a4",
   "metadata": {},
   "outputs": [],
   "source": [
    "print('file write', file=f) #file f에 file write을 출력\n",
    "f.close()"
   ]
  },
  {
   "cell_type": "markdown",
   "id": "39f6e3d4",
   "metadata": {},
   "source": [
    "세상은 리눅스로 돌아가고 있음\n",
    "리눅스에 대한 이해도가 중요함"
   ]
  },
  {
   "cell_type": "markdown",
   "id": "941d053a",
   "metadata": {},
   "source": [
    "## File IO\n",
    "file 입출력을 다루다 보면 print를 사용 할 수도 있지만\n",
    "open을 사용하는게 좋다."
   ]
  },
  {
   "cell_type": "code",
   "execution_count": 9,
   "id": "b0a50270",
   "metadata": {},
   "outputs": [],
   "source": [
    "f = open('test.txt','w')\n",
    "f.write('plow deep\\nwhile sluggards sleep')\n",
    "f.close()"
   ]
  },
  {
   "cell_type": "code",
   "execution_count": 15,
   "id": "deafb136",
   "metadata": {},
   "outputs": [],
   "source": [
    "f = open('test.txt', 'r')\n",
    "f.read()\n",
    "f.close()\n",
    "#'plow deep\\nwhile sluggards sleep' 출력된다"
   ]
  },
  {
   "cell_type": "code",
   "execution_count": null,
   "id": "f54692f8",
   "metadata": {},
   "outputs": [],
   "source": []
  }
 ],
 "metadata": {
  "kernelspec": {
   "display_name": "Python 3 (ipykernel)",
   "language": "python",
   "name": "python3"
  },
  "language_info": {
   "codemirror_mode": {
    "name": "ipython",
    "version": 3
   },
   "file_extension": ".py",
   "mimetype": "text/x-python",
   "name": "python",
   "nbconvert_exporter": "python",
   "pygments_lexer": "ipython3",
   "version": "3.9.12"
  }
 },
 "nbformat": 4,
 "nbformat_minor": 5
}
