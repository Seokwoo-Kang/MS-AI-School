{
 "cells": [
  {
   "cell_type": "code",
   "execution_count": 1,
   "id": "7b62db95",
   "metadata": {},
   "outputs": [
    {
     "ename": "ZeroDivisionError",
     "evalue": "division by zero",
     "output_type": "error",
     "traceback": [
      "\u001b[1;31m---------------------------------------------------------------------------\u001b[0m",
      "\u001b[1;31mZeroDivisionError\u001b[0m                         Traceback (most recent call last)",
      "Input \u001b[1;32mIn [1]\u001b[0m, in \u001b[0;36m<cell line: 1>\u001b[1;34m()\u001b[0m\n\u001b[1;32m----> 1\u001b[0m a \u001b[38;5;241m=\u001b[39m \u001b[38;5;241;43m12\u001b[39;49m\u001b[43m \u001b[49m\u001b[38;5;241;43m/\u001b[39;49m\u001b[43m \u001b[49m\u001b[38;5;241;43m0\u001b[39;49m\n",
      "\u001b[1;31mZeroDivisionError\u001b[0m: division by zero"
     ]
    }
   ],
   "source": [
    "a = 12 / 0"
   ]
  },
  {
   "cell_type": "code",
   "execution_count": 2,
   "id": "5cd67022",
   "metadata": {},
   "outputs": [
    {
     "name": "stdout",
     "output_type": "stream",
     "text": [
      "Error!!!\n"
     ]
    }
   ],
   "source": [
    "try:                \n",
    "    a = 12 / 0               #에러가 예상되는 코드 \n",
    "except:\n",
    "    print('Error!!!')        #에러시 프린트"
   ]
  },
  {
   "cell_type": "code",
   "execution_count": 3,
   "id": "56d41f3a",
   "metadata": {},
   "outputs": [],
   "source": [
    "try:                \n",
    "    a = 12 / 0               #에러가 예상되는 코드 \n",
    "except:\n",
    "    pass                     #에러 통과"
   ]
  },
  {
   "cell_type": "code",
   "execution_count": 4,
   "id": "b3001d49",
   "metadata": {},
   "outputs": [
    {
     "name": "stdout",
     "output_type": "stream",
     "text": [
      "에러의 원인은 division by zero\n"
     ]
    }
   ],
   "source": [
    "try:                \n",
    "    a = 12 / 0                #에러가 예상되는 코드 \n",
    "except Exception as e:        #에러의 원인을 리턴\n",
    "    print('에러의 원인은', e)  #에러의 원인을 프린트"
   ]
  },
  {
   "cell_type": "code",
   "execution_count": null,
   "id": "0cf8fb33",
   "metadata": {},
   "outputs": [],
   "source": []
  }
 ],
 "metadata": {
  "kernelspec": {
   "display_name": "Python 3.9.12 ('base')",
   "language": "python",
   "name": "python3"
  },
  "language_info": {
   "codemirror_mode": {
    "name": "ipython",
    "version": 3
   },
   "file_extension": ".py",
   "mimetype": "text/x-python",
   "name": "python",
   "nbconvert_exporter": "python",
   "pygments_lexer": "ipython3",
   "version": "3.9.12"
  },
  "vscode": {
   "interpreter": {
    "hash": "a077222d77dfe082b8f1dd562ad70e458ac2ab76993a0b248ab0476e32e9e8dd"
   }
  }
 },
 "nbformat": 4,
 "nbformat_minor": 5
}
