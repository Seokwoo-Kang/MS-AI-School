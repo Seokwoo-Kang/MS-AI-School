{
  "nbformat": 4,
  "nbformat_minor": 0,
  "metadata": {
    "colab": {
      "provenance": []
    },
    "kernelspec": {
      "name": "python3",
      "display_name": "Python 3"
    },
    "language_info": {
      "name": "python"
    }
  },
  "cells": [
    {
      "cell_type": "code",
      "execution_count": 1,
      "metadata": {
        "id": "T6ECmOR1v9wL"
      },
      "outputs": [],
      "source": [
        "import pandas as pd"
      ]
    },
    {
      "cell_type": "code",
      "source": [],
      "metadata": {
        "id": "L7gbvlonwDTB"
      },
      "execution_count": null,
      "outputs": []
    },
    {
      "cell_type": "code",
      "source": [],
      "metadata": {
        "id": "pz3jk4a6wDQc"
      },
      "execution_count": null,
      "outputs": []
    },
    {
      "cell_type": "code",
      "source": [],
      "metadata": {
        "id": "wxy43Ud3wDN3"
      },
      "execution_count": null,
      "outputs": []
    },
    {
      "cell_type": "code",
      "source": [],
      "metadata": {
        "id": "HVFAf45ywDLd"
      },
      "execution_count": null,
      "outputs": []
    },
    {
      "cell_type": "code",
      "source": [
        "# 시리즈(데이터묶음)"
      ],
      "metadata": {
        "id": "NXl3gdf5wDIm"
      },
      "execution_count": null,
      "outputs": []
    },
    {
      "cell_type": "code",
      "source": [
        "s.index.name = '지역구'"
      ],
      "metadata": {
        "id": "0MLWC0gZwDGB"
      },
      "execution_count": null,
      "outputs": []
    },
    {
      "cell_type": "code",
      "source": [
        "s"
      ],
      "metadata": {
        "id": "9Oc1ZRMNwDDN"
      },
      "execution_count": null,
      "outputs": []
    },
    {
      "cell_type": "code",
      "source": [
        "s1 = s/1000"
      ],
      "metadata": {
        "id": "wZVn_8XSwC7t"
      },
      "execution_count": null,
      "outputs": []
    },
    {
      "cell_type": "code",
      "source": [
        "s1.name ='농작물 생산량(k톤)'"
      ],
      "metadata": {
        "id": "s1Y0lKNPwMO5"
      },
      "execution_count": null,
      "outputs": []
    },
    {
      "cell_type": "code",
      "source": [
        "s1"
      ],
      "metadata": {
        "id": "VH8MgDygwMMs"
      },
      "execution_count": null,
      "outputs": []
    },
    {
      "cell_type": "code",
      "source": [
        "(s/4456952*100).round(2)"
      ],
      "metadata": {
        "id": "xDiuJK6iwMIz"
      },
      "execution_count": null,
      "outputs": []
    },
    {
      "cell_type": "code",
      "source": [
        "s"
      ],
      "metadata": {
        "id": "9b4tMhj3wMF3"
      },
      "execution_count": null,
      "outputs": []
    },
    {
      "cell_type": "code",
      "source": [
        "s[0], s['서울']"
      ],
      "metadata": {
        "id": "MYMZgtdQwxwF"
      },
      "execution_count": null,
      "outputs": []
    },
    {
      "cell_type": "code",
      "source": [
        "s[[0,1]]"
      ],
      "metadata": {
        "id": "mGtJdyd-wxt3"
      },
      "execution_count": null,
      "outputs": []
    },
    {
      "cell_type": "code",
      "source": [
        "s[[1,0]]"
      ],
      "metadata": {
        "id": "Qn-PTfGdwxqV"
      },
      "execution_count": null,
      "outputs": []
    },
    {
      "cell_type": "code",
      "source": [
        "s[['부산','서울']]"
      ],
      "metadata": {
        "id": "01ZFtUsCwxen"
      },
      "execution_count": null,
      "outputs": []
    },
    {
      "cell_type": "code",
      "source": [
        "# 데이터를 분석하는데 있어서 필요한 데이터를 조건으로 가져올수도있다\n",
        "s[(s>10000) & (s<20000)]"
      ],
      "metadata": {
        "id": "SM5eAbRZxHHj"
      },
      "execution_count": null,
      "outputs": []
    },
    {
      "cell_type": "code",
      "source": [
        "s[(s/4456952*100)>0.5]"
      ],
      "metadata": {
        "id": "o_OwcF3lxHFN"
      },
      "execution_count": null,
      "outputs": []
    },
    {
      "cell_type": "code",
      "source": [
        "# 슬라이싱 이용\n",
        "# 인덱스 이용\n",
        "s[1:3]"
      ],
      "metadata": {
        "id": "JmviQA1UxHDA"
      },
      "execution_count": null,
      "outputs": []
    },
    {
      "cell_type": "code",
      "source": [
        "# 키값 이용\n",
        "s['서울':'대구']"
      ],
      "metadata": {
        "id": "pSBqfbM4xG-x"
      },
      "execution_count": null,
      "outputs": []
    },
    {
      "cell_type": "code",
      "source": [
        "s"
      ],
      "metadata": {
        "id": "hnk7i3RgyQDM"
      },
      "execution_count": null,
      "outputs": []
    },
    {
      "cell_type": "code",
      "source": [
        "s.서울"
      ],
      "metadata": {
        "id": "KEZcouHxyP8u"
      },
      "execution_count": null,
      "outputs": []
    },
    {
      "cell_type": "code",
      "source": [
        "d1 = {'서울':1, '부산':2}\n",
        "pd.Series(d1)"
      ],
      "metadata": {
        "id": "msoOFA4ezWrC"
      },
      "execution_count": null,
      "outputs": []
    },
    {
      "cell_type": "code",
      "source": [
        "for k,v in s.items():\n",
        "  print(k,v)"
      ],
      "metadata": {
        "id": "q_sSzCi0zWor"
      },
      "execution_count": null,
      "outputs": []
    },
    {
      "cell_type": "code",
      "source": [
        "print('서울' in s.keys())\n",
        "'서울' in s"
      ],
      "metadata": {
        "id": "RESBoy8_zWhL"
      },
      "execution_count": null,
      "outputs": []
    },
    {
      "cell_type": "code",
      "source": [
        "s20 = pd.Series([628,11075,56913,15695], index=['서울','부산','인천','대구'])"
      ],
      "metadata": {
        "id": "xYTlB07Jz_f8"
      },
      "execution_count": null,
      "outputs": []
    },
    {
      "cell_type": "code",
      "source": [
        "s21 - s20"
      ],
      "metadata": {
        "id": "ShvZiSDrz_dZ"
      },
      "execution_count": null,
      "outputs": []
    },
    {
      "cell_type": "code",
      "source": [
        "s20 = pd.Series([628,11075,56913,15695], index=['제주도','부산','인천','대구'])"
      ],
      "metadata": {
        "id": "4DOgEKAVz_a8"
      },
      "execution_count": 1,
      "outputs": []
    },
    {
      "cell_type": "code",
      "source": [
        "s_sub = s21 - s20"
      ],
      "metadata": {
        "id": "BL9aqynXz_Uu"
      },
      "execution_count": null,
      "outputs": []
    },
    {
      "cell_type": "code",
      "source": [
        "import numpy as np\n",
        "type(np.nan)"
      ],
      "metadata": {
        "id": "oyqpA7Sn0u8W"
      },
      "execution_count": null,
      "outputs": []
    },
    {
      "cell_type": "code",
      "source": [
        "!python --version"
      ],
      "metadata": {
        "id": "HveqbV2S0u6G"
      },
      "execution_count": null,
      "outputs": []
    },
    {
      "cell_type": "code",
      "source": [
        "d1 = {'서울':1,'부산':2,'제주도':123123}"
      ],
      "metadata": {
        "id": "lEsBTHvC0u3s"
      },
      "execution_count": null,
      "outputs": []
    },
    {
      "cell_type": "code",
      "source": [
        "s_sub # nan이 존재하면 데이터 타입을 바꿀수없다."
      ],
      "metadata": {
        "id": "BPAv_Dbg0uxF"
      },
      "execution_count": null,
      "outputs": []
    },
    {
      "cell_type": "code",
      "source": [
        "s_sub.astype(int)"
      ],
      "metadata": {
        "id": "zgDyNkGG4Bdt"
      },
      "execution_count": null,
      "outputs": []
    },
    {
      "cell_type": "code",
      "source": [
        "s21.sub(s20, fill_value=0)"
      ],
      "metadata": {
        "id": "uXIH3Gzk4J2M"
      },
      "execution_count": null,
      "outputs": []
    },
    {
      "cell_type": "code",
      "source": [
        "s_sub = s21.sub(s20, fill_value=0)"
      ],
      "metadata": {
        "id": "LuEz8Ppo4rvf"
      },
      "execution_count": null,
      "outputs": []
    },
    {
      "cell_type": "code",
      "source": [
        "s_sub.astype(int)"
      ],
      "metadata": {
        "id": "jNPd-e5w4uRU"
      },
      "execution_count": null,
      "outputs": []
    },
    {
      "cell_type": "code",
      "source": [
        "s20"
      ],
      "metadata": {
        "id": "kd3Kx8Kb4Jzu"
      },
      "execution_count": null,
      "outputs": []
    },
    {
      "cell_type": "code",
      "source": [
        "s21"
      ],
      "metadata": {
        "id": "8C1KcRZ64JsO"
      },
      "execution_count": null,
      "outputs": []
    },
    {
      "cell_type": "code",
      "source": [
        "s_sub2 =s21.sub(s20)"
      ],
      "metadata": {
        "id": "vZHsrKml4Z1A"
      },
      "execution_count": null,
      "outputs": []
    },
    {
      "cell_type": "code",
      "source": [
        "s_sub2\n",
        "# 보간법을 이용해서 중간 nan값을 저장하는방법이있으며 결측치들을 채워서 데이터를 다루는데 문제가 없게 만드는 과정을 전처리라고 한다."
      ],
      "metadata": {
        "id": "F1f3htAv4ZwS"
      },
      "execution_count": null,
      "outputs": []
    },
    {
      "cell_type": "code",
      "source": [
        "s_sub2.notnull()"
      ],
      "metadata": {
        "id": "3Y5JCDI44Zt5"
      },
      "execution_count": null,
      "outputs": []
    },
    {
      "cell_type": "code",
      "source": [
        "s_sub2.fillna(0)"
      ],
      "metadata": {
        "id": "sbj1fEZh4ZmJ"
      },
      "execution_count": null,
      "outputs": []
    },
    {
      "cell_type": "code",
      "source": [
        "s20 = pd.Series([628,11075,56913,15695], index=['서울','부산','인천','대구'])"
      ],
      "metadata": {
        "id": "-SWfDrlq5pKP"
      },
      "execution_count": null,
      "outputs": []
    },
    {
      "cell_type": "code",
      "source": [
        "s21"
      ],
      "metadata": {
        "id": "B8_gWEE35pHz"
      },
      "execution_count": null,
      "outputs": []
    },
    {
      "cell_type": "code",
      "source": [
        "s20"
      ],
      "metadata": {
        "id": "1hOw1i6c5pFc"
      },
      "execution_count": null,
      "outputs": []
    },
    {
      "cell_type": "code",
      "source": [
        "# 증감 확인\n",
        "rs = ((s21 - s20) / s20 *100).round(2)"
      ],
      "metadata": {
        "id": "izIorW_j5pA2"
      },
      "execution_count": null,
      "outputs": []
    },
    {
      "cell_type": "code",
      "source": [
        "rs"
      ],
      "metadata": {
        "id": "WoOqAmqh5s71"
      },
      "execution_count": null,
      "outputs": []
    },
    {
      "cell_type": "code",
      "source": [
        "# 수정\n",
        "rs['서울'] = 0"
      ],
      "metadata": {
        "id": "sRpLjRUM5s5S"
      },
      "execution_count": null,
      "outputs": []
    },
    {
      "cell_type": "code",
      "source": [
        "rs[0] = 123"
      ],
      "metadata": {
        "id": "UBsDOAVR5s29"
      },
      "execution_count": null,
      "outputs": []
    },
    {
      "cell_type": "code",
      "source": [
        "rs"
      ],
      "metadata": {
        "id": "gPk8Ww785s0X"
      },
      "execution_count": null,
      "outputs": []
    },
    {
      "cell_type": "code",
      "source": [
        "del rs['대구']"
      ],
      "metadata": {
        "id": "WOZr1-1s5sxs"
      },
      "execution_count": null,
      "outputs": []
    },
    {
      "cell_type": "code",
      "source": [
        "del rs['서울']"
      ],
      "metadata": {
        "id": "9epsCr6u5su_"
      },
      "execution_count": null,
      "outputs": []
    },
    {
      "cell_type": "code",
      "source": [
        "rs"
      ],
      "metadata": {
        "id": "A6ZlL1CF5ssh"
      },
      "execution_count": null,
      "outputs": []
    },
    {
      "cell_type": "code",
      "source": [
        "rs['서울'] = 77.71"
      ],
      "metadata": {
        "id": "sznnmxal6ijB"
      },
      "execution_count": null,
      "outputs": []
    },
    {
      "cell_type": "code",
      "source": [
        "rs"
      ],
      "metadata": {
        "id": "mWGCIlQN6igd"
      },
      "execution_count": null,
      "outputs": []
    },
    {
      "cell_type": "code",
      "source": [
        "rs['대구'] = 6.40"
      ],
      "metadata": {
        "id": "yfdKNbHV6idp"
      },
      "execution_count": null,
      "outputs": []
    },
    {
      "cell_type": "code",
      "source": [
        "rs"
      ],
      "metadata": {
        "id": "_eGN2SZr6ia7"
      },
      "execution_count": null,
      "outputs": []
    },
    {
      "cell_type": "code",
      "source": [
        "import random"
      ],
      "metadata": {
        "id": "70aVaGfj6iTx"
      },
      "execution_count": 3,
      "outputs": []
    },
    {
      "cell_type": "code",
      "source": [
        "random.randint(0,100)"
      ],
      "metadata": {
        "colab": {
          "base_uri": "https://localhost:8080/"
        },
        "id": "40ntQ5y563RN",
        "outputId": "a4b59559-a42c-44fe-94a1-b4018207720f"
      },
      "execution_count": 5,
      "outputs": [
        {
          "output_type": "execute_result",
          "data": {
            "text/plain": [
              "93"
            ]
          },
          "metadata": {},
          "execution_count": 5
        }
      ]
    },
    {
      "cell_type": "code",
      "source": [
        "key100 = random.sample(list(range(1000)), 100)\n",
        "# pd.Series() 크기가 100\n",
        "# 키값 100 밸류값 100\n",
        "key80 = random.sample(list(range(1000)), 80)\n",
        "value100 = random.sample(list(range(1000)), 100)\n",
        "value80 = random.sample(list(range(1000)), 80)\n",
        "# sample은 중복 없음\n",
        "\n",
        "s100 = pd.Series(value100, index=key100)\n",
        "s80 = pd.Series(value80, index=key80)"
      ],
      "metadata": {
        "id": "9vxsKRDy63Oh"
      },
      "execution_count": 7,
      "outputs": []
    },
    {
      "cell_type": "code",
      "source": [
        "s_100_80_mul = s100.sub(80)"
      ],
      "metadata": {
        "id": "ryV47r9A-68k"
      },
      "execution_count": null,
      "outputs": []
    },
    {
      "cell_type": "code",
      "source": [],
      "metadata": {
        "id": "ah4NQqef-6xP"
      },
      "execution_count": null,
      "outputs": []
    },
    {
      "cell_type": "code",
      "source": [
        "s100 - s80"
      ],
      "metadata": {
        "colab": {
          "base_uri": "https://localhost:8080/"
        },
        "id": "hagTRleE63FQ",
        "outputId": "a20d474a-9668-4c11-a957-8dafb26ad0c1"
      },
      "execution_count": 8,
      "outputs": [
        {
          "output_type": "execute_result",
          "data": {
            "text/plain": [
              "0     NaN\n",
              "8     NaN\n",
              "10    NaN\n",
              "18    NaN\n",
              "22    NaN\n",
              "       ..\n",
              "971   NaN\n",
              "973   NaN\n",
              "980   NaN\n",
              "991   NaN\n",
              "997   NaN\n",
              "Length: 174, dtype: float64"
            ]
          },
          "metadata": {},
          "execution_count": 8
        }
      ]
    },
    {
      "cell_type": "code",
      "source": [
        "s_100_80_sub = s100- s80"
      ],
      "metadata": {
        "id": "GZeTmFid8L1e"
      },
      "execution_count": 10,
      "outputs": []
    },
    {
      "cell_type": "code",
      "source": [
        "for k,v in s_100_80_sub.notnull().items():\n",
        "  if v:\n",
        "    print(k,v)"
      ],
      "metadata": {
        "colab": {
          "base_uri": "https://localhost:8080/"
        },
        "id": "_0gKjUJF8TmI",
        "outputId": "65e09b1c-a7f1-4e97-9500-543e0ae10680"
      },
      "execution_count": 11,
      "outputs": [
        {
          "output_type": "stream",
          "name": "stdout",
          "text": [
            "437 True\n",
            "628 True\n",
            "832 True\n",
            "879 True\n",
            "944 True\n",
            "948 True\n"
          ]
        }
      ]
    },
    {
      "cell_type": "code",
      "source": [
        "s_100_80_sub[437]"
      ],
      "metadata": {
        "colab": {
          "base_uri": "https://localhost:8080/"
        },
        "id": "RXiUi4wJ8TjI",
        "outputId": "21923d49-2fc3-4e38-b65a-18258655cb2e"
      },
      "execution_count": 12,
      "outputs": [
        {
          "output_type": "execute_result",
          "data": {
            "text/plain": [
              "-7.0"
            ]
          },
          "metadata": {},
          "execution_count": 12
        }
      ]
    },
    {
      "cell_type": "code",
      "source": [
        "s100[]"
      ],
      "metadata": {
        "id": "6x0o3FaS8TdC"
      },
      "execution_count": null,
      "outputs": []
    }
  ]
}