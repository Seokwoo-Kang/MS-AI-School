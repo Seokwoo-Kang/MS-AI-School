{
 "cells": [
  {
   "cell_type": "code",
   "execution_count": 1,
   "id": "bfbc708a",
   "metadata": {},
   "outputs": [
    {
     "name": "stdout",
     "output_type": "stream",
     "text": [
      "Hello World!\n"
     ]
    }
   ],
   "source": [
    "print('Hello World!')"
   ]
  },
  {
   "cell_type": "code",
   "execution_count": 27,
   "id": "682ce080",
   "metadata": {},
   "outputs": [
    {
     "name": "stdout",
     "output_type": "stream",
     "text": [
      "Hello \"안녕하세요\"\n"
     ]
    }
   ],
   "source": [
    "print('Hello \"안녕하세요\"')"
   ]
  },
  {
   "cell_type": "code",
   "execution_count": 26,
   "id": "4eed94a0",
   "metadata": {},
   "outputs": [
    {
     "name": "stdout",
     "output_type": "stream",
     "text": [
      "Hello '안녕하세요'\n"
     ]
    }
   ],
   "source": [
    "print(\"Hello '안녕하세요'\")"
   ]
  },
  {
   "cell_type": "code",
   "execution_count": 25,
   "id": "e7e0ce9d",
   "metadata": {},
   "outputs": [
    {
     "name": "stdout",
     "output_type": "stream",
     "text": [
      "안녕 하세요 반갑습니다.\n"
     ]
    }
   ],
   "source": [
    "print('안녕','하세요','반갑습니다.')"
   ]
  },
  {
   "cell_type": "code",
   "execution_count": 24,
   "id": "906f8ffc",
   "metadata": {},
   "outputs": [
    {
     "name": "stdout",
     "output_type": "stream",
     "text": [
      "안녕하세요반갑습니다.\n"
     ]
    }
   ],
   "source": [
    "print('안녕'+'하세요'+'반갑습니다.')"
   ]
  },
  {
   "cell_type": "code",
   "execution_count": 23,
   "id": "a01fe19d",
   "metadata": {},
   "outputs": [
    {
     "name": "stdout",
     "output_type": "stream",
     "text": [
      "\n",
      "태양을 향해서라\n",
      "그리하면 너는 그림자를 볼 수 없을 것이다.\n",
      "\n",
      "    -헬렌켈러\n",
      "\n"
     ]
    }
   ],
   "source": [
    "print(\"\"\"\n",
    "태양을 향해서라\n",
    "그리하면 너는 그림자를 볼 수 없을 것이다.\n",
    "\n",
    "    -헬렌켈러\n",
    "\"\"\")"
   ]
  },
  {
   "cell_type": "code",
   "execution_count": 22,
   "id": "c0075489",
   "metadata": {},
   "outputs": [
    {
     "name": "stdout",
     "output_type": "stream",
     "text": [
      "Hello \n",
      " nice to meet you ^^\n"
     ]
    }
   ],
   "source": [
    "print('Hello \\n nice to meet you ^^')"
   ]
  },
  {
   "cell_type": "code",
   "execution_count": 21,
   "id": "b45c6791",
   "metadata": {},
   "outputs": [
    {
     "name": "stdout",
     "output_type": "stream",
     "text": [
      "a=123 b=안녕하세요\n"
     ]
    }
   ],
   "source": [
    "a = 123\n",
    "b = '안녕하세요'\n",
    "\n",
    "print('a={} b={}'.format(a,b))"
   ]
  },
  {
   "cell_type": "code",
   "execution_count": 20,
   "id": "4b29876e",
   "metadata": {},
   "outputs": [
    {
     "name": "stdout",
     "output_type": "stream",
     "text": [
      "a=123 b=안녕하세요\n"
     ]
    }
   ],
   "source": [
    "a = 123\n",
    "b = '안녕하세요'\n",
    "\n",
    "print(f'a={a} b={b}')"
   ]
  },
  {
   "cell_type": "code",
   "execution_count": null,
   "id": "69df4ac3",
   "metadata": {},
   "outputs": [],
   "source": []
  }
 ],
 "metadata": {
  "kernelspec": {
   "display_name": "Python 3 (ipykernel)",
   "language": "python",
   "name": "python3"
  },
  "language_info": {
   "codemirror_mode": {
    "name": "ipython",
    "version": 3
   },
   "file_extension": ".py",
   "mimetype": "text/x-python",
   "name": "python",
   "nbconvert_exporter": "python",
   "pygments_lexer": "ipython3",
   "version": "3.9.12"
  }
 },
 "nbformat": 4,
 "nbformat_minor": 5
}
