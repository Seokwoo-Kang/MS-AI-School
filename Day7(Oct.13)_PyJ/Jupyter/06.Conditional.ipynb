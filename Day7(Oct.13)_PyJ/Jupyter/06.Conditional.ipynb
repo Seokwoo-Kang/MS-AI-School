{
 "cells": [
  {
   "cell_type": "code",
   "execution_count": 8,
   "id": "f511e53b",
   "metadata": {},
   "outputs": [],
   "source": [
    "import requests #import: request 패키지 불러오기"
   ]
  },
  {
   "cell_type": "code",
   "execution_count": 2,
   "id": "73877370",
   "metadata": {},
   "outputs": [
    {
     "data": {
      "text/plain": [
       "<Response [200]>"
      ]
     },
     "execution_count": 2,
     "metadata": {},
     "output_type": "execute_result"
    }
   ],
   "source": [
    "requests.get(\"http://www.naver.com\") #성공적"
   ]
  },
  {
   "cell_type": "code",
   "execution_count": 4,
   "id": "0b04c0d4",
   "metadata": {},
   "outputs": [
    {
     "data": {
      "text/plain": [
       "<Response [404]>"
      ]
     },
     "execution_count": 4,
     "metadata": {},
     "output_type": "execute_result"
    }
   ],
   "source": [
    "requests.get(\"http://www.naver.com/abab\")"
   ]
  },
  {
   "cell_type": "markdown",
   "id": "437f70f4",
   "metadata": {},
   "source": [
    "페이지 내에 존재하지않을때"
   ]
  },
  {
   "cell_type": "markdown",
   "id": "5b639345",
   "metadata": {},
   "source": [
    "<Response [500]> 서버내의 문제가 발생했을때"
   ]
  },
  {
   "cell_type": "code",
   "execution_count": 5,
   "id": "9e592072",
   "metadata": {},
   "outputs": [],
   "source": [
    "response = requests.get(\"http://www.naver.com\")"
   ]
  },
  {
   "cell_type": "code",
   "execution_count": null,
   "id": "8faacdde",
   "metadata": {},
   "outputs": [],
   "source": [
    "response.text"
   ]
  },
  {
   "cell_type": "code",
   "execution_count": null,
   "id": "7784f6f0",
   "metadata": {},
   "outputs": [],
   "source": [
    "requests.get(\"http://www.naver.com\").text #하나의 명령어로 실행"
   ]
  },
  {
   "cell_type": "code",
   "execution_count": 9,
   "id": "de191a71",
   "metadata": {},
   "outputs": [
    {
     "name": "stdout",
     "output_type": "stream",
     "text": [
      "a와 b의 값이 같습니다.\n"
     ]
    }
   ],
   "source": [
    "a = 1\n",
    "b = 1\n",
    "\n",
    "if a==b:\n",
    "    print('a와 b의 값이 같습니다.')\n",
    "if a!=b:\n",
    "    print('a와 b의 값이 다릅니다.') "
   ]
  },
  {
   "cell_type": "code",
   "execution_count": 10,
   "id": "78f0f055",
   "metadata": {},
   "outputs": [
    {
     "name": "stdout",
     "output_type": "stream",
     "text": [
      "a와 b의 값이 같습니다.\n"
     ]
    }
   ],
   "source": [
    "a = 1\n",
    "b = 1\n",
    "\n",
    "if a==b:\n",
    "    print('a와 b의 값이 같습니다.')\n",
    "else:\n",
    "    print('a와 b의 값이 다릅니다.') "
   ]
  },
  {
   "cell_type": "code",
   "execution_count": 11,
   "id": "f23ce665",
   "metadata": {},
   "outputs": [
    {
     "name": "stdout",
     "output_type": "stream",
     "text": [
      "a는 b보다 작습니다.\n"
     ]
    }
   ],
   "source": [
    "a = 1\n",
    "b = 2\n",
    "\n",
    "if a==b:\n",
    "    print('a와 b의 값이 같습니다')\n",
    "elif a < b:    # elif 는 eles if의 파이썬\n",
    "    print('a는 b보다 작습니다.')\n",
    "else:\n",
    "    print('a는 b보다 큽니다')"
   ]
  },
  {
   "cell_type": "code",
   "execution_count": null,
   "id": "36e774c4",
   "metadata": {},
   "outputs": [],
   "source": []
  }
 ],
 "metadata": {
  "kernelspec": {
   "display_name": "Python 3 (ipykernel)",
   "language": "python",
   "name": "python3"
  },
  "language_info": {
   "codemirror_mode": {
    "name": "ipython",
    "version": 3
   },
   "file_extension": ".py",
   "mimetype": "text/x-python",
   "name": "python",
   "nbconvert_exporter": "python",
   "pygments_lexer": "ipython3",
   "version": "3.9.12"
  }
 },
 "nbformat": 4,
 "nbformat_minor": 5
}
