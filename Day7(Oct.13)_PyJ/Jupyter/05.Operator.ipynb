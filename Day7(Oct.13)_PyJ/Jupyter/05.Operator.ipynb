{
 "cells": [
  {
   "cell_type": "code",
   "execution_count": 1,
   "id": "97e30535",
   "metadata": {},
   "outputs": [
    {
     "name": "stdout",
     "output_type": "stream",
     "text": [
      "30\n",
      "-10\n",
      "200\n",
      "0.5\n"
     ]
    }
   ],
   "source": [
    "print(10 + 20)\n",
    "print(10 - 20)\n",
    "print(10 * 20)\n",
    "print(10 / 20)"
   ]
  },
  {
   "cell_type": "code",
   "execution_count": 2,
   "id": "c7fbc414",
   "metadata": {},
   "outputs": [
    {
     "name": "stdout",
     "output_type": "stream",
     "text": [
      "100\n",
      "1000\n",
      "10000\n"
     ]
    }
   ],
   "source": [
    "print(10**2) # 제곱\n",
    "print(10**3)\n",
    "print(10**4)"
   ]
  },
  {
   "cell_type": "code",
   "execution_count": 3,
   "id": "ffb0dd87",
   "metadata": {},
   "outputs": [
    {
     "name": "stdout",
     "output_type": "stream",
     "text": [
      "8\n",
      "9\n",
      "14\n"
     ]
    }
   ],
   "source": [
    "print(10^2)\n",
    "print(10^3)\n",
    "print(10^4)"
   ]
  },
  {
   "cell_type": "markdown",
   "id": "f87f11c1",
   "metadata": {},
   "source": [
    "num^num 의미 공부해보기"
   ]
  },
  {
   "cell_type": "code",
   "execution_count": 4,
   "id": "636ebff7",
   "metadata": {},
   "outputs": [
    {
     "name": "stdout",
     "output_type": "stream",
     "text": [
      "6\n",
      "4\n"
     ]
    }
   ],
   "source": [
    "print(40 // 6) # 몫 표현\n",
    "print(40 % 6)  # 나머지 표현"
   ]
  },
  {
   "cell_type": "code",
   "execution_count": 10,
   "id": "df3545d2",
   "metadata": {},
   "outputs": [
    {
     "name": "stdout",
     "output_type": "stream",
     "text": [
      "0\n",
      "1\n",
      "1\n",
      "1\n",
      "False\n",
      "True\n",
      "True\n",
      "True\n",
      "False\n",
      "False\n",
      "False\n",
      "True\n"
     ]
    }
   ],
   "source": [
    "print(0 or 0)\n",
    "print(0 or 1)\n",
    "print(1 or 0)\n",
    "print(1 or 1)\n",
    "print(False or False)\n",
    "print(False or True)\n",
    "print(True or False)\n",
    "print(True or True)\n",
    "print(False and False)\n",
    "print(False and True)\n",
    "print(True and False)\n",
    "print(True and True)"
   ]
  },
  {
   "cell_type": "code",
   "execution_count": 9,
   "id": "68191a58",
   "metadata": {},
   "outputs": [
    {
     "name": "stdout",
     "output_type": "stream",
     "text": [
      "False\n"
     ]
    }
   ],
   "source": [
    "print(not True)"
   ]
  },
  {
   "cell_type": "code",
   "execution_count": 13,
   "id": "341cd142",
   "metadata": {},
   "outputs": [
    {
     "name": "stdout",
     "output_type": "stream",
     "text": [
      "True\n",
      "True\n",
      "True\n",
      "False\n",
      "True\n",
      "False\n",
      "True\n"
     ]
    }
   ],
   "source": [
    "print(10==10)\n",
    "print(10>=10)\n",
    "print(10<=10)\n",
    "print(10 < 5)\n",
    "print(10 > 5)\n",
    "print(10!=10) # 10은 10이 아니다\n",
    "print(10!=1)"
   ]
  },
  {
   "cell_type": "code",
   "execution_count": 19,
   "id": "af3ef564",
   "metadata": {},
   "outputs": [],
   "source": [
    "# in 연산자\n",
    "\n",
    "a_list = ['a', 2, 'hello', 3]"
   ]
  },
  {
   "cell_type": "code",
   "execution_count": 20,
   "id": "1431e547",
   "metadata": {},
   "outputs": [
    {
     "name": "stdout",
     "output_type": "stream",
     "text": [
      "True\n",
      "False\n",
      "True\n",
      "True\n"
     ]
    }
   ],
   "source": [
    "print('a' in a_list)\n",
    "print(1 in a_list)\n",
    "print('hello' in a_list)"
   ]
  },
  {
   "cell_type": "code",
   "execution_count": null,
   "id": "ab2d6ed3",
   "metadata": {},
   "outputs": [],
   "source": []
  }
 ],
 "metadata": {
  "kernelspec": {
   "display_name": "Python 3 (ipykernel)",
   "language": "python",
   "name": "python3"
  },
  "language_info": {
   "codemirror_mode": {
    "name": "ipython",
    "version": 3
   },
   "file_extension": ".py",
   "mimetype": "text/x-python",
   "name": "python",
   "nbconvert_exporter": "python",
   "pygments_lexer": "ipython3",
   "version": "3.9.12"
  }
 },
 "nbformat": 4,
 "nbformat_minor": 5
}
