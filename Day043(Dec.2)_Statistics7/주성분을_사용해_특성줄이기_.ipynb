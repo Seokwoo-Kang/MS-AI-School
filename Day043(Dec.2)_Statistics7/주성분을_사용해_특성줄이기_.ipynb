{
  "nbformat": 4,
  "nbformat_minor": 0,
  "metadata": {
    "colab": {
      "provenance": []
    },
    "kernelspec": {
      "name": "python3",
      "display_name": "Python 3"
    },
    "language_info": {
      "name": "python"
    }
  },
  "cells": [
    {
      "cell_type": "code",
      "execution_count": 1,
      "metadata": {
        "id": "qOja1j77DHTd"
      },
      "outputs": [],
      "source": [
        "# 주성분을 사용해 특성 줄이기\n",
        "# 사이킷런 손글씨 데이터를 활용하여 특성 행렬을 표준화 처리 및 주성분 특성 줄이기\n",
        "\n",
        "from sklearn.preprocessing import StandardScaler\n",
        "from sklearn.decomposition import PCA\n",
        "from sklearn import datasets"
      ]
    },
    {
      "cell_type": "code",
      "source": [
        "print(digits)"
      ],
      "metadata": {
        "colab": {
          "base_uri": "https://localhost:8080/"
        },
        "id": "X6tqkcwUFKKe",
        "outputId": "d37a1262-2c8c-41ca-f618-c594cb8b1fc8"
      },
      "execution_count": 5,
      "outputs": [
        {
          "output_type": "stream",
          "name": "stdout",
          "text": [
            "{'data': array([[ 0.,  0.,  5., ...,  0.,  0.,  0.],\n",
            "       [ 0.,  0.,  0., ..., 10.,  0.,  0.],\n",
            "       [ 0.,  0.,  0., ..., 16.,  9.,  0.],\n",
            "       ...,\n",
            "       [ 0.,  0.,  1., ...,  6.,  0.,  0.],\n",
            "       [ 0.,  0.,  2., ..., 12.,  0.,  0.],\n",
            "       [ 0.,  0., 10., ..., 12.,  1.,  0.]]), 'target': array([0, 1, 2, ..., 8, 9, 8]), 'frame': None, 'feature_names': ['pixel_0_0', 'pixel_0_1', 'pixel_0_2', 'pixel_0_3', 'pixel_0_4', 'pixel_0_5', 'pixel_0_6', 'pixel_0_7', 'pixel_1_0', 'pixel_1_1', 'pixel_1_2', 'pixel_1_3', 'pixel_1_4', 'pixel_1_5', 'pixel_1_6', 'pixel_1_7', 'pixel_2_0', 'pixel_2_1', 'pixel_2_2', 'pixel_2_3', 'pixel_2_4', 'pixel_2_5', 'pixel_2_6', 'pixel_2_7', 'pixel_3_0', 'pixel_3_1', 'pixel_3_2', 'pixel_3_3', 'pixel_3_4', 'pixel_3_5', 'pixel_3_6', 'pixel_3_7', 'pixel_4_0', 'pixel_4_1', 'pixel_4_2', 'pixel_4_3', 'pixel_4_4', 'pixel_4_5', 'pixel_4_6', 'pixel_4_7', 'pixel_5_0', 'pixel_5_1', 'pixel_5_2', 'pixel_5_3', 'pixel_5_4', 'pixel_5_5', 'pixel_5_6', 'pixel_5_7', 'pixel_6_0', 'pixel_6_1', 'pixel_6_2', 'pixel_6_3', 'pixel_6_4', 'pixel_6_5', 'pixel_6_6', 'pixel_6_7', 'pixel_7_0', 'pixel_7_1', 'pixel_7_2', 'pixel_7_3', 'pixel_7_4', 'pixel_7_5', 'pixel_7_6', 'pixel_7_7'], 'target_names': array([0, 1, 2, 3, 4, 5, 6, 7, 8, 9]), 'images': array([[[ 0.,  0.,  5., ...,  1.,  0.,  0.],\n",
            "        [ 0.,  0., 13., ..., 15.,  5.,  0.],\n",
            "        [ 0.,  3., 15., ..., 11.,  8.,  0.],\n",
            "        ...,\n",
            "        [ 0.,  4., 11., ..., 12.,  7.,  0.],\n",
            "        [ 0.,  2., 14., ..., 12.,  0.,  0.],\n",
            "        [ 0.,  0.,  6., ...,  0.,  0.,  0.]],\n",
            "\n",
            "       [[ 0.,  0.,  0., ...,  5.,  0.,  0.],\n",
            "        [ 0.,  0.,  0., ...,  9.,  0.,  0.],\n",
            "        [ 0.,  0.,  3., ...,  6.,  0.,  0.],\n",
            "        ...,\n",
            "        [ 0.,  0.,  1., ...,  6.,  0.,  0.],\n",
            "        [ 0.,  0.,  1., ...,  6.,  0.,  0.],\n",
            "        [ 0.,  0.,  0., ..., 10.,  0.,  0.]],\n",
            "\n",
            "       [[ 0.,  0.,  0., ..., 12.,  0.,  0.],\n",
            "        [ 0.,  0.,  3., ..., 14.,  0.,  0.],\n",
            "        [ 0.,  0.,  8., ..., 16.,  0.,  0.],\n",
            "        ...,\n",
            "        [ 0.,  9., 16., ...,  0.,  0.,  0.],\n",
            "        [ 0.,  3., 13., ..., 11.,  5.,  0.],\n",
            "        [ 0.,  0.,  0., ..., 16.,  9.,  0.]],\n",
            "\n",
            "       ...,\n",
            "\n",
            "       [[ 0.,  0.,  1., ...,  1.,  0.,  0.],\n",
            "        [ 0.,  0., 13., ...,  2.,  1.,  0.],\n",
            "        [ 0.,  0., 16., ..., 16.,  5.,  0.],\n",
            "        ...,\n",
            "        [ 0.,  0., 16., ..., 15.,  0.,  0.],\n",
            "        [ 0.,  0., 15., ..., 16.,  0.,  0.],\n",
            "        [ 0.,  0.,  2., ...,  6.,  0.,  0.]],\n",
            "\n",
            "       [[ 0.,  0.,  2., ...,  0.,  0.,  0.],\n",
            "        [ 0.,  0., 14., ..., 15.,  1.,  0.],\n",
            "        [ 0.,  4., 16., ..., 16.,  7.,  0.],\n",
            "        ...,\n",
            "        [ 0.,  0.,  0., ..., 16.,  2.,  0.],\n",
            "        [ 0.,  0.,  4., ..., 16.,  2.,  0.],\n",
            "        [ 0.,  0.,  5., ..., 12.,  0.,  0.]],\n",
            "\n",
            "       [[ 0.,  0., 10., ...,  1.,  0.,  0.],\n",
            "        [ 0.,  2., 16., ...,  1.,  0.,  0.],\n",
            "        [ 0.,  0., 15., ..., 15.,  0.,  0.],\n",
            "        ...,\n",
            "        [ 0.,  4., 16., ..., 16.,  6.,  0.],\n",
            "        [ 0.,  8., 16., ..., 16.,  8.,  0.],\n",
            "        [ 0.,  1.,  8., ..., 12.,  1.,  0.]]]), 'DESCR': \".. _digits_dataset:\\n\\nOptical recognition of handwritten digits dataset\\n--------------------------------------------------\\n\\n**Data Set Characteristics:**\\n\\n    :Number of Instances: 1797\\n    :Number of Attributes: 64\\n    :Attribute Information: 8x8 image of integer pixels in the range 0..16.\\n    :Missing Attribute Values: None\\n    :Creator: E. Alpaydin (alpaydin '@' boun.edu.tr)\\n    :Date: July; 1998\\n\\nThis is a copy of the test set of the UCI ML hand-written digits datasets\\nhttps://archive.ics.uci.edu/ml/datasets/Optical+Recognition+of+Handwritten+Digits\\n\\nThe data set contains images of hand-written digits: 10 classes where\\neach class refers to a digit.\\n\\nPreprocessing programs made available by NIST were used to extract\\nnormalized bitmaps of handwritten digits from a preprinted form. From a\\ntotal of 43 people, 30 contributed to the training set and different 13\\nto the test set. 32x32 bitmaps are divided into nonoverlapping blocks of\\n4x4 and the number of on pixels are counted in each block. This generates\\nan input matrix of 8x8 where each element is an integer in the range\\n0..16. This reduces dimensionality and gives invariance to small\\ndistortions.\\n\\nFor info on NIST preprocessing routines, see M. D. Garris, J. L. Blue, G.\\nT. Candela, D. L. Dimmick, J. Geist, P. J. Grother, S. A. Janet, and C.\\nL. Wilson, NIST Form-Based Handprint Recognition System, NISTIR 5469,\\n1994.\\n\\n.. topic:: References\\n\\n  - C. Kaynak (1995) Methods of Combining Multiple Classifiers and Their\\n    Applications to Handwritten Digit Recognition, MSc Thesis, Institute of\\n    Graduate Studies in Science and Engineering, Bogazici University.\\n  - E. Alpaydin, C. Kaynak (1998) Cascading Classifiers, Kybernetika.\\n  - Ken Tang and Ponnuthurai N. Suganthan and Xi Yao and A. Kai Qin.\\n    Linear dimensionalityreduction using relevance weighted LDA. School of\\n    Electrical and Electronic Engineering Nanyang Technological University.\\n    2005.\\n  - Claudio Gentile. A New Approximate Maximal Margin Classification\\n    Algorithm. NIPS. 2000.\\n\"}\n"
          ]
        }
      ]
    },
    {
      "cell_type": "code",
      "source": [
        "print(digits['data'])"
      ],
      "metadata": {
        "colab": {
          "base_uri": "https://localhost:8080/"
        },
        "id": "GRq8Q7uuFD39",
        "outputId": "6159b55b-8834-44e0-9fba-3dc0b9466969"
      },
      "execution_count": 3,
      "outputs": [
        {
          "output_type": "stream",
          "name": "stdout",
          "text": [
            "[[ 0.  0.  5. ...  0.  0.  0.]\n",
            " [ 0.  0.  0. ... 10.  0.  0.]\n",
            " [ 0.  0.  0. ... 16.  9.  0.]\n",
            " ...\n",
            " [ 0.  0.  1. ...  6.  0.  0.]\n",
            " [ 0.  0.  2. ... 12.  0.  0.]\n",
            " [ 0.  0. 10. ... 12.  1.  0.]]\n"
          ]
        }
      ]
    },
    {
      "cell_type": "code",
      "source": [
        "print(digits['target'])"
      ],
      "metadata": {
        "colab": {
          "base_uri": "https://localhost:8080/"
        },
        "id": "F4tVCFuqFG5E",
        "outputId": "9c3bcd58-1fe1-4721-e358-ef15c8178778"
      },
      "execution_count": 4,
      "outputs": [
        {
          "output_type": "stream",
          "name": "stdout",
          "text": [
            "[0 1 2 ... 8 9 8]\n"
          ]
        }
      ]
    },
    {
      "cell_type": "code",
      "source": [
        "# 8X8 크기의 손글씨 숫자 데이터 로드\n",
        "digits = datasets.load_digits()\n",
        "\n",
        "# 특성 행렬을 표준화 처리\n",
        "features = StandardScaler().fit_transform(digits.data)\n",
        "\n",
        "# 99%의 분산을 유지하도록 PCA 클래스 객체 생성\n",
        "pca = PCA(n_components=0.99, whiten=True)\n",
        "\n",
        "# PCA 수행\n",
        "features_pca = pca.fit_transform(features)\n",
        "print(features_pca)\n"
      ],
      "metadata": {
        "colab": {
          "base_uri": "https://localhost:8080/"
        },
        "id": "rF4l_knkDaXz",
        "outputId": "b11ebfe4-2a13-4431-ddac-f9f75949ed1c"
      },
      "execution_count": 7,
      "outputs": [
        {
          "output_type": "stream",
          "name": "stdout",
          "text": [
            "[[ 0.70631939 -0.39512814 -1.73816236 ...  0.36526417 -0.31369006\n",
            "   0.05355504]\n",
            " [ 0.21732591  0.38276482  1.72878893 ... -0.17818068 -0.14031747\n",
            "   1.18179755]\n",
            " [ 0.4804351  -0.13130437  1.33172761 ... -0.01924571 -0.23580029\n",
            "   0.92966158]\n",
            " ...\n",
            " [ 0.37732433 -0.0612296   1.0879821  ... -1.05526847  1.75559618\n",
            "  -0.87894699]\n",
            " [ 0.39705007 -0.15768102 -1.08160094 ...  0.10442881  0.65907949\n",
            "   1.1292155 ]\n",
            " [-0.46407544 -0.92213976  0.12493334 ... -1.10593026  0.54434185\n",
            "  -0.26573597]]\n"
          ]
        }
      ]
    },
    {
      "cell_type": "code",
      "source": [
        "print(\"원본 특성 개수:\", features.shape[1])\n",
        "print(\"줄어든 특성 개수:\", features_pca.shape[1])"
      ],
      "metadata": {
        "colab": {
          "base_uri": "https://localhost:8080/"
        },
        "id": "OdQ3x-29GNuT",
        "outputId": "4464329e-c4a7-427d-d734-68fad3d1d3ce"
      },
      "execution_count": 8,
      "outputs": [
        {
          "output_type": "stream",
          "name": "stdout",
          "text": [
            "원본 특성 개수: 64\n",
            "줄어든 특성 개수: 54\n"
          ]
        }
      ]
    },
    {
      "cell_type": "code",
      "source": [
        "# 주성분에 투영된 처음 두 개의 특성을 사용해 산점도 출력\n",
        "import matplotlib.pyplot as plt\n",
        "\n",
        "plt.scatter(features_pca[:,0], features_pca[:,1])\n",
        "plt.show()"
      ],
      "metadata": {
        "colab": {
          "base_uri": "https://localhost:8080/",
          "height": 265
        },
        "id": "3SIg4R5UHEKD",
        "outputId": "34cb0af5-bd27-486c-ee9a-d5a8b203264e"
      },
      "execution_count": 9,
      "outputs": [
        {
          "output_type": "display_data",
          "data": {
            "text/plain": [
              "<Figure size 432x288 with 1 Axes>"
            ],
            "image/png": "[encoded data removed]"
          },
          "metadata": {
            "needs_background": "light"
          }
        }
      ]
    },
    {
      "cell_type": "code",
      "source": [
        "# whiten 여부에 따른 차이 시각화\n",
        "\n",
        "pca_nowhiten = PCA(n_components =0.99)\n",
        "features_nowhiten = pca_nowhiten.fit_transform(features)\n",
        "plt.scatter(features_nowhiten[:,0], features_nowhiten[:,1])\n",
        "plt.show()"
      ],
      "metadata": {
        "colab": {
          "base_uri": "https://localhost:8080/",
          "height": 265
        },
        "id": "37lR0AohHsys",
        "outputId": "382df565-1fc3-4cd0-c04c-1794240fc0f2"
      },
      "execution_count": 10,
      "outputs": [
        {
          "output_type": "display_data",
          "data": {
            "text/plain": [
              "<Figure size 432x288 with 1 Axes>"
            ],
            "image/png": "[encoded data removed]"
          },
          "metadata": {
            "needs_background": "light"
          }
        }
      ]
    },
    {
      "cell_type": "code",
      "source": [
        "# 넘파이 cumsum()를 사용하여 분산을 누적하여 그래프 출력\n",
        "# 대략 30개의 주성분으로도 80% 이상의 분산을 유지\n",
        "# 표준화하지 않은 원본 데이터를 사용합니다.\n",
        "import numpy as np\n",
        "\n",
        "pca.fit(digits.data)\n",
        "plt.plot(np.cumsum(pca.explained_variance_ratio_))\n",
        "plt.show()"
      ],
      "metadata": {
        "colab": {
          "base_uri": "https://localhost:8080/",
          "height": 265
        },
        "id": "NILDKEBlI2nu",
        "outputId": "289855e6-8ef9-4e3c-cbd6-a2fada156177"
      },
      "execution_count": 11,
      "outputs": [
        {
          "output_type": "display_data",
          "data": {
            "text/plain": [
              "<Figure size 432x288 with 1 Axes>"
            ],
            "image/png": "[encoded data removed]"
          },
          "metadata": {
            "needs_background": "light"
          }
        }
      ]
    },
    {
      "cell_type": "code",
      "source": [
        "## 특성 행렬을 주성분에 투영하려면 components_ 배열 전치하여 행렬곱을 수행합니다.\n",
        "# 넘파이 allclose()를 사용하여 feature_nowhiten 배열과 동일한지 확인\n",
        "\n",
        "np.allclose(features_nowhiten, np.dot(features,pca_nowhiten.components_.T))\n",
        "\n",
        "pca = PCA(whiten=True).fit(features)\n",
        "plt.plot(np.cumsum(pca.explained_variance_ratio_))\n",
        "plt.show()"
      ],
      "metadata": {
        "colab": {
          "base_uri": "https://localhost:8080/",
          "height": 265
        },
        "id": "zZp-_hntJY06",
        "outputId": "0d26738f-86ed-4005-a95f-c8f05f34749a"
      },
      "execution_count": 12,
      "outputs": [
        {
          "output_type": "display_data",
          "data": {
            "text/plain": [
              "<Figure size 432x288 with 1 Axes>"
            ],
            "image/png": "[encoded data removed]"
          },
          "metadata": {
            "needs_background": "light"
          }
        }
      ]
    },
    {
      "cell_type": "code",
      "source": [
        "# 선형적으로 구분되지 않는 데이터의 차원 축소\n",
        "\n",
        "from sklearn.decomposition import KernelPCA\n",
        "from sklearn.datasets import make_circles\n",
        "\n",
        "# 선형적으로 구분되지 않는 데이터 만들기\n",
        "feautures, _ = make_circles(\n",
        "    n_samples = 1000, random_state =1,noise=0.1, factor=0.1)\n",
        "print(features)\n",
        "\n",
        "# 방사 기저 함수(radius basic function, RBF)를 사용하여 커널 PCA를 적용\n",
        "kpca = KernelPCA(kernel='rbf', gamma=5, n_components=50)\n",
        "features_kpca = kpca.fit_transform(features)\n",
        "\n",
        "print(\"원본 특성 개수:\", features.shape[1])\n",
        "print(\"줄어든 특성 개수:\", features_kpca.shape[1])\n"
      ],
      "metadata": {
        "colab": {
          "base_uri": "https://localhost:8080/"
        },
        "id": "SHaol0wLKEM0",
        "outputId": "652b9814-5d75-4522-d47a-31436517de0d"
      },
      "execution_count": 26,
      "outputs": [
        {
          "output_type": "stream",
          "name": "stdout",
          "text": [
            "[[ 0.         -0.33501649 -0.04308102 ... -1.14664746 -0.5056698\n",
            "  -0.19600752]\n",
            " [ 0.         -0.33501649 -1.09493684 ...  0.54856067 -0.5056698\n",
            "  -0.19600752]\n",
            " [ 0.         -0.33501649 -1.09493684 ...  1.56568555  1.6951369\n",
            "  -0.19600752]\n",
            " ...\n",
            " [ 0.         -0.33501649 -0.88456568 ... -0.12952258 -0.5056698\n",
            "  -0.19600752]\n",
            " [ 0.         -0.33501649 -0.67419451 ...  0.8876023  -0.5056698\n",
            "  -0.19600752]\n",
            " [ 0.         -0.33501649  1.00877481 ...  0.8876023  -0.26113572\n",
            "  -0.19600752]]\n",
            "원본 특성 개수: 64\n",
            "줄어든 특성 개수: 50\n"
          ]
        }
      ]
    },
    {
      "cell_type": "markdown",
      "source": [
        "kpca = KernelPCA(kernel='rbf', gamma=5, n_components=50)\n",
        "gamma와 n_components 사이에 반비례 관계 성립함을 볼수있다."
      ],
      "metadata": {
        "id": "wl5YEc4-Q8Y4"
      }
    },
    {
      "cell_type": "code",
      "source": [
        "# 클래스 분리를 최대화함으로써 특성 축소\n",
        "from sklearn.discriminant_analysis import LinearDiscriminantAnalysis\n",
        "\n",
        "iris = datasets.load_iris() # 붓꽃 데이터셋을 로드\n",
        "features = iris.data\n",
        "target = iris.target\n",
        "\n",
        "\n",
        "# LDA 객체를 만들고 실행하여 특성을 변환합니다.\n",
        "lda= LinearDiscriminantAnalysis(n_components=1)\n",
        "features_lda = lda.fit(features, target).transform(features)\n",
        "\n",
        "print(\"원본 특성 개수:\", features.shape[1])\n",
        "print(\"줄어든 특성 개수:\", features_lda.shape[1])\n"
      ],
      "metadata": {
        "colab": {
          "base_uri": "https://localhost:8080/"
        },
        "id": "b_YZeKNpP8Ds",
        "outputId": "569c96de-8267-4e90-9b11-b244dbecfc3a"
      },
      "execution_count": 38,
      "outputs": [
        {
          "output_type": "stream",
          "name": "stdout",
          "text": [
            "원본 특성 개수: 4\n",
            "줄어든 특성 개수: 1\n"
          ]
        },
        {
          "output_type": "execute_result",
          "data": {
            "text/plain": [
              "array([0.9912126])"
            ]
          },
          "metadata": {},
          "execution_count": 38
        }
      ]
    },
    {
      "cell_type": "code",
      "source": [
        "print(target)\n",
        "print(features)"
      ],
      "metadata": {
        "collapsed": true,
        "colab": {
          "base_uri": "https://localhost:8080/"
        },
        "id": "gZUvJuXoSDuk",
        "outputId": "9fd08a93-b3a7-4a00-feea-04a4fd7a5792"
      },
      "execution_count": 30,
      "outputs": [
        {
          "output_type": "stream",
          "name": "stdout",
          "text": [
            "[0 0 0 0 0 0 0 0 0 0 0 0 0 0 0 0 0 0 0 0 0 0 0 0 0 0 0 0 0 0 0 0 0 0 0 0 0\n",
            " 0 0 0 0 0 0 0 0 0 0 0 0 0 1 1 1 1 1 1 1 1 1 1 1 1 1 1 1 1 1 1 1 1 1 1 1 1\n",
            " 1 1 1 1 1 1 1 1 1 1 1 1 1 1 1 1 1 1 1 1 1 1 1 1 1 1 2 2 2 2 2 2 2 2 2 2 2\n",
            " 2 2 2 2 2 2 2 2 2 2 2 2 2 2 2 2 2 2 2 2 2 2 2 2 2 2 2 2 2 2 2 2 2 2 2 2 2\n",
            " 2 2]\n",
            "[[5.1 3.5 1.4 0.2]\n",
            " [4.9 3.  1.4 0.2]\n",
            " [4.7 3.2 1.3 0.2]\n",
            " [4.6 3.1 1.5 0.2]\n",
            " [5.  3.6 1.4 0.2]\n",
            " [5.4 3.9 1.7 0.4]\n",
            " [4.6 3.4 1.4 0.3]\n",
            " [5.  3.4 1.5 0.2]\n",
            " [4.4 2.9 1.4 0.2]\n",
            " [4.9 3.1 1.5 0.1]\n",
            " [5.4 3.7 1.5 0.2]\n",
            " [4.8 3.4 1.6 0.2]\n",
            " [4.8 3.  1.4 0.1]\n",
            " [4.3 3.  1.1 0.1]\n",
            " [5.8 4.  1.2 0.2]\n",
            " [5.7 4.4 1.5 0.4]\n",
            " [5.4 3.9 1.3 0.4]\n",
            " [5.1 3.5 1.4 0.3]\n",
            " [5.7 3.8 1.7 0.3]\n",
            " [5.1 3.8 1.5 0.3]\n",
            " [5.4 3.4 1.7 0.2]\n",
            " [5.1 3.7 1.5 0.4]\n",
            " [4.6 3.6 1.  0.2]\n",
            " [5.1 3.3 1.7 0.5]\n",
            " [4.8 3.4 1.9 0.2]\n",
            " [5.  3.  1.6 0.2]\n",
            " [5.  3.4 1.6 0.4]\n",
            " [5.2 3.5 1.5 0.2]\n",
            " [5.2 3.4 1.4 0.2]\n",
            " [4.7 3.2 1.6 0.2]\n",
            " [4.8 3.1 1.6 0.2]\n",
            " [5.4 3.4 1.5 0.4]\n",
            " [5.2 4.1 1.5 0.1]\n",
            " [5.5 4.2 1.4 0.2]\n",
            " [4.9 3.1 1.5 0.2]\n",
            " [5.  3.2 1.2 0.2]\n",
            " [5.5 3.5 1.3 0.2]\n",
            " [4.9 3.6 1.4 0.1]\n",
            " [4.4 3.  1.3 0.2]\n",
            " [5.1 3.4 1.5 0.2]\n",
            " [5.  3.5 1.3 0.3]\n",
            " [4.5 2.3 1.3 0.3]\n",
            " [4.4 3.2 1.3 0.2]\n",
            " [5.  3.5 1.6 0.6]\n",
            " [5.1 3.8 1.9 0.4]\n",
            " [4.8 3.  1.4 0.3]\n",
            " [5.1 3.8 1.6 0.2]\n",
            " [4.6 3.2 1.4 0.2]\n",
            " [5.3 3.7 1.5 0.2]\n",
            " [5.  3.3 1.4 0.2]\n",
            " [7.  3.2 4.7 1.4]\n",
            " [6.4 3.2 4.5 1.5]\n",
            " [6.9 3.1 4.9 1.5]\n",
            " [5.5 2.3 4.  1.3]\n",
            " [6.5 2.8 4.6 1.5]\n",
            " [5.7 2.8 4.5 1.3]\n",
            " [6.3 3.3 4.7 1.6]\n",
            " [4.9 2.4 3.3 1. ]\n",
            " [6.6 2.9 4.6 1.3]\n",
            " [5.2 2.7 3.9 1.4]\n",
            " [5.  2.  3.5 1. ]\n",
            " [5.9 3.  4.2 1.5]\n",
            " [6.  2.2 4.  1. ]\n",
            " [6.1 2.9 4.7 1.4]\n",
            " [5.6 2.9 3.6 1.3]\n",
            " [6.7 3.1 4.4 1.4]\n",
            " [5.6 3.  4.5 1.5]\n",
            " [5.8 2.7 4.1 1. ]\n",
            " [6.2 2.2 4.5 1.5]\n",
            " [5.6 2.5 3.9 1.1]\n",
            " [5.9 3.2 4.8 1.8]\n",
            " [6.1 2.8 4.  1.3]\n",
            " [6.3 2.5 4.9 1.5]\n",
            " [6.1 2.8 4.7 1.2]\n",
            " [6.4 2.9 4.3 1.3]\n",
            " [6.6 3.  4.4 1.4]\n",
            " [6.8 2.8 4.8 1.4]\n",
            " [6.7 3.  5.  1.7]\n",
            " [6.  2.9 4.5 1.5]\n",
            " [5.7 2.6 3.5 1. ]\n",
            " [5.5 2.4 3.8 1.1]\n",
            " [5.5 2.4 3.7 1. ]\n",
            " [5.8 2.7 3.9 1.2]\n",
            " [6.  2.7 5.1 1.6]\n",
            " [5.4 3.  4.5 1.5]\n",
            " [6.  3.4 4.5 1.6]\n",
            " [6.7 3.1 4.7 1.5]\n",
            " [6.3 2.3 4.4 1.3]\n",
            " [5.6 3.  4.1 1.3]\n",
            " [5.5 2.5 4.  1.3]\n",
            " [5.5 2.6 4.4 1.2]\n",
            " [6.1 3.  4.6 1.4]\n",
            " [5.8 2.6 4.  1.2]\n",
            " [5.  2.3 3.3 1. ]\n",
            " [5.6 2.7 4.2 1.3]\n",
            " [5.7 3.  4.2 1.2]\n",
            " [5.7 2.9 4.2 1.3]\n",
            " [6.2 2.9 4.3 1.3]\n",
            " [5.1 2.5 3.  1.1]\n",
            " [5.7 2.8 4.1 1.3]\n",
            " [6.3 3.3 6.  2.5]\n",
            " [5.8 2.7 5.1 1.9]\n",
            " [7.1 3.  5.9 2.1]\n",
            " [6.3 2.9 5.6 1.8]\n",
            " [6.5 3.  5.8 2.2]\n",
            " [7.6 3.  6.6 2.1]\n",
            " [4.9 2.5 4.5 1.7]\n",
            " [7.3 2.9 6.3 1.8]\n",
            " [6.7 2.5 5.8 1.8]\n",
            " [7.2 3.6 6.1 2.5]\n",
            " [6.5 3.2 5.1 2. ]\n",
            " [6.4 2.7 5.3 1.9]\n",
            " [6.8 3.  5.5 2.1]\n",
            " [5.7 2.5 5.  2. ]\n",
            " [5.8 2.8 5.1 2.4]\n",
            " [6.4 3.2 5.3 2.3]\n",
            " [6.5 3.  5.5 1.8]\n",
            " [7.7 3.8 6.7 2.2]\n",
            " [7.7 2.6 6.9 2.3]\n",
            " [6.  2.2 5.  1.5]\n",
            " [6.9 3.2 5.7 2.3]\n",
            " [5.6 2.8 4.9 2. ]\n",
            " [7.7 2.8 6.7 2. ]\n",
            " [6.3 2.7 4.9 1.8]\n",
            " [6.7 3.3 5.7 2.1]\n",
            " [7.2 3.2 6.  1.8]\n",
            " [6.2 2.8 4.8 1.8]\n",
            " [6.1 3.  4.9 1.8]\n",
            " [6.4 2.8 5.6 2.1]\n",
            " [7.2 3.  5.8 1.6]\n",
            " [7.4 2.8 6.1 1.9]\n",
            " [7.9 3.8 6.4 2. ]\n",
            " [6.4 2.8 5.6 2.2]\n",
            " [6.3 2.8 5.1 1.5]\n",
            " [6.1 2.6 5.6 1.4]\n",
            " [7.7 3.  6.1 2.3]\n",
            " [6.3 3.4 5.6 2.4]\n",
            " [6.4 3.1 5.5 1.8]\n",
            " [6.  3.  4.8 1.8]\n",
            " [6.9 3.1 5.4 2.1]\n",
            " [6.7 3.1 5.6 2.4]\n",
            " [6.9 3.1 5.1 2.3]\n",
            " [5.8 2.7 5.1 1.9]\n",
            " [6.8 3.2 5.9 2.3]\n",
            " [6.7 3.3 5.7 2.5]\n",
            " [6.7 3.  5.2 2.3]\n",
            " [6.3 2.5 5.  1.9]\n",
            " [6.5 3.  5.2 2. ]\n",
            " [6.2 3.4 5.4 2.3]\n",
            " [5.9 3.  5.1 1.8]]\n"
          ]
        }
      ]
    },
    {
      "cell_type": "code",
      "source": [
        "lda= LinearDiscriminantAnalysis(n_components=None)\n",
        "features_lda = lda.fit(features, target)\n",
        "\n",
        "# 설명된 분산의 비율이 담긴 배열을 저장\n",
        "lda_var_ratios = lda.explained_variance_ratio_\n",
        "print(lda_var_ratios)\n",
        "\n",
        "def select_n_components(var_ratio, goal_var: float) -> int:\n",
        "  total_variance = 0.0  # 설명된 분산의 초기값을 지정\n",
        "  n_components = 0      # 특성 개수의 초기값을 지정\n",
        "\n",
        "  for explained_variance in var_ratio:    # 각 특성의 설명된 분산을 순회 Loop\n",
        "    total_variance += explained_variance   # 설명된 분산 값을 누적\n",
        "    n_components += 1   # 성분 개수를 카운트\n",
        "    if total_variance >= goal_var:   # 설명된 분산이 목표치에 도달하면 반복문 종료\n",
        "      break\n",
        "  return n_components   # 성분의 개수 반환\n",
        "\n",
        "temp = select_n_components(lda_var_ratios, 0.95)  # 함수를 실행\n",
        "print(\"temp =\", temp)"
      ],
      "metadata": {
        "colab": {
          "base_uri": "https://localhost:8080/"
        },
        "id": "npvjeGZtTED0",
        "outputId": "52afefb2-02a8-49c8-caae-6717557558a5"
      },
      "execution_count": 42,
      "outputs": [
        {
          "output_type": "stream",
          "name": "stdout",
          "text": [
            "[0.9912126 0.0087874]\n",
            "temp = 1\n"
          ]
        }
      ]
    },
    {
      "cell_type": "markdown",
      "source": [
        "# 순서가 없는 범주형 특성 인코딩"
      ],
      "metadata": {
        "id": "LkwxKxpztsLv"
      }
    },
    {
      "cell_type": "code",
      "source": [
        "# 순서가 없는 범주형 특성 인코딩\n",
        "# 사이킷런의 LabelBinarizer 를 사용하여 문자열 타깃 데이터를 원-핫 인코딩\n",
        "\n",
        "from sklearn.preprocessing import LabelBinarizer, MultiLabelBinarizer\n",
        "\n",
        "feature = np.array([[\"Texas\"],\n",
        "                   [\"California\"],\n",
        "                   [\"Texas\"],\n",
        "                   [\"Delaware\"],\n",
        "                   [\"Texas\"]]\n",
        "                   )    # 특성 데이터 생성\n",
        "print(feature)\n",
        "\n",
        "one_hot = LabelBinarizer()        # 원-핫 인코더 생성\n",
        "one_hot.fit_transform(feature)    # 특성을 원-핫 인코딩 변환\n",
        "# print(one_hot.classes_)     # 클래스 확인 ['California' 'Delaware' 'Texas']\n",
        "\n",
        "# 원-핫 인코딩 되돌리기\n",
        "one_hot_data = one_hot.inverse_transform(one_hot.transform(feature))\n",
        "print(\"one_hot >>>\", one_hot_data)\n",
        "  "
      ],
      "metadata": {
        "colab": {
          "base_uri": "https://localhost:8080/"
        },
        "id": "-SO_Xv-6TSIL",
        "outputId": "2bbe2148-bb5c-439e-9ce1-2a04186644cf"
      },
      "execution_count": 48,
      "outputs": [
        {
          "output_type": "stream",
          "name": "stdout",
          "text": [
            "[['Texas']\n",
            " ['California']\n",
            " ['Texas']\n",
            " ['Delaware']\n",
            " ['Texas']]\n",
            "one_hot >>> ['Texas' 'California' 'Texas' 'Delaware' 'Texas']\n"
          ]
        }
      ]
    },
    {
      "cell_type": "code",
      "source": [
        "# MultiLabelBinarizer\n",
        "from sklearn.preprocessing import OneHotEncoder\n",
        "\n",
        "multiclass_feature = [(\"Texas\", \"Florida\"),\n",
        "                      (\"California\", \"Alabama\"),\n",
        "                      (\"Texas\", \"Florida\"),\n",
        "                      (\"Delware\", \"Florida\"),\n",
        "                      (\"Texas\", \"Florida\")]   # 다중 클래스 특성 생성\n",
        "print(multiclass_feature)\n",
        "\n",
        "one_hot_multiclass = MultiLabelBinarizer()    # 다중 클래스 원-핫 인코더 객체 생성\n",
        "one_hot_multiclass.fit_transform(multiclass_feature)     # 다중 클래스 특성을 원-핫 인코딩 수행\n",
        "\n",
        "ont_hot_data = one_hot_multiclass.classes_    # 특성의 클래스를 확인\n",
        "print(\"class >>>\", ont_hot_data)\n",
        "\n",
        "# one_hot_data = one_hot.inverse_transform(one_hot.transform(feature))\n",
        "# print(\"one_hot >>>\", one_hot_data)"
      ],
      "metadata": {
        "colab": {
          "base_uri": "https://localhost:8080/"
        },
        "id": "LBadP7_xXMIt",
        "outputId": "fecac627-bc40-4fd6-b105-25440310cb56"
      },
      "execution_count": 51,
      "outputs": [
        {
          "output_type": "stream",
          "name": "stdout",
          "text": [
            "[('Texas', 'Florida'), ('California', 'Alabama'), ('Texas', 'Florida'), ('Delware', 'Florida'), ('Texas', 'Florida')]\n",
            "['Alabama' 'California' 'Delware' 'Florida' 'Texas']\n",
            "one_hot_multiclass >> ['Alabama' 'California' 'Delware' 'Florida' 'Texas']\n"
          ]
        }
      ]
    },
    {
      "cell_type": "code",
      "source": [
        "# 순서가 없는 범주형 데이터 처리\n",
        "# 사이킷 런의 LabelBinarizer를 사용하여 문자열 타깃 데이터 원-핫 인코딩 진행\n",
        "\n",
        "feature =np.array([[\"Texas\",1],\n",
        "                   [\"California\",1],\n",
        "                   [\"Texas\",3],\n",
        "                   [\"Delaware\",1],\n",
        "                   [\"Texas\",1]])    # 여러 개의 열이 있는 특성 배열 생성\n",
        "\n",
        "# 희소배열 반환이 기본값이며 sparse-False 로 지정하면 밀집 배열 변환\n",
        "one_hot_encoder = OneHotEncoder(sparse=False)\n",
        "print(feature)\n",
        "\n",
        "\n",
        "# OneHotEncoder -> 입력 특성 배열을 모두 범주형으로 인식하여 변환합니다.\n",
        "one_hot_encoder.fit_transform(feature)\n",
        "one_hot_encoder_data = one_hot_encoder.categories_  # categories_ 속성으로 클래스 확인                               \n",
        "\n",
        "print(\"one_hot_encoder_data >>\", one_hot_encoder_data)\n",
        "\n"
      ],
      "metadata": {
        "colab": {
          "base_uri": "https://localhost:8080/"
        },
        "id": "Bw5CZ8GQewwY",
        "outputId": "ad9f8c15-b7d1-4a71-d3ed-f94d97f2eb53"
      },
      "execution_count": 54,
      "outputs": [
        {
          "output_type": "stream",
          "name": "stdout",
          "text": [
            "[['Texas' '1']\n",
            " ['California' '1']\n",
            " ['Texas' '3']\n",
            " ['Delaware' '1']\n",
            " ['Texas' '1']]\n",
            "one_hot_encoder_data >> [array(['California', 'Delaware', 'Texas'], dtype='<U21'), array(['1', '3'], dtype='<U21')]\n"
          ]
        }
      ]
    },
    {
      "cell_type": "markdown",
      "source": [
        "# 순서가 있는 범주형 특성 인코딩"
      ],
      "metadata": {
        "id": "14HglVyythI_"
      }
    },
    {
      "cell_type": "code",
      "source": [
        "# 순서가 있는 범주형 특성 인코딩\n",
        "\n",
        "import pandas as pd\n",
        "\n",
        "dataframe = pd.DataFrame(\n",
        "    {\"Score\": [\"Low\",\"Low\", \"Medium\", \"Medium\", \"High\"]}    # 특성 데이터 생성\n",
        ")\n",
        "scale_mapper = {\"Low\": 1,\n",
        "                \"Medium\": 2,\n",
        "                \"High\": 3}    # 매핑 딕셔너리 생성\n",
        "data1 = dataframe[\"Score\"].replace(scale_mapper)    # 특성을 정수로 변환\n",
        "\n",
        "print(data1)\n",
        "\n",
        "\n",
        "\n",
        "dataframe = pd.DataFrame(\n",
        "    {\"Score\": [\"Low\",\"Low\", \"Medium\", \"Medium\", \"High\", \"Barely More Than Medium\"]}\n",
        ")\n",
        "scale_mapper = {\"Low\": 1,\n",
        "                \"Medium\": 2,\n",
        "                \"Barely More Than Medium\":3,\n",
        "                \"High\": 4}    # 매핑 딕셔너리 생성\n",
        "data2 = dataframe[\"Score\"].replace(scale_mapper)    # 특성을 정수로 변환\n",
        "\n",
        "print(data2)\n"
      ],
      "metadata": {
        "colab": {
          "base_uri": "https://localhost:8080/"
        },
        "id": "SzcRb4QTgn6B",
        "outputId": "e69ce09e-3e2f-4c76-cc12-4a1abd2f81c7"
      },
      "execution_count": 57,
      "outputs": [
        {
          "output_type": "stream",
          "name": "stdout",
          "text": [
            "0    1\n",
            "1    1\n",
            "2    2\n",
            "3    2\n",
            "4    3\n",
            "Name: Score, dtype: int64\n",
            "0    1\n",
            "1    1\n",
            "2    2\n",
            "3    2\n",
            "4    4\n",
            "5    3\n",
            "Name: Score, dtype: int64\n"
          ]
        }
      ]
    },
    {
      "cell_type": "code",
      "source": [
        "# 순서가 있는 범주형 특성 인코딩\n",
        "# OrdinalEncoder 이용\n",
        "from sklearn.preprocessing import OrdinalEncoder\n",
        "\n",
        "features = np.array([[\"Low\", 10],\n",
        "                     [\"Medium\", 50],\n",
        "                     [\"High\", 3],\n",
        "                     [\"Ace\", 100]])\n",
        "ordinal_encoder = OrdinalEncoder()\n",
        "ordinal_encoder.fit_transform(features)\n",
        "ordinalEncoder_data = ordinal_encoder.categories_\n",
        "\n",
        "print(\"OrdinalEncoder >>\", ordinalEncoder_data)"
      ],
      "metadata": {
        "colab": {
          "base_uri": "https://localhost:8080/"
        },
        "id": "ZqSI8CjdktTw",
        "outputId": "ce740e4d-86ba-42ff-9907-9f5830db463b"
      },
      "execution_count": 61,
      "outputs": [
        {
          "output_type": "stream",
          "name": "stdout",
          "text": [
            "OrdinalEncoder >> [array(['Ace', 'High', 'Low', 'Medium'], dtype='<U21'), array(['10', '100', '3', '50'], dtype='<U21')]\n"
          ]
        }
      ]
    },
    {
      "cell_type": "code",
      "source": [
        "# 순서가 있는 범주형 특성 인코딩\n",
        "# 특성 딕셔너리 인코딩\n",
        "# DictVectorizer 클래스는 0이 아닌 갓의 원소만 저장하는 희소 행렬을 반환\n",
        "# 자연어 처리 분야와 같은 매우 큰 행렬을 다룰때 메모리 사용량을 최소화해야하기 때문에 유용\n",
        "# sparse=False로 지정하면 밀집 벡터를 출력할 수 있습니다.\n",
        "# get_feature_names()를 사용하여 생성된 특성의 이름을 얻을 수 있습니다.\n",
        "from sklearn.feature_extraction import DictVectorizer\n",
        "\n",
        "data_dict =[{\"Red\":2,\"Blue\":4},\n",
        "            {\"Red\":4,\"Blue\":3},\n",
        "            {\"Red\":1,\"Green\":2},\n",
        "            {\"Red\":2,\"Green\":2},\n",
        "            {\"Red\":2,\"Yellow\":3},\n",
        "            {\"Red\":2,\"Yellow\":1}]   # 딕셔너리 생성\n",
        "\n",
        "dictvectorizer = DictVectorizer(sparse=False)   # DictVectorizer 객체 생성\n",
        "# 0이 아닌 원소만 저장하는 희소 행렬을 반환\n",
        "\n",
        "features = dictvectorizer.fit_transform(data_dict)    # 딕셔너리를 특성 행렬로 변환\n",
        "print(features)   # 특성 행렬을 확인\n",
        "feature_names = dictvectorizer.get_feature_names()    # 특성 이름을 얻습니다.\n",
        "print(feature_names)    # 특성 이름을 확인\n",
        "dict_data = pd.DataFrame(features, columns=feature_names)\n",
        "print(dict_data)"
      ],
      "metadata": {
        "colab": {
          "base_uri": "https://localhost:8080/"
        },
        "id": "2SOjTPkUrG7X",
        "outputId": "d58ed6a6-500f-4ff4-b448-9654e7ec8133"
      },
      "execution_count": 63,
      "outputs": [
        {
          "output_type": "stream",
          "name": "stdout",
          "text": [
            "[[4. 0. 2. 0.]\n",
            " [3. 0. 4. 0.]\n",
            " [0. 2. 1. 0.]\n",
            " [0. 2. 2. 0.]\n",
            " [0. 0. 2. 3.]\n",
            " [0. 0. 2. 1.]]\n",
            "['Blue', 'Green', 'Red', 'Yellow']\n",
            "   Blue  Green  Red  Yellow\n",
            "0   4.0    0.0  2.0     0.0\n",
            "1   3.0    0.0  4.0     0.0\n",
            "2   0.0    2.0  1.0     0.0\n",
            "3   0.0    2.0  2.0     0.0\n",
            "4   0.0    0.0  2.0     3.0\n",
            "5   0.0    0.0  2.0     1.0\n"
          ]
        },
        {
          "output_type": "stream",
          "name": "stderr",
          "text": [
            "/usr/local/lib/python3.8/dist-packages/sklearn/utils/deprecation.py:87: FutureWarning: Function get_feature_names is deprecated; get_feature_names is deprecated in 1.0 and will be removed in 1.2. Please use get_feature_names_out instead.\n",
            "  warnings.warn(msg, category=FutureWarning)\n"
          ]
        }
      ]
    },
    {
      "cell_type": "code",
      "source": [
        "# 행렬 데이터형태\n",
        "# 네 개의 문서에 대한 단어 카운트 딕셔너리를 데이터로\n",
        "\n",
        "doc_1_word_count = {\"Red\":2,\"Blue\":4}\n",
        "doc_2_word_count = {\"Red\":4,\"Blue\":3}\n",
        "doc_3_word_count = {\"Red\":1,\"Green\":2}\n",
        "doc_4_word_count = {\"Red\":2,\"Green\":2}\n",
        "doc_5_word_count = {\"Red\":2,\"Yellow\":3}\n",
        "doc_6_word_count = {\"Red\":2,\"Yellow\":1}\n",
        "doc_word_counts = [doc_1_word_count,\n",
        "                   doc_2_word_count,\n",
        "                   doc_3_word_count,\n",
        "                   doc_4_word_count,\n",
        "                   doc_5_word_count,\n",
        "                   doc_6_word_count]    # 리스트로 생성\n",
        "\n",
        "# 단어 카운트 딕셔너리를 특성 행렬로 변환합니다.\n",
        "data_array = dictvectorizer.fit_transform(doc_word_counts)\n",
        "print(data_array)"
      ],
      "metadata": {
        "colab": {
          "base_uri": "https://localhost:8080/"
        },
        "id": "tqRgtdJItxrt",
        "outputId": "117ca8c4-a927-485d-c1cf-41dec1e02328"
      },
      "execution_count": 64,
      "outputs": [
        {
          "output_type": "stream",
          "name": "stdout",
          "text": [
            "[[4. 0. 2. 0.]\n",
            " [3. 0. 4. 0.]\n",
            " [0. 2. 1. 0.]\n",
            " [0. 2. 2. 0.]\n",
            " [0. 0. 2. 3.]\n",
            " [0. 0. 2. 1.]]\n"
          ]
        }
      ]
    },
    {
      "cell_type": "markdown",
      "source": [
        "# 누락된 클래스 값 대처하기"
      ],
      "metadata": {
        "id": "IWEPUmTiv_Nh"
      }
    },
    {
      "cell_type": "code",
      "source": [
        "# 누락된 클래스 값 대처하기-01\n",
        "# KNN이용\n",
        "\n",
        "from sklearn.neighbors import KNeighborsClassifier\n",
        "\n",
        "X = np.array([[0, 2.10, 1.45],\n",
        "              [1, 1.18, 1.33],\n",
        "              [0, 1.22, 1.27],\n",
        "              [1, -0.21, -1.19]])   # 범주형 특성을 가진 특성 행렬 생성\n",
        "print(\"X =\\n\",X)\n",
        "print(\"\\n\")\n",
        "\n",
        "# 범주형 특성에 누락된 값이 있는 특성 행렬 만들기\n",
        "X_with_nan = np.array([[np.nan, 0.87, 1.31],[np.nan, -0.67, -0.22]])\n",
        "print(\"X_with_nan =\\n\",X_with_nan)\n",
        "print(\"\\n\")\n",
        "\n",
        "# KNN 객체 생성\n",
        "clf = KNeighborsClassifier(3, weights='distance')\n",
        "\n",
        "trained_model = clf.fit(X[:,1:], X[:,0])  # 훈련\n",
        "\n",
        "# 누락된 값의 클래스 예측\n",
        "imputed_values = trained_model.predict(X_with_nan[:,1:])\n",
        "print(\"imputed_values =\\n\",imputed_values)\n",
        "print(\"\\n\")\n",
        "\n",
        "# 예측된 클래스와 원본 특성을 열로 합침\n",
        "X_with_imputed = np.hstack((imputed_values.reshape(-1,1), X_with_nan[:,1:]))\n",
        "print(\"X_with_imputed =\\n\",X_with_imputed)\n",
        "print(\"\\n\")\n",
        "\n",
        "# 두 특성 행렬을 연결\n",
        "data = np.vstack((X_with_imputed, X))\n",
        "\n",
        "print(\"data =\\n\",data)"
      ],
      "metadata": {
        "colab": {
          "base_uri": "https://localhost:8080/"
        },
        "id": "hX2-o5zswa-z",
        "outputId": "356d1cad-c21d-4bae-dd54-d6039ae84191"
      },
      "execution_count": 75,
      "outputs": [
        {
          "output_type": "stream",
          "name": "stdout",
          "text": [
            "X =\n",
            " [[ 0.    2.1   1.45]\n",
            " [ 1.    1.18  1.33]\n",
            " [ 0.    1.22  1.27]\n",
            " [ 1.   -0.21 -1.19]]\n",
            "\n",
            "\n",
            "X_with_nan =\n",
            " [[  nan  0.87  1.31]\n",
            " [  nan -0.67 -0.22]]\n",
            "\n",
            "\n",
            "imputed_values =\n",
            " [0. 1.]\n",
            "\n",
            "\n",
            "X_with_imputed =\n",
            " [[ 0.    0.87  1.31]\n",
            " [ 1.   -0.67 -0.22]]\n",
            "\n",
            "\n",
            "data =\n",
            " [[ 0.    0.87  1.31]\n",
            " [ 1.   -0.67 -0.22]\n",
            " [ 0.    2.1   1.45]\n",
            " [ 1.    1.18  1.33]\n",
            " [ 0.    1.22  1.27]\n",
            " [ 1.   -0.21 -1.19]]\n"
          ]
        }
      ]
    },
    {
      "cell_type": "code",
      "source": [
        "# 누락된 클래스 값 대처하기 - 02\n",
        "# 누락된 값을 특성에서 가장 자주 등장하는 값으로 채우기\n",
        "\n",
        "from sklearn.impute import SimpleImputer\n",
        "\n",
        "X = np.array([[0, 2.10, 1.45],\n",
        "              [1, 1.18, 1.33],\n",
        "              [0, 1.22, 1.27],\n",
        "              [1, -0.21, -1.19],\n",
        "              [1, -0.4, -7.1]])   # 범주형 특성을 가진 특성 행렬 생성\n",
        "\n",
        "# 범주형 특성에 누락된 값이 있는 특성 행렬 만들기\n",
        "X_with_nan = np.array([[np.nan, 0.87, 1.31],[np.nan, -0.67, -0.22]])\n",
        "\n",
        "# KNN 객체 생성\n",
        "clf = KNeighborsClassifier(3, weights='distance')\n",
        "\n",
        "trained_model = clf.fit(X[:,1:], X[:,0])  # 훈련\n",
        "\n",
        "# 누락된 값의 클래스 예측\n",
        "imputed_values = trained_model.predict(X_with_nan[:,1:])\n",
        "\n",
        "# 예측된 클래스와 원본 특성을 열로 합침\n",
        "X_with_imputed = np.hstack((imputed_values.reshape(-1,1), X_with_nan[:,1:]))\n",
        "\n",
        "# 두 특성 행렬을 연결\n",
        "data = np.vstack((X_with_imputed, X))\n",
        "\n",
        "# 누락된 값을 특성에서 가장 자주 등장하는 값으로 채우기\n",
        "X_complete = np.vstack((X_with_nan, X))\n",
        "print(\"X_complete =\\n\",X_complete)\n",
        "print(\"\\n\")\n",
        "\n",
        "imputer = SimpleImputer(strategy='most_frequent')\n",
        "\n",
        "data_imputer = imputer.fit_transform(X_complete)\n",
        "print(\"data_imputer =\\n\",data_imputer)"
      ],
      "metadata": {
        "colab": {
          "base_uri": "https://localhost:8080/"
        },
        "id": "egoftYEoxlTE",
        "outputId": "6c562ce2-ac26-4f1d-88a4-b58f727d0d6b"
      },
      "execution_count": 80,
      "outputs": [
        {
          "output_type": "stream",
          "name": "stdout",
          "text": [
            "X_complete =\n",
            " [[  nan  0.87  1.31]\n",
            " [  nan -0.67 -0.22]\n",
            " [ 0.    2.1   1.45]\n",
            " [ 1.    1.18  1.33]\n",
            " [ 0.    1.22  1.27]\n",
            " [ 1.   -0.21 -1.19]\n",
            " [ 1.   -0.4  -7.1 ]]\n",
            "\n",
            "\n",
            "data_imputer =\n",
            " [[ 1.    0.87  1.31]\n",
            " [ 1.   -0.67 -0.22]\n",
            " [ 0.    2.1   1.45]\n",
            " [ 1.    1.18  1.33]\n",
            " [ 0.    1.22  1.27]\n",
            " [ 1.   -0.21 -1.19]\n",
            " [ 1.   -0.4  -7.1 ]]\n"
          ]
        }
      ]
    },
    {
      "cell_type": "markdown",
      "source": [
        "# 텍스트 데이터 처리"
      ],
      "metadata": {
        "id": "b08jieBP8Xeh"
      }
    },
    {
      "cell_type": "code",
      "source": [
        "# 텍스트 데이터 처리-01\n",
        "# 텍스트 정제\n",
        "\n",
        "import re\n",
        "\n",
        "text_data = [\" Interrobang. By Aishwarya Henriette \",\n",
        "             \"Parking And Going. By Karl Gautier\",\n",
        "             \" Today Is The night. By Jarek Prakash \"]    # 텍스트 데이터 생성\n",
        "\n",
        "strip_whitespace = [string.strip() for string in text_data]   # 공백 문자 제거\n",
        "print(\"공백 제거 =\\n\", strip_whitespace)      # 텍스트 확인\n",
        "print(\"\\n\")    \n",
        "\n",
        "remove_periods = [string.replace(\".\", \"\")\n",
        "                  for string in strip_whitespace]   # 마침표 제거\n",
        "print(\"마침표 제거 =\\n\", remove_periods)      # 텍스트 확인\n",
        "print(\"\\n\")      \n",
        "\n",
        "def capitalizer(string: str) -> str:    # 함수 정의\n",
        "  return string.upper()\n",
        "\n",
        "data1 = [capitalizer(string) for string in remove_periods]    # 함수 적용\n",
        "print(data1)\n",
        "\n",
        "def replace_letters_with_X(string: str) -> str:   # 함수 정의\n",
        "  return re.sub(r\"[a-zA-Z]\",\"X\", string)\n",
        "\n",
        "data2 = [replace_letters_with_X(string) for string in remove_periods]  # 함수 적용\n",
        "print(data2)"
      ],
      "metadata": {
        "colab": {
          "base_uri": "https://localhost:8080/"
        },
        "id": "KfHx8n9273WN",
        "outputId": "f9c31123-089f-4111-e6e4-801fddd0d83a"
      },
      "execution_count": 88,
      "outputs": [
        {
          "output_type": "stream",
          "name": "stdout",
          "text": [
            "공백 제거 =\n",
            " ['Interrobang. By Aishwarya Henriette', 'Parking And Going. By Karl Gautier', 'Today Is The night. By Jarek Prakash']\n",
            "\n",
            "\n",
            "마침표 제거 =\n",
            " ['Interrobang By Aishwarya Henriette', 'Parking And Going By Karl Gautier', 'Today Is The night By Jarek Prakash']\n",
            "\n",
            "\n",
            "['INTERROBANG BY AISHWARYA HENRIETTE', 'PARKING AND GOING BY KARL GAUTIER', 'TODAY IS THE NIGHT BY JAREK PRAKASH']\n",
            "['XXXXXXXXXXX XX XXXXXXXXX XXXXXXXXX', 'XXXXXXX XXX XXXXX XX XXXX XXXXXXX', 'XXXXX XX XXX XXXXX XX XXXXX XXXXXXX']\n"
          ]
        }
      ]
    },
    {
      "cell_type": "code",
      "source": [
        "# 텍스트 데이터 처리-02\n",
        "# 구두점 삭제\n",
        "# 구두점 글자의 딕셔너리를 만들어 translate() 적용\n",
        "# 모든 유니코드 구두점을 키로 하고 값은 None인 punctuation 딕셔너리를 만듭니다.\n",
        "# 문자열로부터 punctuation에 있는 모든 문자를 None으로 바꿉니다 (구두점을 삭제하는 효과)\n",
        "import unicodedata\n",
        "import sys\n",
        "\n",
        "text_data = ['Hi!!!! I.. Love... This. Song!.!.',\n",
        "             '100000%% Agree!! #LoveIT!!!',\n",
        "             'Crazy!??']     # 구두점 포함 텍스트 데이터 생성\n",
        "\n",
        "# 구두점 문자로 이루어진 딕셔너리 생성\n",
        "punctuation = dict.fromkeys(i for i in range(sys.maxunicode)\n",
        "                            if unicodedata.category(chr(i)).startswith('P'))\n",
        "print(\"구두점 문자열 =\\n\", punctuation)      # 텍스트 확인\n",
        "print(\"\\n\") \n",
        "\n",
        "# 문자열의 구두점을 삭제\n",
        "test = [string.translate(punctuation) for string in text_data]\n",
        "print(\"구두점 제거 =\\n\", test)      # 텍스트 확인\n",
        "print(\"\\n\") "
      ],
      "metadata": {
        "colab": {
          "base_uri": "https://localhost:8080/"
        },
        "id": "dUDNaOZy_Qyf",
        "outputId": "55086ed8-027c-443a-f819-dedb0b4cd8ce"
      },
      "execution_count": 92,
      "outputs": [
        {
          "output_type": "stream",
          "name": "stdout",
          "text": [
            "구두점 문자열 =\n",
            " {33: None, 34: None, 35: None, 37: None, 38: None, 39: None, 40: None, 41: None, 42: None, 44: None, 45: None, 46: None, 47: None, 58: None, 59: None, 63: None, 64: None, 91: None, 92: None, 93: None, 95: None, 123: None, 125: None, 161: None, 167: None, 171: None, 182: None, 183: None, 187: None, 191: None, 894: None, 903: None, 1370: None, 1371: None, 1372: None, 1373: None, 1374: None, 1375: None, 1417: None, 1418: None, 1470: None, 1472: None, 1475: None, 1478: None, 1523: None, 1524: None, 1545: None, 1546: None, 1548: None, 1549: None, 1563: None, 1566: None, 1567: None, 1642: None, 1643: None, 1644: None, 1645: None, 1748: None, 1792: None, 1793: None, 1794: None, 1795: None, 1796: None, 1797: None, 1798: None, 1799: None, 1800: None, 1801: None, 1802: None, 1803: None, 1804: None, 1805: None, 2039: None, 2040: None, 2041: None, 2096: None, 2097: None, 2098: None, 2099: None, 2100: None, 2101: None, 2102: None, 2103: None, 2104: None, 2105: None, 2106: None, 2107: None, 2108: None, 2109: None, 2110: None, 2142: None, 2404: None, 2405: None, 2416: None, 2557: None, 2678: None, 2800: None, 3191: None, 3204: None, 3572: None, 3663: None, 3674: None, 3675: None, 3844: None, 3845: None, 3846: None, 3847: None, 3848: None, 3849: None, 3850: None, 3851: None, 3852: None, 3853: None, 3854: None, 3855: None, 3856: None, 3857: None, 3858: None, 3860: None, 3898: None, 3899: None, 3900: None, 3901: None, 3973: None, 4048: None, 4049: None, 4050: None, 4051: None, 4052: None, 4057: None, 4058: None, 4170: None, 4171: None, 4172: None, 4173: None, 4174: None, 4175: None, 4347: None, 4960: None, 4961: None, 4962: None, 4963: None, 4964: None, 4965: None, 4966: None, 4967: None, 4968: None, 5120: None, 5742: None, 5787: None, 5788: None, 5867: None, 5868: None, 5869: None, 5941: None, 5942: None, 6100: None, 6101: None, 6102: None, 6104: None, 6105: None, 6106: None, 6144: None, 6145: None, 6146: None, 6147: None, 6148: None, 6149: None, 6150: None, 6151: None, 6152: None, 6153: None, 6154: None, 6468: None, 6469: None, 6686: None, 6687: None, 6816: None, 6817: None, 6818: None, 6819: None, 6820: None, 6821: None, 6822: None, 6824: None, 6825: None, 6826: None, 6827: None, 6828: None, 6829: None, 7002: None, 7003: None, 7004: None, 7005: None, 7006: None, 7007: None, 7008: None, 7164: None, 7165: None, 7166: None, 7167: None, 7227: None, 7228: None, 7229: None, 7230: None, 7231: None, 7294: None, 7295: None, 7360: None, 7361: None, 7362: None, 7363: None, 7364: None, 7365: None, 7366: None, 7367: None, 7379: None, 8208: None, 8209: None, 8210: None, 8211: None, 8212: None, 8213: None, 8214: None, 8215: None, 8216: None, 8217: None, 8218: None, 8219: None, 8220: None, 8221: None, 8222: None, 8223: None, 8224: None, 8225: None, 8226: None, 8227: None, 8228: None, 8229: None, 8230: None, 8231: None, 8240: None, 8241: None, 8242: None, 8243: None, 8244: None, 8245: None, 8246: None, 8247: None, 8248: None, 8249: None, 8250: None, 8251: None, 8252: None, 8253: None, 8254: None, 8255: None, 8256: None, 8257: None, 8258: None, 8259: None, 8261: None, 8262: None, 8263: None, 8264: None, 8265: None, 8266: None, 8267: None, 8268: None, 8269: None, 8270: None, 8271: None, 8272: None, 8273: None, 8275: None, 8276: None, 8277: None, 8278: None, 8279: None, 8280: None, 8281: None, 8282: None, 8283: None, 8284: None, 8285: None, 8286: None, 8317: None, 8318: None, 8333: None, 8334: None, 8968: None, 8969: None, 8970: None, 8971: None, 9001: None, 9002: None, 10088: None, 10089: None, 10090: None, 10091: None, 10092: None, 10093: None, 10094: None, 10095: None, 10096: None, 10097: None, 10098: None, 10099: None, 10100: None, 10101: None, 10181: None, 10182: None, 10214: None, 10215: None, 10216: None, 10217: None, 10218: None, 10219: None, 10220: None, 10221: None, 10222: None, 10223: None, 10627: None, 10628: None, 10629: None, 10630: None, 10631: None, 10632: None, 10633: None, 10634: None, 10635: None, 10636: None, 10637: None, 10638: None, 10639: None, 10640: None, 10641: None, 10642: None, 10643: None, 10644: None, 10645: None, 10646: None, 10647: None, 10648: None, 10712: None, 10713: None, 10714: None, 10715: None, 10748: None, 10749: None, 11513: None, 11514: None, 11515: None, 11516: None, 11518: None, 11519: None, 11632: None, 11776: None, 11777: None, 11778: None, 11779: None, 11780: None, 11781: None, 11782: None, 11783: None, 11784: None, 11785: None, 11786: None, 11787: None, 11788: None, 11789: None, 11790: None, 11791: None, 11792: None, 11793: None, 11794: None, 11795: None, 11796: None, 11797: None, 11798: None, 11799: None, 11800: None, 11801: None, 11802: None, 11803: None, 11804: None, 11805: None, 11806: None, 11807: None, 11808: None, 11809: None, 11810: None, 11811: None, 11812: None, 11813: None, 11814: None, 11815: None, 11816: None, 11817: None, 11818: None, 11819: None, 11820: None, 11821: None, 11822: None, 11824: None, 11825: None, 11826: None, 11827: None, 11828: None, 11829: None, 11830: None, 11831: None, 11832: None, 11833: None, 11834: None, 11835: None, 11836: None, 11837: None, 11838: None, 11839: None, 11840: None, 11841: None, 11842: None, 11843: None, 11844: None, 11845: None, 11846: None, 11847: None, 11848: None, 11849: None, 11850: None, 11851: None, 11852: None, 11853: None, 11854: None, 11855: None, 12289: None, 12290: None, 12291: None, 12296: None, 12297: None, 12298: None, 12299: None, 12300: None, 12301: None, 12302: None, 12303: None, 12304: None, 12305: None, 12308: None, 12309: None, 12310: None, 12311: None, 12312: None, 12313: None, 12314: None, 12315: None, 12316: None, 12317: None, 12318: None, 12319: None, 12336: None, 12349: None, 12448: None, 12539: None, 42238: None, 42239: None, 42509: None, 42510: None, 42511: None, 42611: None, 42622: None, 42738: None, 42739: None, 42740: None, 42741: None, 42742: None, 42743: None, 43124: None, 43125: None, 43126: None, 43127: None, 43214: None, 43215: None, 43256: None, 43257: None, 43258: None, 43260: None, 43310: None, 43311: None, 43359: None, 43457: None, 43458: None, 43459: None, 43460: None, 43461: None, 43462: None, 43463: None, 43464: None, 43465: None, 43466: None, 43467: None, 43468: None, 43469: None, 43486: None, 43487: None, 43612: None, 43613: None, 43614: None, 43615: None, 43742: None, 43743: None, 43760: None, 43761: None, 44011: None, 64830: None, 64831: None, 65040: None, 65041: None, 65042: None, 65043: None, 65044: None, 65045: None, 65046: None, 65047: None, 65048: None, 65049: None, 65072: None, 65073: None, 65074: None, 65075: None, 65076: None, 65077: None, 65078: None, 65079: None, 65080: None, 65081: None, 65082: None, 65083: None, 65084: None, 65085: None, 65086: None, 65087: None, 65088: None, 65089: None, 65090: None, 65091: None, 65092: None, 65093: None, 65094: None, 65095: None, 65096: None, 65097: None, 65098: None, 65099: None, 65100: None, 65101: None, 65102: None, 65103: None, 65104: None, 65105: None, 65106: None, 65108: None, 65109: None, 65110: None, 65111: None, 65112: None, 65113: None, 65114: None, 65115: None, 65116: None, 65117: None, 65118: None, 65119: None, 65120: None, 65121: None, 65123: None, 65128: None, 65130: None, 65131: None, 65281: None, 65282: None, 65283: None, 65285: None, 65286: None, 65287: None, 65288: None, 65289: None, 65290: None, 65292: None, 65293: None, 65294: None, 65295: None, 65306: None, 65307: None, 65311: None, 65312: None, 65339: None, 65340: None, 65341: None, 65343: None, 65371: None, 65373: None, 65375: None, 65376: None, 65377: None, 65378: None, 65379: None, 65380: None, 65381: None, 65792: None, 65793: None, 65794: None, 66463: None, 66512: None, 66927: None, 67671: None, 67871: None, 67903: None, 68176: None, 68177: None, 68178: None, 68179: None, 68180: None, 68181: None, 68182: None, 68183: None, 68184: None, 68223: None, 68336: None, 68337: None, 68338: None, 68339: None, 68340: None, 68341: None, 68342: None, 68409: None, 68410: None, 68411: None, 68412: None, 68413: None, 68414: None, 68415: None, 68505: None, 68506: None, 68507: None, 68508: None, 69461: None, 69462: None, 69463: None, 69464: None, 69465: None, 69703: None, 69704: None, 69705: None, 69706: None, 69707: None, 69708: None, 69709: None, 69819: None, 69820: None, 69822: None, 69823: None, 69824: None, 69825: None, 69952: None, 69953: None, 69954: None, 69955: None, 70004: None, 70005: None, 70085: None, 70086: None, 70087: None, 70088: None, 70093: None, 70107: None, 70109: None, 70110: None, 70111: None, 70200: None, 70201: None, 70202: None, 70203: None, 70204: None, 70205: None, 70313: None, 70731: None, 70732: None, 70733: None, 70734: None, 70735: None, 70747: None, 70749: None, 70854: None, 71105: None, 71106: None, 71107: None, 71108: None, 71109: None, 71110: None, 71111: None, 71112: None, 71113: None, 71114: None, 71115: None, 71116: None, 71117: None, 71118: None, 71119: None, 71120: None, 71121: None, 71122: None, 71123: None, 71124: None, 71125: None, 71126: None, 71127: None, 71233: None, 71234: None, 71235: None, 71264: None, 71265: None, 71266: None, 71267: None, 71268: None, 71269: None, 71270: None, 71271: None, 71272: None, 71273: None, 71274: None, 71275: None, 71276: None, 71484: None, 71485: None, 71486: None, 71739: None, 72162: None, 72255: None, 72256: None, 72257: None, 72258: None, 72259: None, 72260: None, 72261: None, 72262: None, 72346: None, 72347: None, 72348: None, 72350: None, 72351: None, 72352: None, 72353: None, 72354: None, 72769: None, 72770: None, 72771: None, 72772: None, 72773: None, 72816: None, 72817: None, 73463: None, 73464: None, 73727: None, 74864: None, 74865: None, 74866: None, 74867: None, 74868: None, 92782: None, 92783: None, 92917: None, 92983: None, 92984: None, 92985: None, 92986: None, 92987: None, 92996: None, 93847: None, 93848: None, 93849: None, 93850: None, 94178: None, 113823: None, 121479: None, 121480: None, 121481: None, 121482: None, 121483: None, 125278: None, 125279: None}\n",
            "\n",
            "\n",
            "구두점 제거 =\n",
            " ['Hi I Love This Song', '100000 Agree LoveIT', 'Crazy']\n",
            "\n",
            "\n"
          ]
        }
      ]
    }
  ]
}