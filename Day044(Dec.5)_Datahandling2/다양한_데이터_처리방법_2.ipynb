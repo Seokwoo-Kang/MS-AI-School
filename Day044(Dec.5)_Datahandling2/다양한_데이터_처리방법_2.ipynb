{
  "nbformat": 4,
  "nbformat_minor": 0,
  "metadata": {
    "colab": {
      "provenance": []
    },
    "kernelspec": {
      "name": "python3",
      "display_name": "Python 3"
    },
    "language_info": {
      "name": "python"
    }
  },
  "cells": [
    {
      "cell_type": "markdown",
      "source": [
        "## 텍스트 토큰화"
      ],
      "metadata": {
        "id": "YjfTCP9BwJ04"
      }
    },
    {
      "cell_type": "code",
      "execution_count": 1,
      "metadata": {
        "id": "7DAPKszSsxCn"
      },
      "outputs": [],
      "source": [
        "from nltk.tokenize import sent_tokenize\n",
        "from nltk.tokenize import word_tokenize\n",
        "import nltk"
      ]
    },
    {
      "cell_type": "code",
      "source": [
        "# 구두점 데이터 다운로드\n",
        "nltk.download('punkt')"
      ],
      "metadata": {
        "colab": {
          "base_uri": "https://localhost:8080/"
        },
        "id": "6k2Q9zXDuMC9",
        "outputId": "5cf174f9-df2f-4838-e79b-f566d172a0c5"
      },
      "execution_count": 2,
      "outputs": [
        {
          "output_type": "stream",
          "name": "stderr",
          "text": [
            "[nltk_data] Downloading package punkt to /root/nltk_data...\n",
            "[nltk_data]   Unzipping tokenizers/punkt.zip.\n"
          ]
        },
        {
          "output_type": "execute_result",
          "data": {
            "text/plain": [
              "True"
            ]
          },
          "metadata": {},
          "execution_count": 2
        }
      ]
    },
    {
      "cell_type": "code",
      "source": [
        "# 텍스트 데이터 생성\n",
        "\n",
        "string_temp = \"The science of today is the technology of tomorrow. Today is great. WTF\"\n",
        "\n",
        "token_temp = word_tokenize(string_temp)\n",
        "print(token_temp)\n",
        "\n",
        "sent_temp = sent_tokenize(string_temp)\n",
        "print(sent_temp)"
      ],
      "metadata": {
        "colab": {
          "base_uri": "https://localhost:8080/"
        },
        "id": "wzEX4Z2NuSbw",
        "outputId": "42318f7f-7fb7-42cc-9454-3ed97a4e9f9a"
      },
      "execution_count": 5,
      "outputs": [
        {
          "output_type": "stream",
          "name": "stdout",
          "text": [
            "['The', 'science', 'of', 'today', 'is', 'the', 'technology', 'of', 'tomorrow', '.', 'Today', 'is', 'great', '.', 'WTF']\n",
            "['The science of today is the technology of tomorrow.', 'Today is great.', 'WTF']\n"
          ]
        }
      ]
    },
    {
      "cell_type": "markdown",
      "source": [
        "## 불용어 삭제"
      ],
      "metadata": {
        "id": "h5TUAbZVzTPs"
      }
    },
    {
      "cell_type": "code",
      "source": [
        "from nltk.corpus import stopwords\n",
        "nltk.download('stopwords')    # 불용어 데이터 다운"
      ],
      "metadata": {
        "colab": {
          "base_uri": "https://localhost:8080/"
        },
        "id": "ohD3bnLuzhWY",
        "outputId": "4ca362f0-45bb-4c88-f9fe-410ccc4cc33e"
      },
      "execution_count": 6,
      "outputs": [
        {
          "output_type": "stream",
          "name": "stderr",
          "text": [
            "[nltk_data] Downloading package stopwords to /root/nltk_data...\n",
            "[nltk_data]   Unzipping corpora/stopwords.zip.\n"
          ]
        },
        {
          "output_type": "execute_result",
          "data": {
            "text/plain": [
              "True"
            ]
          },
          "metadata": {},
          "execution_count": 6
        }
      ]
    },
    {
      "cell_type": "code",
      "source": [
        "# 단어 토큰 생성\n",
        "tokenized_words = ['i','am','going','to','go','to','the','store','and','park']"
      ],
      "metadata": {
        "id": "hbrsREnrztoS"
      },
      "execution_count": 7,
      "outputs": []
    },
    {
      "cell_type": "code",
      "source": [
        "# 불용어 로드\n",
        "stop_words = stopwords.words('english')\n",
        "print(\"불용어 리스트 길이 >>\", len(stop_words))\n",
        "print(\"불용어 리스트 >>\", stop_words)"
      ],
      "metadata": {
        "colab": {
          "base_uri": "https://localhost:8080/"
        },
        "id": "oFBxHI3uz6MO",
        "outputId": "52470166-5af5-4ddf-a14b-73c5f235e48d"
      },
      "execution_count": 14,
      "outputs": [
        {
          "output_type": "stream",
          "name": "stdout",
          "text": [
            "불용어 리스트 길이 >> 179\n",
            "불용어 리스트 >> ['i', 'me', 'my', 'myself', 'we', 'our', 'ours', 'ourselves', 'you', \"you're\", \"you've\", \"you'll\", \"you'd\", 'your', 'yours', 'yourself', 'yourselves', 'he', 'him', 'his', 'himself', 'she', \"she's\", 'her', 'hers', 'herself', 'it', \"it's\", 'its', 'itself', 'they', 'them', 'their', 'theirs', 'themselves', 'what', 'which', 'who', 'whom', 'this', 'that', \"that'll\", 'these', 'those', 'am', 'is', 'are', 'was', 'were', 'be', 'been', 'being', 'have', 'has', 'had', 'having', 'do', 'does', 'did', 'doing', 'a', 'an', 'the', 'and', 'but', 'if', 'or', 'because', 'as', 'until', 'while', 'of', 'at', 'by', 'for', 'with', 'about', 'against', 'between', 'into', 'through', 'during', 'before', 'after', 'above', 'below', 'to', 'from', 'up', 'down', 'in', 'out', 'on', 'off', 'over', 'under', 'again', 'further', 'then', 'once', 'here', 'there', 'when', 'where', 'why', 'how', 'all', 'any', 'both', 'each', 'few', 'more', 'most', 'other', 'some', 'such', 'no', 'nor', 'not', 'only', 'own', 'same', 'so', 'than', 'too', 'very', 's', 't', 'can', 'will', 'just', 'don', \"don't\", 'should', \"should've\", 'now', 'd', 'll', 'm', 'o', 're', 've', 'y', 'ain', 'aren', \"aren't\", 'couldn', \"couldn't\", 'didn', \"didn't\", 'doesn', \"doesn't\", 'hadn', \"hadn't\", 'hasn', \"hasn't\", 'haven', \"haven't\", 'isn', \"isn't\", 'ma', 'mightn', \"mightn't\", 'mustn', \"mustn't\", 'needn', \"needn't\", 'shan', \"shan't\", 'shouldn', \"shouldn't\", 'wasn', \"wasn't\", 'weren', \"weren't\", 'won', \"won't\", 'wouldn', \"wouldn't\"]\n"
          ]
        }
      ]
    },
    {
      "cell_type": "code",
      "source": [
        "# 불용어 삭제\n",
        "# [word for word in tokenized_words if word not in stop_words]\n",
        "\n",
        "for word in tokenized_words:\n",
        "  if word not in stop_words:\n",
        "    print(word)"
      ],
      "metadata": {
        "colab": {
          "base_uri": "https://localhost:8080/"
        },
        "id": "9ey8yPo50F0X",
        "outputId": "80fd8f3c-9b3e-4da5-9d73-f782160cc683"
      },
      "execution_count": 16,
      "outputs": [
        {
          "output_type": "stream",
          "name": "stdout",
          "text": [
            "going\n",
            "go\n",
            "store\n",
            "park\n"
          ]
        }
      ]
    },
    {
      "cell_type": "code",
      "source": [
        "# 불용어 확인\n",
        "stop_data = stop_words[:5]\n",
        "print(\"불용어 확인\", stop_data)"
      ],
      "metadata": {
        "colab": {
          "base_uri": "https://localhost:8080/"
        },
        "id": "7mz73iSl0NyV",
        "outputId": "b3232237-6a61-4cfb-aee4-165f338990ee"
      },
      "execution_count": 15,
      "outputs": [
        {
          "output_type": "stream",
          "name": "stdout",
          "text": [
            "불용어 확인 ['i', 'me', 'my', 'myself', 'we']\n"
          ]
        }
      ]
    },
    {
      "cell_type": "markdown",
      "source": [
        "## 어간 추출"
      ],
      "metadata": {
        "id": "IIEtbbC_2TtN"
      }
    },
    {
      "cell_type": "code",
      "source": [
        "from nltk.stem.porter import PorterStemmer"
      ],
      "metadata": {
        "id": "2A7AxAEK26xy"
      },
      "execution_count": 17,
      "outputs": []
    },
    {
      "cell_type": "code",
      "source": [
        "# 단어 토큰을 만듭니다.\n",
        "tokenized_words = ['i','am','humbled','by','this','traditional','meeting']"
      ],
      "metadata": {
        "id": "znU1edOP3ACn"
      },
      "execution_count": 18,
      "outputs": []
    },
    {
      "cell_type": "code",
      "source": [
        "# 어간 추출기를 만듭니다.\n",
        "porter = PorterStemmer()"
      ],
      "metadata": {
        "id": "OwOlTtxg3Mha"
      },
      "execution_count": 19,
      "outputs": []
    },
    {
      "cell_type": "code",
      "source": [
        "word_list = []"
      ],
      "metadata": {
        "id": "eWacBSbS3Rb2"
      },
      "execution_count": 20,
      "outputs": []
    },
    {
      "cell_type": "code",
      "source": [
        "# 어간 추출기를 적용합니다.\n",
        "for word in tokenized_words:\n",
        "  word_list.append(porter.stem(word))\n",
        "\n",
        "print(word_list)"
      ],
      "metadata": {
        "colab": {
          "base_uri": "https://localhost:8080/"
        },
        "id": "K5zF0NTa3UJ2",
        "outputId": "4dee1f32-ed64-4ecd-be77-f52c847f2c01"
      },
      "execution_count": 21,
      "outputs": [
        {
          "output_type": "stream",
          "name": "stdout",
          "text": [
            "['i', 'am', 'humbl', 'by', 'thi', 'tradit', 'meet']\n"
          ]
        }
      ]
    },
    {
      "cell_type": "markdown",
      "source": [
        "## 품사 태깅"
      ],
      "metadata": {
        "id": "NZLhjxfj4kP7"
      }
    },
    {
      "cell_type": "code",
      "source": [
        "from nltk import pos_tag\n",
        "from nltk import word_tokenize\n",
        "\n",
        "# 태거를 다운로드\n",
        "nltk.download('averaged_perceptron_tagger')\n",
        "\n",
        "# 샘플 텍스트 데이터\n",
        "text_data = \"Chris loved outdoor running\""
      ],
      "metadata": {
        "colab": {
          "base_uri": "https://localhost:8080/"
        },
        "id": "nqScrdSn3isJ",
        "outputId": "687d9efc-0c88-410d-9b82-d3c9ec6d25a3"
      },
      "execution_count": 23,
      "outputs": [
        {
          "output_type": "stream",
          "name": "stderr",
          "text": [
            "[nltk_data] Downloading package averaged_perceptron_tagger to\n",
            "[nltk_data]     /root/nltk_data...\n",
            "[nltk_data]   Unzipping taggers/averaged_perceptron_tagger.zip.\n"
          ]
        }
      ]
    },
    {
      "cell_type": "code",
      "source": [
        "# 사전 훈련된 품사 태깅을 사용합니다.\n",
        "text_tagged = pos_tag(word_tokenize(text_data))\n",
        "print(text_tagged)    # 품사확인(단어와 품사 태그로 이루어진 튜플의 리스트)"
      ],
      "metadata": {
        "colab": {
          "base_uri": "https://localhost:8080/"
        },
        "id": "oSnUZ0mx472D",
        "outputId": "f1ede31b-e499-4f38-9cbf-867dae8561e8"
      },
      "execution_count": 24,
      "outputs": [
        {
          "output_type": "stream",
          "name": "stdout",
          "text": [
            "[('Chris', 'NNP'), ('loved', 'VBD'), ('outdoor', 'RP'), ('running', 'VBG')]\n"
          ]
        }
      ]
    },
    {
      "cell_type": "markdown",
      "source": [
        "## 단어 중요도에 가중치 부여하기\n"
      ],
      "metadata": {
        "id": "C0XLRc-z6MSv"
      }
    },
    {
      "cell_type": "code",
      "source": [
        "import numpy as np\n",
        "from sklearn.feature_extraction.text import TfidfVectorizer"
      ],
      "metadata": {
        "id": "Zohf2FQL6Ppb"
      },
      "execution_count": 25,
      "outputs": []
    },
    {
      "cell_type": "code",
      "source": [
        "text_data = np.array(['I love Korea. Korea!',\n",
        "                      'Korea is best',\n",
        "                      'Germany beats both'])\n",
        "\n",
        "# tf-idf 특성 행렬을 만든다\n",
        "tfidf = TfidfVectorizer()\n",
        "feature_matrix = tfidf.fit_transform(text_data)\n",
        "feature_matrix      # tf-idf 특성 행렬 확인\n",
        "print(feature_matrix)\n",
        "feature_matrix.toarray()    # tf-idf 특성 행렬을 밀집 배열로 확인\n",
        "\n",
        "# 특성 이름을 확인\n",
        "tf = tfidf.vocabulary_\n",
        "print('\\n',tf)"
      ],
      "metadata": {
        "colab": {
          "base_uri": "https://localhost:8080/"
        },
        "id": "2CdCkXnY5J1r",
        "outputId": "fc96c8fb-995a-4a59-d7a1-320bc0dcb8b4"
      },
      "execution_count": 31,
      "outputs": [
        {
          "output_type": "stream",
          "name": "stdout",
          "text": [
            "  (0, 5)\t0.8355915419449176\n",
            "  (0, 6)\t0.5493512310263033\n",
            "  (1, 1)\t0.6227660078332259\n",
            "  (1, 4)\t0.6227660078332259\n",
            "  (1, 5)\t0.4736296010332684\n",
            "  (2, 2)\t0.5773502691896257\n",
            "  (2, 0)\t0.5773502691896257\n",
            "  (2, 3)\t0.5773502691896257\n",
            "\n",
            " {'love': 6, 'korea': 5, 'is': 4, 'best': 1, 'germany': 3, 'beats': 0, 'both': 2}\n"
          ]
        }
      ]
    },
    {
      "cell_type": "markdown",
      "source": [
        "## word cloud\n"
      ],
      "metadata": {
        "id": "d6oXdU5SB-6p"
      }
    },
    {
      "cell_type": "code",
      "source": [
        "!pip install pytagcloud"
      ],
      "metadata": {
        "colab": {
          "base_uri": "https://localhost:8080/"
        },
        "id": "CawFirB1CeMQ",
        "outputId": "f6df0c21-32d2-4fe4-f1ba-c273bab24e84"
      },
      "execution_count": 32,
      "outputs": [
        {
          "output_type": "stream",
          "name": "stdout",
          "text": [
            "Looking in indexes: https://pypi.org/simple, https://us-python.pkg.dev/colab-wheels/public/simple/\n",
            "Collecting pytagcloud\n",
            "  Downloading pytagcloud-0.3.5.tar.gz (754 kB)\n",
            "\u001b[K     |████████████████████████████████| 754 kB 7.4 MB/s \n",
            "\u001b[?25hBuilding wheels for collected packages: pytagcloud\n",
            "  Building wheel for pytagcloud (setup.py) ... \u001b[?25l\u001b[?25hdone\n",
            "  Created wheel for pytagcloud: filename=pytagcloud-0.3.5-py3-none-any.whl size=759868 sha256=766caf15e7c625ed7c3d7eccb1273a516a179469e8af7970ffe7fc5830092086\n",
            "  Stored in directory: /root/.cache/pip/wheels/be/9b/7d/911eafd2b3a1ab76aafb0d5929e7aede8db74f5436af7a2b9e\n",
            "Successfully built pytagcloud\n",
            "Installing collected packages: pytagcloud\n",
            "Successfully installed pytagcloud-0.3.5\n"
          ]
        }
      ]
    },
    {
      "cell_type": "code",
      "source": [
        "!pip install pygame"
      ],
      "metadata": {
        "colab": {
          "base_uri": "https://localhost:8080/"
        },
        "id": "Pex6pYu0CjDg",
        "outputId": "d91beb4d-574e-450f-d813-c68424764931"
      },
      "execution_count": 33,
      "outputs": [
        {
          "output_type": "stream",
          "name": "stdout",
          "text": [
            "Looking in indexes: https://pypi.org/simple, https://us-python.pkg.dev/colab-wheels/public/simple/\n",
            "Collecting pygame\n",
            "  Downloading pygame-2.1.2-cp38-cp38-manylinux_2_17_x86_64.manylinux2014_x86_64.whl (21.8 MB)\n",
            "\u001b[K     |████████████████████████████████| 21.8 MB 1.3 MB/s \n",
            "\u001b[?25hInstalling collected packages: pygame\n",
            "Successfully installed pygame-2.1.2\n"
          ]
        }
      ]
    },
    {
      "cell_type": "code",
      "source": [
        "!pip install simplejson"
      ],
      "metadata": {
        "colab": {
          "base_uri": "https://localhost:8080/"
        },
        "id": "x1Q03e9ODVLI",
        "outputId": "aa044a7e-f137-4ad0-b312-3d875cc2b52a"
      },
      "execution_count": 35,
      "outputs": [
        {
          "output_type": "stream",
          "name": "stdout",
          "text": [
            "Looking in indexes: https://pypi.org/simple, https://us-python.pkg.dev/colab-wheels/public/simple/\n",
            "Collecting simplejson\n",
            "  Downloading simplejson-3.18.0-cp38-cp38-manylinux_2_5_x86_64.manylinux1_x86_64.manylinux_2_12_x86_64.manylinux2010_x86_64.whl (139 kB)\n",
            "\u001b[K     |████████████████████████████████| 139 kB 5.9 MB/s \n",
            "\u001b[?25hInstalling collected packages: simplejson\n",
            "Successfully installed simplejson-3.18.0\n"
          ]
        }
      ]
    },
    {
      "cell_type": "code",
      "source": [
        "import pytagcloud\n",
        "import pygame\n",
        "\n",
        "tag =[('hello', 100), ('world', 80), ('Python', 120), ('kdb', 70), \n",
        "      ('nice', 60), ('Deep Learning', 20), ('DB', 40), ('great', 120), \n",
        "      ('MySQL', 110), ('DT', 125), ('SVM', 10), ('Text Data mining', 170), \n",
        "    ('kaggle', 45), ('randomForest', 55), ('Regresstion', 160), ('Loss Function', 195 ),\n",
        "]"
      ],
      "metadata": {
        "id": "Uys1dGN-7Vox"
      },
      "execution_count": 36,
      "outputs": []
    },
    {
      "cell_type": "code",
      "source": [
        "tag_list = pytagcloud.make_tags(tag, maxsize=50)  # tag화 시켜줌\n",
        "\n",
        "# 이미지 생성\n",
        "pytagcloud.create_tag_image(tag_list, 'word_cloud.jpg',\n",
        "                            size=(900,600), rectangular=False)\n",
        "\n",
        "print(tag_list)"
      ],
      "metadata": {
        "colab": {
          "base_uri": "https://localhost:8080/"
        },
        "id": "FHdSSh2rDb8M",
        "outputId": "0967e51b-eadd-4846-b341-908410839bfe"
      },
      "execution_count": 38,
      "outputs": [
        {
          "output_type": "stream",
          "name": "stdout",
          "text": [
            "[{'color': (121, 133, 21), 'size': 52, 'tag': 'Loss Function'}, {'color': (94, 161, 190), 'size': 46, 'tag': 'Text Data mining'}, {'color': (124, 140, 167), 'size': 44, 'tag': 'Regresstion'}, {'color': (89, 93, 172), 'size': 37, 'tag': 'DT'}, {'color': (195, 113, 125), 'size': 36, 'tag': 'Python'}, {'color': (188, 18, 177), 'size': 36, 'tag': 'great'}, {'color': (169, 214, 54), 'size': 34, 'tag': 'MySQL'}, {'color': (163, 190, 21), 'size': 31, 'tag': 'hello'}, {'color': (71, 61, 114), 'size': 27, 'tag': 'world'}, {'color': (39, 141, 131), 'size': 24, 'tag': 'kdb'}, {'color': (171, 33, 27), 'size': 22, 'tag': 'nice'}, {'color': (186, 161, 141), 'size': 20, 'tag': 'randomForest'}, {'color': (119, 73, 110), 'size': 18, 'tag': 'kaggle'}, {'color': (178, 143, 13), 'size': 16, 'tag': 'DB'}, {'color': (159, 38, 95), 'size': 10, 'tag': 'Deep Learning'}, {'color': (20, 129, 29), 'size': 7, 'tag': 'SVM'}]\n"
          ]
        }
      ]
    },
    {
      "cell_type": "code",
      "source": [
        "import webbrowser\n",
        "webbrowser.open('word_cloud.jpg')\n"
      ],
      "metadata": {
        "colab": {
          "base_uri": "https://localhost:8080/"
        },
        "id": "loOQV0YoDy_1",
        "outputId": "97f0ca82-29ca-49a9-9c79-73f05faae62b"
      },
      "execution_count": 44,
      "outputs": [
        {
          "output_type": "execute_result",
          "data": {
            "text/plain": [
              "False"
            ]
          },
          "metadata": {},
          "execution_count": 44
        }
      ]
    },
    {
      "cell_type": "markdown",
      "source": [
        "## 넷플릭스 영화 추천 시스템 구현 예제\n"
      ],
      "metadata": {
        "id": "dFaeV3yWFXeE"
      }
    },
    {
      "cell_type": "code",
      "source": [
        "import pandas as pd\n",
        "import numpy as np\n",
        "# 데이터 읽어오기\n",
        "\n",
        "movies = pd.read_csv(\"./movies.csv\")\n",
        "ratings = pd.read_csv(\"./ratings.csv\")\n",
        "print(movies)\n",
        "print(ratings)\n",
        "# 아이템 기반 협업 필터링 구현\n",
        "\n",
        "data =pd.merge(ratings, movies, on=\"movieId\")\n",
        "column = ['userId', 'movieId', 'rating','title','genres']\n",
        "data = data[column]\n",
        "print(data)\n",
        "moviedata = data.pivot_table(index=\"movieId\", columns='userId')['rating']\n",
        "print(moviedata)\n",
        "\n",
        "# NaN 값을 -1로 변경\n",
        "\n",
        "moviedata.fillna(-1, inplace=True)\n",
        "print(moviedata)\n",
        "from math import sqrt\n",
        "\n",
        "# kdd 유사도 함수\n",
        "\n",
        "def sim_distance(data, n1, n2):\n",
        "  sum=0\n",
        "  # 두 사용자가 모두 본 영화를 기준\n",
        "  for i in data.loc[n1, data.loc[n1, :] >= 0].index:\n",
        "    if data.loc[n2,i] >=0:\n",
        "      # 누적합\n",
        "      sum+= pow(data.loc[n1,i]-data.loc[n2,i], 2)\n",
        "\n",
        "  return sqrt(1/(sum+1))   # 유사도 형식으로 출력\n",
        "# 나와 유사도가 높은 유저 매칭 함수\n",
        "\n",
        "def top_match(data, name, rank = 5, simf = sim_distance):\n",
        "  simList = []\n",
        "  for i in data.index[-10:]:\n",
        "    if name != i:\n",
        "      simList.append((simf(data,name, i),i ))\n",
        "      \n",
        "  simList.sort()\n",
        "  simList.reverse()\n",
        "  return simList[:rank]\n",
        "# 추천 시스템 함수\n",
        "\n",
        "def recommendation(data, person, simf = sim_distance):\n",
        "  result_top = top_match(data, person, len(data))\n",
        "  score_dic = {}\n",
        "  sim_dic = {}\n",
        "  my_list = []\n",
        "  for sim, name in result_top:\n",
        "    if sim < 0 :\n",
        "      continue\n",
        "    for movie in data.loc[person, data.loc[person, :] < 0].index:\n",
        "      sim_sum = 0\n",
        "      if data.loc[name, movie] >= 0:\n",
        "        sim_sum += data.loc[name, movie]\n",
        "\n",
        "        score_dic.setdefault(movie, 0)\n",
        "        score_dic[movie] += sim_sum\n",
        "\n",
        "        sim_dic.setdefault(movie, 0)\n",
        "        sim_dic[movie] += sim\n",
        "\n",
        "    for key in score_dic:\n",
        "      my_list.append((score_dic[key]/sim_dic[key], key))\n",
        "    my_list.sort()\n",
        "    my_list.reverse()\n",
        "    return my_list\n",
        "# 20번 user가 안본 영화 중에서 \n",
        "# 추천 점수가 가장 높은 순으로 예상 평점과 영화 제목을 추천(15개까지)\n",
        "\n",
        "movie_list = []\n",
        "for rate, m_id in recommendation(moviedata, 20):\n",
        "  movie_list.append(\n",
        "      (rate, movies.loc[movies['movieId']== m_id,'title'].values[0]))\n",
        "  if len(movie_list) == 15:\n",
        "    break\n",
        "\n",
        "print(movie_list[:15])"
      ],
      "metadata": {
        "colab": {
          "base_uri": "https://localhost:8080/"
        },
        "id": "C7jWOXO7F_n7",
        "outputId": "bc3728b4-5bef-4aaa-aad3-29066b513aa4"
      },
      "execution_count": 97,
      "outputs": [
        {
          "output_type": "stream",
          "name": "stdout",
          "text": [
            "       movieId                               title  \\\n",
            "0            1                    Toy Story (1995)   \n",
            "1            2                      Jumanji (1995)   \n",
            "2            3             Grumpier Old Men (1995)   \n",
            "3            4            Waiting to Exhale (1995)   \n",
            "4            5  Father of the Bride Part II (1995)   \n",
            "...        ...                                 ...   \n",
            "27273   131254        Kein Bund für's Leben (2007)   \n",
            "27274   131256       Feuer, Eis & Dosenbier (2002)   \n",
            "27275   131258                  The Pirates (2014)   \n",
            "27276   131260                 Rentun Ruusu (2001)   \n",
            "27277   131262                    Innocence (2014)   \n",
            "\n",
            "                                            genres  \n",
            "0      Adventure|Animation|Children|Comedy|Fantasy  \n",
            "1                       Adventure|Children|Fantasy  \n",
            "2                                   Comedy|Romance  \n",
            "3                             Comedy|Drama|Romance  \n",
            "4                                           Comedy  \n",
            "...                                            ...  \n",
            "27273                                       Comedy  \n",
            "27274                                       Comedy  \n",
            "27275                                    Adventure  \n",
            "27276                           (no genres listed)  \n",
            "27277                     Adventure|Fantasy|Horror  \n",
            "\n",
            "[27278 rows x 3 columns]\n",
            "         userId  movieId  rating   timestamp\n",
            "0             1        2     3.5  1112486027\n",
            "1             1       29     3.5  1112484676\n",
            "2             1       32     3.5  1112484819\n",
            "3             1       47     3.5  1112484727\n",
            "4             1       50     3.5  1112484580\n",
            "...         ...      ...     ...         ...\n",
            "1048570    7120      168     5.0  1175543061\n",
            "1048571    7120      253     4.0  1175542225\n",
            "1048572    7120      260     5.0  1175542035\n",
            "1048573    7120      261     4.0  1175543376\n",
            "1048574    7120      266     3.5  1175542454\n",
            "\n",
            "[1048575 rows x 4 columns]\n",
            "         userId  movieId  rating  \\\n",
            "0             1        2     3.5   \n",
            "1             5        2     3.0   \n",
            "2            13        2     3.0   \n",
            "3            29        2     3.0   \n",
            "4            34        2     3.0   \n",
            "...         ...      ...     ...   \n",
            "1048570    7066    88572     1.5   \n",
            "1048571    7066   112412     4.5   \n",
            "1048572    7077    32013     3.5   \n",
            "1048573    7086   102596     4.5   \n",
            "1048574    7110    65651     2.0   \n",
            "\n",
            "                                                     title  \\\n",
            "0                                           Jumanji (1995)   \n",
            "1                                           Jumanji (1995)   \n",
            "2                                           Jumanji (1995)   \n",
            "3                                           Jumanji (1995)   \n",
            "4                                           Jumanji (1995)   \n",
            "...                                                    ...   \n",
            "1048570                             Fred: The Movie (2010)   \n",
            "1048571                             Perfect Sisters (2014)   \n",
            "1048572   Loop the Loop (Up and Down) (Horem pádem) (2004)   \n",
            "1048573  180° South (180 Degrees South) (180° South: Co...   \n",
            "1048574                                Fire and Ice (2008)   \n",
            "\n",
            "                             genres  \n",
            "0        Adventure|Children|Fantasy  \n",
            "1        Adventure|Children|Fantasy  \n",
            "2        Adventure|Children|Fantasy  \n",
            "3        Adventure|Children|Fantasy  \n",
            "4        Adventure|Children|Fantasy  \n",
            "...                             ...  \n",
            "1048570                      Comedy  \n",
            "1048571               Drama|Mystery  \n",
            "1048572                      Comedy  \n",
            "1048573           Documentary|Drama  \n",
            "1048574           Adventure|Fantasy  \n",
            "\n",
            "[1048575 rows x 5 columns]\n",
            "userId   1     2     3     4     5     6     7     8     9     10    ...  \\\n",
            "movieId                                                              ...   \n",
            "1         NaN   NaN   4.0   NaN   NaN   5.0   NaN   4.0   NaN   4.0  ...   \n",
            "2         3.5   NaN   NaN   NaN   3.0   NaN   NaN   NaN   NaN   NaN  ...   \n",
            "3         NaN   4.0   NaN   NaN   NaN   3.0   3.0   5.0   NaN   NaN  ...   \n",
            "4         NaN   NaN   NaN   NaN   NaN   NaN   NaN   NaN   NaN   NaN  ...   \n",
            "5         NaN   NaN   NaN   NaN   NaN   NaN   NaN   NaN   NaN   NaN  ...   \n",
            "...       ...   ...   ...   ...   ...   ...   ...   ...   ...   ...  ...   \n",
            "130073    NaN   NaN   NaN   NaN   NaN   NaN   NaN   NaN   NaN   NaN  ...   \n",
            "130219    NaN   NaN   NaN   NaN   NaN   NaN   NaN   NaN   NaN   NaN  ...   \n",
            "130462    NaN   NaN   NaN   NaN   NaN   NaN   NaN   NaN   NaN   NaN  ...   \n",
            "130490    NaN   NaN   NaN   NaN   NaN   NaN   NaN   NaN   NaN   NaN  ...   \n",
            "130642    NaN   NaN   NaN   NaN   NaN   NaN   NaN   NaN   NaN   NaN  ...   \n",
            "\n",
            "userId   7111  7112  7113  7114  7115  7116  7117  7118  7119  7120  \n",
            "movieId                                                              \n",
            "1         NaN   NaN   NaN   NaN   NaN   4.0   4.0   NaN   5.0   4.5  \n",
            "2         NaN   NaN   NaN   NaN   NaN   NaN   NaN   NaN   NaN   4.0  \n",
            "3         NaN   NaN   NaN   NaN   NaN   NaN   4.0   NaN   NaN   NaN  \n",
            "4         NaN   NaN   NaN   NaN   NaN   NaN   NaN   NaN   NaN   NaN  \n",
            "5         NaN   NaN   NaN   NaN   4.0   3.5   NaN   NaN   NaN   NaN  \n",
            "...       ...   ...   ...   ...   ...   ...   ...   ...   ...   ...  \n",
            "130073    NaN   NaN   NaN   NaN   NaN   NaN   NaN   NaN   NaN   NaN  \n",
            "130219    NaN   NaN   NaN   NaN   NaN   NaN   NaN   NaN   NaN   NaN  \n",
            "130462    NaN   NaN   NaN   NaN   NaN   NaN   NaN   NaN   NaN   NaN  \n",
            "130490    NaN   NaN   NaN   NaN   NaN   NaN   NaN   NaN   NaN   NaN  \n",
            "130642    NaN   NaN   NaN   NaN   NaN   NaN   NaN   NaN   NaN   NaN  \n",
            "\n",
            "[14026 rows x 7120 columns]\n",
            "userId   1     2     3     4     5     6     7     8     9     10    ...  \\\n",
            "movieId                                                              ...   \n",
            "1        -1.0  -1.0   4.0  -1.0  -1.0   5.0  -1.0   4.0  -1.0   4.0  ...   \n",
            "2         3.5  -1.0  -1.0  -1.0   3.0  -1.0  -1.0  -1.0  -1.0  -1.0  ...   \n",
            "3        -1.0   4.0  -1.0  -1.0  -1.0   3.0   3.0   5.0  -1.0  -1.0  ...   \n",
            "4        -1.0  -1.0  -1.0  -1.0  -1.0  -1.0  -1.0  -1.0  -1.0  -1.0  ...   \n",
            "5        -1.0  -1.0  -1.0  -1.0  -1.0  -1.0  -1.0  -1.0  -1.0  -1.0  ...   \n",
            "...       ...   ...   ...   ...   ...   ...   ...   ...   ...   ...  ...   \n",
            "130073   -1.0  -1.0  -1.0  -1.0  -1.0  -1.0  -1.0  -1.0  -1.0  -1.0  ...   \n",
            "130219   -1.0  -1.0  -1.0  -1.0  -1.0  -1.0  -1.0  -1.0  -1.0  -1.0  ...   \n",
            "130462   -1.0  -1.0  -1.0  -1.0  -1.0  -1.0  -1.0  -1.0  -1.0  -1.0  ...   \n",
            "130490   -1.0  -1.0  -1.0  -1.0  -1.0  -1.0  -1.0  -1.0  -1.0  -1.0  ...   \n",
            "130642   -1.0  -1.0  -1.0  -1.0  -1.0  -1.0  -1.0  -1.0  -1.0  -1.0  ...   \n",
            "\n",
            "userId   7111  7112  7113  7114  7115  7116  7117  7118  7119  7120  \n",
            "movieId                                                              \n",
            "1        -1.0  -1.0  -1.0  -1.0  -1.0   4.0   4.0  -1.0   5.0   4.5  \n",
            "2        -1.0  -1.0  -1.0  -1.0  -1.0  -1.0  -1.0  -1.0  -1.0   4.0  \n",
            "3        -1.0  -1.0  -1.0  -1.0  -1.0  -1.0   4.0  -1.0  -1.0  -1.0  \n",
            "4        -1.0  -1.0  -1.0  -1.0  -1.0  -1.0  -1.0  -1.0  -1.0  -1.0  \n",
            "5        -1.0  -1.0  -1.0  -1.0   4.0   3.5  -1.0  -1.0  -1.0  -1.0  \n",
            "...       ...   ...   ...   ...   ...   ...   ...   ...   ...   ...  \n",
            "130073   -1.0  -1.0  -1.0  -1.0  -1.0  -1.0  -1.0  -1.0  -1.0  -1.0  \n",
            "130219   -1.0  -1.0  -1.0  -1.0  -1.0  -1.0  -1.0  -1.0  -1.0  -1.0  \n",
            "130462   -1.0  -1.0  -1.0  -1.0  -1.0  -1.0  -1.0  -1.0  -1.0  -1.0  \n",
            "130490   -1.0  -1.0  -1.0  -1.0  -1.0  -1.0  -1.0  -1.0  -1.0  -1.0  \n",
            "130642   -1.0  -1.0  -1.0  -1.0  -1.0  -1.0  -1.0  -1.0  -1.0  -1.0  \n",
            "\n",
            "[14026 rows x 7120 columns]\n",
            "[(3.0, 'Cecil B. DeMented (2000)')]\n"
          ]
        }
      ]
    },
    {
      "cell_type": "code",
      "source": [
        "# 데이터 읽어오기\n",
        "\n",
        "movies = pd.read_csv(\"./movies.csv\")\n",
        "ratings = pd.read_csv(\"./ratings.csv\")"
      ],
      "metadata": {
        "id": "hFqy4Mm7FaTB"
      },
      "execution_count": 72,
      "outputs": []
    },
    {
      "cell_type": "code",
      "source": [
        "print(movies)\n",
        "print(ratings)"
      ],
      "metadata": {
        "colab": {
          "base_uri": "https://localhost:8080/"
        },
        "id": "0k5MjwTNECX2",
        "outputId": "78c0c9e6-a95a-4473-bc13-307cce3b84da"
      },
      "execution_count": 49,
      "outputs": [
        {
          "output_type": "stream",
          "name": "stdout",
          "text": [
            "       movieId                               title  \\\n",
            "0            1                    Toy Story (1995)   \n",
            "1            2                      Jumanji (1995)   \n",
            "2            3             Grumpier Old Men (1995)   \n",
            "3            4            Waiting to Exhale (1995)   \n",
            "4            5  Father of the Bride Part II (1995)   \n",
            "...        ...                                 ...   \n",
            "27273   131254        Kein Bund für's Leben (2007)   \n",
            "27274   131256       Feuer, Eis & Dosenbier (2002)   \n",
            "27275   131258                  The Pirates (2014)   \n",
            "27276   131260                 Rentun Ruusu (2001)   \n",
            "27277   131262                    Innocence (2014)   \n",
            "\n",
            "                                            genres  \n",
            "0      Adventure|Animation|Children|Comedy|Fantasy  \n",
            "1                       Adventure|Children|Fantasy  \n",
            "2                                   Comedy|Romance  \n",
            "3                             Comedy|Drama|Romance  \n",
            "4                                           Comedy  \n",
            "...                                            ...  \n",
            "27273                                       Comedy  \n",
            "27274                                       Comedy  \n",
            "27275                                    Adventure  \n",
            "27276                           (no genres listed)  \n",
            "27277                     Adventure|Fantasy|Horror  \n",
            "\n",
            "[27278 rows x 3 columns]\n",
            "        userId  movieId  rating     timestamp\n",
            "0            1        2     3.5  1.112486e+09\n",
            "1            1       29     3.5  1.112485e+09\n",
            "2            1       32     3.5  1.112485e+09\n",
            "3            1       47     3.5  1.112485e+09\n",
            "4            1       50     3.5  1.112485e+09\n",
            "...        ...      ...     ...           ...\n",
            "965770    6480      432     3.0  8.578103e+08\n",
            "965771    6480      434     3.0  8.578114e+08\n",
            "965772    6480      435     2.0  8.578104e+08\n",
            "965773    6480      436     3.0  8.578110e+08\n",
            "965774    6480      440     3.0           NaN\n",
            "\n",
            "[965775 rows x 4 columns]\n"
          ]
        }
      ]
    },
    {
      "cell_type": "code",
      "source": [
        "# 아이템 기반 협업 필터링 구현\n",
        "\n",
        "data =pd.merge(ratings, movies, on=\"movieId\")\n",
        "column = ['userId', 'movieId', 'rating','title','genres']\n",
        "data = data[column]\n",
        "print(data)"
      ],
      "metadata": {
        "colab": {
          "base_uri": "https://localhost:8080/"
        },
        "id": "-25ZNOtpGeAI",
        "outputId": "3f4ba384-3e56-4ff4-e7ca-d57ad8a7afd9"
      },
      "execution_count": 73,
      "outputs": [
        {
          "output_type": "stream",
          "name": "stdout",
          "text": [
            "         userId  movieId  rating  \\\n",
            "0             1        2     3.5   \n",
            "1             5        2     3.0   \n",
            "2            13        2     3.0   \n",
            "3            29        2     3.0   \n",
            "4            34        2     3.0   \n",
            "...         ...      ...     ...   \n",
            "1048570    7066    88572     1.5   \n",
            "1048571    7066   112412     4.5   \n",
            "1048572    7077    32013     3.5   \n",
            "1048573    7086   102596     4.5   \n",
            "1048574    7110    65651     2.0   \n",
            "\n",
            "                                                     title  \\\n",
            "0                                           Jumanji (1995)   \n",
            "1                                           Jumanji (1995)   \n",
            "2                                           Jumanji (1995)   \n",
            "3                                           Jumanji (1995)   \n",
            "4                                           Jumanji (1995)   \n",
            "...                                                    ...   \n",
            "1048570                             Fred: The Movie (2010)   \n",
            "1048571                             Perfect Sisters (2014)   \n",
            "1048572   Loop the Loop (Up and Down) (Horem pádem) (2004)   \n",
            "1048573  180° South (180 Degrees South) (180° South: Co...   \n",
            "1048574                                Fire and Ice (2008)   \n",
            "\n",
            "                             genres  \n",
            "0        Adventure|Children|Fantasy  \n",
            "1        Adventure|Children|Fantasy  \n",
            "2        Adventure|Children|Fantasy  \n",
            "3        Adventure|Children|Fantasy  \n",
            "4        Adventure|Children|Fantasy  \n",
            "...                             ...  \n",
            "1048570                      Comedy  \n",
            "1048571               Drama|Mystery  \n",
            "1048572                      Comedy  \n",
            "1048573           Documentary|Drama  \n",
            "1048574           Adventure|Fantasy  \n",
            "\n",
            "[1048575 rows x 5 columns]\n"
          ]
        }
      ]
    },
    {
      "cell_type": "code",
      "source": [
        "moviedata = data.pivot_table(index=\"movieId\", columns='userId')['rating']\n",
        "print(moviedata)\n"
      ],
      "metadata": {
        "colab": {
          "base_uri": "https://localhost:8080/"
        },
        "id": "604FZ_bOH3_P",
        "outputId": "8f2fb6b0-69d9-4e1f-aa25-b0582653a165"
      },
      "execution_count": 74,
      "outputs": [
        {
          "output_type": "stream",
          "name": "stdout",
          "text": [
            "userId   1     2     3     4     5     6     7     8     9     10    ...  \\\n",
            "movieId                                                              ...   \n",
            "1         NaN   NaN   4.0   NaN   NaN   5.0   NaN   4.0   NaN   4.0  ...   \n",
            "2         3.5   NaN   NaN   NaN   3.0   NaN   NaN   NaN   NaN   NaN  ...   \n",
            "3         NaN   4.0   NaN   NaN   NaN   3.0   3.0   5.0   NaN   NaN  ...   \n",
            "4         NaN   NaN   NaN   NaN   NaN   NaN   NaN   NaN   NaN   NaN  ...   \n",
            "5         NaN   NaN   NaN   NaN   NaN   NaN   NaN   NaN   NaN   NaN  ...   \n",
            "...       ...   ...   ...   ...   ...   ...   ...   ...   ...   ...  ...   \n",
            "130073    NaN   NaN   NaN   NaN   NaN   NaN   NaN   NaN   NaN   NaN  ...   \n",
            "130219    NaN   NaN   NaN   NaN   NaN   NaN   NaN   NaN   NaN   NaN  ...   \n",
            "130462    NaN   NaN   NaN   NaN   NaN   NaN   NaN   NaN   NaN   NaN  ...   \n",
            "130490    NaN   NaN   NaN   NaN   NaN   NaN   NaN   NaN   NaN   NaN  ...   \n",
            "130642    NaN   NaN   NaN   NaN   NaN   NaN   NaN   NaN   NaN   NaN  ...   \n",
            "\n",
            "userId   7111  7112  7113  7114  7115  7116  7117  7118  7119  7120  \n",
            "movieId                                                              \n",
            "1         NaN   NaN   NaN   NaN   NaN   4.0   4.0   NaN   5.0   4.5  \n",
            "2         NaN   NaN   NaN   NaN   NaN   NaN   NaN   NaN   NaN   4.0  \n",
            "3         NaN   NaN   NaN   NaN   NaN   NaN   4.0   NaN   NaN   NaN  \n",
            "4         NaN   NaN   NaN   NaN   NaN   NaN   NaN   NaN   NaN   NaN  \n",
            "5         NaN   NaN   NaN   NaN   4.0   3.5   NaN   NaN   NaN   NaN  \n",
            "...       ...   ...   ...   ...   ...   ...   ...   ...   ...   ...  \n",
            "130073    NaN   NaN   NaN   NaN   NaN   NaN   NaN   NaN   NaN   NaN  \n",
            "130219    NaN   NaN   NaN   NaN   NaN   NaN   NaN   NaN   NaN   NaN  \n",
            "130462    NaN   NaN   NaN   NaN   NaN   NaN   NaN   NaN   NaN   NaN  \n",
            "130490    NaN   NaN   NaN   NaN   NaN   NaN   NaN   NaN   NaN   NaN  \n",
            "130642    NaN   NaN   NaN   NaN   NaN   NaN   NaN   NaN   NaN   NaN  \n",
            "\n",
            "[14026 rows x 7120 columns]\n"
          ]
        }
      ]
    },
    {
      "cell_type": "code",
      "source": [
        "# NaN 값을 -1로 변경\n",
        "\n",
        "moviedata.fillna(-1, inplace=True)\n",
        "print(moviedata)"
      ],
      "metadata": {
        "colab": {
          "base_uri": "https://localhost:8080/"
        },
        "id": "Zx30cxDBIyx0",
        "outputId": "7c7c7b57-8194-4147-f46b-f892e83db215"
      },
      "execution_count": 75,
      "outputs": [
        {
          "output_type": "stream",
          "name": "stdout",
          "text": [
            "userId   1     2     3     4     5     6     7     8     9     10    ...  \\\n",
            "movieId                                                              ...   \n",
            "1        -1.0  -1.0   4.0  -1.0  -1.0   5.0  -1.0   4.0  -1.0   4.0  ...   \n",
            "2         3.5  -1.0  -1.0  -1.0   3.0  -1.0  -1.0  -1.0  -1.0  -1.0  ...   \n",
            "3        -1.0   4.0  -1.0  -1.0  -1.0   3.0   3.0   5.0  -1.0  -1.0  ...   \n",
            "4        -1.0  -1.0  -1.0  -1.0  -1.0  -1.0  -1.0  -1.0  -1.0  -1.0  ...   \n",
            "5        -1.0  -1.0  -1.0  -1.0  -1.0  -1.0  -1.0  -1.0  -1.0  -1.0  ...   \n",
            "...       ...   ...   ...   ...   ...   ...   ...   ...   ...   ...  ...   \n",
            "130073   -1.0  -1.0  -1.0  -1.0  -1.0  -1.0  -1.0  -1.0  -1.0  -1.0  ...   \n",
            "130219   -1.0  -1.0  -1.0  -1.0  -1.0  -1.0  -1.0  -1.0  -1.0  -1.0  ...   \n",
            "130462   -1.0  -1.0  -1.0  -1.0  -1.0  -1.0  -1.0  -1.0  -1.0  -1.0  ...   \n",
            "130490   -1.0  -1.0  -1.0  -1.0  -1.0  -1.0  -1.0  -1.0  -1.0  -1.0  ...   \n",
            "130642   -1.0  -1.0  -1.0  -1.0  -1.0  -1.0  -1.0  -1.0  -1.0  -1.0  ...   \n",
            "\n",
            "userId   7111  7112  7113  7114  7115  7116  7117  7118  7119  7120  \n",
            "movieId                                                              \n",
            "1        -1.0  -1.0  -1.0  -1.0  -1.0   4.0   4.0  -1.0   5.0   4.5  \n",
            "2        -1.0  -1.0  -1.0  -1.0  -1.0  -1.0  -1.0  -1.0  -1.0   4.0  \n",
            "3        -1.0  -1.0  -1.0  -1.0  -1.0  -1.0   4.0  -1.0  -1.0  -1.0  \n",
            "4        -1.0  -1.0  -1.0  -1.0  -1.0  -1.0  -1.0  -1.0  -1.0  -1.0  \n",
            "5        -1.0  -1.0  -1.0  -1.0   4.0   3.5  -1.0  -1.0  -1.0  -1.0  \n",
            "...       ...   ...   ...   ...   ...   ...   ...   ...   ...   ...  \n",
            "130073   -1.0  -1.0  -1.0  -1.0  -1.0  -1.0  -1.0  -1.0  -1.0  -1.0  \n",
            "130219   -1.0  -1.0  -1.0  -1.0  -1.0  -1.0  -1.0  -1.0  -1.0  -1.0  \n",
            "130462   -1.0  -1.0  -1.0  -1.0  -1.0  -1.0  -1.0  -1.0  -1.0  -1.0  \n",
            "130490   -1.0  -1.0  -1.0  -1.0  -1.0  -1.0  -1.0  -1.0  -1.0  -1.0  \n",
            "130642   -1.0  -1.0  -1.0  -1.0  -1.0  -1.0  -1.0  -1.0  -1.0  -1.0  \n",
            "\n",
            "[14026 rows x 7120 columns]\n"
          ]
        }
      ]
    },
    {
      "cell_type": "code",
      "source": [
        "from math import sqrt\n",
        "\n",
        "# kdd 유사도 함수\n",
        "\n",
        "def sim_distance(data, n1, n2):\n",
        "  sum=0\n",
        "  # 두 사용자가 모두 본 영화를 기준\n",
        "  for i in data.loc[n1, data.loc[n1, :] >= 0].index:\n",
        "    if data.loc[n2,i] >=0:\n",
        "      # 누적합\n",
        "      sum+= pow(data.loc[n1,i]-data.loc[n2,i], 2)\n",
        "\n",
        "  return sqrt(1/(sum+1))   # 유사도 형식으로 출력"
      ],
      "metadata": {
        "id": "arkWHKlHI8hN"
      },
      "execution_count": 98,
      "outputs": []
    },
    {
      "cell_type": "code",
      "source": [
        "# 나와 유사도가 높은 유저 매칭 함수\n",
        "\n",
        "def top_match(data, name, rank = 5, simf = sim_distance):\n",
        "  simList = []\n",
        "  for i in data.index[-10:]:\n",
        "    if name != i:\n",
        "      simList.append((simf(data,name, i),i ))\n",
        "      \n",
        "  simList.sort()\n",
        "  simList.reverse()\n",
        "  return simList[:rank]"
      ],
      "metadata": {
        "id": "Bf057IeKLCoK"
      },
      "execution_count": 99,
      "outputs": []
    },
    {
      "cell_type": "code",
      "source": [
        "# 추천 시스템 함수\n",
        "\n",
        "def recommendation(data, person, simf = sim_distance):\n",
        "  result_top = top_match(data, person, len(data))\n",
        "  score_dic = {}\n",
        "  sim_dic = {}\n",
        "  my_list = []\n",
        "  for sim, name in result_top:\n",
        "    if sim < 0 :\n",
        "      continue\n",
        "    for movie in data.loc[person, data.loc[person, :] < 0].index:\n",
        "      sim_sum = 0\n",
        "      if data.loc[name, movie] >= 0:\n",
        "        sim_sum += data.loc[name, movie]\n",
        "\n",
        "        score_dic.setdefault(movie, 0)\n",
        "        score_dic[movie] += sim_sum\n",
        "\n",
        "        sim_dic.setdefault(movie, 0)\n",
        "        sim_dic[movie] += sim\n",
        "\n",
        "    for key in score_dic:\n",
        "      my_list.append((score_dic[key]/sim_dic[key], key))\n",
        "    my_list.sort()\n",
        "    my_list.reverse()\n",
        "    return my_list"
      ],
      "metadata": {
        "id": "Laa2VE9wcgFK"
      },
      "execution_count": 100,
      "outputs": []
    },
    {
      "cell_type": "code",
      "source": [
        "# 20번 user가 안본 영화 중에서 \n",
        "# 추천 점수가 가장 높은 순으로 예상 평점과 영화 제목을 추천(15개까지)\n",
        "\n",
        "movie_list = []\n",
        "for rate, m_id in recommendation(moviedata, 20):\n",
        "  movie_list.append(\n",
        "      (rate, movies.loc[movies['movieId']== m_id,'title'].values[0]))\n",
        "  if len(movie_list) == 15:\n",
        "    break\n",
        "\n",
        "print(movie_list[:15])"
      ],
      "metadata": {
        "colab": {
          "base_uri": "https://localhost:8080/"
        },
        "id": "TuoaYmm-fEQ9",
        "outputId": "b63a13eb-fdf2-40e2-8d7c-b64d2cb85e52"
      },
      "execution_count": 101,
      "outputs": [
        {
          "output_type": "stream",
          "name": "stdout",
          "text": [
            "[(3.0, 'Cecil B. DeMented (2000)')]\n"
          ]
        }
      ]
    },
    {
      "cell_type": "markdown",
      "source": [
        "# 날짜데이터"
      ],
      "metadata": {
        "id": "TsEa3Nuzttzc"
      }
    },
    {
      "cell_type": "markdown",
      "source": [
        "## 문자열을 날짜로 변환"
      ],
      "metadata": {
        "id": "mk1Z5Pcciou5"
      }
    },
    {
      "cell_type": "code",
      "source": [
        "date_strings = np.array(['03-12-2022 04:23 AM',\n",
        "                        '03-12-2022 06:11 PM',\n",
        "                        '28-08-2022 08:48 PM'])\n",
        "\n",
        "# Timestamp 객체로 변환\n",
        "for date in date_strings:\n",
        "  pd.to_datetime(date, format='%d-%m-%Y %I:%M %p')\n",
        "\n",
        "# for date in date_strings:\n",
        "#   pd.to_datetime(date, format=\"%d-%m-%Y %I:%M %p\", errors=\"ignore\")\n",
        "\n",
        "data = pd.to_datetime(date_strings)\n",
        "print(data)"
      ],
      "metadata": {
        "colab": {
          "base_uri": "https://localhost:8080/"
        },
        "id": "49AbDTL5in_M",
        "outputId": "c8aac740-1ab5-49af-da62-807849278bbd"
      },
      "execution_count": 108,
      "outputs": [
        {
          "output_type": "stream",
          "name": "stdout",
          "text": [
            "DatetimeIndex(['2022-03-12 04:23:00', '2022-03-12 18:11:00',\n",
            "               '2022-08-28 20:48:00'],\n",
            "              dtype='datetime64[ns]', freq=None)\n"
          ]
        }
      ]
    },
    {
      "cell_type": "code",
      "source": [
        "date_strings = np.array(['03-12-2022 04:23 AM',\n",
        "                        '03-12-2022 06:11 PM',\n",
        "                        '28-08-2022 08:48 PM'])\n",
        "\n",
        "# Timestamp 객체로 변환\n",
        "for date in date_strings:\n",
        "  pd.to_datetime(date, format='%d-%m-%Y %I:%M %p')\n",
        "\n",
        "for date in date_strings:\n",
        "  pd.to_datetime(date, format=\"%d-%m-%Y %I:%M %p\", errors=\"ignore\")\n",
        "\n",
        "data = pd.to_datetime(date_strings)\n",
        "print(data)"
      ],
      "metadata": {
        "colab": {
          "base_uri": "https://localhost:8080/"
        },
        "id": "IdSrpVKJkFnI",
        "outputId": "7b1e259d-ae64-401b-dc19-ca747e06ff3b"
      },
      "execution_count": 109,
      "outputs": [
        {
          "output_type": "stream",
          "name": "stdout",
          "text": [
            "DatetimeIndex(['2022-03-12 04:23:00', '2022-03-12 18:11:00',\n",
            "               '2022-08-28 20:48:00'],\n",
            "              dtype='datetime64[ns]', freq=None)\n"
          ]
        }
      ]
    },
    {
      "cell_type": "markdown",
      "source": [
        "## 시간대 데이터 처리\n"
      ],
      "metadata": {
        "id": "ahFOItrUlVqG"
      }
    },
    {
      "cell_type": "code",
      "source": [
        "# datetime 만들기\n",
        "pd.Timestamp('2017-05-01 06:00:00', tz='Europe/London')\n",
        "date = pd.Timestamp('2017-05-01 06:00:00')\n",
        "print('\\n', date)\n",
        "\n",
        "# 시간대 지정\n",
        "date_in_london = date.tz_localize('Europe/London')\n",
        "date_in_london\n",
        "print('\\n', date_in_london)\n",
        "\n",
        "# 시간대를 변환\n",
        "date_in_london.tz_convert('Africa/Abidjan')\n",
        "\n",
        "# 세 개의 날짜를 만듭니다.\n",
        "dates = pd.Series(pd.date_range('2/2/2002', periods=3, freq='M'))\n",
        "temp = dates.dt.tz_localize('Africa/Abidjan')     # 시간대 지정\n",
        "\n",
        "print('\\n', temp)"
      ],
      "metadata": {
        "colab": {
          "base_uri": "https://localhost:8080/"
        },
        "id": "tGlrUJcllXhf",
        "outputId": "89f4326c-8ff7-437c-9c78-b77b41968e2b"
      },
      "execution_count": 89,
      "outputs": [
        {
          "output_type": "stream",
          "name": "stdout",
          "text": [
            "\n",
            " 2017-05-01 06:00:00\n",
            "\n",
            " 2017-05-01 06:00:00+01:00\n",
            "\n",
            " 0   2002-02-28 00:00:00+00:00\n",
            "1   2002-03-31 00:00:00+00:00\n",
            "2   2002-04-30 00:00:00+00:00\n",
            "dtype: datetime64[ns, Africa/Abidjan]\n"
          ]
        }
      ]
    },
    {
      "cell_type": "code",
      "source": [
        "!pip install pytz"
      ],
      "metadata": {
        "colab": {
          "base_uri": "https://localhost:8080/"
        },
        "id": "bJHqRD39nfSv",
        "outputId": "0af7ddd6-1834-4d7a-e3d4-2b0efce8a731"
      },
      "execution_count": 91,
      "outputs": [
        {
          "output_type": "stream",
          "name": "stdout",
          "text": [
            "Looking in indexes: https://pypi.org/simple, https://us-python.pkg.dev/colab-wheels/public/simple/\n",
            "Requirement already satisfied: pytz in /usr/local/lib/python3.8/dist-packages (2022.6)\n"
          ]
        }
      ]
    },
    {
      "cell_type": "code",
      "source": [
        "from pytz import all_timezones\n",
        "from pytz import timezone\n",
        "\n",
        "dates = pd.Series(pd.date_range('2/2/2002', periods=3, freq='M'))\n",
        "\n",
        "# 두 개의 시간대를 확인\n",
        "all_timezones[0:2]\n",
        "print(all_timezones[0:2])\n",
        "temp = dates.dt.tz_localize('dateutil/Asia/Seoul')\n",
        "print('\\n',temp)\n",
        "\n",
        "tz = timezone('Asia/Seoul')\n",
        "temp01 = dates.dt.tz_localize(tz)\n",
        "\n",
        "print('\\n',temp01)"
      ],
      "metadata": {
        "colab": {
          "base_uri": "https://localhost:8080/"
        },
        "id": "I_6y-wN-nEsl",
        "outputId": "cec0ec69-d6a4-4620-b246-4f2e30e8e13c"
      },
      "execution_count": 95,
      "outputs": [
        {
          "output_type": "stream",
          "name": "stdout",
          "text": [
            "['Africa/Abidjan', 'Africa/Accra']\n",
            "\n",
            " 0   2002-02-28 00:00:00+09:00\n",
            "1   2002-03-31 00:00:00+09:00\n",
            "2   2002-04-30 00:00:00+09:00\n",
            "dtype: datetime64[ns, tzfile('/usr/share/zoneinfo/Asia/Seoul')]\n",
            "\n",
            " 0   2002-02-28 00:00:00+09:00\n",
            "1   2002-03-31 00:00:00+09:00\n",
            "2   2002-04-30 00:00:00+09:00\n",
            "dtype: datetime64[ns, Asia/Seoul]\n"
          ]
        }
      ]
    },
    {
      "cell_type": "markdown",
      "source": [
        "## 날짜와 시간 선택하기"
      ],
      "metadata": {
        "id": "T41Q0nTFrxQs"
      }
    },
    {
      "cell_type": "code",
      "source": [
        "dataframe = pd.DataFrame()\n",
        "# datetime 만들기\n",
        "# periods 매개변수는 date_range함수에 전달된 시작날짜와 종료날짜를\n",
        "# periods 매개변수에 전달된 기간만큼 동일하게 나누어 출력해줍니다.\n",
        "dataframe['date'] = pd.date_range('1/1/2001', periods=100000, freq='H')\n",
        "\n",
        "\n",
        "# 두 datetime 사이의 샘플을 선택합니다.\n",
        "dataframe[(dataframe['date'] > '2002-1-1 01:00:00') &\n",
        "          (dataframe['date'] <= '2002-1-1 06:00:00')]\n",
        "dataframe = dataframe.set_index(dataframe['date'])    # datetime을 만든다\n",
        "\n",
        "# 두 datetime 사이 샘플 선택\n",
        "temp = dataframe.loc['2002-1-1 01:00:00':'2002-1-1 06:00:00']\n",
        "\n",
        "print(temp)"
      ],
      "metadata": {
        "colab": {
          "base_uri": "https://localhost:8080/"
        },
        "id": "h-cV_Rh8ry44",
        "outputId": "fd8ad7ab-138b-46c7-9411-fe46fdee6994"
      },
      "execution_count": 107,
      "outputs": [
        {
          "output_type": "stream",
          "name": "stdout",
          "text": [
            "                                   date\n",
            "date                                   \n",
            "2002-01-01 01:00:00 2002-01-01 01:00:00\n",
            "2002-01-01 02:00:00 2002-01-01 02:00:00\n",
            "2002-01-01 03:00:00 2002-01-01 03:00:00\n",
            "2002-01-01 04:00:00 2002-01-01 04:00:00\n",
            "2002-01-01 05:00:00 2002-01-01 05:00:00\n",
            "2002-01-01 06:00:00 2002-01-01 06:00:00\n"
          ]
        }
      ]
    },
    {
      "cell_type": "markdown",
      "source": [
        "## 날짜 데이터를 여러 특성으로 분할"
      ],
      "metadata": {
        "id": "LwGpCtlUtqm3"
      }
    },
    {
      "cell_type": "code",
      "source": [
        "dataframe = pd.DataFrame()\n",
        "# 다섯개의 날짜 생성\n",
        "dataframe['date'] = pd.date_range('1/1/2022', periods=150, freq='W')\n",
        "\n",
        "# data = dataframe['date'] = pd.date_range('1/1/2022', periods=150, freq='W')\n",
        "# print(data)\n",
        "\n",
        "# 연, 월, 일, 시, 분에 대한 특성 생성\n",
        "dataframe['year'] = dataframe['date'].dt.year\n",
        "dataframe['month'] = dataframe['date'].dt.month\n",
        "dataframe['day'] = dataframe['date'].dt.day\n",
        "dataframe['hour'] = dataframe['date'].dt.hour\n",
        "dataframe['minute'] = dataframe['date'].dt.minute\n",
        "\n",
        "# data = dataframe['year'] = dataframe['date'].dt.year\n",
        "# print(data)\n",
        "\n",
        "print(dataframe.head(7))"
      ],
      "metadata": {
        "colab": {
          "base_uri": "https://localhost:8080/"
        },
        "id": "JDrDQR3coIhy",
        "outputId": "b62dae2c-66b0-4e35-b608-2d1c2fb2f3a5"
      },
      "execution_count": 115,
      "outputs": [
        {
          "output_type": "stream",
          "name": "stdout",
          "text": [
            "        date  year  month  day  hour  minute\n",
            "0 2022-01-02  2022      1    2     0       0\n",
            "1 2022-01-09  2022      1    9     0       0\n",
            "2 2022-01-16  2022      1   16     0       0\n",
            "3 2022-01-23  2022      1   23     0       0\n",
            "4 2022-01-30  2022      1   30     0       0\n",
            "5 2022-02-06  2022      2    6     0       0\n",
            "6 2022-02-13  2022      2   13     0       0\n"
          ]
        }
      ]
    },
    {
      "cell_type": "markdown",
      "source": [
        "## 날짜 간의 차이 계산\n"
      ],
      "metadata": {
        "id": "AHvsW4ryv7Vm"
      }
    },
    {
      "cell_type": "code",
      "source": [
        "dataframe = pd.DataFrame()\n",
        "\n",
        "# 두 datatime 특성 생성\n",
        "dataframe['Arrived'] = [pd.Timestamp('01-01-2017'), pd.Timestamp('01-04-2017')]\n",
        "dataframe['Left'] = [pd.Timestamp('01-01-2017'), pd.Timestamp('01-06-2017')]\n",
        "print(dataframe['Arrived'],'\\n',dataframe['Left'])\n",
        "\n",
        "# 특성 사이의 차이를 계산\n",
        "dataframe['Left'] - dataframe['Arrived']\n",
        "\n",
        "data = pd.Series(delta.days for delta in (\n",
        "    dataframe['Left'] - dataframe['Arrived']))    # 특성 간 기간계산\n",
        "\n",
        "print(data)"
      ],
      "metadata": {
        "colab": {
          "base_uri": "https://localhost:8080/"
        },
        "id": "NmeTYa8rv-DY",
        "outputId": "55612330-4d30-4e8f-9363-6f22ebc793f6"
      },
      "execution_count": 119,
      "outputs": [
        {
          "output_type": "stream",
          "name": "stdout",
          "text": [
            "0   2017-01-01\n",
            "1   2017-01-04\n",
            "Name: Arrived, dtype: datetime64[ns] \n",
            " 0   2017-01-01\n",
            "1   2017-01-06\n",
            "Name: Left, dtype: datetime64[ns]\n",
            "0    0\n",
            "1    2\n",
            "dtype: int64\n"
          ]
        }
      ]
    },
    {
      "cell_type": "markdown",
      "source": [
        "## 시계열 데이터에서 누락된 값 처리\n"
      ],
      "metadata": {
        "id": "h24Ed9EbxxAv"
      }
    },
    {
      "cell_type": "code",
      "source": [
        "time_index = pd.date_range(\"01/01/2010\", periods=5, freq=\"M\")\n",
        "dataframe = pd.DataFrame(index=time_index)  # 데이터프레임을 만들고 인덱스를 지정\n",
        "print(dataframe,'\\n')\n",
        "\n",
        "data1 = dataframe[\"Sales\"] = [1.0, 2.0, np.nan, np.nan, 5.0]     # 누락된 값이 있는 특성 생성\n",
        "print(data1,'\\n')\n",
        "\n",
        "data2 = dataframe.interpolate()   # 누락된 값을 보간\n",
        "print(data2,'\\n')\n",
        "\n",
        "data3 = dataframe.ffill()     # 앞쪽으로 채우기(Forward-fill)\n",
        "print(data3,'\\n')\n",
        "\n",
        "data4 = dataframe.bfill()     # 뒤쪽으로 채우기(Back-fill)\n",
        "print(data4,'\\n')\n",
        "\n",
        "data5 = dataframe.interpolate(method =\"quadratic\")    # 비선형일 경우 보간 방법 변경\n",
        "print(data5,'\\n')\n",
        "\n",
        "print(dataframe.interpolate(limit=1, limit_direction=\"forward\"))     # 보간 방향 지정\n"
      ],
      "metadata": {
        "colab": {
          "base_uri": "https://localhost:8080/"
        },
        "id": "r3TtI9-kwXlV",
        "outputId": "d9795e15-86f1-4931-b17b-08702e272961"
      },
      "execution_count": 124,
      "outputs": [
        {
          "output_type": "stream",
          "name": "stdout",
          "text": [
            "Empty DataFrame\n",
            "Columns: []\n",
            "Index: [2010-01-31 00:00:00, 2010-02-28 00:00:00, 2010-03-31 00:00:00, 2010-04-30 00:00:00, 2010-05-31 00:00:00] \n",
            "\n",
            "[1.0, 2.0, nan, nan, 5.0] \n",
            "\n",
            "            Sales\n",
            "2010-01-31    1.0\n",
            "2010-02-28    2.0\n",
            "2010-03-31    3.0\n",
            "2010-04-30    4.0\n",
            "2010-05-31    5.0 \n",
            "\n",
            "            Sales\n",
            "2010-01-31    1.0\n",
            "2010-02-28    2.0\n",
            "2010-03-31    2.0\n",
            "2010-04-30    2.0\n",
            "2010-05-31    5.0 \n",
            "\n",
            "            Sales\n",
            "2010-01-31    1.0\n",
            "2010-02-28    2.0\n",
            "2010-03-31    5.0\n",
            "2010-04-30    5.0\n",
            "2010-05-31    5.0 \n",
            "\n",
            "               Sales\n",
            "2010-01-31  1.000000\n",
            "2010-02-28  2.000000\n",
            "2010-03-31  3.059808\n",
            "2010-04-30  4.038069\n",
            "2010-05-31  5.000000 \n",
            "\n",
            "            Sales\n",
            "2010-01-31    1.0\n",
            "2010-02-28    2.0\n",
            "2010-03-31    3.0\n",
            "2010-04-30    NaN\n",
            "2010-05-31    5.0\n"
          ]
        }
      ]
    }
  ]
}