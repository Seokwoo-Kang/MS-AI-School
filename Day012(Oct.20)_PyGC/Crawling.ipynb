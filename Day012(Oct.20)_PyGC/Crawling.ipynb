{
  "cells": [
    {
      "cell_type": "code",
      "execution_count": null,
      "metadata": {
        "colab": {
          "base_uri": "https://localhost:8080/"
        },
        "id": "h8_SBeT0kRmP",
        "outputId": "66384c06-02d0-4daa-d6eb-384200375248"
      },
      "outputs": [
        {
          "name": "stdout",
          "output_type": "stream",
          "text": [
            "Looking in indexes: https://pypi.org/simple, https://us-python.pkg.dev/colab-wheels/public/simple/\n",
            "Requirement already satisfied: bs4 in /usr/local/lib/python3.7/dist-packages (0.0.1)\n",
            "Requirement already satisfied: beautifulsoup4 in /usr/local/lib/python3.7/dist-packages (from bs4) (4.6.3)\n"
          ]
        }
      ],
      "source": [
        "!pip install bs4"
      ]
    },
    {
      "cell_type": "code",
      "execution_count": null,
      "metadata": {
        "id": "PF07LOD9kXI_"
      },
      "outputs": [],
      "source": [
        "import bs4        # html웹구조 파싱, 찾고자하는 내용 찾기, 통신기능은 없음\n",
        "import requests   #실제 통신"
      ]
    },
    {
      "cell_type": "code",
      "execution_count": null,
      "metadata": {
        "colab": {
          "base_uri": "https://localhost:8080/",
          "height": 198
        },
        "id": "3k6JID3Ekyjd",
        "outputId": "7c719c2e-2dea-4449-cce0-88f7c1b859dc"
      },
      "outputs": [],
      "source": [
        "url = 'https://search.shopping.naver.com/search/category/100005307'\n",
        "result = requests.get(url).text\n",
        "result"
      ]
    },
    {
      "cell_type": "code",
      "execution_count": null,
      "metadata": {
        "id": "T0rChpUtlZcf"
      },
      "outputs": [],
      "source": [
        "bsObj = bs4.BeautifulSoup(result,'html.parser' )    # html말고도 파싱(parsing)가능,  parser: 무언가를 이해하는 해석기"
      ]
    },
    {
      "cell_type": "code",
      "execution_count": null,
      "metadata": {
        "colab": {
          "base_uri": "https://localhost:8080/"
        },
        "id": "374u_D75mGlk",
        "outputId": "f9868098-8f4d-44c8-8f33-1e52f9191628"
      },
      "outputs": [
        {
          "data": {
            "text/plain": [
              "<a class=\"basicList_link__JLQJf\" data-nclick=\"N=a:lst*B.title,i:33335302619,r:5\" data-testid=\"SEARCH_PRODUCT_AD\" href=\"https://adcr.naver.com/adcr?x=ZLOf49aPQTzsEj77gCcztv///w==kRJpJ1AbbWkLYkaHi1icxFIKjM7USvuTxs8Gj+bKIyaVB+S1t1UdHK80c/C4QhoOCE71i4vMOVfmB3OxUHZMz5qRvSin55u6h8EdmsSsCp7Yqkn4+ffs5Eltt7zuJFPEI5PehlV6Xnu3ff9JeMi4ZALvRYNpcpBXZecpxDQsCI91cchGNBQVsqPI0oOuQhaO7NfnFuKN0GspjxOIVlwEsN7haWrTyMuZsMsAUaqc2hQQnTO3gcvMIyK5BOeXGzgxgLQYq2oD7NDfyp4b5JEHQKD9jbAPBOCz631FbFTsbYO8og7vjZ1U5nCeKaBlEEis/7b+cpYylabwSlyeJtlEEN/5ftF0/WPu5t+lRp9Uq7/JL6Puvmbz1epCOzn65G5olDN0fiba4AkAteuqIisNTJeV64iYssTyHno85zxSGXCOHkNQv9S7Dr9f6iNM9KpUv5WSawtuB+TBG9X+gbKAADwRwcakk/kVTCDdIUvjvuxkO1CAQXz2SVYLKQDvOnQbGBlw1VPVCLTqeG/7R5O+qK/1cpp5/csB9cLtIyB8tyZ0f/ashG+tZgMVHVd+1RunNZC0p9KbRV+0tQAoWzd2rxi/SNlabNnOyf4sSdDwMH2ltSw+ND9ZFqhSF+cxEClQWuWTigYmHyl0+Z1z65IAjtMbM6nv0r6awinGuRsAV5vwTc5/I2i1ls9IMttDyATRNcgDSCzVYUxHRr7ncO5Zaw3BvQhzS46lP7FOTyLt300+RkdMcfAzmWNyDb6D4tfw4gdJGZcuMxnOZe11O8UliA/Sx16fmaxq3X35WjaZp9bN8J/NHXGaUeM2B1nyaVzf1ghmEXt8LxiS7mp9sxrWmtEhtYvjFRUyY52yTvQBRRIgbuQd46o3dazvKHDYntGn3\" rel=\"noopener\" target=\"_blank\" title=\"MSI 써밋 E16 Flip A12UCT\">MSI 써밋 E16 Flip A12UCT</a>"
            ]
          },
          "execution_count": 5,
          "metadata": {},
          "output_type": "execute_result"
        }
      ],
      "source": [
        "#크롤링 얻을 정보 찾기\n",
        "bsObj.find('a',{'class':'basicList_link__JLQJf'})"
      ]
    },
    {
      "cell_type": "code",
      "execution_count": null,
      "metadata": {
        "colab": {
          "base_uri": "https://localhost:8080/",
          "height": 35
        },
        "id": "pSiyeiLVnQHo",
        "outputId": "62c6df08-82f2-40f9-e63f-5cd03dd243e5"
      },
      "outputs": [
        {
          "data": {
            "application/vnd.google.colaboratory.intrinsic+json": {
              "type": "string"
            },
            "text/plain": [
              "'MSI 써밋 E16 Flip A12UCT'"
            ]
          },
          "execution_count": 6,
          "metadata": {},
          "output_type": "execute_result"
        }
      ],
      "source": [
        "#우리가 원하는건 노트북 텍스트만\n",
        "bsObj.find('a',{'class':'basicList_link__JLQJf'}).text"
      ]
    },
    {
      "cell_type": "code",
      "execution_count": null,
      "metadata": {
        "id": "rZUF__xJndsk"
      },
      "outputs": [],
      "source": [
        "#리스트 전체의 노트북명을 얻고자할때\n",
        "items = bsObj.find_all('a',{'class':'basicList_link__JLQJf'})"
      ]
    },
    {
      "cell_type": "code",
      "execution_count": null,
      "metadata": {
        "colab": {
          "base_uri": "https://localhost:8080/"
        },
        "id": "U2vHRWOXoAUe",
        "outputId": "3a345206-db72-462f-b100-87763c7cb211"
      },
      "outputs": [
        {
          "name": "stdout",
          "output_type": "stream",
          "text": [
            "삼성전자 노트북 플러스2 NT550XDA-K14A\n",
            "LG전자 LG그램 16ZD90Q-SX76K\n",
            "삼성전자 갤럭시북 프로360 NT950QDY-A51A\n",
            "삼성전자 노트북 플러스2 NT550XDA-K14A\n",
            "기본구성 SSD 128GB\n",
            "68개\n",
            "SSD 256GB\n",
            "45개\n",
            "SSD 500GB\n",
            "43개\n",
            "SSD 1TB\n",
            "28개\n",
            "500GB + SSD 128GB\n",
            "3개\n",
            "1TB + SSD 128GB\n",
            "6개\n",
            "삼성전자 갤럭시북2 프로 NT950XEV-G51A\n",
            "기본구성 SSD 256GB\n",
            "35개\n",
            "SSD 500GB\n",
            "37개\n",
            "SSD 1TB\n",
            "49개\n",
            "SSD 2TB\n",
            "6개\n",
            "SSD 256GB + SSD 256GB\n",
            "6개\n",
            "SSD 500GB + SSD 256GB\n",
            "6개\n"
          ]
        }
      ],
      "source": [
        "for item in items:\n",
        "  print(item.text)"
      ]
    },
    {
      "cell_type": "code",
      "execution_count": null,
      "metadata": {
        "colab": {
          "base_uri": "https://localhost:8080/"
        },
        "id": "8Rdwq8u0od-R",
        "outputId": "b80aa77d-a76c-438e-b6fd-b1067542447b"
      },
      "outputs": [
        {
          "name": "stdout",
          "output_type": "stream",
          "text": [
            "삼성전자 노트북 플러스2 NT550XDA-K14A\n",
            "LG전자 LG그램 16ZD90Q-SX76K\n",
            "삼성전자 갤럭시북 프로360 NT950QDY-A51A\n",
            "삼성전자 노트북 플러스2 NT550XDA-K14A\n"
          ]
        }
      ],
      "source": [
        "print(items[0].text)\n",
        "print(items[1].text)\n",
        "print(items[2].text)\n",
        "print(items[3].text)"
      ]
    },
    {
      "cell_type": "code",
      "execution_count": null,
      "metadata": {
        "colab": {
          "base_uri": "https://localhost:8080/"
        },
        "id": "RsmJE_Koox8B",
        "outputId": "b4d99b2b-6598-49e8-938c-712370e929ec"
      },
      "outputs": [
        {
          "name": "stdout",
          "output_type": "stream",
          "text": [
            "삼성전자 노트북 플러스2 NT550XDA-K14A\n",
            "LG전자 LG그램 16ZD90Q-SX76K\n",
            "삼성전자 갤럭시북 프로360 NT950QDY-A51A\n",
            "삼성전자 노트북 플러스2 NT550XDA-K14A\n"
          ]
        }
      ],
      "source": [
        "lists = items[:4]\n",
        "for l in lists:\n",
        "  print(l.text)"
      ]
    },
    {
      "cell_type": "code",
      "execution_count": null,
      "metadata": {
        "id": "PuKWB4VSp_m5"
      },
      "outputs": [],
      "source": []
    }
  ],
  "metadata": {
    "colab": {
      "provenance": []
    },
    "kernelspec": {
      "display_name": "Python 3",
      "name": "python3"
    },
    "language_info": {
      "name": "python"
    }
  },
  "nbformat": 4,
  "nbformat_minor": 0
}
