{
  "cells": [
    {
      "cell_type": "code",
      "execution_count": null,
      "metadata": {
        "colab": {
          "base_uri": "https://localhost:8080/"
        },
        "id": "dLf0YShoxn1b",
        "outputId": "c8acabc5-6ca2-4874-d399-3bb825880c7c"
      },
      "outputs": [
        {
          "name": "stdout",
          "output_type": "stream",
          "text": [
            "Looking in indexes: https://pypi.org/simple, https://us-python.pkg.dev/colab-wheels/public/simple/\n",
            "Requirement already satisfied: bs4 in /usr/local/lib/python3.7/dist-packages (0.0.1)\n",
            "Requirement already satisfied: beautifulsoup4 in /usr/local/lib/python3.7/dist-packages (from bs4) (4.6.3)\n"
          ]
        }
      ],
      "source": [
        "!pip install bs4"
      ]
    },
    {
      "cell_type": "code",
      "execution_count": null,
      "metadata": {
        "id": "pgazjE29x0GW"
      },
      "outputs": [],
      "source": [
        "import bs4\n",
        "import requests"
      ]
    },
    {
      "cell_type": "code",
      "execution_count": null,
      "metadata": {
        "colab": {
          "base_uri": "https://localhost:8080/",
          "height": 198
        },
        "id": "HhOmd3V1yBk8",
        "outputId": "d4593ce6-04bb-4794-881f-1d5fd0102a82"
      },
      "outputs": [],
      "source": [
        "url = 'https://weather.naver.com/today/14110630?cpName=KMA'\n",
        "result = requests.get(url).text\n",
        "result"
      ]
    },
    {
      "cell_type": "code",
      "execution_count": null,
      "metadata": {
        "id": "NKGs7nCpySod"
      },
      "outputs": [],
      "source": [
        "bsObj = bs4.BeautifulSoup(result,'html.parser')"
      ]
    },
    {
      "cell_type": "code",
      "execution_count": null,
      "metadata": {
        "colab": {
          "base_uri": "https://localhost:8080/"
        },
        "id": "0eH-22aFyeY8",
        "outputId": "061c9cb9-9b53-4df1-b20f-ed9af61af272"
      },
      "outputs": [
        {
          "data": {
            "text/plain": [
              "<span class=\"blind\">NAVER</span>"
            ]
          },
          "execution_count": 38,
          "metadata": {},
          "output_type": "execute_result"
        }
      ],
      "source": [
        "bsObj.find(\"span\",{\"class\":\"blind\"})\n"
      ]
    },
    {
      "cell_type": "code",
      "execution_count": null,
      "metadata": {
        "id": "BBFs6XNkze_m"
      },
      "outputs": [],
      "source": [
        "items = bsObj.find_all('span',{'class':'time'})"
      ]
    },
    {
      "cell_type": "code",
      "execution_count": null,
      "metadata": {
        "colab": {
          "base_uri": "https://localhost:8080/"
        },
        "id": "93ghvonOz19r",
        "outputId": "f4bb6189-2a38-48b4-866f-64d5c4074245"
      },
      "outputs": [
        {
          "name": "stdout",
          "output_type": "stream",
          "text": [
            "1시\n",
            "2시\n",
            "3시\n",
            "4시\n",
            "5시\n",
            "6시\n",
            "7시\n",
            "8시\n",
            "9시\n",
            "10시\n",
            "11시\n",
            "12시\n",
            "13시\n",
            "14시\n",
            "15시\n",
            "16시\n",
            "17시\n",
            "18시\n",
            "19시\n",
            "20시\n",
            "21시\n",
            "22시\n",
            "23시\n",
            "1시\n",
            "2시\n",
            "3시\n",
            "4시\n",
            "5시\n",
            "6시\n",
            "7시\n",
            "8시\n",
            "9시\n",
            "10시\n",
            "11시\n",
            "12시\n",
            "13시\n",
            "14시\n",
            "15시\n",
            "16시\n",
            "17시\n",
            "18시\n",
            "19시\n",
            "20시\n",
            "21시\n",
            "22시\n",
            "23시\n",
            "1시\n",
            "2시\n",
            "3시\n",
            "4시\n",
            "5시\n",
            "6시\n",
            "7시\n",
            "8시\n",
            "9시\n",
            "10시\n",
            "11시\n",
            "12시\n",
            "13시\n",
            "14시\n",
            "15시\n",
            "16시\n",
            "17시\n",
            "18시\n",
            "19시\n",
            "20시\n",
            "21시\n",
            "22시\n",
            "23시\n"
          ]
        }
      ],
      "source": [
        "for item in items:\n",
        "  print(item.text)"
      ]
    },
    {
      "cell_type": "code",
      "execution_count": null,
      "metadata": {
        "id": "LGgp0ia474UN"
      },
      "outputs": [],
      "source": []
    }
  ],
  "metadata": {
    "colab": {
      "provenance": []
    },
    "kernelspec": {
      "display_name": "Python 3",
      "name": "python3"
    },
    "language_info": {
      "name": "python"
    }
  },
  "nbformat": 4,
  "nbformat_minor": 0
}
